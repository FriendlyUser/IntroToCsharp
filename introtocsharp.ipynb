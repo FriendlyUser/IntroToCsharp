{
 "cells": [
  {
   "attachments": {},
   "cell_type": "markdown",
   "metadata": {
    "dotnet_interactive": {
     "language": "csharp"
    },
    "polyglot_notebook": {
     "kernelName": "csharp"
    }
   },
   "source": [
    "# Introduction to C#\n",
    "C# is a powerful and widely used programming language that was designed by Microsoft Corporation in the early 2000s. It is an object-oriented language that is easy to learn and offers a wide range of features for developing robust and scalable applications. C# is used for building Windows desktop applications, web applications, and mobile applications. The language is a key component of the .NET framework, a software platform that provides a unified environment for developing, deploying, and running applications. In this article, we will explore the history and development of C# and the .NET framework, the basic concepts and features of the C# language, the relationship between C# and the .NET framework, and an overview of the .NET ecosystem.\n",
    "\n",
    "## The History and Development of C# and the .NET Framework\n",
    "C# is a general-purpose, contemporary, and object-oriented programming language that was developed by Microsoft in 2000 as part of the .NET framework [1]. It was designed by Anders Hejlsberg and was later approved as an international standard by Ecma (ECMA-334) in 2002 and ISO/IEC (ISO/IEC 23270) in 2003.  Anders Hejlsberg, who was also the lead developer of Turbo Pascal and Borland Delphi. The first version of C# was released in 2000, along with the initial release of the .NET framework.\n",
    "\n",
    "The development of C# and the .NET framework began in the late 1990s. At that time, Microsoft was looking for a way to simplify the development of Windows applications and to make it easier for developers to create software that could run on multiple platforms. The result was the .NET framework, which provided a common runtime environment and a set of libraries for building applications.\n",
    "\n",
    "C# was designed to be simple and easy to use while still providing powerful features for building complex applications. Some of its key features include strong type checking, garbage collection, and support for object-oriented programming.\n",
    "\n",
    "One of the most important aspects of C# is its relationship with the .NET framework. C# code is compiled into an intermediate language called Common Intermediate Language (CIL), which can then be executed by the .NET runtime. This allows C# programs to run on any platform that supports the .NET framework.\n",
    "\n",
    "The .NET ecosystem has grown significantly since its inception and now includes several different implementations. The original implementation, known as the .NET Framework, is still widely used on Windows systems. However, there are also other implementations such as .NET Core and Mono that allow developers to build cross-platform applications.\n",
    "\n",
    "In summary, C# is a powerful programming language that was developed as part of Microsoft’s .NET initiative. It provides many useful features for building complex applications while remaining easy to use. Its close relationship with the .NET framework allows developers to build cross-platform software using a common set of tools.\n",
    "Since its initial release, C# has gone through several versions, each adding new features and improving performance [1]. It has its roots in the C family of languages and will be immediately familiar to C, C++, Java, and JavaScript programmers.\n",
    "\n",
    "The C# language was developed with the primary goal of creating a language that was simple, modern, and easy to use. It was also designed to be a statically-typed language that would offer better performance and type safety than dynamically-typed languages like JavaScript and Python. C# was also designed to be an object-oriented language, with support for classes, objects, inheritance, and interfaces.\n",
    "\n",
    "Over the years, C# has evolved and improved with each new version of the language. Microsoft has released multiple versions of C#, with the latest being C# 10.0, which was released in 2021. Each new version of C# has introduced new features and improvements, making the language more powerful and easier to use.\n",
    "\n",
    "## The Basic Concepts and Features of the C# Language\n",
    "C# is an object-oriented language that is based on the C programming language. It offers a wide range of features for developing robust and scalable applications. Some of the key concepts and features of the C# language are:\n",
    "\n",
    "1. Object-oriented programming: C# is an object-oriented language, which means that it is designed around the concept of objects. An object is an instance of a class, which is a blueprint for creating objects. C# supports classes, objects, inheritance, and interfaces.\n",
    "2. Type safety: C# is a statically-typed language, which means that the type of a variable is determined at compile time. This makes the language more efficient and offers better type safety than dynamically-typed languages.\n",
    "3. Garbage collection: C# uses automatic garbage collection to manage memory. This means that the language automatically deallocates memory that is no longer being used, making it easier for developers to write safe and efficient code.\n",
    "4. Exception handling: C# has robust support for exception handling, which allows developers to handle errors and exceptions gracefully.\n",
    "5. LINQ: C# offers Language-Integrated Query (LINQ), which is a powerful tool for querying data from different sources like databases, XML files, and collections.\n",
    "6. Delegates: C# supports delegates, which are a type-safe way of passing functions as arguments to other functions.\n",
    ".NET is an umbrella term that includes both .NET Framework and .NET Core. .NET Framework is a Windows-only framework while .NET Core is cross-platform and can run on Windows, Linux, and macOS.\n",
    "\n",
    "## The Relationship between C# and the .NET Framework\n",
    "C# is a key component of the .NET framework, which is a software platform that provides a unified environment for developing, deploying, and running applications. The .NET framework consists of a runtime environment, a class library, and a set of development tools. C# is one of the primary programming languages used to develop applications on the .NET framework functionality that makes it easier for developers to build applications. The runtime environment, also known as the Common Language Runtime (CLR), provides services such as memory management, security, and exception handling. The class library provides a set of reusable components that developers can use to build applications. The development tools, such as Visual Studio, provide an integrated development environment (IDE) that allows developers to write, debug, and deploy applications.\n",
    "\n",
    "C# is designed to be compatible with the .NET framework. The language is compiled into Intermediate Language (IL) code, which is a platform-agnostic code that can run on any platform that has the .NET runtime installed. This means that C# applications can run on Windows, macOS, Linux, and other operating systems that support the .NET framework.\n",
    "\n",
    "## An Overview of the .NET Ecosystem\n",
    "The .NET ecosystem includes different implementations of the .NET framework, including .NET Framework, .NET Core, and Mono.\n",
    "\n",
    "**.NET Framework**: The .NET Framework is the original implementation of the .NET framework, which was released in 2002. It is designed to run on Windows and includes a large class library and a set of development tools. The .NET Framework is widely used for developing Windows desktop applications, web applications, and server applications.\n",
    "\n",
    "**.NET Core**: .NET Core is a cross-platform implementation of the .NET framework that was released in 2016. It is designed to run on Windows, macOS, and Linux and includes a smaller, optimized class library. .NET Core is widely used for developing web applications, microservices, and containerized applications.\n",
    "\n",
    "**Mono**: Mono is an open-source implementation of the .NET framework that was released in 2004. It is designed to run on multiple platforms, including Windows, macOS, Linux, and mobile devices. Mono includes a class library that is compatible with the .NET Framework and supports a wide range of programming languages, including C#.\n",
    "\n",
    "In addition to these implementations, the .NET ecosystem includes a wide range of tools, frameworks, and libraries that make it easier for developers to build applications. Some of the popular tools and frameworks in the .NET ecosystem are:\n",
    "\n",
    "1. ASP.NET: A web framework for building web applications.\n",
    "2. Entity Framework: An Object-Relational Mapping (ORM) framework for working with databases.\n",
    "3. Xamarin: A framework for building cross-platform mobile applications.\n",
    "4. Blazor: A web framework for building web applications using C# and .NET.\n",
    "\n",
    "The following diagram illustrates how .net splits off."
   ]
  },
  {
   "cell_type": "code",
   "execution_count": 11,
   "metadata": {
    "dotnet_interactive": {
     "language": "mermaid"
    },
    "polyglot_notebook": {
     "kernelName": "mermaid"
    },
    "vscode": {
     "languageId": "polyglot-notebook"
    }
   },
   "outputs": [
    {
     "data": {
      "text/html": [
       "<div class=\"mermaidMarkdownContainer\" style=\"background-color:white\">\n",
       "<link rel=\"stylesheet\" href=\"https://cdnjs.cloudflare.com/ajax/libs/font-awesome/6.2.0/css/all.min.css\">\n",
       "<script type=\"text/javascript\">\n",
       "\r\n",
       "loadMermaid_5e65f707b5754469aa9746c54277580f = () => {\n",
       " \r\n",
       "        (require.config({ 'paths': { 'context': '9.1.7', 'mermaidUri' : 'https://cdn.jsdelivr.net/npm/mermaid@9.1.7/dist/mermaid.min', 'urlArgs': 'cacheBuster=7b45e4436f2441cfa151cb8a64011d3b' }}) || require)(['mermaidUri'], (mermaid) => {\n",
       "\r\n",
       "            let renderTarget = document.getElementById('5e65f707b5754469aa9746c54277580f');\r\n",
       "            mermaid.mermaidAPI.render( \r\n",
       "                'mermaid_5e65f707b5754469aa9746c54277580f', \r\n",
       "                `graph LR\n",
       "A[.NET] --> B[.NET Framework]\n",
       "A --> C[.NET Core]\n",
       "B --> D[Windows]\n",
       "C --> D\n",
       "C --> E[Linux]\n",
       "C --> F[macOS]`, \r\n",
       "                g => {\r\n",
       "                    renderTarget.innerHTML = g \r\n",
       "                });\r\n",
       "        },\r\n",
       "        (error) => {\r\n",
       "            console.log(error);\r\n",
       "        });\r\n",
       "}\n",
       "// ensure `require` is available globally\r\n",
       "if ((typeof(require) !==  typeof(Function)) || (typeof(require.config) !== typeof(Function))) {\r\n",
       "    let require_script = document.createElement('script');\r\n",
       "    require_script.setAttribute('src', 'https://cdnjs.cloudflare.com/ajax/libs/require.js/2.3.6/require.min.js');\r\n",
       "    require_script.setAttribute('type', 'text/javascript');\r\n",
       "    \r\n",
       "    \r\n",
       "    require_script.onload = function() {\r\n",
       "        loadMermaid_5e65f707b5754469aa9746c54277580f();\r\n",
       "    };\r\n",
       "\r\n",
       "    document.getElementsByTagName('head')[0].appendChild(require_script);\r\n",
       "}\r\n",
       "else {\r\n",
       "    loadMermaid_5e65f707b5754469aa9746c54277580f();\r\n",
       "}\r\n",
       "\n",
       "</script>\n",
       "<div id=\"5e65f707b5754469aa9746c54277580f\"></div>\n",
       "</div>\n"
      ]
     },
     "metadata": {},
     "output_type": "display_data"
    }
   ],
   "source": [
    "graph LR\n",
    "A[.NET] --> B[.NET Framework]\n",
    "A --> C[.NET Core]\n",
    "B --> D[Windows]\n",
    "C --> D\n",
    "C --> E[Linux]\n",
    "C --> F[macOS]"
   ]
  },
  {
   "attachments": {},
   "cell_type": "markdown",
   "metadata": {
    "dotnet_interactive": {
     "language": "csharp"
    },
    "polyglot_notebook": {
     "kernelName": "csharp"
    }
   },
   "source": [
    "### Conclusion\n",
    "C# and the .NET framework are powerful tools for building robust and scalable applications. C# is an easy-to-learn language that is based on the C programming language and offers a wide range of features for developing applications. The .NET framework provides a unified environment for developing, deploying, and running applications and includes a large class library and a set of development tools. The .NET ecosystem includes different implementations of the .NET framework, as well as a wide range of tools, frameworks, and libraries that make it easier for developers to build applications."
   ]
  },
  {
   "attachments": {},
   "cell_type": "markdown",
   "metadata": {
    "dotnet_interactive": {
     "language": "csharp"
    },
    "polyglot_notebook": {
     "kernelName": "csharp"
    }
   },
   "source": [
    "\n",
    "\n",
    "## Keywords in C#\n",
    "\n",
    "Reserved keywords in C# are words that have special meaning in the language and cannot be used as identifiers (such as variable names, class names, etc.). These keywords include control flow statements (such as if, else, for, while), access modifiers (such as public, private, protected), data types (such as int, float, bool), and others.\n",
    "\n",
    "Here is a list of all the reserved keywords in C# [2]:\n",
    "\n",
    "\n",
    "<table class=\"table\"><tbody><tr><th style=\"min-width:200px\">Type</th><th>Keywords</th></tr><tr><td>Modifier Keywords</td><td>abstract, async, const, event, extern, new, override, partial, readonly, sealed, static, unsafe, virtual, volatile</td></tr><tr><td>Access Modifier Keywords</td><td>public, private, protected, internal</td></tr><tr><td>Statement Keywords</td><td>if, else, switch, case, do, for, foreach, in, while, break, continue, default, goto, return, yield, throw, try, catch, finally, checked, unchecked, fixed, lock</td></tr><tr><td>Method Parameter Keyword</td><td>params, ref, out</td></tr><tr><td>Access Keywords</td><td>base, this</td></tr><tr><td>Namespace Keywords</td><td>using, . operator, :: operator, extern alias</td></tr><tr><td>Literal Keywords</td><td>null, false, true, value, void</td></tr><tr><td>Operator Keywords</td><td>as, await, is, new, sizeof, typeof, stackalloc, checked, unchecked</td></tr><tr><td>Contextual Keywords</td><td>add, var, dynamic, global, set, value</td></tr><tr><td>Type Keywords</td><td>bool, byte, char, class, decimal, double, enum, float, int, long, sbyte, short, string, struct, uint, ulong, ushort</td></tr><tr><td>Query Keywords</td><td>from, where, select, group, into, orderby, join, let, in, on, equals, by, ascending, descending</td></tr></tbody></table>\n"
   ]
  },
  {
   "attachments": {},
   "cell_type": "markdown",
   "metadata": {
    "dotnet_interactive": {
     "language": "csharp"
    },
    "polyglot_notebook": {
     "kernelName": "csharp"
    }
   },
   "source": [
    "### References\n",
    "\n",
    "- [1] \"C# Version History | C# Evolution and Features\" Dotnet Stuff. [Online]. Available: https://www.dotnetstuffs.com/csharp-version-history/. [Accessed: Mar. 09, 2023]\n",
    "\n",
    "- [2] \"C# Keywords,\" W3schools. [Online]. Available: https://www.w3schools.in/csharp/keywords. [Accessed: Mar. 09, 2023]"
   ]
  }
 ],
 "metadata": {
  "kernelspec": {
   "display_name": ".NET (C#)",
   "language": "C#",
   "name": ".net-csharp"
  },
  "polyglot_notebook": {
   "kernelInfo": {
    "defaultKernelName": "csharp",
    "items": [
     {
      "aliases": [
       "c#",
       "C#"
      ],
      "languageName": "C#",
      "name": "csharp"
     },
     {
      "aliases": [
       "frontend"
      ],
      "languageName": null,
      "name": "vscode"
     }
    ]
   }
  }
 },
 "nbformat": 4,
 "nbformat_minor": 2
}
