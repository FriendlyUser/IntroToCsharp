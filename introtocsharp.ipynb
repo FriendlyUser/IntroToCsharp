{
 "cells": [
  {
   "attachments": {},
   "cell_type": "markdown",
   "metadata": {
    "dotnet_interactive": {
     "language": "csharp"
    },
    "polyglot_notebook": {
     "kernelName": "csharp"
    }
   },
   "source": [
    "# Preface\n",
    "\n",
    "The entirity of this book was written using polyglot notebooks and C#. For access to the original please visit my github repo [here](https://github.com/FriendlyUser/IntroToCsharp). I would deeply appreciate it, if you could sponsor me on github so I can spend more time producing content like this.\n",
    "\n",
    "Polyglot notebooks are a type of notebook that supports mixing multiple programming languages within a single notebook and sharing data between them seamlessly.\n",
    "\n",
    "# Introduction to C#\n",
    "C# is a powerful and widely used programming language that was designed by Microsoft Corporation in the early 2000s. It is an object-oriented language that is easy to learn and offers a wide range of features for developing robust and scalable applications. C# is used for building Windows desktop applications, web applications, and mobile applications. The language is a key component of the .NET framework, a software platform that provides a unified environment for developing, deploying, and running applications. In this article, we will explore the history and development of C# and the .NET framework, the basic concepts and features of the C# language, the relationship between C# and the .NET framework, and an overview of the .NET ecosystem.\n",
    "\n",
    "## The History and Development of C# and the .NET Framework\n",
    "C# is a general-purpose, contemporary, and object-oriented programming language that was developed by Microsoft in 2000 as part of the .NET framework [1]. It was designed by Anders Hejlsberg and was later approved as an international standard by Ecma (ECMA-334) in 2002 and ISO/IEC (ISO/IEC 23270) in 2003.  Anders Hejlsberg, who was also the lead developer of Turbo Pascal and Borland Delphi. The first version of C# was released in 2000, along with the initial release of the .NET framework.\n",
    "\n",
    "The development of C# and the .NET framework began in the late 1990s. At that time, Microsoft was looking for a way to simplify the development of Windows applications and to make it easier for developers to create software that could run on multiple platforms. The result was the .NET framework, which provided a common runtime environment and a set of libraries for building applications.\n",
    "\n",
    "C# was designed to be simple and easy to use while still providing powerful features for building complex applications. Some of its key features include strong type checking, garbage collection, and support for object-oriented programming.\n",
    "\n",
    "One of the most important aspects of C# is its relationship with the .NET framework. C# code is compiled into an intermediate language called Common Intermediate Language (CIL), which can then be executed by the .NET runtime. This allows C# programs to run on any platform that supports the .NET framework.\n",
    "\n",
    "The .NET ecosystem has grown significantly since its inception and now includes several different implementations. The original implementation, known as the .NET Framework, is still widely used on Windows systems. However, there are also other implementations such as .NET Core and Mono that allow developers to build cross-platform applications.\n",
    "\n",
    "In summary, C# is a powerful programming language that was developed as part of Microsoft’s .NET initiative. It provides many useful features for building complex applications while remaining easy to use. Its close relationship with the .NET framework allows developers to build cross-platform software using a common set of tools.\n",
    "Since its initial release, C# has gone through several versions, each adding new features and improving performance [1]. It has its roots in the C family of languages and will be immediately familiar to C, C++, Java, and JavaScript programmers.\n",
    "\n",
    "The C# language was developed with the primary goal of creating a language that was simple, modern, and easy to use. It was also designed to be a statically-typed language that would offer better performance and type safety than dynamically-typed languages like JavaScript and Python. C# was also designed to be an object-oriented language, with support for classes, objects, inheritance, and interfaces.\n",
    "\n",
    "Over the years, C# has evolved and improved with each new version of the language. Microsoft has released multiple versions of C#, with the latest being C# 10.0, which was released in 2021. Each new version of C# has introduced new features and improvements, making the language more powerful and easier to use.\n",
    "\n",
    "## The Basic Concepts and Features of the C# Language\n",
    "C# is an object-oriented language that is based on the C programming language. It offers a wide range of features for developing robust and scalable applications. Some of the key concepts and features of the C# language are:\n",
    "\n",
    "1. Object-oriented programming: C# is an object-oriented language, which means that it is designed around the concept of objects. An object is an instance of a class, which is a blueprint for creating objects. C# supports classes, objects, inheritance, and interfaces.\n",
    "2. Type safety: C# is a statically-typed language, which means that the type of a variable is determined at compile time. This makes the language more efficient and offers better type safety than dynamically-typed languages.\n",
    "3. Garbage collection: C# uses automatic garbage collection to manage memory. This means that the language automatically deallocates memory that is no longer being used, making it easier for developers to write safe and efficient code.\n",
    "4. Exception handling: C# has robust support for exception handling, which allows developers to handle errors and exceptions gracefully.\n",
    "5. LINQ: C# offers Language-Integrated Query (LINQ), which is a powerful tool for querying data from different sources like databases, XML files, and collections.\n",
    "6. Delegates: C# supports delegates, which are a type-safe way of passing functions as arguments to other functions.\n",
    ".NET is an umbrella term that includes both .NET Framework and .NET Core. .NET Framework is a Windows-only framework while .NET Core is cross-platform and can run on Windows, Linux, and macOS.\n",
    "\n",
    "## The Relationship between C# and the .NET Framework\n",
    "C# is a key component of the .NET framework, which is a software platform that provides a unified environment for developing, deploying, and running applications. The .NET framework consists of a runtime environment, a class library, and a set of development tools. C# is one of the primary programming languages used to develop applications on the .NET framework functionality that makes it easier for developers to build applications. The runtime environment, also known as the Common Language Runtime (CLR), provides services such as memory management, security, and exception handling. The class library provides a set of reusable components that developers can use to build applications. The development tools, such as Visual Studio, provide an integrated development environment (IDE) that allows developers to write, debug, and deploy applications.\n",
    "\n",
    "C# is designed to be compatible with the .NET framework. The language is compiled into Intermediate Language (IL) code, which is a platform-agnostic code that can run on any platform that has the .NET runtime installed. This means that C# applications can run on Windows, macOS, Linux, and other operating systems that support the .NET framework.\n",
    "\n",
    "## An Overview of the .NET Ecosystem\n",
    "The .NET ecosystem includes different implementations of the .NET framework, including .NET Framework, .NET Core, and Mono.\n",
    "\n",
    "**.NET Framework**: The .NET Framework is the original implementation of the .NET framework, which was released in 2002. It is designed to run on Windows and includes a large class library and a set of development tools. The .NET Framework is widely used for developing Windows desktop applications, web applications, and server applications.\n",
    "\n",
    "**.NET Core**: .NET Core is a cross-platform implementation of the .NET framework that was released in 2016. It is designed to run on Windows, macOS, and Linux and includes a smaller, optimized class library. .NET Core is widely used for developing web applications, microservices, and containerized applications.\n",
    "\n",
    "**Mono**: Mono is an open-source implementation of the .NET framework that was released in 2004. It is designed to run on multiple platforms, including Windows, macOS, Linux, and mobile devices. Mono includes a class library that is compatible with the .NET Framework and supports a wide range of programming languages, including C#.\n",
    "\n",
    "In addition to these implementations, the .NET ecosystem includes a wide range of tools, frameworks, and libraries that make it easier for developers to build applications. Some of the popular tools and frameworks in the .NET ecosystem are:\n",
    "\n",
    "1. ASP.NET: A web framework for building web applications.\n",
    "2. Entity Framework: An Object-Relational Mapping (ORM) framework for working with databases.\n",
    "3. Xamarin: A framework for building cross-platform mobile applications.\n",
    "4. Blazor: A web framework for building web applications using C# and .NET.\n",
    "\n",
    "The following diagram illustrates how .net splits off."
   ]
  },
  {
   "cell_type": "code",
   "execution_count": 35,
   "metadata": {
    "dotnet_interactive": {
     "language": "mermaid"
    },
    "polyglot_notebook": {
     "kernelName": "mermaid"
    },
    "vscode": {
     "languageId": "polyglot-notebook"
    }
   },
   "outputs": [
    {
     "data": {
      "text/html": [
       "<div class=\"mermaidMarkdownContainer\" style=\"background-color:white\">\n",
       "<link rel=\"stylesheet\" href=\"https://cdnjs.cloudflare.com/ajax/libs/font-awesome/6.2.0/css/all.min.css\">\n",
       "<script type=\"text/javascript\">\n",
       "\r\n",
       "loadMermaid_0aa44ea8cddf4578b651708725ebbaad = () => {\n",
       " \r\n",
       "        (require.config({ 'paths': { 'context': '9.1.7', 'mermaidUri' : 'https://cdn.jsdelivr.net/npm/mermaid@9.1.7/dist/mermaid.min', 'urlArgs': 'cacheBuster=8db2f848dc984db8ad1b14bdbc5dba48' }}) || require)(['mermaidUri'], (mermaid) => {\n",
       "\r\n",
       "            let renderTarget = document.getElementById('0aa44ea8cddf4578b651708725ebbaad');\r\n",
       "            mermaid.mermaidAPI.render( \r\n",
       "                'mermaid_0aa44ea8cddf4578b651708725ebbaad', \r\n",
       "                `graph LR\n",
       "A[.NET] --> B[.NET Framework]\n",
       "A --> C[.NET Core]\n",
       "B --> D[Windows]\n",
       "C --> D\n",
       "C --> E[Linux]\n",
       "C --> F[macOS]`, \r\n",
       "                g => {\r\n",
       "                    renderTarget.innerHTML = g \r\n",
       "                });\r\n",
       "        },\r\n",
       "        (error) => {\r\n",
       "            console.log(error);\r\n",
       "        });\r\n",
       "}\n",
       "// ensure `require` is available globally\r\n",
       "if ((typeof(require) !==  typeof(Function)) || (typeof(require.config) !== typeof(Function))) {\r\n",
       "    let require_script = document.createElement('script');\r\n",
       "    require_script.setAttribute('src', 'https://cdnjs.cloudflare.com/ajax/libs/require.js/2.3.6/require.min.js');\r\n",
       "    require_script.setAttribute('type', 'text/javascript');\r\n",
       "    \r\n",
       "    \r\n",
       "    require_script.onload = function() {\r\n",
       "        loadMermaid_0aa44ea8cddf4578b651708725ebbaad();\r\n",
       "    };\r\n",
       "\r\n",
       "    document.getElementsByTagName('head')[0].appendChild(require_script);\r\n",
       "}\r\n",
       "else {\r\n",
       "    loadMermaid_0aa44ea8cddf4578b651708725ebbaad();\r\n",
       "}\r\n",
       "\n",
       "</script>\n",
       "<div id=\"0aa44ea8cddf4578b651708725ebbaad\"></div>\n",
       "</div>\n"
      ]
     },
     "metadata": {},
     "output_type": "display_data"
    }
   ],
   "source": [
    "graph LR\n",
    "A[.NET] --> B[.NET Framework]\n",
    "A --> C[.NET Core]\n",
    "B --> D[Windows]\n",
    "C --> D\n",
    "C --> E[Linux]\n",
    "C --> F[macOS]"
   ]
  },
  {
   "attachments": {},
   "cell_type": "markdown",
   "metadata": {
    "dotnet_interactive": {
     "language": "csharp"
    },
    "polyglot_notebook": {
     "kernelName": "csharp"
    }
   },
   "source": [
    "### Conclusion\n",
    "C# and the .NET framework are powerful tools for building robust and scalable applications. C# is an easy-to-learn language that is based on the C programming language and offers a wide range of features for developing applications. The .NET framework provides a unified environment for developing, deploying, and running applications and includes a large class library and a set of development tools. The .NET ecosystem includes different implementations of the .NET framework, as well as a wide range of tools, frameworks, and libraries that make it easier for developers to build applications."
   ]
  },
  {
   "attachments": {},
   "cell_type": "markdown",
   "metadata": {
    "dotnet_interactive": {
     "language": "csharp"
    },
    "polyglot_notebook": {
     "kernelName": "csharp"
    }
   },
   "source": [
    "### References\n",
    "\n",
    "- [1] \"C# Version History | C# Evolution and Features\" Dotnet Stuff. [Online]. Available: https://www.dotnetstuffs.com/csharp-version-history/. [Accessed: Mar. 09, 2023]\n"
   ]
  },
  {
   "attachments": {},
   "cell_type": "markdown",
   "metadata": {
    "dotnet_interactive": {
     "language": "csharp"
    },
    "polyglot_notebook": {
     "kernelName": "csharp"
    }
   },
   "source": [
    "# Fundamentals of C#\n",
    "\n",
    "One of the key features of C# is its strong type system. This means that every variable and expression has a specific type that is known at compile-time. This helps to prevent common programming errors and makes it easier to write robust and maintainable code.\n",
    "\n",
    "C# also supports many advanced features such as delegates, events, and LINQ (Language Integrated Query). These features make it easy to write powerful and expressive code that can handle complex tasks.\n",
    "\n",
    "In order to start writing C# programs, you will need to install the .NET Framework on your computer. This provides the runtime environment for executing C# programs. You will also need an Integrated Development Environment (IDE) such as Visual Studio or Visual Studio Code.\n",
    "\n",
    "You can create a .NET command-line application using the .NET CLI (Command Line Interface). To get started, you’ll need to have the .NET SDK installed on your computer.\n",
    "\n",
    "Once you have that installed, you can open a command prompt and create a new project by running `dotnet new console`. This will create a new console application project for you.\n",
    "\n",
    "You can then add your code to the Program.cs file and test your application by running dotnet run. Once you’re happy with your application, you can package it as a tool so that it can be distributed and used by others.\n",
    "\n",
    "Once you have these tools installed, you can start writing your first C# program. A simple \"Hello World\" program in C# might look like this:\n",
    "\n",
    "```csharp\n",
    "using System;\n",
    "\n",
    "namespace HelloWorld\n",
    "{\n",
    "    class Program\n",
    "    {\n",
    "        static void Main(string[] args)\n",
    "        {\n",
    "            Console.WriteLine(\"Hello World!\");\n",
    "        }\n",
    "    }\n",
    "}\n",
    "```\n",
    "\n",
    "Visual Studio Code (VS Code) is a lightweight but powerful source code editor that runs on your desktop and is available for Windows, macOS, and Linux. It comes with built-in support for JavaScript, TypeScript, and Node.js and has a rich ecosystem of extensions for other languages and runtimes such as C++, C#, Java, Python, PHP, Go, .NET.\n",
    "\n",
    "VS Code combines the simplicity of a code editor with what developers need for their core edit-build-debug cycle. It’s free to download and use.\n",
    "\n",
    "The Polyglot Notebooks extension for Visual Studio Code allows you to use multiple languages in the same notebook and share variables between them. This means that you don’t have to install different Jupyter kernels or use wrapper libraries to work with multiple languages in a single notebook. With this extension, you can get the best language server support for the language of your choice without having to switch between different tools [1].\n",
    "\n",
    "An example of a simple script in a polygot notebook is:"
   ]
  },
  {
   "cell_type": "code",
   "execution_count": 36,
   "metadata": {
    "dotnet_interactive": {
     "language": "csharp"
    },
    "polyglot_notebook": {
     "kernelName": "csharp"
    },
    "vscode": {
     "languageId": "polyglot-notebook"
    }
   },
   "outputs": [
    {
     "name": "stdout",
     "output_type": "stream",
     "text": [
      "Hello World!\n"
     ]
    }
   ],
   "source": [
    "using System;\n",
    "Console.WriteLine(\"Hello World!\");"
   ]
  },
  {
   "attachments": {},
   "cell_type": "markdown",
   "metadata": {
    "dotnet_interactive": {
     "language": "csharp"
    },
    "polyglot_notebook": {
     "kernelName": "csharp"
    }
   },
   "source": [
    "### Data Types\n",
    "\n",
    "In C#, data types are used to define the type of data that can be stored in a variable. C# has two main categories of data types: value types and reference types.\n",
    "\n",
    "1. Value types: Value types are types that hold the actual value of the data they represent. They are stored directly in memory and are typically used for small, simple data types such as integers, floating-point numbers, and characters. Some examples of value types in C# include:\n",
    "- int: holds integer values\n",
    "- double: holds floating-point numbers\n",
    "- char: holds single characters\n",
    "- bool: holds true/false values\n",
    "Here is an example of how to declare and use variables of value types in C#:"
   ]
  },
  {
   "cell_type": "code",
   "execution_count": 37,
   "metadata": {
    "dotnet_interactive": {
     "language": "csharp"
    },
    "polyglot_notebook": {
     "kernelName": "csharp"
    },
    "vscode": {
     "languageId": "polyglot-notebook"
    }
   },
   "outputs": [],
   "source": [
    "int num1 = 10;\n",
    "double num2 = 3.14;\n",
    "char letter = 'A';\n",
    "bool isTrue = true;"
   ]
  },
  {
   "attachments": {},
   "cell_type": "markdown",
   "metadata": {
    "dotnet_interactive": {
     "language": "csharp"
    },
    "polyglot_notebook": {
     "kernelName": "csharp"
    }
   },
   "source": [
    "Below is a mermaid diagram that shows the different types of value types in C#. The graph TD at the beginning specifies that it is a top-down graph. The square brackets`[]` indicate that the text inside is displayed in a rectangle. The parentheses `()` indicate that the text inside is displayed in a circle.\n",
    "\n",
    "The diagram shows that there are four main categories of value types: `Simple Types`, `Enum Types`, `Struct Types` and Nullable `Value Types`. Simple Types include int, float, bool and char."
   ]
  },
  {
   "cell_type": "code",
   "execution_count": 39,
   "metadata": {
    "dotnet_interactive": {
     "language": "mermaid"
    },
    "polyglot_notebook": {
     "kernelName": "mermaid"
    },
    "vscode": {
     "languageId": "polyglot-notebook"
    }
   },
   "outputs": [
    {
     "data": {
      "text/html": [
       "<div class=\"mermaidMarkdownContainer\" style=\"background-color:white\">\n",
       "<link rel=\"stylesheet\" href=\"https://cdnjs.cloudflare.com/ajax/libs/font-awesome/6.2.0/css/all.min.css\">\n",
       "<script type=\"text/javascript\">\n",
       "\r\n",
       "loadMermaid_ed69ce4d6a4c43738580ba6005f04615 = () => {\n",
       " \r\n",
       "        (require.config({ 'paths': { 'context': '9.1.7', 'mermaidUri' : 'https://cdn.jsdelivr.net/npm/mermaid@9.1.7/dist/mermaid.min', 'urlArgs': 'cacheBuster=8db2f848dc984db8ad1b14bdbc5dba48' }}) || require)(['mermaidUri'], (mermaid) => {\n",
       "\r\n",
       "            let renderTarget = document.getElementById('ed69ce4d6a4c43738580ba6005f04615');\r\n",
       "            mermaid.mermaidAPI.render( \r\n",
       "                'mermaid_ed69ce4d6a4c43738580ba6005f04615', \r\n",
       "                `graph TD\n",
       "    A[Value Types] --> B(Simple Types)\n",
       "    A --> C(Enum Types)\n",
       "    A --> D(Struct Types)\n",
       "    A --> E(Nullable Value Types)\n",
       "    B --> F(int)\n",
       "    B --> G(float)\n",
       "    B --> H(bool)\n",
       "    B --> I(char)`, \r\n",
       "                g => {\r\n",
       "                    renderTarget.innerHTML = g \r\n",
       "                });\r\n",
       "        },\r\n",
       "        (error) => {\r\n",
       "            console.log(error);\r\n",
       "        });\r\n",
       "}\n",
       "// ensure `require` is available globally\r\n",
       "if ((typeof(require) !==  typeof(Function)) || (typeof(require.config) !== typeof(Function))) {\r\n",
       "    let require_script = document.createElement('script');\r\n",
       "    require_script.setAttribute('src', 'https://cdnjs.cloudflare.com/ajax/libs/require.js/2.3.6/require.min.js');\r\n",
       "    require_script.setAttribute('type', 'text/javascript');\r\n",
       "    \r\n",
       "    \r\n",
       "    require_script.onload = function() {\r\n",
       "        loadMermaid_ed69ce4d6a4c43738580ba6005f04615();\r\n",
       "    };\r\n",
       "\r\n",
       "    document.getElementsByTagName('head')[0].appendChild(require_script);\r\n",
       "}\r\n",
       "else {\r\n",
       "    loadMermaid_ed69ce4d6a4c43738580ba6005f04615();\r\n",
       "}\r\n",
       "\n",
       "</script>\n",
       "<div id=\"ed69ce4d6a4c43738580ba6005f04615\"></div>\n",
       "</div>\n"
      ]
     },
     "metadata": {},
     "output_type": "display_data"
    }
   ],
   "source": [
    "graph TD\n",
    "    A[Value Types] --> B(Simple Types)\n",
    "    A --> C(Enum Types)\n",
    "    A --> D(Struct Types)\n",
    "    A --> E(Nullable Value Types)\n",
    "    B --> F(int)\n",
    "    B --> G(float)\n",
    "    B --> H(bool)\n",
    "    B --> I(char)"
   ]
  },
  {
   "attachments": {},
   "cell_type": "markdown",
   "metadata": {
    "dotnet_interactive": {
     "language": "csharp"
    },
    "polyglot_notebook": {
     "kernelName": "csharp"
    }
   },
   "source": [
    "In C#, an enum (short for \"enumeration\") type is a special data type that allows you to define a set of named values. Enum types are useful for creating variables that can only take on certain values, which can help improve the readability and maintainability of your code.\n",
    "\n",
    "To define an enum type in C#, you use the enum keyword followed by the name of the enum and a list of comma-separated values in parentheses. Here's an example:"
   ]
  },
  {
   "cell_type": "code",
   "execution_count": 40,
   "metadata": {
    "dotnet_interactive": {
     "language": "csharp"
    },
    "polyglot_notebook": {
     "kernelName": "csharp"
    },
    "vscode": {
     "languageId": "polyglot-notebook"
    }
   },
   "outputs": [],
   "source": [
    "enum DaysOfWeek\n",
    "{\n",
    "    Sunday,\n",
    "    Monday,\n",
    "    Tuesday,\n",
    "    Wednesday,\n",
    "    Thursday,\n",
    "    Friday,\n",
    "    Saturday\n",
    "}\n"
   ]
  },
  {
   "attachments": {},
   "cell_type": "markdown",
   "metadata": {
    "dotnet_interactive": {
     "language": "csharp"
    },
    "polyglot_notebook": {
     "kernelName": "csharp"
    }
   },
   "source": [
    "In this example, we define an enum called DaysOfWeek that has seven named values representing the days of the week. Each named value is implicitly assigned an integer value starting at 0, so Sunday has a value of 0, Monday has a value of 1, and so on.\n",
    "\n",
    "You can create a variable of an enum type by specifying the name of the enum and the named value you want to assign to the variable, like this:"
   ]
  },
  {
   "cell_type": "code",
   "execution_count": 41,
   "metadata": {
    "dotnet_interactive": {
     "language": "csharp"
    },
    "polyglot_notebook": {
     "kernelName": "csharp"
    },
    "vscode": {
     "languageId": "polyglot-notebook"
    }
   },
   "outputs": [],
   "source": [
    "DaysOfWeek today = DaysOfWeek.Monday;\n"
   ]
  },
  {
   "attachments": {},
   "cell_type": "markdown",
   "metadata": {
    "dotnet_interactive": {
     "language": "csharp"
    },
    "polyglot_notebook": {
     "kernelName": "csharp"
    }
   },
   "source": [
    "You can also use the switch statement with enum values, like this:"
   ]
  },
  {
   "cell_type": "code",
   "execution_count": 43,
   "metadata": {
    "dotnet_interactive": {
     "language": "csharp"
    },
    "polyglot_notebook": {
     "kernelName": "csharp"
    },
    "vscode": {
     "languageId": "polyglot-notebook"
    }
   },
   "outputs": [
    {
     "name": "stdout",
     "output_type": "stream",
     "text": [
      "Today is Monday\n"
     ]
    }
   ],
   "source": [
    "switch (today)\n",
    "{\n",
    "    case DaysOfWeek.Sunday:\n",
    "        Console.WriteLine(\"Today is Sunday\");\n",
    "        break;\n",
    "    case DaysOfWeek.Monday:\n",
    "        Console.WriteLine(\"Today is Monday\");\n",
    "        break;\n",
    "    // ...\n",
    "}"
   ]
  },
  {
   "attachments": {},
   "cell_type": "markdown",
   "metadata": {
    "dotnet_interactive": {
     "language": "csharp"
    },
    "polyglot_notebook": {
     "kernelName": "csharp"
    }
   },
   "source": [
    "Using enum types can help make your code more readable and less error-prone by restricting the possible values of a variable to a well-defined set of options. It also makes it easier to modify the possible values in the future if needed, since you can simply add or remove named values from the enum definition."
   ]
  },
  {
   "attachments": {},
   "cell_type": "markdown",
   "metadata": {
    "dotnet_interactive": {
     "language": "csharp"
    },
    "polyglot_notebook": {
     "kernelName": "csharp"
    }
   },
   "source": [
    "In C#, a struct type is a value type that represents a structured collection of related data fields. It is similar to a class, but with a few key differences.\n",
    "\n",
    "A struct type is defined using the struct keyword and can contain fields, properties, methods, and events just like a class. However, unlike classes, struct types are value types and are allocated on the stack rather than on the heap.\n",
    "\n",
    "When you create a new object of a struct type, it is copied to a new location in memory. This is different from reference types like classes, where multiple variables can refer to the same object in memory. Copying a struct can be more efficient than copying a reference type because the entire struct is copied at once, whereas copying a reference type requires copying both the reference and the object it refers to.\n",
    "\n",
    "Structs are often used to represent simple data types such as coordinates, points, and rectangles. They can also be used to define custom value types for more complex scenarios. One important thing to note is that structs should generally be small and simple, as copying large structs can be expensive in terms of memory and performance."
   ]
  },
  {
   "cell_type": "code",
   "execution_count": 45,
   "metadata": {
    "dotnet_interactive": {
     "language": "csharp"
    },
    "polyglot_notebook": {
     "kernelName": "csharp"
    },
    "vscode": {
     "languageId": "polyglot-notebook"
    }
   },
   "outputs": [],
   "source": [
    "using System;\n",
    "\n",
    "struct Person\n",
    "{\n",
    "    public string Name;\n",
    "    public int Age;\n",
    "    public string Occupation;\n",
    "\n",
    "    public Person(string name, int age, string occupation)\n",
    "    {\n",
    "        Name = name;\n",
    "        Age = age;\n",
    "        Occupation = occupation;\n",
    "    }\n",
    "\n",
    "    public void PrintInfo()\n",
    "    {\n",
    "        Console.WriteLine($\"Name: {Name}, Age: {Age}, Occupation: {Occupation}\");\n",
    "    }\n",
    "}"
   ]
  },
  {
   "attachments": {},
   "cell_type": "markdown",
   "metadata": {
    "dotnet_interactive": {
     "language": "csharp"
    },
    "polyglot_notebook": {
     "kernelName": "csharp"
    }
   },
   "source": [
    "In this example, we define a struct type called Person which represents a person with a name, age, and occupation. The struct has three fields: Name, Age, and Occupation, all of which are public. We also define a constructor that takes in values for all three fields and initializes them, and a method called PrintInfo that prints out the values of the fields.\n",
    "\n",
    "In the Main method, we create a new Person object called john and initialize it with the values \"John Smith\", 30, and \"Software Developer\". We then call the PrintInfo method on the john object, which prints out the values of the fields.\n",
    "\n",
    "Note that struct types in C# are value types, which means that when you create a new object of a struct type, it gets copied to a new location in memory. This is different from reference types like classes, where multiple variables can refer to the same object in memory."
   ]
  },
  {
   "attachments": {},
   "cell_type": "markdown",
   "metadata": {
    "dotnet_interactive": {
     "language": "csharp"
    },
    "polyglot_notebook": {
     "kernelName": "csharp"
    }
   },
   "source": [
    "In C#, a nullable value type is a value type that can also have a value of null. Normally, value types like int, float, and bool cannot be assigned a null value because they are not reference types. However, by using a nullable value type, you can allow a value type to have the additional value of null.\n",
    "\n",
    "Nullable value types are defined by appending a ? to the type name. For example, int? is a nullable integer type, and float? is a nullable float type. When you create a variable of a nullable value type, it is initially set to null by default.\n",
    "\n",
    "Here's an example of how to use a nullable value type in C#:"
   ]
  },
  {
   "cell_type": "code",
   "execution_count": 48,
   "metadata": {
    "dotnet_interactive": {
     "language": "csharp"
    },
    "polyglot_notebook": {
     "kernelName": "csharp"
    },
    "vscode": {
     "languageId": "polyglot-notebook"
    }
   },
   "outputs": [
    {
     "name": "stdout",
     "output_type": "stream",
     "text": [
      "num1 is null\n",
      "num2 has a value of 42\n"
     ]
    }
   ],
   "source": [
    "int? num1 = null;\n",
    "int? num2 = 42;\n",
    "\n",
    "if (num1.HasValue)\n",
    "{\n",
    "    Console.WriteLine(\"num1 has a value of {0}\", num1.Value);\n",
    "}\n",
    "else\n",
    "{\n",
    "    Console.WriteLine(\"num1 is null\");\n",
    "}\n",
    "\n",
    "if (num2.HasValue)\n",
    "{\n",
    "    Console.WriteLine(\"num2 has a value of {0}\", num2.Value);\n",
    "}\n",
    "else\n",
    "{\n",
    "    Console.WriteLine(\"num2 is null\");\n",
    "}\n"
   ]
  },
  {
   "attachments": {},
   "cell_type": "markdown",
   "metadata": {
    "dotnet_interactive": {
     "language": "csharp"
    },
    "polyglot_notebook": {
     "kernelName": "csharp"
    }
   },
   "source": [
    "In this example, we create two variables of type int?. num1 is set to null, while num2 is set to 42. We then use the HasValue property to check if each variable has a value, and the Value property to access the value if it does. If a nullable value type variable is assigned null, attempting to access its value will throw a System.InvalidOperationException.\n",
    "\n",
    "Nullable value types are useful when you need to represent a value that might not be present, such as a user-entered value that has not yet been specified. They can also be used in database programming, where a column in a database table might allow null values."
   ]
  },
  {
   "attachments": {},
   "cell_type": "markdown",
   "metadata": {
    "dotnet_interactive": {
     "language": "csharp"
    },
    "polyglot_notebook": {
     "kernelName": "csharp"
    }
   },
   "source": [
    "2. Reference types: Reference types are types that hold a reference to an object in memory rather than the value of the object itself. They are typically used for more complex data types such as strings, arrays, and custom objects. Some examples of reference types in C# include:\n",
    "- string: holds a sequence of characters\n",
    "- array: holds a collection of values\n",
    "- object: holds an instance of a class\n",
    "\n",
    "Here is an example of how to declare and use variables of reference types in C#:"
   ]
  },
  {
   "cell_type": "code",
   "execution_count": 50,
   "metadata": {
    "dotnet_interactive": {
     "language": "csharp"
    },
    "polyglot_notebook": {
     "kernelName": "csharp"
    },
    "vscode": {
     "languageId": "polyglot-notebook"
    }
   },
   "outputs": [],
   "source": [
    "string name = \"John\";\n",
    "int[] numbers = new int[] { 1, 2, 3, 4 };\n",
    "object obj = new object();"
   ]
  },
  {
   "attachments": {},
   "cell_type": "markdown",
   "metadata": {
    "dotnet_interactive": {
     "language": "csharp"
    },
    "polyglot_notebook": {
     "kernelName": "csharp"
    }
   },
   "source": [
    "It is important to note that in C#, all classes and objects are reference types, while all value types are structs. Additionally, value types are typically stored on the stack, while reference types are stored on the heap."
   ]
  },
  {
   "attachments": {},
   "cell_type": "markdown",
   "metadata": {
    "dotnet_interactive": {
     "language": "csharp"
    },
    "polyglot_notebook": {
     "kernelName": "csharp"
    }
   },
   "source": [
    "3. Arithmetic operators: Arithmetic operators are used to perform mathematical calculations on numeric data types. Some examples of arithmetic operators in C# include:\n",
    "- (addition)\n",
    "- (subtraction)\n",
    "- (multiplication)\n",
    "- / (division)\n",
    "- \\% (modulus)\n",
    "\n",
    "Here is an example of how to use arithmetic operators in C#:"
   ]
  },
  {
   "cell_type": "code",
   "execution_count": 51,
   "metadata": {
    "dotnet_interactive": {
     "language": "csharp"
    },
    "polyglot_notebook": {
     "kernelName": "csharp"
    },
    "vscode": {
     "languageId": "polyglot-notebook"
    }
   },
   "outputs": [],
   "source": [
    "int x = 10;\n",
    "int y = 5;\n",
    "int z = x + y;    // z = 15\n",
    "int a = x * y;    // a = 50\n",
    "int b = x % y;    // b = 0\n"
   ]
  },
  {
   "attachments": {},
   "cell_type": "markdown",
   "metadata": {
    "dotnet_interactive": {
     "language": "csharp"
    },
    "polyglot_notebook": {
     "kernelName": "csharp"
    }
   },
   "source": [
    "a. Comparison operators: Comparison operators are used to compare two values and return a Boolean value (true or false). Some examples of comparison operators in C# include:\n",
    "\n",
    "- == (equal to)\n",
    "- != (not equal to)\n",
    "- < (less than)\n",
    "- (greater than)\n",
    "- <= (less than or equal to)\n",
    "- = (greater than or equal to)\n",
    "\n",
    "Here is an example of how to use comparison operators in C#:"
   ]
  },
  {
   "cell_type": "code",
   "execution_count": 53,
   "metadata": {
    "dotnet_interactive": {
     "language": "csharp"
    },
    "polyglot_notebook": {
     "kernelName": "csharp"
    },
    "vscode": {
     "languageId": "polyglot-notebook"
    }
   },
   "outputs": [],
   "source": [
    "int x = 10;\n",
    "int y = 5;\n",
    "bool isEqual = x == y;       // isEqual = false\n",
    "bool isGreater = x > y;      // isGreater = true\n",
    "bool isLessThanOrEqual = x <= y;  // isLessThanOrEqual = false\n"
   ]
  },
  {
   "attachments": {},
   "cell_type": "markdown",
   "metadata": {
    "dotnet_interactive": {
     "language": "csharp"
    },
    "polyglot_notebook": {
     "kernelName": "csharp"
    }
   },
   "source": [
    "b. Logical operators: Logical operators are used to combine multiple Boolean expressions and return a single Boolean value. Some examples of logical operators in C# include:\n",
    "\n",
    "- && (logical AND)\n",
    "- || (logical OR)\n",
    "- ! (logical NOT)\n",
    "\n",
    "Here is an example of how to use logical operators in C#:"
   ]
  },
  {
   "cell_type": "code",
   "execution_count": 54,
   "metadata": {
    "dotnet_interactive": {
     "language": "csharp"
    },
    "polyglot_notebook": {
     "kernelName": "csharp"
    },
    "vscode": {
     "languageId": "polyglot-notebook"
    }
   },
   "outputs": [],
   "source": [
    "bool a = true;\n",
    "bool b = false;\n",
    "bool c = true;\n",
    "\n",
    "bool result1 = a && b;     // result1 = false\n",
    "bool result2 = a || b;     // result2 = true\n",
    "bool result3 = !a;         // result3 = false\n",
    "bool result4 = (a && b) || c;   // result4 = true\n"
   ]
  },
  {
   "attachments": {},
   "cell_type": "markdown",
   "metadata": {
    "dotnet_interactive": {
     "language": "csharp"
    },
    "polyglot_notebook": {
     "kernelName": "csharp"
    }
   },
   "source": [
    "c. Assignment operators: Assignment operators are used to assign values to variables. Some examples of assignment operators in C# include:\n",
    "\n",
    "- = (simple assignment)\n",
    "- += (addition assignment)\n",
    "- -= (subtraction assignment)\n",
    "- *= (multiplication assignment)\n",
    "- /= (division assignment)\n",
    "- \\%= (modulus assignment)\n",
    "\n",
    "Here is an example of how to use assignment operators in C#:"
   ]
  },
  {
   "cell_type": "code",
   "execution_count": 56,
   "metadata": {
    "dotnet_interactive": {
     "language": "csharp"
    },
    "polyglot_notebook": {
     "kernelName": "csharp"
    },
    "vscode": {
     "languageId": "polyglot-notebook"
    }
   },
   "outputs": [],
   "source": [
    "int x = 10;\n",
    "x += 5;     // x = 15\n",
    "x *= 2;     // x = 30"
   ]
  },
  {
   "attachments": {},
   "cell_type": "markdown",
   "metadata": {
    "dotnet_interactive": {
     "language": "csharp"
    },
    "polyglot_notebook": {
     "kernelName": "csharp"
    }
   },
   "source": [
    "In conclusion, C# provides a wide range of data types that developers can use to define the type of data that can be stored in a variable. By understanding the differences between value types and reference types, developers can choose the appropriate data type for their application needs."
   ]
  },
  {
   "attachments": {},
   "cell_type": "markdown",
   "metadata": {
    "dotnet_interactive": {
     "language": "csharp"
    },
    "polyglot_notebook": {
     "kernelName": "csharp"
    }
   },
   "source": [
    "### Control Structures\n",
    "\n",
    "Control structures are used in programming to control the flow of a program based on certain conditions or criteria. C# provides various control structures to help developers implement complex logic and algorithms in their programs. Here are the different control structures available in C#:\n",
    "\n",
    "    1. Conditional statements (if/else): Conditional statements allow you to execute different blocks of code based on a certain condition. The if statement is used to execute a block of code if a condition is true, and the else statement is used to execute a block of code if the condition is false. Here is an example of how to use conditional statements in C#:"
   ]
  },
  {
   "cell_type": "code",
   "execution_count": 57,
   "metadata": {
    "dotnet_interactive": {
     "language": "csharp"
    },
    "polyglot_notebook": {
     "kernelName": "csharp"
    },
    "vscode": {
     "languageId": "polyglot-notebook"
    }
   },
   "outputs": [
    {
     "name": "stdout",
     "output_type": "stream",
     "text": [
      "You are an adult.\n"
     ]
    }
   ],
   "source": [
    "using System;\n",
    "int age = 18;\n",
    "if (age >= 18)\n",
    "{\n",
    "    Console.WriteLine(\"You are an adult.\");\n",
    "}\n",
    "else\n",
    "{\n",
    "    Console.WriteLine(\"You are a minor.\");\n",
    "}\n"
   ]
  },
  {
   "attachments": {},
   "cell_type": "markdown",
   "metadata": {
    "dotnet_interactive": {
     "language": "csharp"
    },
    "polyglot_notebook": {
     "kernelName": "csharp"
    }
   },
   "source": [
    "2. Loops (for/while/do-while): Loops allow you to execute a block of code repeatedly until a certain condition is met. The for loop is used when you know the number of times you want to execute the code, the while loop is used when you don't know the number of times you want to execute the code, and the do-while loop is similar to the while loop, but the code is executed at least once before the condition is checked. Here is an example of how to use loops in C#:"
   ]
  },
  {
   "cell_type": "code",
   "execution_count": 63,
   "metadata": {
    "dotnet_interactive": {
     "language": "csharp"
    },
    "polyglot_notebook": {
     "kernelName": "csharp"
    },
    "vscode": {
     "languageId": "polyglot-notebook"
    }
   },
   "outputs": [
    {
     "name": "stdout",
     "output_type": "stream",
     "text": [
      "The value of i is: 0\n",
      "The value of i is: 1\n",
      "The value of i is: 2\n",
      "The value of i is: 3\n",
      "The value of i is: 4\n",
      "The value of i is: 5\n",
      "The value of i is: 6\n",
      "The value of i is: 7\n",
      "The value of i is: 8\n",
      "The value of i is: 9\n"
     ]
    }
   ],
   "source": [
    "// for loop example\n",
    "for (int i = 0; i < 10; i++)\n",
    "{\n",
    "    Console.WriteLine(\"The value of i is: \" + i);\n",
    "}"
   ]
  },
  {
   "cell_type": "code",
   "execution_count": 70,
   "metadata": {
    "dotnet_interactive": {
     "language": "csharp"
    },
    "polyglot_notebook": {
     "kernelName": "csharp"
    },
    "vscode": {
     "languageId": "polyglot-notebook"
    }
   },
   "outputs": [
    {
     "name": "stdout",
     "output_type": "stream",
     "text": [
      "The value of j is: 0\n",
      "The value of j is: 1\n",
      "The value of j is: 2\n",
      "The value of j is: 3\n",
      "The value of j is: 4\n",
      "The value of j is: 5\n",
      "The value of j is: 6\n",
      "The value of j is: 7\n",
      "The value of j is: 8\n",
      "The value of j is: 9\n"
     ]
    }
   ],
   "source": [
    "// while loop example\n",
    "int j = 0;\n",
    "while (j < 10)\n",
    "{\n",
    "    Console.WriteLine(\"The value of j is: \" + j);\n",
    "    j++;\n",
    "}"
   ]
  },
  {
   "cell_type": "code",
   "execution_count": 71,
   "metadata": {
    "dotnet_interactive": {
     "language": "csharp"
    },
    "polyglot_notebook": {
     "kernelName": "csharp"
    },
    "vscode": {
     "languageId": "polyglot-notebook"
    }
   },
   "outputs": [
    {
     "name": "stdout",
     "output_type": "stream",
     "text": [
      "The value of k is: 0\n",
      "The value of k is: 1\n",
      "The value of k is: 2\n",
      "The value of k is: 3\n",
      "The value of k is: 4\n",
      "The value of k is: 5\n",
      "The value of k is: 6\n",
      "The value of k is: 7\n",
      "The value of k is: 8\n",
      "The value of k is: 9\n"
     ]
    }
   ],
   "source": [
    "// do-while loop example\n",
    "int k = 0;\n",
    "do\n",
    "{\n",
    "    Console.WriteLine(\"The value of k is: \" + k);\n",
    "    k++;\n",
    "} while (k < 10);"
   ]
  },
  {
   "attachments": {},
   "cell_type": "markdown",
   "metadata": {
    "dotnet_interactive": {
     "language": "csharp"
    },
    "polyglot_notebook": {
     "kernelName": "csharp"
    }
   },
   "source": [
    "3. Switch statements: Switch statements allow you to execute different blocks of code based on the value of a variable. Switch statements are often used as an alternative to nested if statements. Here is an example of how to use switch statements in C#:"
   ]
  },
  {
   "cell_type": "code",
   "execution_count": 34,
   "metadata": {
    "dotnet_interactive": {
     "language": "csharp"
    },
    "polyglot_notebook": {
     "kernelName": "csharp"
    },
    "vscode": {
     "languageId": "polyglot-notebook"
    }
   },
   "outputs": [
    {
     "name": "stdout",
     "output_type": "stream",
     "text": [
      "Tuesday\n"
     ]
    }
   ],
   "source": [
    "int dayOfWeek = 2;\n",
    "switch (dayOfWeek)\n",
    "{\n",
    "    case 1:\n",
    "        Console.WriteLine(\"Monday\");\n",
    "        break;\n",
    "    case 2:\n",
    "        Console.WriteLine(\"Tuesday\");\n",
    "        break;\n",
    "    case 3:\n",
    "        Console.WriteLine(\"Wednesday\");\n",
    "        break;\n",
    "    case 4:\n",
    "        Console.WriteLine(\"Thursday\");\n",
    "        break;\n",
    "    case 5:\n",
    "        Console.WriteLine(\"Friday\");\n",
    "        break;\n",
    "    default:\n",
    "        Console.WriteLine(\"Invalid day of week\");\n",
    "        break;\n",
    "}\n"
   ]
  },
  {
   "attachments": {},
   "cell_type": "markdown",
   "metadata": {
    "dotnet_interactive": {
     "language": "csharp"
    },
    "polyglot_notebook": {
     "kernelName": "csharp"
    }
   },
   "source": [
    "In conclusion, control structures are an essential part of programming, and C# provides a wide range of control structures to help developers implement complex logic and algorithms in their programs. By understanding the different control structures available in C#, developers can write more efficient and effective code."
   ]
  },
  {
   "attachments": {},
   "cell_type": "markdown",
   "metadata": {
    "dotnet_interactive": {
     "language": "csharp"
    },
    "polyglot_notebook": {
     "kernelName": "csharp"
    }
   },
   "source": [
    "### Arrays and Methods\n",
    "\n",
    "Arrays. In C#, an array is a collection of variables of the same data type that are stored in contiguous memory locations. An array allows you to store a collection of data in a single variable, which can be accessed using an index. Arrays can be useful when you want to store a collection of values of the same type and access them using an index. Here's an example of how to declare, initialize, and use arrays in C#:"
   ]
  },
  {
   "cell_type": "code",
   "execution_count": 38,
   "metadata": {
    "dotnet_interactive": {
     "language": "csharp"
    },
    "polyglot_notebook": {
     "kernelName": "csharp"
    },
    "vscode": {
     "languageId": "polyglot-notebook"
    }
   },
   "outputs": [
    {
     "name": "stdout",
     "output_type": "stream",
     "text": [
      "10\n",
      "20\n",
      "30\n",
      "40\n",
      "50\n"
     ]
    }
   ],
   "source": [
    "// Declare an array of integers\n",
    "int[] numbers;\n",
    "\n",
    "// Initialize the array with five elements\n",
    "numbers = new int[5];\n",
    "\n",
    "// Assign values to the array elements\n",
    "numbers[0] = 10;\n",
    "numbers[1] = 20;\n",
    "numbers[2] = 30;\n",
    "numbers[3] = 40;\n",
    "numbers[4] = 50;\n",
    "\n",
    "// Access the elements of the array using an index\n",
    "Console.WriteLine(numbers[0]); // Output: 10\n",
    "Console.WriteLine(numbers[1]); // Output: 20\n",
    "Console.WriteLine(numbers[2]); // Output: 30\n",
    "Console.WriteLine(numbers[3]); // Output: 40\n",
    "Console.WriteLine(numbers[4]); // Output: 50\n"
   ]
  },
  {
   "attachments": {},
   "cell_type": "markdown",
   "metadata": {
    "dotnet_interactive": {
     "language": "csharp"
    },
    "polyglot_notebook": {
     "kernelName": "csharp"
    }
   },
   "source": [
    "In this example, we first declare an array of integers named `numbers`. We then initialize the array with five elements using the `new` keyword and specifying the size of the array as 5. Finally, we assign values to the array elements by specifying the index of the element and the value to assign. We can then access the elements of the array using an index and print them to the console.\n",
    "\n",
    "You can also initialize an array using an array initializer, which allows you to specify the values of the array elements at the time of declaration. Here's an example:"
   ]
  },
  {
   "cell_type": "code",
   "execution_count": 42,
   "metadata": {
    "dotnet_interactive": {
     "language": "csharp"
    },
    "polyglot_notebook": {
     "kernelName": "csharp"
    },
    "vscode": {
     "languageId": "polyglot-notebook"
    }
   },
   "outputs": [
    {
     "name": "stdout",
     "output_type": "stream",
     "text": [
      "10\n",
      "20\n",
      "30\n",
      "40\n",
      "50\n"
     ]
    }
   ],
   "source": [
    "// Declare and initialize an array of integers using an array initializer\n",
    "int[] numbers = { 10, 20, 30, 40, 50 };\n",
    "\n",
    "// Access the elements of the array using an index\n",
    "Console.WriteLine(numbers[0]); // Output: 10\n",
    "Console.WriteLine(numbers[1]); // Output: 20\n",
    "Console.WriteLine(numbers[2]); // Output: 30\n",
    "Console.WriteLine(numbers[3]); // Output: 40\n",
    "Console.WriteLine(numbers[4]); // Output: 50"
   ]
  },
  {
   "attachments": {},
   "cell_type": "markdown",
   "metadata": {
    "dotnet_interactive": {
     "language": "csharp"
    },
    "polyglot_notebook": {
     "kernelName": "csharp"
    }
   },
   "source": [
    "In this example, we declare and initialize an array of integers using an array initializer. We specify the values of the array elements inside curly braces separated by commas. We can then access the elements of the array using an index and print them to the console.\n",
    "\n",
    "In conclusion, arrays in C# are useful for storing collections of data of the same type. You can declare, initialize, and access the elements of an array using an index. Arrays can be initialized using an array initializer, which allows you to specify the values of the array elements at the time of declaration."
   ]
  },
  {
   "attachments": {},
   "cell_type": "markdown",
   "metadata": {
    "dotnet_interactive": {
     "language": "csharp"
    },
    "polyglot_notebook": {
     "kernelName": "csharp"
    }
   },
   "source": [
    "### Methods\n",
    "\n",
    "In C#, a method is a block of code that performs a specific task and can be called by other code in the program. Methods are used to organize code into reusable blocks, which can be called multiple times with different arguments to perform the same task. Methods are also useful for modularizing code, making it easier to maintain and update.\n",
    "\n",
    "Here's an example of a method definition:"
   ]
  },
  {
   "cell_type": "code",
   "execution_count": 44,
   "metadata": {
    "dotnet_interactive": {
     "language": "csharp"
    },
    "polyglot_notebook": {
     "kernelName": "csharp"
    },
    "vscode": {
     "languageId": "polyglot-notebook"
    }
   },
   "outputs": [],
   "source": [
    "public int AddNumbers(int num1, int num2)\n",
    "{\n",
    "    int result = num1 + num2;\n",
    "    return result;\n",
    "}\n"
   ]
  },
  {
   "attachments": {},
   "cell_type": "markdown",
   "metadata": {
    "dotnet_interactive": {
     "language": "csharp"
    },
    "polyglot_notebook": {
     "kernelName": "csharp"
    }
   },
   "source": [
    "In this example, we define a method called AddNumbers that takes two integer parameters (num1 and num2) and returns an integer value. Inside the method, we add the two parameters together and store the result in a local variable called result. We then use the return keyword to return the value of result to the caller.\n",
    "\n",
    "Here's an example of how to call the AddNumbers method:"
   ]
  },
  {
   "cell_type": "code",
   "execution_count": 46,
   "metadata": {
    "dotnet_interactive": {
     "language": "csharp"
    },
    "polyglot_notebook": {
     "kernelName": "csharp"
    },
    "vscode": {
     "languageId": "polyglot-notebook"
    }
   },
   "outputs": [
    {
     "name": "stdout",
     "output_type": "stream",
     "text": [
      "15\n"
     ]
    }
   ],
   "source": [
    "int sum = AddNumbers(5, 10);\n",
    "Console.WriteLine(sum); // Output: 15\n"
   ]
  },
  {
   "attachments": {},
   "cell_type": "markdown",
   "metadata": {
    "dotnet_interactive": {
     "language": "csharp"
    },
    "polyglot_notebook": {
     "kernelName": "csharp"
    }
   },
   "source": [
    "In this example, we call the AddNumbers method and pass in two integer values (`5` and `10`) as arguments. The method then adds the two values together and returns the result (`15`). We store the result in a variable called sum and print it to the console using the Console.WriteLine method.\n",
    "\n",
    "You can also define methods without parameters, or with parameters of different data types. Here's an example of a method without parameters:"
   ]
  },
  {
   "cell_type": "code",
   "execution_count": 47,
   "metadata": {
    "dotnet_interactive": {
     "language": "csharp"
    },
    "polyglot_notebook": {
     "kernelName": "csharp"
    },
    "vscode": {
     "languageId": "polyglot-notebook"
    }
   },
   "outputs": [],
   "source": [
    "public void Greet()\n",
    "{\n",
    "    Console.WriteLine(\"Greetings, World!\");\n",
    "}\n"
   ]
  },
  {
   "attachments": {},
   "cell_type": "markdown",
   "metadata": {
    "dotnet_interactive": {
     "language": "csharp"
    },
    "polyglot_notebook": {
     "kernelName": "csharp"
    }
   },
   "source": [
    "In this example, we define a method called Greet that takes no parameters and returns no value (void). Inside the method, we use the Console.WriteLine method to print a greeting to the console.\n",
    "\n",
    "Here's an example of how to call the Greet method:"
   ]
  },
  {
   "cell_type": "code",
   "execution_count": 49,
   "metadata": {
    "dotnet_interactive": {
     "language": "csharp"
    },
    "polyglot_notebook": {
     "kernelName": "csharp"
    },
    "vscode": {
     "languageId": "polyglot-notebook"
    }
   },
   "outputs": [
    {
     "name": "stdout",
     "output_type": "stream",
     "text": [
      "Greetings, World!\n"
     ]
    }
   ],
   "source": [
    "Greet(); // Output: Greetings, World!"
   ]
  },
  {
   "attachments": {},
   "cell_type": "markdown",
   "metadata": {
    "dotnet_interactive": {
     "language": "csharp"
    },
    "polyglot_notebook": {
     "kernelName": "csharp"
    }
   },
   "source": [
    "In this example, we call the Greet method with no arguments. The method then prints a greeting to the console.\n",
    "\n",
    "In conclusion, methods in C# are used to organize code into reusable blocks, which can be called multiple times with different arguments to perform the same task. Methods can be defined with parameters of different data types, and can also return values of different data types. Methods are useful for modularizing code, making it easier to maintain and update.\n",
    "\n",
    "\n",
    "### Exceptions in C#\n",
    "\n",
    "In C#, exceptions are used to handle unexpected errors or exceptional conditions that occur during the execution of a program. To handle exceptions, you can use the try-catch-finally block or exception filters.\n",
    "\n",
    "The try-catch-finally block is used to catch and handle exceptions. Here's an example:"
   ]
  },
  {
   "cell_type": "code",
   "execution_count": 52,
   "metadata": {
    "dotnet_interactive": {
     "language": "csharp"
    },
    "polyglot_notebook": {
     "kernelName": "csharp"
    },
    "vscode": {
     "languageId": "polyglot-notebook"
    }
   },
   "outputs": [
    {
     "name": "stdout",
     "output_type": "stream",
     "text": [
      "Error: Index was outside the bounds of the array.\n",
      "The program has finished executing.\n"
     ]
    }
   ],
   "source": [
    "try\n",
    "{\n",
    "    int[] numbers = { 1, 2, 3 };\n",
    "    Console.WriteLine(numbers[3]); // Accessing an element outside the bounds of the array\n",
    "}\n",
    "catch (IndexOutOfRangeException ex)\n",
    "{\n",
    "    Console.WriteLine(\"Error: \" + ex.Message);\n",
    "}\n",
    "finally\n",
    "{\n",
    "    Console.WriteLine(\"The program has finished executing.\");\n",
    "}\n"
   ]
  },
  {
   "attachments": {},
   "cell_type": "markdown",
   "metadata": {
    "dotnet_interactive": {
     "language": "csharp"
    },
    "polyglot_notebook": {
     "kernelName": "csharp"
    }
   },
   "source": [
    "In this example, we declare a try block and put the code that may throw an exception inside it. We then declare a catch block and specify the type of exception we want to catch (`IndexOutOfRangeException`), followed by the code we want to execute if the exception occurs. Finally, we declare a finally block and put the code we want to execute after the try-catch block, regardless of whether an exception occurred.\n",
    "\n",
    "Exception filters are used to catch and handle specific exceptions based on a condition. Here's an example:"
   ]
  },
  {
   "cell_type": "code",
   "execution_count": 55,
   "metadata": {
    "dotnet_interactive": {
     "language": "csharp"
    },
    "polyglot_notebook": {
     "kernelName": "csharp"
    },
    "vscode": {
     "languageId": "polyglot-notebook"
    }
   },
   "outputs": [
    {
     "name": "stdout",
     "output_type": "stream",
     "text": [
      "Error: Index was outside the bounds of the array.\n",
      "The program has finished executing.\n"
     ]
    }
   ],
   "source": [
    "try\n",
    "{\n",
    "    int[] numbers = { 1, 2, 3 };\n",
    "    Console.WriteLine(numbers[3]); // Accessing an element outside the bounds of the array\n",
    "}\n",
    "catch (Exception ex) when (ex is IndexOutOfRangeException || ex is ArgumentNullException)\n",
    "{\n",
    "    Console.WriteLine(\"Error: \" + ex.Message);\n",
    "}\n",
    "finally\n",
    "{\n",
    "    Console.WriteLine(\"The program has finished executing.\");\n",
    "}\n"
   ]
  },
  {
   "attachments": {},
   "cell_type": "markdown",
   "metadata": {
    "dotnet_interactive": {
     "language": "csharp"
    },
    "polyglot_notebook": {
     "kernelName": "csharp"
    }
   },
   "source": [
    "In this example, we use an exception filter to catch and handle two types of exceptions (IndexOutOfRangeException and ArgumentNullException). The filter checks whether the caught exception is of one of these types using the is operator, and if it is, it executes the code inside the catch block.\n",
    "\n",
    "In conclusion, exception handling is an important aspect of C# programming, as it allows you to gracefully handle unexpected errors or exceptional conditions that may occur during program execution. You can handle exceptions using the try-catch-finally block or exception filters, depending on your needs. The try-catch-finally block allows you to catch and handle specific types of exceptions, while the exception filter allows you to catch and handle exceptions based on a condition."
   ]
  },
  {
   "cell_type": "code",
   "execution_count": 58,
   "metadata": {
    "dotnet_interactive": {
     "language": "csharp"
    },
    "polyglot_notebook": {
     "kernelName": "csharp"
    },
    "vscode": {
     "languageId": "polyglot-notebook"
    }
   },
   "outputs": [
    {
     "name": "stdout",
     "output_type": "stream",
     "text": [
      "Cannot divide by zero\n",
      "This block will always execute\n"
     ]
    }
   ],
   "source": [
    "try {\n",
    "    int x=5,y=0,z=x/y;\n",
    "} catch(DivideByZeroException ex) {\n",
    "    Console.WriteLine(\"Cannot divide by zero\");\n",
    "} finally{\n",
    "   Console.WriteLine(\"This block will always execute\");\n",
    "}"
   ]
  },
  {
   "attachments": {},
   "cell_type": "markdown",
   "metadata": {
    "dotnet_interactive": {
     "language": "csharp"
    },
    "polyglot_notebook": {
     "kernelName": "csharp"
    }
   },
   "source": [
    "In this code example, we are trying to divide the value of integer variable x by the value of integer variable y, which is 0. Since division by zero is not defined, this will result in a `DivideByZeroException`.\n",
    "\n",
    "To handle this exception, we have used a try block that contains the code that may throw an exception. We then have a catch block that catches the `DivideByZeroException`, followed by the code that we want to execute if the exception occurs. In this case, we are simply printing a message to the console to inform the user that division by zero is not possible.\n",
    "\n",
    "Finally, we have a finally block that contains the code that will always execute, regardless of whether an exception occurred. In this case, we are simply printing a message to the console to indicate that the finally block has executed.\n",
    "\n",
    "So, when we run this code, it will catch the `DivideByZeroException` and print the message \"Cannot divide by zero\" to the console. Then, the finally block will execute and print the message \"This block will always execute\"."
   ]
  },
  {
   "attachments": {},
   "cell_type": "markdown",
   "metadata": {
    "dotnet_interactive": {
     "language": "csharp"
    },
    "polyglot_notebook": {
     "kernelName": "csharp"
    }
   },
   "source": [
    "### Java vs C#\n",
    "Java and C# are two popular programming languages that share many similarities, but also have some notable differences. In this section, we'll compare and contrast these two languages in terms of syntax, platform support, performance, and other factors.\n",
    "\n",
    "#### Syntax\n",
    "Java and C# have similar syntax, as they both use curly braces to define blocks of code and semicolons to separate statements. However, there are some key differences in their syntax, such as:\n",
    "\n",
    "C# uses the var keyword to declare implicitly typed variables, whereas Java does not.\n",
    "C# uses properties to encapsulate the state of an object, while Java uses getter and setter methods.\n",
    "C# supports extension methods, which allow you to add new methods to existing classes, whereas Java does not.\n",
    "C# has a built-in using statement that simplifies the use of disposable resources, while Java requires explicit use of try-with-resources or manual cleanup.\n",
    "#### Platform Support\n",
    "Java is known for its platform independence, as it can run on a wide variety of operating systems and hardware architectures. C#, on the other hand, was initially developed by Microsoft for use on Windows platforms, but has since been open-sourced and is now supported on other platforms through .NET Core and Xamarin.\n",
    "\n",
    "#### Performance\n",
    "Both Java and C# are generally considered to be high-performance languages, with similar runtime speeds. However, C# has some advantages in terms of memory management, as it uses a garbage collector that is more efficient and can reduce memory fragmentation.\n",
    "\n",
    "#### Other Factors\n",
    "There are other factors to consider when comparing Java and C#, such as:\n",
    "\n",
    "Java has a larger ecosystem and community, with more libraries and tools available.\n",
    "C# has better support for modern language features, such as async/await and LINQ.\n",
    "Java has better support for functional programming, with features such as lambdas and streams.\n",
    "C# has better integration with Windows operating systems and tools, such as Visual Studio.\n",
    "Overall, both Java and C# are powerful and versatile programming languages that are well-suited for a wide range of applications. Choosing between them depends on factors such as platform support, development environment, and the specific needs of your project.\n",
    "\n",
    "\n",
    "### What is built with C#\n",
    "\n",
    "C# is a versatile language that can be used for a wide range of applications, from desktop software to web and mobile development. Here are some popular frameworks and platforms that are built with C#:\n",
    "\n",
    ".NET Framework: The .NET Framework is a software framework that provides a runtime environment for running C# code. It includes a large class library, which provides access to a wide range of functionality, such as file I/O, networking, and database access.\n",
    "\n",
    "ASP.NET: ASP.NET is a web development framework that is built on top of the .NET Framework. It allows developers to create dynamic web applications using C# code, and includes features such as web forms, MVC, and Web API.\n",
    "\n",
    "Xamarin: Xamarin is a mobile app development platform that allows developers to create native iOS and Android apps using C#. It includes a set of libraries and tools that enable code sharing between platforms, as well as integration with native APIs and UI elements.\n",
    "\n",
    "Unity: Unity is a game development engine that allows developers to create 2D and 3D games using C#. It includes a powerful scripting API that enables customization and automation of game mechanics and behavior.\n",
    "\n",
    "Entity Framework: Entity Framework is an object-relational mapping (ORM) framework that allows developers to work with databases using C# code. It provides a high-level abstraction of the database schema, allowing developers to focus on the business logic of their applications rather than the details of database interactions.\n",
    "\n",
    "Windows Presentation Foundation (WPF): WPF is a desktop application framework that allows developers to create rich, interactive user interfaces using C#. It includes support for graphics, animations, and multimedia, as well as data binding and styling.\n",
    "\n",
    "These are just a few examples of the many frameworks and platforms that are built with C#. With its versatility, performance, and large ecosystem of libraries and tools, C# is a popular choice for a wide range of software development projects.\n",
    "\n",
    "\n",
    "#### List of Game Frameworks in C#\n",
    "\n",
    "There are several game frameworks that are built with .NET and C#, which allow developers to create games for various platforms. Here are some popular game frameworks built with .NET: \n",
    "\n",
    "Unity: Unity is one of the most popular game engines used by developers to create games for PC, consoles, mobile devices, and other platforms. It has a large community and a rich ecosystem of tools and plugins that enable developers to create high-quality games with C# scripting.\n",
    "\n",
    "MonoGame: MonoGame is an open-source game framework that allows developers to create games for multiple platforms, including Windows, Linux, macOS, Android, iOS, and more. It is built on top of the XNA framework and provides a simple and flexible API for game development.\n",
    "\n",
    "Wave Engine: Wave Engine is a game engine and editor that allows developers to create 2D and 3D games for Windows, Android, iOS, and other platforms. It provides a visual editor and a C# scripting API that makes it easy to create complex game logic.\n",
    "\n",
    "ANX.Framework: ANX.Framework is an open-source game framework that provides a compatible implementation of the XNA framework for multiple platforms, including Windows, Linux, macOS, and Android. It allows developers to create games using C# and provides a comprehensive set of features for game development.\n",
    "\n",
    "FlatRedBall: FlatRedBall is a game engine and development platform that allows developers to create 2D and 3D games for Windows, Android, and iOS. It provides a visual editor and a C# scripting API that makes it easy to create games and supports a wide range of platforms.\n",
    "\n",
    "#### List of UI Frameworks in C#\n",
    "\n",
    "These are just a few examples of the game frameworks built with .NET and C#. With their powerful features, flexible APIs, and broad platform support, these frameworks provide a solid foundation for game development in C#.\n",
    "\n",
    "There are several UI frameworks built with .NET that allow developers to create user interfaces for desktop, web, and mobile applications. Here are some popular UI frameworks built with .NET:\n",
    "\n",
    "Windows Presentation Foundation (WPF): WPF is a desktop application framework that allows developers to create rich, interactive user interfaces using XAML and C#. It includes support for graphics, animations, and multimedia, as well as data binding and styling.\n",
    "\n",
    "Universal Windows Platform (UWP): UWP is a platform for creating Windows apps that run on multiple devices, including desktops, tablets, phones, and Xbox. It provides a set of UI controls and APIs that make it easy to create responsive and adaptive user interfaces using XAML and C#.\n",
    "\n",
    "Xamarin.Forms: Xamarin.Forms is a UI toolkit that allows developers to create native user interfaces for Android, iOS, and Windows using a single, shared codebase written in C#. It includes a set of UI controls and layouts that can be customized and styled to match the look and feel of each platform.\n",
    "\n",
    "ASP.NET: ASP.NET is a web development framework that is built on top of the .NET Framework. It allows developers to create dynamic web applications using C# code, and includes features such as web forms, MVC, and Web API.\n",
    "\n",
    "Blazor: Blazor is a web development framework that allows developers to create interactive web applications using C# and .NET. It includes a set of UI components that can be used to create responsive and dynamic user interfaces using HTML, CSS, and C#.\n",
    "\n",
    "MahApps.Metro: MahApps.Metro is a UI toolkit for WPF and UWP that provides a set of modern, flat UI controls and styles. It includes support for themes, icons, and animations, and can be used to create visually appealing desktop and mobile applications.\n",
    "\n",
    "These are just a few examples of the UI frameworks built with .NET. With their rich set of features and flexible APIs, these frameworks provide a solid foundation for building modern and responsive user interfaces in C#."
   ]
  },
  {
   "attachments": {},
   "cell_type": "markdown",
   "metadata": {
    "dotnet_interactive": {
     "language": "csharp"
    },
    "polyglot_notebook": {
     "kernelName": "csharp"
    }
   },
   "source": [
    "\n",
    "## Keywords in C#\n",
    "\n",
    "Reserved keywords in C# are words that have special meaning in the language and cannot be used as identifiers (such as variable names, class names, etc.). These keywords include control flow statements (such as if, else, for, while), access modifiers (such as public, private, protected), data types (such as int, float, bool), and others.\n",
    "\n",
    "Here is a list of all the reserved keywords in C# [2]:\n",
    "\n",
    "\n",
    "<table class=\"table\"><tbody><tr><th style=\"min-width:200px\">Type</th><th>Keywords</th></tr><tr><td>Modifier Keywords</td><td>abstract, async, const, event, extern, new, override, partial, readonly, sealed, static, unsafe, virtual, volatile</td></tr><tr><td>Access Modifier Keywords</td><td>public, private, protected, internal</td></tr><tr><td>Statement Keywords</td><td>if, else, switch, case, do, for, foreach, in, while, break, continue, default, goto, return, yield, throw, try, catch, finally, checked, unchecked, fixed, lock</td></tr><tr><td>Method Parameter Keyword</td><td>params, ref, out</td></tr><tr><td>Access Keywords</td><td>base, this</td></tr><tr><td>Namespace Keywords</td><td>using, . operator, :: operator, extern alias</td></tr><tr><td>Literal Keywords</td><td>null, false, true, value, void</td></tr><tr><td>Operator Keywords</td><td>as, await, is, new, sizeof, typeof, stackalloc, checked, unchecked</td></tr><tr><td>Contextual Keywords</td><td>add, var, dynamic, global, set, value</td></tr><tr><td>Type Keywords</td><td>bool, byte, char, class, decimal, double, enum, float, int, long, sbyte, short, string, struct, uint, ulong, ushort</td></tr><tr><td>Query Keywords</td><td>from, where, select, group, into, orderby, join, let, in, on, equals, by, ascending, descending</td></tr></tbody></table>\n",
    "\n",
    "\n",
    "In C#, a class is a blueprint or template for creating objects that share a common set of properties and methods. A class defines the structure and behavior of objects, but does not itself represent an actual object.\n",
    "\n",
    "Here's an example of a simple class in C#:\n",
    "\n",
    "```csharp\n",
    "public class Person\n",
    "{\n",
    "    public string Name { get; set; }\n",
    "    public int Age { get; set; }\n",
    "\n",
    "    public void SayHello()\n",
    "    {\n",
    "        Console.WriteLine(\"Hello, my name is \" + Name + \" and I am \" + Age + \" years old.\");\n",
    "    }\n",
    "}\n",
    "```\n",
    "\n",
    "In C#, a class is a blueprint or template for creating objects that share a common set of properties and methods. A class defines the structure and behavior of objects, but does not itself represent an actual object.\n",
    "\n",
    "Here's an example of a simple class in C#:"
   ]
  },
  {
   "cell_type": "code",
   "execution_count": 59,
   "metadata": {
    "dotnet_interactive": {
     "language": "csharp"
    },
    "polyglot_notebook": {
     "kernelName": "csharp"
    },
    "vscode": {
     "languageId": "polyglot-notebook"
    }
   },
   "outputs": [],
   "source": [
    "public class Person\n",
    "{\n",
    "    public string Name { get; set; }\n",
    "    public int Age { get; set; }\n",
    "\n",
    "    public void SayHello()\n",
    "    {\n",
    "        Console.WriteLine(\"Hello, my name is \" + Name + \" and I am \" + Age + \" years old.\");\n",
    "    }\n",
    "}"
   ]
  },
  {
   "attachments": {},
   "cell_type": "markdown",
   "metadata": {
    "dotnet_interactive": {
     "language": "csharp"
    },
    "polyglot_notebook": {
     "kernelName": "csharp"
    }
   },
   "source": [
    "\n",
    "In this example, we've defined a class called Person that has two properties (Name and Age) and one method (SayHello). The properties define the data that an object of this class can contain, while the method defines the behavior of the object.\n",
    "\n",
    "To create an object of the Person class, we use the new keyword:"
   ]
  },
  {
   "cell_type": "code",
   "execution_count": 60,
   "metadata": {
    "dotnet_interactive": {
     "language": "csharp"
    },
    "polyglot_notebook": {
     "kernelName": "csharp"
    },
    "vscode": {
     "languageId": "polyglot-notebook"
    }
   },
   "outputs": [],
   "source": [
    "Person person1 = new Person();"
   ]
  },
  {
   "cell_type": "code",
   "execution_count": 61,
   "metadata": {
    "dotnet_interactive": {
     "language": "csharp"
    },
    "polyglot_notebook": {
     "kernelName": "csharp"
    },
    "vscode": {
     "languageId": "polyglot-notebook"
    }
   },
   "outputs": [
    {
     "name": "stdout",
     "output_type": "stream",
     "text": [
      "Hello, my name is John and I am 30 years old.\n"
     ]
    }
   ],
   "source": [
    "person1.Name = \"John\";\n",
    "person1.Age = 30;\n",
    "person1.SayHello();"
   ]
  },
  {
   "attachments": {},
   "cell_type": "markdown",
   "metadata": {
    "dotnet_interactive": {
     "language": "csharp"
    },
    "polyglot_notebook": {
     "kernelName": "csharp"
    }
   },
   "source": [
    "Classes are a fundamental concept in object-oriented programming, and allow you to define custom types that can be used to model real-world entities and concepts in your code."
   ]
  },
  {
   "attachments": {},
   "cell_type": "markdown",
   "metadata": {
    "dotnet_interactive": {
     "language": "csharp"
    },
    "polyglot_notebook": {
     "kernelName": "csharp"
    }
   },
   "source": [
    "## Basic Calculator App\n",
    "This calculator class contains methods for addition, subtraction, multiplication, and division. The Add, Subtract, and Multiply methods simply perform the corresponding operations on the input numbers and return the result. The Divide method checks if the second input number is zero, and if so, throws an ArgumentException with an appropriate error message. Otherwise, it performs the division and returns the result."
   ]
  },
  {
   "cell_type": "code",
   "execution_count": 62,
   "metadata": {
    "dotnet_interactive": {
     "language": "csharp"
    },
    "polyglot_notebook": {
     "kernelName": "csharp"
    },
    "vscode": {
     "languageId": "polyglot-notebook"
    }
   },
   "outputs": [
    {
     "name": "stdout",
     "output_type": "stream",
     "text": [
      "The expected output should be 15\n",
      "15\n"
     ]
    }
   ],
   "source": [
    "using System;\n",
    "public class Calculator\n",
    "{\n",
    "    public double Add(double num1, double num2)\n",
    "    {\n",
    "        return num1 + num2;\n",
    "    }\n",
    "\n",
    "    public double Subtract(double num1, double num2)\n",
    "    {\n",
    "        return num1 - num2;\n",
    "    }\n",
    "\n",
    "    public double Multiply(double num1, double num2)\n",
    "    {\n",
    "        return num1 * num2;\n",
    "    }\n",
    "\n",
    "    public double Divide(double num1, double num2)\n",
    "    {\n",
    "        if (num2 == 0)\n",
    "        {\n",
    "            throw new ArgumentException(\"Cannot divide by zero\");\n",
    "        }\n",
    "\n",
    "        return num1 / num2;\n",
    "    }\n",
    "}\n",
    "var calc = new Calculator();\n",
    "var calcValue = calc.Add(5, 10);\n",
    "Console.WriteLine(\"The expected output should be 15\");\n",
    "Console.WriteLine(calcValue);\n"
   ]
  },
  {
   "attachments": {},
   "cell_type": "markdown",
   "metadata": {
    "dotnet_interactive": {
     "language": "csharp"
    },
    "polyglot_notebook": {
     "kernelName": "csharp"
    }
   },
   "source": [
    " You can use C#'s built-in Debug class to assert that a certain condition is true. Here's an example of how you could use the Debug.Assert method to verify that the result of calling the Add method of a Calculator instance is equal to the expected value:"
   ]
  },
  {
   "cell_type": "code",
   "execution_count": 64,
   "metadata": {
    "dotnet_interactive": {
     "language": "csharp"
    },
    "polyglot_notebook": {
     "kernelName": "csharp"
    },
    "vscode": {
     "languageId": "polyglot-notebook"
    }
   },
   "outputs": [],
   "source": [
    "using System.Diagnostics;\n",
    "var calc = new Calculator();\n",
    "var calcValue = calc.Add(5, 10);\n",
    "\n",
    "Debug.Assert(calcValue == 15);\n",
    " "
   ]
  },
  {
   "attachments": {},
   "cell_type": "markdown",
   "metadata": {
    "dotnet_interactive": {
     "language": "csharp"
    },
    "polyglot_notebook": {
     "kernelName": "csharp"
    }
   },
   "source": [
    "In this example, we've created an instance of the Calculator class and called its Add method with input values of 5 and 10. We then use the Debug.Assert method to verify that the result of the Add method is equal to 15, which is the expected result when adding 5 and 10.\n",
    "\n",
    "The Debug.Assert method will cause the application to halt if the assertion fails. This can be useful during development and testing to quickly identify when something unexpected has happened. Note that the Debug class is only available in debug builds of your application. In release builds, the assertions will be removed and will have no effect on the behavior of your application.\n",
    "\n",
    "A class diagram is a type of static structure diagram that describes the structure of a system by showing the system’s classes, their attributes and methods, and the relationships among objects. It is used in software engineering to represent the organization of classes and their attributes and methods within an object-oriented program. It provides a visual representation of how different classes interact with each other within a system.\n",
    "\n",
    "For the following calculator class we can create the following class diagram.   "
   ]
  },
  {
   "cell_type": "code",
   "execution_count": 65,
   "metadata": {
    "dotnet_interactive": {
     "language": "mermaid"
    },
    "polyglot_notebook": {
     "kernelName": "mermaid"
    },
    "vscode": {
     "languageId": "polyglot-notebook"
    }
   },
   "outputs": [
    {
     "data": {
      "text/html": [
       "<div class=\"mermaidMarkdownContainer\" style=\"background-color:white\">\n",
       "<link rel=\"stylesheet\" href=\"https://cdnjs.cloudflare.com/ajax/libs/font-awesome/6.2.0/css/all.min.css\">\n",
       "<script type=\"text/javascript\">\n",
       "\r\n",
       "loadMermaid_c48fc79e91d74ce49046cf58cbbeade4 = () => {\n",
       " \r\n",
       "        (require.config({ 'paths': { 'context': '9.1.7', 'mermaidUri' : 'https://cdn.jsdelivr.net/npm/mermaid@9.1.7/dist/mermaid.min', 'urlArgs': 'cacheBuster=8db2f848dc984db8ad1b14bdbc5dba48' }}) || require)(['mermaidUri'], (mermaid) => {\n",
       "\r\n",
       "            let renderTarget = document.getElementById('c48fc79e91d74ce49046cf58cbbeade4');\r\n",
       "            mermaid.mermaidAPI.render( \r\n",
       "                'mermaid_c48fc79e91d74ce49046cf58cbbeade4', \r\n",
       "                `classDiagram\n",
       "    class Calculator {\n",
       "        +double Add(double num1, double num2)\n",
       "        +double Subtract(double num1, double num2)\n",
       "        +double Multiply(double num1, double num2)\n",
       "        +double Divide(double num1, double num2)\n",
       "    }`, \r\n",
       "                g => {\r\n",
       "                    renderTarget.innerHTML = g \r\n",
       "                });\r\n",
       "        },\r\n",
       "        (error) => {\r\n",
       "            console.log(error);\r\n",
       "        });\r\n",
       "}\n",
       "// ensure `require` is available globally\r\n",
       "if ((typeof(require) !==  typeof(Function)) || (typeof(require.config) !== typeof(Function))) {\r\n",
       "    let require_script = document.createElement('script');\r\n",
       "    require_script.setAttribute('src', 'https://cdnjs.cloudflare.com/ajax/libs/require.js/2.3.6/require.min.js');\r\n",
       "    require_script.setAttribute('type', 'text/javascript');\r\n",
       "    \r\n",
       "    \r\n",
       "    require_script.onload = function() {\r\n",
       "        loadMermaid_c48fc79e91d74ce49046cf58cbbeade4();\r\n",
       "    };\r\n",
       "\r\n",
       "    document.getElementsByTagName('head')[0].appendChild(require_script);\r\n",
       "}\r\n",
       "else {\r\n",
       "    loadMermaid_c48fc79e91d74ce49046cf58cbbeade4();\r\n",
       "}\r\n",
       "\n",
       "</script>\n",
       "<div id=\"c48fc79e91d74ce49046cf58cbbeade4\"></div>\n",
       "</div>\n"
      ]
     },
     "metadata": {},
     "output_type": "display_data"
    }
   ],
   "source": [
    "classDiagram\n",
    "    class Calculator {\n",
    "        +double Add(double num1, double num2)\n",
    "        +double Subtract(double num1, double num2)\n",
    "        +double Multiply(double num1, double num2)\n",
    "        +double Divide(double num1, double num2)\n",
    "    }"
   ]
  },
  {
   "attachments": {},
   "cell_type": "markdown",
   "metadata": {
    "dotnet_interactive": {
     "language": "csharp"
    },
    "polyglot_notebook": {
     "kernelName": "csharp"
    }
   },
   "source": [
    " These class diagrams can be used for general conceptual modeling of the structure of an application, for detailed modeling and translating models into programming code [3]."
   ]
  },
  {
   "attachments": {},
   "cell_type": "markdown",
   "metadata": {
    "dotnet_interactive": {
     "language": "csharp"
    },
    "polyglot_notebook": {
     "kernelName": "csharp"
    }
   },
   "source": [
    "### References\n",
    "- [1]  \"Polyglot Notebooks - Visual Studio Marketplace,\" Visual Studio Marketplace. [Online]. Available: https://marketplace.visualstudio.com/items?itemName=ms-dotnettools.dotnet-interactive-vscode\n",
    "- [2] \"C# Keywords,\" W3schools. [Online]. Available: https://www.w3schools.in/csharp/keywords. [Accessed: Mar. 09, 2023]\n",
    "- [3] \"Class diagram,\" Wikipedia. [Online]. Available: https://en.wikipedia.org/wiki/Class_diagram. [Accessed: 09-Mar-2023]."
   ]
  },
  {
   "attachments": {},
   "cell_type": "markdown",
   "metadata": {
    "dotnet_interactive": {
     "language": "csharp"
    },
    "polyglot_notebook": {
     "kernelName": "csharp"
    }
   },
   "source": [
    "# Object-Oriented Programming in C#"
   ]
  },
  {
   "attachments": {},
   "cell_type": "markdown",
   "metadata": {
    "dotnet_interactive": {
     "language": "csharp"
    },
    "polyglot_notebook": {
     "kernelName": "csharp"
    }
   },
   "source": [
    "Object-oriented programming (OOP) is a programming paradigm that is based on the concept of objects. An object is an instance of a class, and a class is a blueprint for creating objects. OOP allows developers to write code that is organized into reusable and modular units, making it easier to maintain and scale large applications.\n",
    "\n",
    "In this chapter, we will cover the basics of object-oriented programming in C#. We will look at classes, objects, inheritance, and polymorphism.\n",
    "\n",
    "Classes\n",
    "\n",
    "In C#, a class is a blueprint for creating objects. A class defines the properties and methods of an object. View the previously class for a person class."
   ]
  },
  {
   "cell_type": "code",
   "execution_count": 66,
   "metadata": {
    "dotnet_interactive": {
     "language": "mermaid"
    },
    "polyglot_notebook": {
     "kernelName": "mermaid"
    },
    "vscode": {
     "languageId": "polyglot-notebook"
    }
   },
   "outputs": [
    {
     "data": {
      "text/html": [
       "<div class=\"mermaidMarkdownContainer\" style=\"background-color:white\">\n",
       "<link rel=\"stylesheet\" href=\"https://cdnjs.cloudflare.com/ajax/libs/font-awesome/6.2.0/css/all.min.css\">\n",
       "<script type=\"text/javascript\">\n",
       "\r\n",
       "loadMermaid_a983b99131ef4efaa635b0009dcdda49 = () => {\n",
       " \r\n",
       "        (require.config({ 'paths': { 'context': '9.1.7', 'mermaidUri' : 'https://cdn.jsdelivr.net/npm/mermaid@9.1.7/dist/mermaid.min', 'urlArgs': 'cacheBuster=8db2f848dc984db8ad1b14bdbc5dba48' }}) || require)(['mermaidUri'], (mermaid) => {\n",
       "\r\n",
       "            let renderTarget = document.getElementById('a983b99131ef4efaa635b0009dcdda49');\r\n",
       "            mermaid.mermaidAPI.render( \r\n",
       "                'mermaid_a983b99131ef4efaa635b0009dcdda49', \r\n",
       "                `classDiagram\n",
       "    class Person {\n",
       "        +string Name\n",
       "        +int Age\n",
       "        +void SayHello()\n",
       "    }`, \r\n",
       "                g => {\r\n",
       "                    renderTarget.innerHTML = g \r\n",
       "                });\r\n",
       "        },\r\n",
       "        (error) => {\r\n",
       "            console.log(error);\r\n",
       "        });\r\n",
       "}\n",
       "// ensure `require` is available globally\r\n",
       "if ((typeof(require) !==  typeof(Function)) || (typeof(require.config) !== typeof(Function))) {\r\n",
       "    let require_script = document.createElement('script');\r\n",
       "    require_script.setAttribute('src', 'https://cdnjs.cloudflare.com/ajax/libs/require.js/2.3.6/require.min.js');\r\n",
       "    require_script.setAttribute('type', 'text/javascript');\r\n",
       "    \r\n",
       "    \r\n",
       "    require_script.onload = function() {\r\n",
       "        loadMermaid_a983b99131ef4efaa635b0009dcdda49();\r\n",
       "    };\r\n",
       "\r\n",
       "    document.getElementsByTagName('head')[0].appendChild(require_script);\r\n",
       "}\r\n",
       "else {\r\n",
       "    loadMermaid_a983b99131ef4efaa635b0009dcdda49();\r\n",
       "}\r\n",
       "\n",
       "</script>\n",
       "<div id=\"a983b99131ef4efaa635b0009dcdda49\"></div>\n",
       "</div>\n"
      ]
     },
     "metadata": {},
     "output_type": "display_data"
    }
   ],
   "source": [
    "classDiagram\n",
    "    class Person {\n",
    "        +string Name\n",
    "        +int Age\n",
    "        +void SayHello()\n",
    "    }"
   ]
  },
  {
   "attachments": {},
   "cell_type": "markdown",
   "metadata": {
    "dotnet_interactive": {
     "language": "csharp"
    },
    "polyglot_notebook": {
     "kernelName": "csharp"
    }
   },
   "source": [
    "Objects\n",
    "\n",
    "An object is an instance of a class. To create an object in C#, you use the new keyword. For example:"
   ]
  },
  {
   "cell_type": "code",
   "execution_count": 67,
   "metadata": {
    "dotnet_interactive": {
     "language": "csharp"
    },
    "polyglot_notebook": {
     "kernelName": "csharp"
    },
    "vscode": {
     "languageId": "polyglot-notebook"
    }
   },
   "outputs": [
    {
     "name": "stdout",
     "output_type": "stream",
     "text": [
      "Hello, my name is John and I am 30 years old.\n"
     ]
    }
   ],
   "source": [
    "Person person = new Person();\n",
    "person.Name = \"John\";\n",
    "person.Age = 30;\n",
    "person.SayHello();"
   ]
  },
  {
   "attachments": {},
   "cell_type": "markdown",
   "metadata": {
    "dotnet_interactive": {
     "language": "csharp"
    },
    "polyglot_notebook": {
     "kernelName": "csharp"
    }
   },
   "source": [
    "Inheritance\n",
    "\n",
    "Inheritance is a mechanism that allows classes to inherit properties and methods from other classes. In C#, you can use the : operator to indicate that a class inherits from another class. For example:"
   ]
  },
  {
   "cell_type": "code",
   "execution_count": 68,
   "metadata": {
    "dotnet_interactive": {
     "language": "csharp"
    },
    "polyglot_notebook": {
     "kernelName": "csharp"
    },
    "vscode": {
     "languageId": "polyglot-notebook"
    }
   },
   "outputs": [],
   "source": [
    "class Child : Person\n",
    "{\n",
    "    public string School;\n",
    "\n",
    "    public void Study()\n",
    "    {\n",
    "        Console.WriteLine(\"I am studying at \" + School);\n",
    "    }\n",
    "}\n"
   ]
  },
  {
   "attachments": {},
   "cell_type": "markdown",
   "metadata": {
    "dotnet_interactive": {
     "language": "csharp"
    },
    "polyglot_notebook": {
     "kernelName": "csharp"
    }
   },
   "source": [
    "In this example, the Child class inherits from the Person class. The Student class has a new property (School) and a new method (Study), but it also has access to the properties and methods of the Person class.\n",
    "\n",
    "Polymorphism\n",
    "\n",
    "Polymorphism is a mechanism that allows objects of different classes to be treated as if they are the same type. In C#, you can use interfaces and abstract classes to implement polymorphism.\n",
    "\n",
    "An interface is a contract that defines a set of methods and properties that a class must implement. For example:"
   ]
  },
  {
   "cell_type": "code",
   "execution_count": 69,
   "metadata": {
    "dotnet_interactive": {
     "language": "csharp"
    },
    "polyglot_notebook": {
     "kernelName": "csharp"
    },
    "vscode": {
     "languageId": "polyglot-notebook"
    }
   },
   "outputs": [],
   "source": [
    "interface IAnimal\n",
    "{\n",
    "    void Eat();\n",
    "    void Sleep();\n",
    "}"
   ]
  },
  {
   "attachments": {},
   "cell_type": "markdown",
   "metadata": {
    "dotnet_interactive": {
     "language": "csharp"
    },
    "polyglot_notebook": {
     "kernelName": "csharp"
    }
   },
   "source": [
    "In this example, the IAnimal interface defines two methods (Eat and Sleep) that a class that implements the interface must implement.\n",
    "\n",
    "An abstract class is a class that cannot be instantiated, but can be used as a base class for other classes. For example:"
   ]
  },
  {
   "cell_type": "code",
   "execution_count": 72,
   "metadata": {
    "dotnet_interactive": {
     "language": "csharp"
    },
    "polyglot_notebook": {
     "kernelName": "csharp"
    },
    "vscode": {
     "languageId": "polyglot-notebook"
    }
   },
   "outputs": [],
   "source": [
    "abstract class Animal\n",
    "{\n",
    "    public abstract void Eat();\n",
    "    public abstract void Sleep();\n",
    "}\n"
   ]
  },
  {
   "attachments": {},
   "cell_type": "markdown",
   "metadata": {
    "dotnet_interactive": {
     "language": "csharp"
    },
    "polyglot_notebook": {
     "kernelName": "csharp"
    }
   },
   "source": [
    "In this example, the Animal class is an abstract class that defines two abstract methods (Eat and Sleep) that a derived class must implement."
   ]
  },
  {
   "cell_type": "code",
   "execution_count": 73,
   "metadata": {
    "dotnet_interactive": {
     "language": "mermaid"
    },
    "polyglot_notebook": {
     "kernelName": "mermaid"
    },
    "vscode": {
     "languageId": "polyglot-notebook"
    }
   },
   "outputs": [
    {
     "data": {
      "text/html": [
       "<div class=\"mermaidMarkdownContainer\" style=\"background-color:white\">\n",
       "<link rel=\"stylesheet\" href=\"https://cdnjs.cloudflare.com/ajax/libs/font-awesome/6.2.0/css/all.min.css\">\n",
       "<script type=\"text/javascript\">\n",
       "\r\n",
       "loadMermaid_fa1ef64e7300471692d5da85f416c08b = () => {\n",
       " \r\n",
       "        (require.config({ 'paths': { 'context': '9.1.7', 'mermaidUri' : 'https://cdn.jsdelivr.net/npm/mermaid@9.1.7/dist/mermaid.min', 'urlArgs': 'cacheBuster=8db2f848dc984db8ad1b14bdbc5dba48' }}) || require)(['mermaidUri'], (mermaid) => {\n",
       "\r\n",
       "            let renderTarget = document.getElementById('fa1ef64e7300471692d5da85f416c08b');\r\n",
       "            mermaid.mermaidAPI.render( \r\n",
       "                'mermaid_fa1ef64e7300471692d5da85f416c08b', \r\n",
       "                `classDiagram\n",
       "    class IAnimal {\n",
       "        <<interface>>\n",
       "        +void Eat()\n",
       "        +void Sleep()\n",
       "    }`, \r\n",
       "                g => {\r\n",
       "                    renderTarget.innerHTML = g \r\n",
       "                });\r\n",
       "        },\r\n",
       "        (error) => {\r\n",
       "            console.log(error);\r\n",
       "        });\r\n",
       "}\n",
       "// ensure `require` is available globally\r\n",
       "if ((typeof(require) !==  typeof(Function)) || (typeof(require.config) !== typeof(Function))) {\r\n",
       "    let require_script = document.createElement('script');\r\n",
       "    require_script.setAttribute('src', 'https://cdnjs.cloudflare.com/ajax/libs/require.js/2.3.6/require.min.js');\r\n",
       "    require_script.setAttribute('type', 'text/javascript');\r\n",
       "    \r\n",
       "    \r\n",
       "    require_script.onload = function() {\r\n",
       "        loadMermaid_fa1ef64e7300471692d5da85f416c08b();\r\n",
       "    };\r\n",
       "\r\n",
       "    document.getElementsByTagName('head')[0].appendChild(require_script);\r\n",
       "}\r\n",
       "else {\r\n",
       "    loadMermaid_fa1ef64e7300471692d5da85f416c08b();\r\n",
       "}\r\n",
       "\n",
       "</script>\n",
       "<div id=\"fa1ef64e7300471692d5da85f416c08b\"></div>\n",
       "</div>\n"
      ]
     },
     "metadata": {},
     "output_type": "display_data"
    }
   ],
   "source": [
    "classDiagram\n",
    "    class IAnimal {\n",
    "        <<interface>>\n",
    "        +void Eat()\n",
    "        +void Sleep()\n",
    "    }"
   ]
  },
  {
   "attachments": {},
   "cell_type": "markdown",
   "metadata": {
    "dotnet_interactive": {
     "language": "csharp"
    },
    "polyglot_notebook": {
     "kernelName": "csharp"
    }
   },
   "source": [
    "Conclusion\n",
    "\n",
    "In this chapter, we have covered the basics of object-oriented programming in C#. We have looked at classes, objects, inheritance, and polymorphism. OOP is a powerful paradigm that allows developers to write code that is organized, reusable, and easy to maintain. By using classes, objects, inheritance, and polymorphism, you can create complex applications that are easy to understand and extend."
   ]
  },
  {
   "cell_type": "code",
   "execution_count": 99,
   "metadata": {
    "dotnet_interactive": {
     "language": "mermaid"
    },
    "polyglot_notebook": {
     "kernelName": "mermaid"
    },
    "vscode": {
     "languageId": "polyglot-notebook"
    }
   },
   "outputs": [
    {
     "data": {
      "text/html": [
       "<div class=\"mermaidMarkdownContainer\" style=\"background-color:white\">\n",
       "<link rel=\"stylesheet\" href=\"https://cdnjs.cloudflare.com/ajax/libs/font-awesome/6.2.0/css/all.min.css\">\n",
       "<script type=\"text/javascript\">\n",
       "\r\n",
       "loadMermaid_b9a585ae8b504656813bc83077367dc3 = () => {\n",
       " \r\n",
       "        (require.config({ 'paths': { 'context': '9.1.7', 'mermaidUri' : 'https://cdn.jsdelivr.net/npm/mermaid@9.1.7/dist/mermaid.min', 'urlArgs': 'cacheBuster=c3cceb7e3cbe44d0b4c69994e7917b55' }}) || require)(['mermaidUri'], (mermaid) => {\n",
       "\r\n",
       "            let renderTarget = document.getElementById('b9a585ae8b504656813bc83077367dc3');\r\n",
       "            mermaid.mermaidAPI.render( \r\n",
       "                'mermaid_b9a585ae8b504656813bc83077367dc3', \r\n",
       "                `classDiagram\n",
       "class Student {\n",
       "  +string FirstName\n",
       "  +string LastName\n",
       "  +int Age\n",
       "}`, \r\n",
       "                g => {\r\n",
       "                    renderTarget.innerHTML = g \r\n",
       "                });\r\n",
       "        },\r\n",
       "        (error) => {\r\n",
       "            console.log(error);\r\n",
       "        });\r\n",
       "}\n",
       "// ensure `require` is available globally\r\n",
       "if ((typeof(require) !==  typeof(Function)) || (typeof(require.config) !== typeof(Function))) {\r\n",
       "    let require_script = document.createElement('script');\r\n",
       "    require_script.setAttribute('src', 'https://cdnjs.cloudflare.com/ajax/libs/require.js/2.3.6/require.min.js');\r\n",
       "    require_script.setAttribute('type', 'text/javascript');\r\n",
       "    \r\n",
       "    \r\n",
       "    require_script.onload = function() {\r\n",
       "        loadMermaid_b9a585ae8b504656813bc83077367dc3();\r\n",
       "    };\r\n",
       "\r\n",
       "    document.getElementsByTagName('head')[0].appendChild(require_script);\r\n",
       "}\r\n",
       "else {\r\n",
       "    loadMermaid_b9a585ae8b504656813bc83077367dc3();\r\n",
       "}\r\n",
       "\n",
       "</script>\n",
       "<div id=\"b9a585ae8b504656813bc83077367dc3\"></div>\n",
       "</div>\n"
      ]
     },
     "metadata": {},
     "output_type": "display_data"
    }
   ],
   "source": [
    "classDiagram\n",
    "class Student {\n",
    "  +string FirstName\n",
    "  +string LastName\n",
    "  +int Age\n",
    "}"
   ]
  },
  {
   "cell_type": "code",
   "execution_count": 100,
   "metadata": {
    "dotnet_interactive": {
     "language": "csharp"
    },
    "polyglot_notebook": {
     "kernelName": "csharp"
    },
    "vscode": {
     "languageId": "polyglot-notebook"
    }
   },
   "outputs": [],
   "source": [
    "public class Student\n",
    "{\n",
    "    public string FirstName { get; set; }\n",
    "    public string LastName { get; set; }\n",
    "    public int Age { get; set; }\n",
    "}\n",
    "\n",
    "List<Student> students = new List<Student>\n",
    "{\n",
    "    new Student { FirstName = \"John\", LastName = \"Doe\", Age = 20 },\n",
    "    new Student { FirstName = \"Jane\", LastName = \"Smith\", Age = 19 },\n",
    "    new Student { FirstName = \"Bob\", LastName = \"Johnson\", Age = 22 }\n",
    "};"
   ]
  },
  {
   "attachments": {},
   "cell_type": "markdown",
   "metadata": {
    "dotnet_interactive": {
     "language": "csharp"
    },
    "polyglot_notebook": {
     "kernelName": "csharp"
    }
   },
   "source": [
    "This creates a list of three Student objects with different first names, last names, and ages."
   ]
  },
  {
   "attachments": {},
   "cell_type": "markdown",
   "metadata": {
    "dotnet_interactive": {
     "language": "csharp"
    },
    "polyglot_notebook": {
     "kernelName": "csharp"
    }
   },
   "source": [
    "# Introduction to Linq\n",
    "\n",
    "LINQ (Language Integrated Query) is a set of language extensions for the Microsoft .NET Framework that allows developers to perform queries on data sources using a syntax similar to SQL. It supports querying data in a variety of formats, including arrays, lists, databases, and XML documents. LINQ was introduced in the .NET Framework version 3.5 and is available in C# and Visual Basic. LINQ makes it easier to write data access code and provides a consistent way to query and manipulate data, regardless of its source.\n",
    "\n",
    "\n",
    "LINQ queries are composed of a series of operators that can be chained together to filter, transform, and shape data.\n",
    "\n",
    "* The \"From\" operator specifies the data source for the query. This can be an array, list, or any other collection that implements the IEnumerable interface.\n",
    "* The \"Where\" operator is used to filter the data based on a certain condition. It returns only the elements that match the specified condition.\n",
    "* The \"Select\" operator is used to project the data into a new form. It allows you to select only the properties or fields that you are interested in and create a new collection of the results.\n",
    "* The \"OrderBy\" operator is used to sort the data based on a certain property or field. It returns the data in ascending order by default, but can also be used with the \"OrderByDescending\" operator to sort in descending order.\n",
    "\n",
    "Here is an example of a LINQ query that uses these operators:\n",
    "\n",
    "\n",
    "\n"
   ]
  },
  {
   "cell_type": "code",
   "execution_count": 101,
   "metadata": {
    "dotnet_interactive": {
     "language": "csharp"
    },
    "polyglot_notebook": {
     "kernelName": "csharp"
    },
    "vscode": {
     "languageId": "polyglot-notebook"
    }
   },
   "outputs": [],
   "source": [
    "var query = from student in students\n",
    "where student.Age > 18\n",
    "orderby student.LastName, student.FirstName\n",
    "select new {student.FirstName, student.LastName};"
   ]
  },
  {
   "attachments": {},
   "cell_type": "markdown",
   "metadata": {
    "dotnet_interactive": {
     "language": "csharp"
    },
    "polyglot_notebook": {
     "kernelName": "csharp"
    }
   },
   "source": [
    "This query selects all students who are older than 18, sorts them by last name, first name, and select the firstname and lastname of the students.\n",
    "\n",
    "\n",
    "LINQ can be used to query data from a List by using the \"From\" operator to specify the data source and chaining other operators together to filter, transform, and shape the data.\n",
    "\n",
    "Here is an example of how to use LINQ to query data from a List of integers:\n",
    "\n"
   ]
  },
  {
   "cell_type": "code",
   "execution_count": 102,
   "metadata": {
    "dotnet_interactive": {
     "language": "csharp"
    },
    "polyglot_notebook": {
     "kernelName": "csharp"
    },
    "vscode": {
     "languageId": "polyglot-notebook"
    }
   },
   "outputs": [],
   "source": [
    "List<int> numbers = new List<int> { 1, 2, 3, 4, 5, 6, 7, 8, 9, 10 };\n",
    "\n",
    "// Use LINQ to query the data\n",
    "var evenNumbers = from number in numbers\n",
    "where number % 2 == 0\n",
    "select number;"
   ]
  },
  {
   "attachments": {},
   "cell_type": "markdown",
   "metadata": {
    "dotnet_interactive": {
     "language": "csharp"
    },
    "polyglot_notebook": {
     "kernelName": "csharp"
    }
   },
   "source": [
    "In this example, the \"From\" operator specifies that the data source is the \"numbers\" List, the \"Where\" operator filters the data to only include even numbers and \"Select\" operator selects the even numbers.\n",
    "\n",
    "You can also use the method syntax"
   ]
  },
  {
   "cell_type": "code",
   "execution_count": 103,
   "metadata": {
    "dotnet_interactive": {
     "language": "csharp"
    },
    "polyglot_notebook": {
     "kernelName": "csharp"
    },
    "vscode": {
     "languageId": "polyglot-notebook"
    }
   },
   "outputs": [
    {
     "data": {
      "text/html": [
       "<div class=\"dni-plaintext\"><pre>[ 2, 4, 6, 8, 10 ]</pre></div><style>\r\n",
       ".dni-code-hint {\r\n",
       "    font-style: italic;\r\n",
       "    overflow: hidden;\r\n",
       "    white-space: nowrap;\r\n",
       "}\r\n",
       ".dni-treeview {\r\n",
       "    white-space: nowrap;\r\n",
       "}\r\n",
       ".dni-treeview td {\r\n",
       "    vertical-align: top;\r\n",
       "    text-align: start;\r\n",
       "}\r\n",
       "details.dni-treeview {\r\n",
       "    padding-left: 1em;\r\n",
       "}\r\n",
       "table td {\r\n",
       "    text-align: start;\r\n",
       "}\r\n",
       "table tr { \r\n",
       "    vertical-align: top; \r\n",
       "    margin: 0em 0px;\r\n",
       "}\r\n",
       "table tr td pre \r\n",
       "{ \r\n",
       "    vertical-align: top !important; \r\n",
       "    margin: 0em 0px !important;\r\n",
       "} \r\n",
       "table th {\r\n",
       "    text-align: start;\r\n",
       "}\r\n",
       "</style>"
      ]
     },
     "metadata": {},
     "output_type": "display_data"
    }
   ],
   "source": [
    "var evenNumbers = numbers.Where(n => n % 2 == 0).Select(n => n);\n",
    "\n",
    "evenNumbers"
   ]
  },
  {
   "attachments": {},
   "cell_type": "markdown",
   "metadata": {
    "dotnet_interactive": {
     "language": "csharp"
    },
    "polyglot_notebook": {
     "kernelName": "csharp"
    }
   },
   "source": [
    "This query will give you the same result as the previous one, but this is the method syntax of LINQ.\n",
    "\n",
    "You can also use other operators like OrderBy, OrderByDescending, Take, Skip, etc. to shape your data and make it more readable."
   ]
  },
  {
   "cell_type": "code",
   "execution_count": 104,
   "metadata": {
    "dotnet_interactive": {
     "language": "csharp"
    },
    "polyglot_notebook": {
     "kernelName": "csharp"
    },
    "vscode": {
     "languageId": "polyglot-notebook"
    }
   },
   "outputs": [
    {
     "data": {
      "text/html": [
       "<div class=\"dni-plaintext\"><pre>[ 2, 4, 6, 8, 10 ]</pre></div><style>\r\n",
       ".dni-code-hint {\r\n",
       "    font-style: italic;\r\n",
       "    overflow: hidden;\r\n",
       "    white-space: nowrap;\r\n",
       "}\r\n",
       ".dni-treeview {\r\n",
       "    white-space: nowrap;\r\n",
       "}\r\n",
       ".dni-treeview td {\r\n",
       "    vertical-align: top;\r\n",
       "    text-align: start;\r\n",
       "}\r\n",
       "details.dni-treeview {\r\n",
       "    padding-left: 1em;\r\n",
       "}\r\n",
       "table td {\r\n",
       "    text-align: start;\r\n",
       "}\r\n",
       "table tr { \r\n",
       "    vertical-align: top; \r\n",
       "    margin: 0em 0px;\r\n",
       "}\r\n",
       "table tr td pre \r\n",
       "{ \r\n",
       "    vertical-align: top !important; \r\n",
       "    margin: 0em 0px !important;\r\n",
       "} \r\n",
       "table th {\r\n",
       "    text-align: start;\r\n",
       "}\r\n",
       "</style>"
      ]
     },
     "metadata": {},
     "output_type": "display_data"
    }
   ],
   "source": [
    "var evenNumbers = numbers.Where(n => n % 2 == 0)\n",
    " .OrderBy(n => n)\n",
    " .Take(5);\n",
    "\n",
    " evenNumbers"
   ]
  },
  {
   "attachments": {},
   "cell_type": "markdown",
   "metadata": {
    "dotnet_interactive": {
     "language": "csharp"
    },
    "polyglot_notebook": {
     "kernelName": "csharp"
    }
   },
   "source": [
    "This query will select the first 5 even numbers from the list and order them by ascending order.\n",
    "\n",
    "It is important to note that LINQ queries do not execute until they are enumerated, such as by using a foreach loop to iterate through the results.\n",
    "\n",
    "\n",
    "LINQ can be used to query data from a Dictionary by using the \"From\" operator to specify the data source and chaining other operators together to filter, transform, and shape the data.\n",
    "\n",
    "Here is an example of how to use LINQ to query data from a Dictionary<string, string>:\n",
    "\n"
   ]
  },
  {
   "cell_type": "code",
   "execution_count": 105,
   "metadata": {
    "dotnet_interactive": {
     "language": "csharp"
    },
    "polyglot_notebook": {
     "kernelName": "csharp"
    },
    "vscode": {
     "languageId": "polyglot-notebook"
    }
   },
   "outputs": [
    {
     "data": {
      "text/html": [
       "<div class=\"dni-plaintext\"><pre>[ #ff0000, #00ff00 ]</pre></div><style>\r\n",
       ".dni-code-hint {\r\n",
       "    font-style: italic;\r\n",
       "    overflow: hidden;\r\n",
       "    white-space: nowrap;\r\n",
       "}\r\n",
       ".dni-treeview {\r\n",
       "    white-space: nowrap;\r\n",
       "}\r\n",
       ".dni-treeview td {\r\n",
       "    vertical-align: top;\r\n",
       "    text-align: start;\r\n",
       "}\r\n",
       "details.dni-treeview {\r\n",
       "    padding-left: 1em;\r\n",
       "}\r\n",
       "table td {\r\n",
       "    text-align: start;\r\n",
       "}\r\n",
       "table tr { \r\n",
       "    vertical-align: top; \r\n",
       "    margin: 0em 0px;\r\n",
       "}\r\n",
       "table tr td pre \r\n",
       "{ \r\n",
       "    vertical-align: top !important; \r\n",
       "    margin: 0em 0px !important;\r\n",
       "} \r\n",
       "table th {\r\n",
       "    text-align: start;\r\n",
       "}\r\n",
       "</style>"
      ]
     },
     "metadata": {},
     "output_type": "display_data"
    }
   ],
   "source": [
    "Dictionary<string, string> colors = new Dictionary<string, string>\n",
    "{\n",
    " {\"red\", \"#ff0000\"},\n",
    " {\"green\", \"#00ff00\"},\n",
    " {\"blue\", \"#0000ff\"}\n",
    "};\n",
    "\n",
    "// Use LINQ to query the data\n",
    "var hexColors = from color in colors\n",
    " where color.Key == \"red\" || color.Key == \"green\"\n",
    " select color.Value;\n",
    "\n",
    " hexColors"
   ]
  },
  {
   "attachments": {},
   "cell_type": "markdown",
   "metadata": {
    "dotnet_interactive": {
     "language": "csharp"
    },
    "polyglot_notebook": {
     "kernelName": "csharp"
    }
   },
   "source": [
    "In this example, the \"From\" operator specifies that the data source is the \"colors\" Dictionary, the \"Where\" operator filters the data to only include the colors which are red and green, and \"Select\" operator selects the hex value of the colors.\n",
    "\n",
    "You can also use the method syntax\n",
    "\n",
    "\n",
    "```csharp\n",
    "`var hexColors = colors.Where(c => c.Key == \"red\" || c.Key == \"green\")\n",
    " .Select(c => c.Value);`\n",
    "```\n",
    "This query will give you the same result as the previous one, but this is the method syntax of LINQ.\n",
    "\n",
    "You can also use other operators like OrderBy, OrderByDescending, Take, Skip, etc. to shape your data and make it more readable.\n",
    "\n",
    "It is important to note that when working with a Dictionary, the order of elements is not guaranteed, so if you need to order the elements you need to use the `ToList()` or `ToArray()` method before applying `OrderBy` or `OrderByDescending`\n",
    "\n",
    "\n",
    "```csharp\n",
    "`var hexColors = colors.Where(c => c.Key == \"red\" || c.Key == \"green\")\n",
    " .ToList()\n",
    " .OrderBy(c => c.Key)\n",
    " .Select(c => c.Value);`\n",
    "```\n",
    "This query will select the hex values of red and green colors and order them by their key.\n",
    "\n",
    "It is important to note that LINQ queries do not execute until they are enumerated, such as by using a foreach loop to iterate through the results.\n",
    "\n",
    "\n",
    "LINQ can be used to query data from a SQL database by using the LINQ to SQL or the Entity Framework, which are both built on top of LINQ and provide a way to interact with the database using LINQ syntax.\n"
   ]
  },
  {
   "cell_type": "code",
   "execution_count": 106,
   "metadata": {
    "dotnet_interactive": {
     "language": "csharp"
    },
    "polyglot_notebook": {
     "kernelName": "csharp"
    },
    "vscode": {
     "languageId": "polyglot-notebook"
    }
   },
   "outputs": [
    {
     "data": {
      "text/html": [
       "<div class=\"dni-plaintext\"><pre>[ #ff0000, #00ff00 ]</pre></div><style>\r\n",
       ".dni-code-hint {\r\n",
       "    font-style: italic;\r\n",
       "    overflow: hidden;\r\n",
       "    white-space: nowrap;\r\n",
       "}\r\n",
       ".dni-treeview {\r\n",
       "    white-space: nowrap;\r\n",
       "}\r\n",
       ".dni-treeview td {\r\n",
       "    vertical-align: top;\r\n",
       "    text-align: start;\r\n",
       "}\r\n",
       "details.dni-treeview {\r\n",
       "    padding-left: 1em;\r\n",
       "}\r\n",
       "table td {\r\n",
       "    text-align: start;\r\n",
       "}\r\n",
       "table tr { \r\n",
       "    vertical-align: top; \r\n",
       "    margin: 0em 0px;\r\n",
       "}\r\n",
       "table tr td pre \r\n",
       "{ \r\n",
       "    vertical-align: top !important; \r\n",
       "    margin: 0em 0px !important;\r\n",
       "} \r\n",
       "table th {\r\n",
       "    text-align: start;\r\n",
       "}\r\n",
       "</style>"
      ]
     },
     "metadata": {},
     "output_type": "display_data"
    }
   ],
   "source": [
    "var hexColors = colors.Where(c => c.Key == \"red\" || c.Key == \"green\")\n",
    " .Select(c => c.Value);\n",
    "\n",
    " hexColors"
   ]
  },
  {
   "attachments": {},
   "cell_type": "markdown",
   "metadata": {
    "dotnet_interactive": {
     "language": "csharp"
    },
    "polyglot_notebook": {
     "kernelName": "csharp"
    }
   },
   "source": [
    "\n",
    "This query will give you the same result as the previous one, but this is the method syntax of LINQ.\n",
    "\n",
    "You can also use other operators like OrderBy, OrderByDescending, Take, Skip, etc. to shape your data and make it more readable.\n",
    "\n",
    "It is important to note that when working with a Dictionary, the order of elements is not guaranteed, so if you need to order the elements you need to use the `ToList()` or `ToArray()` method before applying `OrderBy` or `OrderByDescending`\n"
   ]
  },
  {
   "cell_type": "code",
   "execution_count": 107,
   "metadata": {
    "dotnet_interactive": {
     "language": "csharp"
    },
    "polyglot_notebook": {
     "kernelName": "csharp"
    },
    "vscode": {
     "languageId": "polyglot-notebook"
    }
   },
   "outputs": [
    {
     "data": {
      "text/html": [
       "<div class=\"dni-plaintext\"><pre>[ #00ff00, #ff0000 ]</pre></div><style>\r\n",
       ".dni-code-hint {\r\n",
       "    font-style: italic;\r\n",
       "    overflow: hidden;\r\n",
       "    white-space: nowrap;\r\n",
       "}\r\n",
       ".dni-treeview {\r\n",
       "    white-space: nowrap;\r\n",
       "}\r\n",
       ".dni-treeview td {\r\n",
       "    vertical-align: top;\r\n",
       "    text-align: start;\r\n",
       "}\r\n",
       "details.dni-treeview {\r\n",
       "    padding-left: 1em;\r\n",
       "}\r\n",
       "table td {\r\n",
       "    text-align: start;\r\n",
       "}\r\n",
       "table tr { \r\n",
       "    vertical-align: top; \r\n",
       "    margin: 0em 0px;\r\n",
       "}\r\n",
       "table tr td pre \r\n",
       "{ \r\n",
       "    vertical-align: top !important; \r\n",
       "    margin: 0em 0px !important;\r\n",
       "} \r\n",
       "table th {\r\n",
       "    text-align: start;\r\n",
       "}\r\n",
       "</style>"
      ]
     },
     "metadata": {},
     "output_type": "display_data"
    }
   ],
   "source": [
    "var hexColors = colors.Where(c => c.Key == \"red\" || c.Key == \"green\")\n",
    " .ToList()\n",
    " .OrderBy(c => c.Key)\n",
    " .Select(c => c.Value);\n",
    "\n",
    "  hexColors"
   ]
  },
  {
   "attachments": {},
   "cell_type": "markdown",
   "metadata": {
    "dotnet_interactive": {
     "language": "csharp"
    },
    "polyglot_notebook": {
     "kernelName": "csharp"
    }
   },
   "source": [
    "\n",
    "This query will select the hex values of red and green colors and order them by their key.\n",
    "\n",
    "It is important to note that LINQ queries do not execute until they are enumerated, such as by using a foreach loop to iterate through the results.\n",
    "\n",
    "LINQ (Language Integrated Query) is a powerful tool in C# that enables developers to query data from various data sources using a consistent syntax. Here are some other uses of LINQ:\n",
    "\n",
    "Database querying: LINQ can be used to query data from relational databases using LINQ to SQL or Entity Framework. This allows developers to write SQL-like queries in C# code and provides compile-time error checking and intellisense.\n",
    "\n",
    "XML processing: LINQ can be used to process XML documents using LINQ to XML. This allows developers to easily parse and manipulate XML documents using a syntax similar to LINQ to Objects.\n",
    "\n",
    "Collection querying: LINQ can be used to query in-memory collections such as arrays, lists, and dictionaries. This allows developers to filter, sort, group, and project data in a more efficient and expressive way than using traditional looping constructs.\n",
    "\n",
    "Data transformation: LINQ can be used to transform data from one format to another. For example, developers can use LINQ to transform a collection of objects into a different type or to map data from one data source to another.\n",
    "\n",
    "Parallel processing: LINQ can be used to perform data processing operations in parallel. This allows developers to take advantage of multi-core processors and perform computations more quickly.\n"
   ]
  },
  {
   "cell_type": "code",
   "execution_count": 108,
   "metadata": {
    "dotnet_interactive": {
     "language": "mermaid"
    },
    "polyglot_notebook": {
     "kernelName": "mermaid"
    },
    "vscode": {
     "languageId": "polyglot-notebook"
    }
   },
   "outputs": [
    {
     "data": {
      "text/html": [
       "<div class=\"mermaidMarkdownContainer\" style=\"background-color:white\">\n",
       "<link rel=\"stylesheet\" href=\"https://cdnjs.cloudflare.com/ajax/libs/font-awesome/6.2.0/css/all.min.css\">\n",
       "<script type=\"text/javascript\">\n",
       "\r\n",
       "loadMermaid_76ada31ee7c24886ae1400cda4e05aca = () => {\n",
       " \r\n",
       "        (require.config({ 'paths': { 'context': '9.1.7', 'mermaidUri' : 'https://cdn.jsdelivr.net/npm/mermaid@9.1.7/dist/mermaid.min', 'urlArgs': 'cacheBuster=c3cceb7e3cbe44d0b4c69994e7917b55' }}) || require)(['mermaidUri'], (mermaid) => {\n",
       "\r\n",
       "            let renderTarget = document.getElementById('76ada31ee7c24886ae1400cda4e05aca');\r\n",
       "            mermaid.mermaidAPI.render( \r\n",
       "                'mermaid_76ada31ee7c24886ae1400cda4e05aca', \r\n",
       "                `graph LR\n",
       "A[LINQ] --> B[Database querying]\n",
       "A --> C[XML processing]\n",
       "A --> D[Collection querying]\n",
       "A --> E[Data transformation]\n",
       "A --> F[Parallel processing]`, \r\n",
       "                g => {\r\n",
       "                    renderTarget.innerHTML = g \r\n",
       "                });\r\n",
       "        },\r\n",
       "        (error) => {\r\n",
       "            console.log(error);\r\n",
       "        });\r\n",
       "}\n",
       "// ensure `require` is available globally\r\n",
       "if ((typeof(require) !==  typeof(Function)) || (typeof(require.config) !== typeof(Function))) {\r\n",
       "    let require_script = document.createElement('script');\r\n",
       "    require_script.setAttribute('src', 'https://cdnjs.cloudflare.com/ajax/libs/require.js/2.3.6/require.min.js');\r\n",
       "    require_script.setAttribute('type', 'text/javascript');\r\n",
       "    \r\n",
       "    \r\n",
       "    require_script.onload = function() {\r\n",
       "        loadMermaid_76ada31ee7c24886ae1400cda4e05aca();\r\n",
       "    };\r\n",
       "\r\n",
       "    document.getElementsByTagName('head')[0].appendChild(require_script);\r\n",
       "}\r\n",
       "else {\r\n",
       "    loadMermaid_76ada31ee7c24886ae1400cda4e05aca();\r\n",
       "}\r\n",
       "\n",
       "</script>\n",
       "<div id=\"76ada31ee7c24886ae1400cda4e05aca\"></div>\n",
       "</div>\n"
      ]
     },
     "metadata": {},
     "output_type": "display_data"
    }
   ],
   "source": [
    "graph LR\n",
    "A[LINQ] --> B[Database querying]\n",
    "A --> C[XML processing]\n",
    "A --> D[Collection querying]\n",
    "A --> E[Data transformation]\n",
    "A --> F[Parallel processing]"
   ]
  },
  {
   "attachments": {},
   "cell_type": "markdown",
   "metadata": {
    "dotnet_interactive": {
     "language": "csharp"
    },
    "polyglot_notebook": {
     "kernelName": "csharp"
    }
   },
   "source": [
    "\n",
    "Overall, LINQ is a versatile tool that can be used in a wide range of applications beyond just web scraping. Its consistent syntax and support for various data sources make it a powerful tool for data processing, querying, and transformation in many different contexts."
   ]
  },
  {
   "attachments": {},
   "cell_type": "markdown",
   "metadata": {
    "dotnet_interactive": {
     "language": "csharp"
    },
    "polyglot_notebook": {
     "kernelName": "csharp"
    }
   },
   "source": [
    "### WHat is SQL\n",
    "\n",
    "SQL stands for Structured Query Language, and it is a programming language used to manage and manipulate relational databases. It is used to store, retrieve, and manage data in a database, and it is the standard language used to interact with relational database management systems (RDBMS) such as MySQL, Microsoft SQL Server, Oracle, and PostgreSQL.\n",
    "\n",
    "SQL allows you to create, modify, and delete databases, tables, and records within a database. It provides a set of commands for querying and updating data, as well as for creating and modifying the database schema.\n",
    "\n",
    "SQL consists of several components, including:\n",
    "\n",
    "Data Definition Language (DDL) commands, which are used to create, modify, and delete database objects such as tables, views, and indexes.\n",
    "Data Manipulation Language (DML) commands, which are used to insert, update, and delete data in a database.\n",
    "Data Query Language (DQL) commands, which are used to retrieve data from a database.\n",
    "Transaction Control Language (TCL) commands, which are used to manage transactions in a database.\n",
    "SQL is a declarative language, meaning that you specify what you want to do with the data, rather than how to do it. This makes it a powerful tool for managing large amounts of data and performing complex operations on that data.\n",
    "\n",
    "\n",
    "Here's an example of how to create a students SQL table, and perform basic INSERT, UPDATE, SELECT, and DELETE operations using SQL commands:\n",
    "\n",
    "```sql\n",
    "-- Create students table\n",
    "CREATE TABLE students (\n",
    "  id INT PRIMARY KEY,\n",
    "  first_name VARCHAR(50),\n",
    "  last_name VARCHAR(50),\n",
    "  age INT\n",
    ");\n",
    "\n",
    "-- Insert new student\n",
    "INSERT INTO students (id, first_name, last_name, age)\n",
    "VALUES (1, 'John', 'Doe', 20);\n",
    "\n",
    "-- Update student record\n",
    "UPDATE students\n",
    "SET age = 21\n",
    "WHERE id = 1;\n",
    "\n",
    "-- Select all students\n",
    "SELECT * FROM students;\n",
    "\n",
    "-- Delete student record\n",
    "DELETE FROM students\n",
    "WHERE id = 1;\n",
    "```\n",
    "The CREATE TABLE command is used to create the students table, with columns for id, first_name, last_name, and age. The id column is designated as the primary key for the table.\n",
    "\n",
    "The INSERT INTO command is used to add a new student record to the table, with values for id, first_name, last_name, and age.\n",
    "\n",
    "The UPDATE command is used to modify an existing student record in the table, setting the age to 21 for the student with an id of 1.\n",
    "\n",
    "The SELECT command is used to retrieve all records from the students table.\n",
    "\n",
    "The DELETE FROM command is used to remove the student record with an id of 1 from the students table.\n",
    "\n",
    "Note that the specific syntax of SQL commands may vary slightly depending on the database management system being used.\n",
    "\n",
    "### Uses of SQL\n",
    "\n",
    " SQL is used to store, retrieve, and manage data in a database, and it is the standard language used to interact with relational database management systems (RDBMS) such as MySQL, Microsoft SQL Server, Oracle, and PostgreSQL.\n",
    "\n",
    "SQL is used in a wide range of applications, including:\n",
    "\n",
    "Data management: SQL is used to create and manage databases, tables, and other database objects. It is used to define the structure of a database, including the relationships between tables and the constraints on the data.\n",
    "\n",
    "Data querying: SQL is used to retrieve data from databases, either for analysis or for display. It allows users to filter, sort, group, and aggregate data, as well as to join data from multiple tables.\n",
    "\n",
    "Data modification: SQL is used to modify data in a database, including inserting new records, updating existing records, and deleting records.\n",
    "\n",
    "Business intelligence: SQL is used in business intelligence applications to extract data from databases and transform it into useful information for decision-making.\n",
    "\n",
    "Web development: SQL is used in web development to create dynamic web pages that retrieve data from databases and display it to users.\n",
    "\n",
    "Software development: SQL is used in software development to create applications that interact with databases, including data-driven applications, data analysis applications, and reporting applications.\n",
    "\n",
    "LINQ can be used to query data from a SQL database by using the LINQ to SQL or the Entity Framework, which are both built on top of LINQ and provide a way to interact with the database using LINQ syntax."
   ]
  },
  {
   "cell_type": "code",
   "execution_count": 109,
   "metadata": {
    "dotnet_interactive": {
     "language": "mermaid"
    },
    "polyglot_notebook": {
     "kernelName": "mermaid"
    },
    "vscode": {
     "languageId": "polyglot-notebook"
    }
   },
   "outputs": [
    {
     "data": {
      "text/html": [
       "<div class=\"mermaidMarkdownContainer\" style=\"background-color:white\">\n",
       "<link rel=\"stylesheet\" href=\"https://cdnjs.cloudflare.com/ajax/libs/font-awesome/6.2.0/css/all.min.css\">\n",
       "<script type=\"text/javascript\">\n",
       "\r\n",
       "loadMermaid_48ce6e15c922489aa9f6ea6587ca7d51 = () => {\n",
       " \r\n",
       "        (require.config({ 'paths': { 'context': '9.1.7', 'mermaidUri' : 'https://cdn.jsdelivr.net/npm/mermaid@9.1.7/dist/mermaid.min', 'urlArgs': 'cacheBuster=c3cceb7e3cbe44d0b4c69994e7917b55' }}) || require)(['mermaidUri'], (mermaid) => {\n",
       "\r\n",
       "            let renderTarget = document.getElementById('48ce6e15c922489aa9f6ea6587ca7d51');\r\n",
       "            mermaid.mermaidAPI.render( \r\n",
       "                'mermaid_48ce6e15c922489aa9f6ea6587ca7d51', \r\n",
       "                `erDiagram\n",
       "    students {\n",
       "        int id\n",
       "        string first_name\n",
       "        string last_name\n",
       "        int age\n",
       "    }`, \r\n",
       "                g => {\r\n",
       "                    renderTarget.innerHTML = g \r\n",
       "                });\r\n",
       "        },\r\n",
       "        (error) => {\r\n",
       "            console.log(error);\r\n",
       "        });\r\n",
       "}\n",
       "// ensure `require` is available globally\r\n",
       "if ((typeof(require) !==  typeof(Function)) || (typeof(require.config) !== typeof(Function))) {\r\n",
       "    let require_script = document.createElement('script');\r\n",
       "    require_script.setAttribute('src', 'https://cdnjs.cloudflare.com/ajax/libs/require.js/2.3.6/require.min.js');\r\n",
       "    require_script.setAttribute('type', 'text/javascript');\r\n",
       "    \r\n",
       "    \r\n",
       "    require_script.onload = function() {\r\n",
       "        loadMermaid_48ce6e15c922489aa9f6ea6587ca7d51();\r\n",
       "    };\r\n",
       "\r\n",
       "    document.getElementsByTagName('head')[0].appendChild(require_script);\r\n",
       "}\r\n",
       "else {\r\n",
       "    loadMermaid_48ce6e15c922489aa9f6ea6587ca7d51();\r\n",
       "}\r\n",
       "\n",
       "</script>\n",
       "<div id=\"48ce6e15c922489aa9f6ea6587ca7d51\"></div>\n",
       "</div>\n"
      ]
     },
     "metadata": {},
     "output_type": "display_data"
    }
   ],
   "source": [
    "erDiagram\n",
    "    students {\n",
    "        int id\n",
    "        string first_name\n",
    "        string last_name\n",
    "        int age\n",
    "    }"
   ]
  },
  {
   "attachments": {},
   "cell_type": "markdown",
   "metadata": {
    "dotnet_interactive": {
     "language": "csharp"
    },
    "polyglot_notebook": {
     "kernelName": "csharp"
    }
   },
   "source": [
    "\n",
    "To use LINQ to SQL, you need to create a mapping between the relational database and the object-oriented model. This is done by creating a DataContext class that defines the tables, columns, and relationships in the database. Once the mapping is done you can use LINQ syntax to query the data.\n",
    "\n",
    "Here is an example of how to use LINQ to SQL to query data from a SQL database:\n",
    "\n",
    "\n",
    "```csharp\n",
    "using (var db = new DataContext())\n",
    "{\n",
    " var query = from customer in db.Customers\n",
    " where customer.Country == \"USA\"\n",
    " select customer;\n",
    "\n",
    " foreach (var customer in query)\n",
    " {\n",
    " Console.WriteLine(customer.FirstName + \" \" + customer.LastName);\n",
    " }\n",
    "}\n",
    "```\n",
    "In this example, the \"From\" operator specifies the data source is the Customers table, the \"Where\" operator filters the data to only include customers from the USA, and \"Select\" operator selects the customer.\n",
    "\n",
    "You can also use the method syntax\n",
    "\n",
    "\n",
    "```csharp\n",
    "using (var db = new DataContext())\n",
    "{\n",
    " var query = db.Customers.Where(c => c.Country == \"USA\")\n",
    " .Select(c => new {c.FirstName, c.LastName});\n",
    "\n",
    " foreach (var customer in query)\n",
    " {\n",
    " Console.WriteLine(customer.FirstName + \" \" + customer.LastName);\n",
    " }\n",
    "}\n",
    "```\n",
    "This query will give you the same result as the previous one, but this is the method syntax of LINQ.\n",
    "\n",
    "You can also use other operators like OrderBy, OrderByDescending, Take, Skip, etc. to shape your data and make it more readable.\n",
    "\n",
    "With entities Framework it's similar, but you'll use the \"DbContext\" class instead of the \"DataContext\" and you'll need to create a model of the database using EF Core or EF 6.\n",
    "\n",
    "It is important to note that LINQ queries against a SQL database are executed when the query is enumerated, such as by using a foreach loop to iterate through the results, or by calling the `ToList()`, `ToArray()` or `Count()` methods.\n",
    "\n",
    "Also remember that it is a good practice to use the `using` statement to dispose of the DataContext/DbContext and the opened connection to avoid any memory leaks.\n",
    "\n",
    "\n",
    "LINQ provides a number of advanced operators that can be used to perform more complex queries.\n",
    "\n",
    "* The \"GroupBy\" operator is used to group elements in a collection based on a certain key. It returns a collection of groups, where each group contains a key and a collection of elements that share that key.\n",
    "\n",
    "\n",
    "```csharp\n",
    "`var query = from student in students\n",
    " group student by student.Department into g\n",
    " select new {Department = g.Key, Students = g};`\n",
    "```\n",
    "This query groups the students by their department, and returns a collection of groups where each group contains the department name and a collection of students that belong to that department.\n",
    "\n",
    "* The \"Join\" operator is used to join two collections based on a common key. It returns a collection of elements that have matching keys in both collections.\n",
    "\n",
    "\n",
    "```csharp\n",
    "var query = from student in students\n",
    " join department in departments on student.Department equals department.DepartmentName\n",
    " select new {student.FirstName, student.LastName, department.DepartmentName};\n",
    "```\n",
    "This query joins the students and departments collections by the department name, and returns a collection of elements that contains the student's first name, last name, and department name.\n",
    "\n",
    "* The \"Aggregate\" operator is used to apply a function to the elements of a collection and return a single value. It can be used to perform calculations such as sum, average, or count.\n",
    "\n",
    "\n",
    "```csharp\n",
    "var query = students.Where(s => s.Department == \"Computer Science\")\n",
    " .Select(s => s.Grade)\n",
    " .Average();\n",
    "```\n",
    "This query filters the students collection to only include students from the Computer Science department, selects their grades, and calculates the average grade.\n",
    "\n",
    "It is important to note that these operators can be combined with other LINQ operators, like \"Where\", \"Select\", \"OrderBy\" etc. to create more complex and powerful queries. Also, these operators are executed after the query is enumerated, such as by using a foreach loop to iterate through the results, or by calling the `ToList()`, `ToArray()` or `Count()` methods."
   ]
  },
  {
   "attachments": {},
   "cell_type": "markdown",
   "metadata": {
    "dotnet_interactive": {
     "language": "csharp"
    },
    "polyglot_notebook": {
     "kernelName": "csharp"
    }
   },
   "source": [
    "### Linq for Web Scrapping\n",
    "\n",
    "LINQ (Language Integrated Query) is a powerful tool in C# that enables developers to query data from various data sources using a consistent syntax. In web scraping, LINQ can be used to extract data from HTML and XML documents in a concise and readable manner. Here are some advanced uses of LINQ for web scraping:\n",
    "\n",
    "Data transformation: LINQ can be used to transform scraped data into a desired format. For example, you can use LINQ to extract only the text content from HTML or XML documents, or to extract only specific data points from a larger dataset.\n",
    "\n",
    "Data filtering: LINQ can be used to filter out unwanted data points during the scraping process. For example, you can use LINQ to exclude data that is not relevant to your analysis or to remove duplicates.\n",
    "\n",
    "Data aggregation: LINQ can be used to aggregate scraped data into meaningful summaries. For example, you can use LINQ to group data by category or to calculate averages, counts, or other statistical measures.\n",
    "\n",
    "Data validation: LINQ can be used to validate scraped data to ensure that it meets certain criteria. For example, you can use LINQ to check that data points are of a certain type or within a certain range.\n",
    "\n",
    "Data integration: LINQ can be used to integrate scraped data with other data sources. For example, you can use LINQ to merge scraped data with data from a database or to combine multiple datasets into a single dataset.\n",
    "\n",
    "\n",
    "\n",
    "Web scraping is a technique used to extract data from websites. It can be done manually by a user or automatically by a program. In this post, we'll explore how to perform web scraping using C#.\n",
    "\n",
    "First, let's understand the basics of web scraping. When we visit a website, our web browser sends a request to the server hosting the website. The server responds with the HTML, CSS, and JavaScript files that make up the website. Our web browser then renders the website based on these files.\n",
    "\n",
    "Web scraping works in a similar way. Instead of a web browser, we use a program to send a request to the server and receive the response. We can then parse the HTML to extract the data we need.\n",
    "\n",
    "In C#, we can use the `HttpClient` class to send HTTP requests and receive responses. Here's an example of how to send a GET request to a website and receive the response:\n",
    "\n",
    "```csharp\n",
    "using System.Net.Http;\n",
    "using System.Threading.Tasks;\n",
    "\n",
    "namespace WebScrapingExample\n",
    "{\n",
    "    public static async Task<string> GetWebsiteContentAsync(string url)\n",
    "    {\n",
    "        using (var client = new HttpClient())\n",
    "        {\n",
    "            var response = await client.GetAsync(url);\n",
    "            response.EnsureSuccessStatusCode();\n",
    "            return await response.Content.ReadAsStringAsync();\n",
    "        }\n",
    "    }\n",
    "}\n",
    "```\n",
    "\n",
    "In this example, we create an instance of the HttpClient class and use its GetAsync method to send a GET request to the specified URL. We then use the EnsureSuccessStatusCode method to ensure that the response was successful. Finally, we use the ReadAsStringAsync method to read the response content as a string.\n",
    "\n",
    "Once we have the HTML content of the website, we can use an HTML parser to extract the data we need. There are several HTML parsers available for C#, such as HtmlAgilityPack and AngleSharp.\n",
    "\n",
    "Here’s an example of how to use HtmlAgilityPack to extract the titles of the articles on the front page of a news website:\n",
    "\n",
    "```csharp\n",
    "using HtmlAgilityPack;\n",
    "\n",
    "namespace WebScrapingExample\n",
    "{\n",
    "    public static List<string> GetArticleTitles(string html)\n",
    "    {\n",
    "        var doc = new HtmlDocument();\n",
    "        doc.LoadHtml(html);\n",
    "\n",
    "        var titles = new List<string>();\n",
    "        foreach (var node in doc.DocumentNode.SelectNodes(\"//h2[@class='title']/a\"))\n",
    "        {\n",
    "            titles.Add(node.InnerText);\n",
    "        }\n",
    "\n",
    "        return titles;\n",
    "    }\n",
    "}\n",
    "```\n",
    "\n",
    "In this example, we create an instance of the HtmlDocument class and use its LoadHtml method to load the HTML content. We then use the SelectNodes method to select the nodes that match the specified XPath expression. In this case, we’re selecting all a elements that are children of h2 elements with a class attribute of title. We then use the InnerText property to get the text content of each node and add it to a list.\n",
    "\n",
    "That’s the basics of web scraping in C#! Of course, there’s a lot more to it, such as handling pagination, dealing with AJAX content, and respecting the website’s terms of service and robots.txt file. But this should give you a good starting point for your own web scraping projects.\n"
   ]
  },
  {
   "attachments": {},
   "cell_type": "markdown",
   "metadata": {
    "dotnet_interactive": {
     "language": "csharp"
    },
    "polyglot_notebook": {
     "kernelName": "csharp"
    }
   },
   "source": [
    "# Creating Web Applications with ASP.NET\n",
    "\n",
    "## Introduction to Creating Web Applications with ASP.NET\n",
    "\n",
    "ASP.NET is a web development framework created by Microsoft that allows developers to build dynamic web applications. With ASP.NET, developers can create web applications that can be accessed from any device with a web browser, such as desktop computers, laptops, tablets, and smartphones.\n",
    "\n",
    "ASP.NET provides developers with a set of tools and technologies for building web applications, including web forms, MVC (Model-View-Controller) architecture, and Web API (Application Programming Interface). These technologies allow developers to create web applications with rich user interfaces, complex business logic, and seamless integration with other systems.\n",
    "\n",
    "Creating a New Project\n",
    "Once your development environment is set up, you can create a new ASP.NET project. In Visual Studio, select File > New > Project... from the main menu.\n",
    "\n",
    "In the New Project dialog box that appears, select ASP.NET Core Web Application from the list of templates on the left side of the window. Then click Next.\n",
    "\n",
    "On the next screen, enter a name for your project and choose a location where it will be saved. Then click Create.\n",
    "\n",
    "You’ll now be prompted to choose a template for your new project. For this example, we’ll use the Web Application (Model-View-Controller) template. Select this option and then click Create.\n",
    "\n",
    "Visual Studio will now create a new ASP.NET project for you based on the selected template.\n",
    "\n",
    "Adding Basic Functionality\n",
    "Now that you have a new project created, let’s add some basic functionality to it.\n",
    "\n",
    "First, open the HomeController.cs file in your project (you can find it in the Controllers folder). This file contains code for handling requests to your application’s home page.\n",
    "\n",
    "Let’s add a simple action method that returns some text when called:\n",
    "\n",
    "```csharp\n",
    "public IActionResult HelloWorld()\n",
    "{\n",
    "    return Content(\"Hello World!\");\n",
    "}\n",
    "```\n",
    "\n",
    "This code defines an action method named HelloWorld. When called (by sending an HTTP request to /Home/HelloWorld), it returns some plain text content (“Hello World!”).\n",
    "\n",
    "Next, let’s add a link to our new action method on our home page so users can easily access it.\n",
    "\n",
    "Open the Index.cshtml file in your project (you can find it in the Views/Home folder). This file contains the HTML code for your application’s home page.\n",
    "\n",
    "Add a new link to our HelloWorld action method by adding the following code inside the <div> element with the class text-center:\n",
    "\n",
    "```html\n",
    "<a asp-controller=\"Home\" asp-action=\"HelloWorld\">Say Hello</a>\n",
    "```\n",
    "\n",
    "This code uses ASP.NET’s tag helper syntax to generate a link to our new action method. When clicked, it will send an HTTP request to /Home/HelloWorld, which will call our HelloWorld action method and display its result.\n",
    "\n",
    "Save your changes and run your application (press F5 or select Debug > Start Debugging from the main menu). You should now see a new “Say Hello” link on your home page. Click it to see the \"Hello World!\" message.\n"
   ]
  },
  {
   "attachments": {},
   "cell_type": "markdown",
   "metadata": {
    "dotnet_interactive": {
     "language": "csharp"
    },
    "polyglot_notebook": {
     "kernelName": "csharp"
    }
   },
   "source": [
    "### Rendering a Table\n",
    "\n",
    "For a more complex example\n",
    "\n",
    "Step 1: Create an ASP.NET Application\n",
    "\n",
    "To get started, create a new ASP.NET web application using Visual Studio. Open Visual Studio and select “New Project”. From the “New Project” dialog box, select “ASP.NET Web Application” and give your project a name.\n",
    "\n",
    "Step 2: Add Data to the Application\n",
    "\n",
    "For this example, we will use a simple data set to populate our table. Create a new class called \"Student\" that has properties for \"FirstName\", \"LastName\", and \"Grade\". Then, create a new list of students and populate it with some data.\n",
    "\n",
    "```csharp\n",
    "public class Student\n",
    "{\n",
    "    public string FirstName { get; set; }\n",
    "    public string LastName { get; set; }\n",
    "    public int Grade { get; set; }\n",
    "}\n",
    "\n",
    "List<Student> students = new List<Student>\n",
    "{\n",
    "    new Student { FirstName = \"John\", LastName = \"Doe\", Grade = 80 },\n",
    "    new Student { FirstName = \"Jane\", LastName = \"Smith\", Grade = 90 },\n",
    "    new Student { FirstName = \"Bob\", LastName = \"Jones\", Grade = 75 }\n",
    "};\n",
    "```\n",
    "\n",
    "Step 3: Create the Table\n",
    "\n",
    "Next, we will create the table that will display our data. Add a new HTML file to your project called \"Table.html\". In this file, create a new table element and add the necessary columns and rows.\n",
    "\n",
    "```html\n",
    "<table>\n",
    "    <thead>\n",
    "        <tr>\n",
    "            <th>First Name</th>\n",
    "            <th>Last Name</th>\n",
    "            <th>Grade</th>\n",
    "        </tr>\n",
    "    </thead>\n",
    "    <tbody>\n",
    "    </tbody>\n",
    "</table>\n",
    "``` \n",
    "\n",
    "Step 4: Populate the Table with Data\n",
    "\n",
    "To populate the table with data, we will use ASP.NET’s Razor syntax. Add a new Razor view to your project called “Table.cshtml”. In this file, add the necessary code to loop through the list of students and add a new row to the table for each student.\n",
    "```cs\n",
    "@model List<Student>\n",
    "\n",
    "<table>\n",
    "    <thead>\n",
    "        <tr>\n",
    "            <th>First Name</th>\n",
    "            <th>Last Name</th>\n",
    "            <th>Grade</th>\n",
    "        </tr>\n",
    "    </thead>\n",
    "    <tbody>\n",
    "        @foreach (var student in Model)\n",
    "        {\n",
    "            <tr>\n",
    "                <td>@student.FirstName</td>\n",
    "                <td>@student.LastName</td>\n",
    "                <td>@student.Grade</td>\n",
    "            </tr>\n",
    "        }\n",
    "    </tbody>\n",
    "</table>\n",
    "```\n",
    "\n",
    "Step 5: Render the Table\n",
    "\n",
    "To render the table in your ASP.NET application, add a new controller to your project called \"TableController\". In this controller, create a new action method called \"Index\" that returns the \"Table.cshtml\" view with the list of students as the model.\n",
    "```csharp\n",
    "public class TableController : Controller\n",
    "{\n",
    "    public IActionResult Index()\n",
    "    {\n",
    "        List<Student> students = new List<Student>\n",
    "        {\n",
    "            new Student { FirstName = \"John\", LastName = \"Doe\", Grade = 80 },\n",
    "            new Student { FirstName = \"Jane\", LastName = \"Smith\", Grade = 90 },\n",
    "            new Student { FirstName = \"Bob\", LastName = \"Jones\", Grade = 75 }\n",
    "        };\n",
    "\n",
    "        return View(students);\n",
    "    }\n",
    "}\n",
    "```\n",
    "\n",
    "Step 6: Run the Application\n",
    "\n",
    "Finally, run your ASP.NET application and navigate to the \"Table\" page. You should see a table displayed with the student data in it. You can customize the table’s appearance and functionality by using CSS and JavaScript."
   ]
  },
  {
   "attachments": {},
   "cell_type": "markdown",
   "metadata": {
    "dotnet_interactive": {
     "language": "csharp"
    },
    "polyglot_notebook": {
     "kernelName": "csharp"
    }
   },
   "source": [
    "Structuring ASP.NET projects can be a bit of a challenge, especially for beginners. However, there are several ways to structure an ASP.NET project, depending on the size and complexity of the project. Here are some common ways to structure an ASP.NET project:\n",
    "\n",
    "MVC (Model-View-Controller) Architecture: This is a popular architecture for building ASP.NET projects. In this architecture, the application is divided into three main components: the model, which represents the data and business logic; the view, which represents the user interface; and the controller, which manages the flow of data between the model and the view.\n",
    "\n",
    "Three-tier Architecture: This is another popular architecture for building ASP.NET projects. In this architecture, the application is divided into three main layers: the presentation layer, which includes the user interface; the business logic layer, which includes the application's business rules and processes; and the data access layer, which includes the code that interacts with the database.\n",
    "\n",
    "Modular Architecture: This architecture involves breaking up the application into modules or components that can be developed independently and integrated into the application later. Each module can have its own architecture and can be developed by a separate team.\n",
    "\n",
    "Regardless of the architecture you choose, there are some best practices that you can follow to structure your ASP.NET project. These include:\n",
    "\n",
    "Keep the code organized: Group related files and folders together to make it easier to find and maintain code.\n",
    "\n",
    "Use a naming convention: Use a consistent naming convention for files, folders, and classes to make it easier to understand and navigate the code.\n",
    "\n",
    "Use source control: Use a version control system such as Git or SVN to manage the code and collaborate with other developers.\n",
    "\n",
    "Keep the dependencies organized: Use a package manager such as NuGet to manage the dependencies of your project.\n",
    "\n",
    "Separate configuration from code: Keep configuration settings such as connection strings and app settings in a separate file or in a database to make it easier to manage and update them."
   ]
  },
  {
   "cell_type": "code",
   "execution_count": 74,
   "metadata": {
    "dotnet_interactive": {
     "language": "mermaid"
    },
    "polyglot_notebook": {
     "kernelName": "mermaid"
    },
    "vscode": {
     "languageId": "polyglot-notebook"
    }
   },
   "outputs": [
    {
     "data": {
      "text/html": [
       "<div class=\"mermaidMarkdownContainer\" style=\"background-color:white\">\n",
       "<link rel=\"stylesheet\" href=\"https://cdnjs.cloudflare.com/ajax/libs/font-awesome/6.2.0/css/all.min.css\">\n",
       "<script type=\"text/javascript\">\n",
       "\r\n",
       "loadMermaid_4080078c9daf4b118202617fc24ba933 = () => {\n",
       " \r\n",
       "        (require.config({ 'paths': { 'context': '9.1.7', 'mermaidUri' : 'https://cdn.jsdelivr.net/npm/mermaid@9.1.7/dist/mermaid.min', 'urlArgs': 'cacheBuster=8db2f848dc984db8ad1b14bdbc5dba48' }}) || require)(['mermaidUri'], (mermaid) => {\n",
       "\r\n",
       "            let renderTarget = document.getElementById('4080078c9daf4b118202617fc24ba933');\r\n",
       "            mermaid.mermaidAPI.render( \r\n",
       "                'mermaid_4080078c9daf4b118202617fc24ba933', \r\n",
       "                `graph LR\n",
       "    subgraph Browser\n",
       "        Client\n",
       "    end\n",
       "\n",
       "    subgraph Web Server\n",
       "        IIS -->|HTTP Request| ASP.NET\n",
       "        ASP.NET -->|HTTP Response| IIS\n",
       "    end\n",
       "\n",
       "    subgraph Application Server\n",
       "        ASP.NET --> BusinessLogic\n",
       "        BusinessLogic --> DataAccess\n",
       "        DataAccess --> Database\n",
       "    end\n",
       "\n",
       "    Client -->|HTTP Request| IIS\n",
       "    IIS -->|HTTP Response| Client`, \r\n",
       "                g => {\r\n",
       "                    renderTarget.innerHTML = g \r\n",
       "                });\r\n",
       "        },\r\n",
       "        (error) => {\r\n",
       "            console.log(error);\r\n",
       "        });\r\n",
       "}\n",
       "// ensure `require` is available globally\r\n",
       "if ((typeof(require) !==  typeof(Function)) || (typeof(require.config) !== typeof(Function))) {\r\n",
       "    let require_script = document.createElement('script');\r\n",
       "    require_script.setAttribute('src', 'https://cdnjs.cloudflare.com/ajax/libs/require.js/2.3.6/require.min.js');\r\n",
       "    require_script.setAttribute('type', 'text/javascript');\r\n",
       "    \r\n",
       "    \r\n",
       "    require_script.onload = function() {\r\n",
       "        loadMermaid_4080078c9daf4b118202617fc24ba933();\r\n",
       "    };\r\n",
       "\r\n",
       "    document.getElementsByTagName('head')[0].appendChild(require_script);\r\n",
       "}\r\n",
       "else {\r\n",
       "    loadMermaid_4080078c9daf4b118202617fc24ba933();\r\n",
       "}\r\n",
       "\n",
       "</script>\n",
       "<div id=\"4080078c9daf4b118202617fc24ba933\"></div>\n",
       "</div>\n"
      ]
     },
     "metadata": {},
     "output_type": "display_data"
    }
   ],
   "source": [
    "graph LR\n",
    "    subgraph Browser\n",
    "        Client\n",
    "    end\n",
    "\n",
    "    subgraph Web Server\n",
    "        IIS -->|HTTP Request| ASP.NET\n",
    "        ASP.NET -->|HTTP Response| IIS\n",
    "    end\n",
    "\n",
    "    subgraph Application Server\n",
    "        ASP.NET --> BusinessLogic\n",
    "        BusinessLogic --> DataAccess\n",
    "        DataAccess --> Database\n",
    "    end\n",
    "\n",
    "    Client -->|HTTP Request| IIS\n",
    "    IIS -->|HTTP Response| Client"
   ]
  },
  {
   "attachments": {},
   "cell_type": "markdown",
   "metadata": {
    "dotnet_interactive": {
     "language": "csharp"
    },
    "polyglot_notebook": {
     "kernelName": "csharp"
    }
   },
   "source": [
    "This diagram shows how a client (such as a web browser) sends an HTTP request to a web server running Internet Information Services (IIS). IIS then forwards the request to the ASP.NET runtime, which processes it and generates an HTTP response. The response is sent back to IIS, which sends it back to the client.\n",
    "\n",
    "The ASP.NET runtime can interact with business logic and data access components on an application server. These components can perform tasks such as validating user input, retrieving data from a database, and performing calculations.\n",
    "\n",
    "Conclusion\n",
    "In this article, we’ve covered the basics of getting started with ASP.NET. We’ve discussed how to set up your development environment, create a new project, and add some basic functionality to your application.\n",
    "\n",
    "Of course, this is just the beginning. ASP.NET provides many more features and tools that you can use to build powerful and dynamic web applications. As you continue learning about ASP.NET, you’ll discover all that it has to offer."
   ]
  },
  {
   "attachments": {},
   "cell_type": "markdown",
   "metadata": {
    "dotnet_interactive": {
     "language": "csharp"
    },
    "polyglot_notebook": {
     "kernelName": "csharp"
    }
   },
   "source": [
    "# Data Science in C#\n",
    "\n",
    "\n",
    "## Ranking software Engineers\n",
    "To rank software engineers, companies use a variety of metrics to assess their performance, including code quality, productivity, and collaboration with team members. In this blog post, we will explore how companies can use scripts to automate the ranking process and save time and effort.\n",
    "\n",
    "Are you ready to proceed? This following section will cover how to rank engineers by git commits using bash, we will visualize the results using C#.\n",
    "\n",
    "\n",
    "Measuring software engineers' performance by the lines of code written and number of commits is a common practice in many companies, especially those with large engineering teams. Here are some reasons why:\n",
    "\n",
    "1. **Quantifiable metric:** Lines of code and number of commits are easy to measure and quantify. It provides a tangible metric to assess a developer's output and contribution to the codebase.\n",
    "2. **Objective assessment:** By measuring objective metrics like lines of code and commits, companies can assess an engineer's performance without any biases or subjectivity. It eliminates the possibility of personal preference or favoritism influencing the assessment.\n",
    "3. **Consistency across teams:** Measuring lines of code and commits is consistent across all teams, regardless of the project or programming language being used. It allows for comparison between different teams and engineers, making it easier to identify areas of strength and weakness.\n",
    "\n",
    "However, it's important to note that using lines of code and commits alone does not provide a complete picture of an engineer's performance. Other factors like code quality, bug fixing, and collaboration with team members should also be taken into consideration.\n",
    "\n",
    "\n",
    "```go \n",
    " #!/bin/bash\n",
    "\n",
    "# Change to the directory of the Git repository\n",
    "cd /path/to/repository\n",
    "\n",
    "# Get a list of all authors in the repository\n",
    "AUTHORS=$(git log --format='%ae' | sort -u)\n",
    "\n",
    "# Set the list of file extensions to search for\n",
    "EXTENSIONS=(\"html\" \"scss\" \"tsx\" \"ts\")\n",
    "\n",
    "# Loop through the authors and file extensions and search for changes\n",
    "for author in $AUTHORS; do\n",
    "    for extension in \"${EXTENSIONS[@]}\"; do\n",
    "        echo \"Changes made by $author to .$extension files:\"\n",
    "        git log --author=\"$author\" --oneline --name-only --pretty=format: | grep \"\\.$extension$\" | sort | uniq -c | sort -rn | head -n 10\n",
    "    done\n",
    "done \n",
    " ```\n",
    "\n",
    "This is a Bash script that can be used to search for changes made by each author to specific file extensions in a Git repository. Later we will run this script in a polygot notebook, I named this script `changes_by_file.sh`. Here's how it works:\n",
    "\n",
    "1. The script changes the current working directory to the location of the Git repository.\n",
    "2. The `git log` command is used to get a list of all authors in the repository, and the `sort` command is used to remove duplicates and sort the list alphabetically.\n",
    "3. An array of file extensions to search for is defined using the `EXTENSIONS` variable.\n",
    "4. Two nested `for` loops are used to loop through each author and file extension. For each combination of author and extension, the script runs the `git log` command again, this time with the `--author` option to filter by the current author and the `--name-only` option to only show the names of the files that were changed.\n",
    "5. The output of the `git log` command is piped to the `grep` command to filter only files with the current extension. The output is then piped to the `sort` and `uniq` commands to count the number of changes made to each file and remove duplicates.\n",
    "6. The output is then sorted by the number of changes in descending order using the `sort -rn` command and the top 10 files with the most changes are displayed using the `head -n 10` command.\n",
    "\n",
    "Overall, this script can be used to quickly assess each author's contributions to specific file types in a Git repository.\n",
    "\n",
    "\n",
    "```go \n",
    "#!/bin/bash\n",
    "\n",
    "## Change to the directory of the Git repository\n",
    "\n",
    "cd /path/to/repository\n",
    "\n",
    "## Use Git to list all the authors and their commit counts\n",
    "\n",
    "echo \"Author,Count\"\n",
    "git shortlog -s -n --all | while read count author; do\n",
    "    echo \"$author,$count\"\n",
    "done \n",
    " ```\n",
    "\n",
    "This is a Bash script that uses Git to list all the authors and their commit counts in a Git repository. Later we will run this script in a polygot notebook, I named this script `rank_simple.sh`. Here's how it works:\n",
    "\n",
    "1. The script changes the current working directory to the location of the Git repository.\n",
    "2. The `git shortlog` command is used to list all the authors and their commit counts. The `-s` option tells Git to only show the number of commits for each author, and the `-n` option tells Git to sort the authors by the number of commits in descending order. The `--all` option tells Git to include all branches in the count.\n",
    "3. The output of the `git shortlog` command is piped to a `while` loop that reads the count and author fields from each line of output. The loop then echoes the author and count fields separated by a colon.\n",
    "\n",
    "Overall, this script can be used to quickly see which authors have made the most commits to a Git repository, providing insight into their level of contribution to the project.\n",
    "\n",
    "\n",
    "```go \n",
    " #!/bin/bash\n",
    "\n",
    "cd /path/to/repository\n",
    "\n",
    "## Use Git to list all the authors and their line counts\n",
    "echo \"Author,Count\"\n",
    "git ls-files | xargs -n1 git blame --line-porcelain | grep \"^author \" | sort | uniq -c | sort -nr | while read count author; do\n",
    "    echo \"$author,$count\"\n",
    "done \n",
    " ```\n",
    "\n",
    "This is a Bash script that uses Git to list all the authors and their line counts in a Git repository. Here's how it works:\n",
    "\n",
    "1. The script changes the current working directory to the location of the Git repository.\n",
    "2. The `git ls-files` command is used to list all the files in the repository, and the output is piped to the `xargs` command. The `-n1` option tells `xargs` to pass each file name to the `git blame` command one at a time.\n",
    "3. The `git blame` command is used to annotate each line of the file with the author who last modified it. The `--line-porcelain` option tells `git blame` to output each line in a format that's easy to parse.\n",
    "4. The output of the `git blame` command is piped to the `grep` command to filter out all lines that don't start with \"author \".\n",
    "5. The output of the `grep` command is piped to the `sort` and `uniq` commands to count the number of lines attributed to each author.\n",
    "6. The output of the `sort` and `uniq` commands is piped to another `sort` command with the `-nr` options to sort the authors by the number of lines attributed to them in descending order.\n",
    "7. Finally, the output of the `sort` command is piped to a `while` loop that reads the count and author fields from each line of output. The loop then echoes the author and count fields separated by a colon.\n",
    "\n",
    "Overall, this script can be used to quickly see which authors have contributed the most lines of code to a Git repository, providing insight into their level of contribution to the project.\n",
    "\n"
   ]
  },
  {
   "attachments": {},
   "cell_type": "markdown",
   "metadata": {
    "dotnet_interactive": {
     "language": "csharp"
    },
    "polyglot_notebook": {
     "kernelName": "csharp"
    }
   },
   "source": [
    "## Unit Testing C#\n",
    "\n",
    "Unit testing is a software testing technique that involves writing automated test cases for individual units of code to ensure that they function as intended. In C#, unit testing can be done using the built-in testing framework called MSTest or using other popular frameworks such as NUnit and xUnit.\n",
    "\n",
    "Here are the basic steps to perform unit testing in C#:\n",
    "\n",
    "Step 1: Create a Test Project\n",
    "\n",
    "In Visual Studio, create a new test project by selecting File > New > Project and choosing the “Test” category under “Visual C#”. Choose the appropriate testing framework for your project (MSTest, NUnit, xUnit, etc.) and create the project.\n",
    "\n",
    "Step 2: Create Test Classes\n",
    "\n",
    "Create a new test class for each class or component that you want to test. The test class should be named the same as the class being tested, but with the word “Test” added at the end. For example, if you are testing a class named “Calculator”, the test class should be named “CalculatorTest”.\n",
    "\n",
    "Step 3: Write Test Methods\n",
    "\n",
    "In each test class, write test methods to test the functionality of the class being tested. Each test method should test a specific behavior or feature of the class, and should have a descriptive name that explains what is being tested.\n",
    "\n",
    "For example, if you are testing a method in the Calculator class that adds two numbers, you might write a test method like this:\n",
    "\n",
    "```csharp\n",
    "[TestMethod]\n",
    "public void TestAddition()\n",
    "{\n",
    "    Calculator calc = new Calculator();\n",
    "    int result = calc.Add(2, 3);\n",
    "    Assert.AreEqual(5, result);\n",
    "}\n",
    "```\n",
    "\n",
    "Step 4: Use Assertions to Verify Results\n",
    "\n",
    "In each test method, use assertions to verify that the results of the method being tested are correct. Assertions are statements that verify that a certain condition is true. If the condition is false, the assertion will fail and the test will fail.\n",
    "\n",
    "For example, in the test method above, the Assert.AreEqual method is used to verify that the result of the addition is 5. If the result is not 5, the assertion will fail and the test will fail.\n",
    "\n",
    "Step 5: Run the Tests\n",
    "\n",
    "To run the tests, build the test project and then use the test runner provided by your testing framework to run the tests. The test runner will execute all of the test methods in your test classes and report any failures.\n",
    "\n",
    "In Visual Studio, you can run the tests by opening the Test Explorer window (Test > Windows > Test Explorer) and clicking the “Run All” button. The Test Explorer window will show the status of each test, including any failures.\n",
    "\n",
    "Conclusion\n",
    "\n",
    "Unit testing is an essential part of software development, and can help to ensure that your code is correct, reliable, and maintainable. By following the steps above, you can create and run unit tests for your C# code using the testing framework of your choice."
   ]
  },
  {
   "cell_type": "code",
   "execution_count": 110,
   "metadata": {
    "dotnet_interactive": {
     "language": "pwsh"
    },
    "polyglot_notebook": {
     "kernelName": "pwsh"
    },
    "vscode": {
     "languageId": "polyglot-notebook"
    }
   },
   "outputs": [
    {
     "name": "stdout",
     "output_type": "stream",
     "text": [
      "Author,Count\n",
      "David Li,15\n"
     ]
    }
   ],
   "source": [
    "sh scripts/rank_simple.sh > data/rank_simple.csv\n",
    "\n",
    "cat data/rank_simple.csv"
   ]
  },
  {
   "cell_type": "code",
   "execution_count": 111,
   "metadata": {
    "dotnet_interactive": {
     "language": "pwsh"
    },
    "polyglot_notebook": {
     "kernelName": "pwsh"
    },
    "vscode": {
     "languageId": "polyglot-notebook"
    }
   },
   "outputs": [
    {
     "name": "stdout",
     "output_type": "stream",
     "text": [
      "Count,File\n",
      "7,README.md\n",
      "12,introtocsharp.ipynb\n",
      "3,scripts/changes_by_file.sh\n",
      "1,scripts/rank_simple.sh\n",
      "4,introtocsharp.html\n"
     ]
    }
   ],
   "source": [
    "bash scripts/changes_by_file.sh > data/changes_by_file.csv\n",
    "\n",
    "cat data/changes_by_file.csv"
   ]
  },
  {
   "cell_type": "code",
   "execution_count": 112,
   "metadata": {
    "dotnet_interactive": {
     "language": "fsharp"
    },
    "polyglot_notebook": {
     "kernelName": "fsharp"
    },
    "vscode": {
     "languageId": "polyglot-notebook"
    }
   },
   "outputs": [
    {
     "data": {
      "text/html": [
       "<div><div></div><div></div><div><strong>Installed Packages</strong><ul><li><span>Plotly.NET.Interactive, 4.0.0</span></li></ul></div></div>"
      ]
     },
     "metadata": {},
     "output_type": "display_data"
    }
   ],
   "source": [
    "#r \"nuget: Plotly.NET.Interactive, 4.0.0\""
   ]
  },
  {
   "cell_type": "code",
   "execution_count": 113,
   "metadata": {
    "dotnet_interactive": {
     "language": "csharp"
    },
    "polyglot_notebook": {
     "kernelName": "csharp"
    },
    "vscode": {
     "languageId": "polyglot-notebook"
    }
   },
   "outputs": [
    {
     "data": {
      "text/html": [
       "<div><div></div><div></div><div><strong>Installed Packages</strong><ul><li><span>CsvHelper, 30.0.1</span></li></ul></div></div>"
      ]
     },
     "metadata": {},
     "output_type": "display_data"
    }
   ],
   "source": [
    "#r \"nuget: CsvHelper, 30.0.1\""
   ]
  },
  {
   "attachments": {},
   "cell_type": "markdown",
   "metadata": {
    "dotnet_interactive": {
     "language": "csharp"
    },
    "polyglot_notebook": {
     "kernelName": "csharp"
    }
   },
   "source": [
    "### Data Science With F#\n",
    "\n",
    "#### Introduction to F#\n",
    "Introduction to F#\n",
    "F# is a functional programming language that was developed by Microsoft. It is a strongly-typed language that is used for developing robust, efficient, and scalable applications. F# is a multi-paradigm language that supports functional, object-oriented, and imperative programming styles.\n",
    "\n",
    "Features of F#\n",
    "F# has several features that make it a popular choice for developers. These include:\n",
    "\n",
    "Type inference\n",
    "F# uses type inference to automatically determine the types of variables and expressions. This means that you do not have to specify the types of variables explicitly, making F# code more concise and easier to read.\n",
    "\n",
    "Immutable data types\n",
    "F# has built-in support for immutable data types. Immutable data types are read-only and cannot be modified after they are created. This makes it easier to reason about code and avoids common programming errors caused by mutable state.\n",
    "\n",
    "Pattern matching\n",
    "F# has powerful pattern matching capabilities that allow you to match values against patterns and execute different code paths based on the match. This makes it easier to write code that handles complex data structures and conditions.\n",
    "\n",
    "Asynchronous programming\n",
    "F# has built-in support for asynchronous programming. This allows you to write code that executes asynchronously, freeing up the main thread to do other tasks. This can greatly improve the performance and responsiveness of your applications.\n",
    "\n",
    "Getting Started with F#\n",
    "To get started with F#, you will need to download and install the F# compiler and development tools. You can download these tools from the official F# website or through your IDE of choice.\n",
    "\n",
    "Once you have installed the F# tools, you can start writing F# code. F# code can be written in a text editor or in an IDE such as Visual Studio or Visual Studio Code.\n",
    "\n",
    "F# Syntax\n",
    "F# has a concise and expressive syntax that is based on functional programming concepts. F# code is organized into modules, which contain functions, types, and other definitions.\n",
    "\n",
    "Here is an example of a simple F# function that calculates the square of a number:\n",
    "\n",
    "```\n",
    "let square x = x * x\n",
    "```\n",
    "In this example, let is used to define a function called square. The function takes one parameter, x, and returns the result of multiplying x by itself.\n",
    "\n",
    "F# Data Types\n",
    "F# has several built-in data types that can be used to represent different kinds of data. These include:\n",
    "\n",
    "Integer and Floating-Point Types\n",
    "F# supports several integer and floating-point types, including int, float, double, and decimal.\n",
    "\n",
    "Boolean Type\n",
    "F# has a built-in bool type that represents boolean values.\n",
    "\n",
    "List Type\n",
    "F# has a built-in list type that represents a list of values. Lists are immutable and can contain elements of any type.\n",
    "\n",
    "Tuple Type\n",
    "F# has a built-in tuple type that represents a collection of values of different types. Tuples are immutable and can contain up to seven elements.\n",
    "\n",
    "F# is a well-suited programming language for data science as it combines efficient execution, REPL-scripting, powerful libraries and scalable data integration."
   ]
  },
  {
   "cell_type": "code",
   "execution_count": 114,
   "metadata": {
    "dotnet_interactive": {
     "language": "fsharp"
    },
    "polyglot_notebook": {
     "kernelName": "fsharp"
    },
    "vscode": {
     "languageId": "polyglot-notebook"
    }
   },
   "outputs": [
    {
     "data": {
      "text/html": [
       "<div><div id=\"3842c550-c972-4461-b01d-07c0ea15ea71\"><!-- Plotly chart will be drawn inside this DIV --></div><script type=\"text/javascript\">\r\n",
       "var renderPlotly_3842c550c9724461b01d07c0ea15ea71 = function() {\r\n",
       "    var fsharpPlotlyRequire = requirejs.config({context:'fsharp-plotly',paths:{plotly:'https://cdn.plot.ly/plotly-2.18.1.min'}}) || require;\r\n",
       "    fsharpPlotlyRequire(['plotly'], function(Plotly) {\r\n",
       "        var data = [{\"type\":\"scatter\",\"mode\":\"markers\",\"x\":[0.0,1.0,2.0,3.0,4.0,5.0,6.0,7.0,8.0,9.0,10.0],\"y\":[0.0,1.0,2.0,3.0,4.0,5.0,6.0,7.0,8.0,9.0,10.0],\"marker\":{},\"line\":{}}];\r\n",
       "        var layout = {\"width\":600,\"height\":600,\"template\":{\"layout\":{\"title\":{\"x\":0.05},\"font\":{\"color\":\"rgba(42, 63, 95, 1.0)\"},\"paper_bgcolor\":\"rgba(255, 255, 255, 1.0)\",\"plot_bgcolor\":\"rgba(229, 236, 246, 1.0)\",\"autotypenumbers\":\"strict\",\"colorscale\":{\"diverging\":[[0.0,\"#8e0152\"],[0.1,\"#c51b7d\"],[0.2,\"#de77ae\"],[0.3,\"#f1b6da\"],[0.4,\"#fde0ef\"],[0.5,\"#f7f7f7\"],[0.6,\"#e6f5d0\"],[0.7,\"#b8e186\"],[0.8,\"#7fbc41\"],[0.9,\"#4d9221\"],[1.0,\"#276419\"]],\"sequential\":[[0.0,\"#0d0887\"],[0.1111111111111111,\"#46039f\"],[0.2222222222222222,\"#7201a8\"],[0.3333333333333333,\"#9c179e\"],[0.4444444444444444,\"#bd3786\"],[0.5555555555555556,\"#d8576b\"],[0.6666666666666666,\"#ed7953\"],[0.7777777777777778,\"#fb9f3a\"],[0.8888888888888888,\"#fdca26\"],[1.0,\"#f0f921\"]],\"sequentialminus\":[[0.0,\"#0d0887\"],[0.1111111111111111,\"#46039f\"],[0.2222222222222222,\"#7201a8\"],[0.3333333333333333,\"#9c179e\"],[0.4444444444444444,\"#bd3786\"],[0.5555555555555556,\"#d8576b\"],[0.6666666666666666,\"#ed7953\"],[0.7777777777777778,\"#fb9f3a\"],[0.8888888888888888,\"#fdca26\"],[1.0,\"#f0f921\"]]},\"hovermode\":\"closest\",\"hoverlabel\":{\"align\":\"left\"},\"coloraxis\":{\"colorbar\":{\"outlinewidth\":0.0,\"ticks\":\"\"}},\"geo\":{\"showland\":true,\"landcolor\":\"rgba(229, 236, 246, 1.0)\",\"showlakes\":true,\"lakecolor\":\"rgba(255, 255, 255, 1.0)\",\"subunitcolor\":\"rgba(255, 255, 255, 1.0)\",\"bgcolor\":\"rgba(255, 255, 255, 1.0)\"},\"mapbox\":{\"style\":\"light\"},\"polar\":{\"bgcolor\":\"rgba(229, 236, 246, 1.0)\",\"radialaxis\":{\"linecolor\":\"rgba(255, 255, 255, 1.0)\",\"gridcolor\":\"rgba(255, 255, 255, 1.0)\",\"ticks\":\"\"},\"angularaxis\":{\"linecolor\":\"rgba(255, 255, 255, 1.0)\",\"gridcolor\":\"rgba(255, 255, 255, 1.0)\",\"ticks\":\"\"}},\"scene\":{\"xaxis\":{\"ticks\":\"\",\"linecolor\":\"rgba(255, 255, 255, 1.0)\",\"gridcolor\":\"rgba(255, 255, 255, 1.0)\",\"gridwidth\":2.0,\"zerolinecolor\":\"rgba(255, 255, 255, 1.0)\",\"backgroundcolor\":\"rgba(229, 236, 246, 1.0)\",\"showbackground\":true},\"yaxis\":{\"ticks\":\"\",\"linecolor\":\"rgba(255, 255, 255, 1.0)\",\"gridcolor\":\"rgba(255, 255, 255, 1.0)\",\"gridwidth\":2.0,\"zerolinecolor\":\"rgba(255, 255, 255, 1.0)\",\"backgroundcolor\":\"rgba(229, 236, 246, 1.0)\",\"showbackground\":true},\"zaxis\":{\"ticks\":\"\",\"linecolor\":\"rgba(255, 255, 255, 1.0)\",\"gridcolor\":\"rgba(255, 255, 255, 1.0)\",\"gridwidth\":2.0,\"zerolinecolor\":\"rgba(255, 255, 255, 1.0)\",\"backgroundcolor\":\"rgba(229, 236, 246, 1.0)\",\"showbackground\":true}},\"ternary\":{\"aaxis\":{\"ticks\":\"\",\"linecolor\":\"rgba(255, 255, 255, 1.0)\",\"gridcolor\":\"rgba(255, 255, 255, 1.0)\"},\"baxis\":{\"ticks\":\"\",\"linecolor\":\"rgba(255, 255, 255, 1.0)\",\"gridcolor\":\"rgba(255, 255, 255, 1.0)\"},\"caxis\":{\"ticks\":\"\",\"linecolor\":\"rgba(255, 255, 255, 1.0)\",\"gridcolor\":\"rgba(255, 255, 255, 1.0)\"},\"bgcolor\":\"rgba(229, 236, 246, 1.0)\"},\"xaxis\":{\"title\":{\"standoff\":15},\"ticks\":\"\",\"automargin\":\"height+width+left+right+top+bottom\",\"linecolor\":\"rgba(255, 255, 255, 1.0)\",\"gridcolor\":\"rgba(255, 255, 255, 1.0)\",\"zerolinecolor\":\"rgba(255, 255, 255, 1.0)\",\"zerolinewidth\":2.0},\"yaxis\":{\"title\":{\"standoff\":15},\"ticks\":\"\",\"automargin\":\"height+width+left+right+top+bottom\",\"linecolor\":\"rgba(255, 255, 255, 1.0)\",\"gridcolor\":\"rgba(255, 255, 255, 1.0)\",\"zerolinecolor\":\"rgba(255, 255, 255, 1.0)\",\"zerolinewidth\":2.0},\"annotationdefaults\":{\"arrowcolor\":\"#2a3f5f\",\"arrowhead\":0,\"arrowwidth\":1},\"shapedefaults\":{\"line\":{\"color\":\"rgba(42, 63, 95, 1.0)\"}},\"colorway\":[\"rgba(99, 110, 250, 1.0)\",\"rgba(239, 85, 59, 1.0)\",\"rgba(0, 204, 150, 1.0)\",\"rgba(171, 99, 250, 1.0)\",\"rgba(255, 161, 90, 1.0)\",\"rgba(25, 211, 243, 1.0)\",\"rgba(255, 102, 146, 1.0)\",\"rgba(182, 232, 128, 1.0)\",\"rgba(255, 151, 255, 1.0)\",\"rgba(254, 203, 82, 1.0)\"]},\"data\":{\"bar\":[{\"marker\":{\"line\":{\"color\":\"rgba(229, 236, 246, 1.0)\",\"width\":0.5},\"pattern\":{\"fillmode\":\"overlay\",\"size\":10,\"solidity\":0.2}},\"error_x\":{\"color\":\"rgba(42, 63, 95, 1.0)\"},\"error_y\":{\"color\":\"rgba(42, 63, 95, 1.0)\"}}],\"barpolar\":[{\"marker\":{\"line\":{\"color\":\"rgba(229, 236, 246, 1.0)\",\"width\":0.5},\"pattern\":{\"fillmode\":\"overlay\",\"size\":10,\"solidity\":0.2}}}],\"carpet\":[{\"aaxis\":{\"linecolor\":\"rgba(255, 255, 255, 1.0)\",\"gridcolor\":\"rgba(255, 255, 255, 1.0)\",\"endlinecolor\":\"rgba(42, 63, 95, 1.0)\",\"minorgridcolor\":\"rgba(255, 255, 255, 1.0)\",\"startlinecolor\":\"rgba(42, 63, 95, 1.0)\"},\"baxis\":{\"linecolor\":\"rgba(255, 255, 255, 1.0)\",\"gridcolor\":\"rgba(255, 255, 255, 1.0)\",\"endlinecolor\":\"rgba(42, 63, 95, 1.0)\",\"minorgridcolor\":\"rgba(255, 255, 255, 1.0)\",\"startlinecolor\":\"rgba(42, 63, 95, 1.0)\"}}],\"choropleth\":[{\"colorbar\":{\"outlinewidth\":0.0,\"ticks\":\"\"},\"colorscale\":[[0.0,\"#0d0887\"],[0.1111111111111111,\"#46039f\"],[0.2222222222222222,\"#7201a8\"],[0.3333333333333333,\"#9c179e\"],[0.4444444444444444,\"#bd3786\"],[0.5555555555555556,\"#d8576b\"],[0.6666666666666666,\"#ed7953\"],[0.7777777777777778,\"#fb9f3a\"],[0.8888888888888888,\"#fdca26\"],[1.0,\"#f0f921\"]]}],\"contour\":[{\"colorbar\":{\"outlinewidth\":0.0,\"ticks\":\"\"},\"colorscale\":[[0.0,\"#0d0887\"],[0.1111111111111111,\"#46039f\"],[0.2222222222222222,\"#7201a8\"],[0.3333333333333333,\"#9c179e\"],[0.4444444444444444,\"#bd3786\"],[0.5555555555555556,\"#d8576b\"],[0.6666666666666666,\"#ed7953\"],[0.7777777777777778,\"#fb9f3a\"],[0.8888888888888888,\"#fdca26\"],[1.0,\"#f0f921\"]]}],\"contourcarpet\":[{\"colorbar\":{\"outlinewidth\":0.0,\"ticks\":\"\"}}],\"heatmap\":[{\"colorbar\":{\"outlinewidth\":0.0,\"ticks\":\"\"},\"colorscale\":[[0.0,\"#0d0887\"],[0.1111111111111111,\"#46039f\"],[0.2222222222222222,\"#7201a8\"],[0.3333333333333333,\"#9c179e\"],[0.4444444444444444,\"#bd3786\"],[0.5555555555555556,\"#d8576b\"],[0.6666666666666666,\"#ed7953\"],[0.7777777777777778,\"#fb9f3a\"],[0.8888888888888888,\"#fdca26\"],[1.0,\"#f0f921\"]]}],\"heatmapgl\":[{\"colorbar\":{\"outlinewidth\":0.0,\"ticks\":\"\"},\"colorscale\":[[0.0,\"#0d0887\"],[0.1111111111111111,\"#46039f\"],[0.2222222222222222,\"#7201a8\"],[0.3333333333333333,\"#9c179e\"],[0.4444444444444444,\"#bd3786\"],[0.5555555555555556,\"#d8576b\"],[0.6666666666666666,\"#ed7953\"],[0.7777777777777778,\"#fb9f3a\"],[0.8888888888888888,\"#fdca26\"],[1.0,\"#f0f921\"]]}],\"histogram\":[{\"marker\":{\"pattern\":{\"fillmode\":\"overlay\",\"size\":10,\"solidity\":0.2}}}],\"histogram2d\":[{\"colorbar\":{\"outlinewidth\":0.0,\"ticks\":\"\"},\"colorscale\":[[0.0,\"#0d0887\"],[0.1111111111111111,\"#46039f\"],[0.2222222222222222,\"#7201a8\"],[0.3333333333333333,\"#9c179e\"],[0.4444444444444444,\"#bd3786\"],[0.5555555555555556,\"#d8576b\"],[0.6666666666666666,\"#ed7953\"],[0.7777777777777778,\"#fb9f3a\"],[0.8888888888888888,\"#fdca26\"],[1.0,\"#f0f921\"]]}],\"histogram2dcontour\":[{\"colorbar\":{\"outlinewidth\":0.0,\"ticks\":\"\"},\"colorscale\":[[0.0,\"#0d0887\"],[0.1111111111111111,\"#46039f\"],[0.2222222222222222,\"#7201a8\"],[0.3333333333333333,\"#9c179e\"],[0.4444444444444444,\"#bd3786\"],[0.5555555555555556,\"#d8576b\"],[0.6666666666666666,\"#ed7953\"],[0.7777777777777778,\"#fb9f3a\"],[0.8888888888888888,\"#fdca26\"],[1.0,\"#f0f921\"]]}],\"mesh3d\":[{\"colorbar\":{\"outlinewidth\":0.0,\"ticks\":\"\"}}],\"parcoords\":[{\"line\":{\"colorbar\":{\"outlinewidth\":0.0,\"ticks\":\"\"}}}],\"pie\":[{\"automargin\":true}],\"scatter\":[{\"marker\":{\"colorbar\":{\"outlinewidth\":0.0,\"ticks\":\"\"}}}],\"scatter3d\":[{\"marker\":{\"colorbar\":{\"outlinewidth\":0.0,\"ticks\":\"\"}},\"line\":{\"colorbar\":{\"outlinewidth\":0.0,\"ticks\":\"\"}}}],\"scattercarpet\":[{\"marker\":{\"colorbar\":{\"outlinewidth\":0.0,\"ticks\":\"\"}}}],\"scattergeo\":[{\"marker\":{\"colorbar\":{\"outlinewidth\":0.0,\"ticks\":\"\"}}}],\"scattergl\":[{\"marker\":{\"colorbar\":{\"outlinewidth\":0.0,\"ticks\":\"\"}}}],\"scattermapbox\":[{\"marker\":{\"colorbar\":{\"outlinewidth\":0.0,\"ticks\":\"\"}}}],\"scatterpolar\":[{\"marker\":{\"colorbar\":{\"outlinewidth\":0.0,\"ticks\":\"\"}}}],\"scatterpolargl\":[{\"marker\":{\"colorbar\":{\"outlinewidth\":0.0,\"ticks\":\"\"}}}],\"scatterternary\":[{\"marker\":{\"colorbar\":{\"outlinewidth\":0.0,\"ticks\":\"\"}}}],\"surface\":[{\"colorbar\":{\"outlinewidth\":0.0,\"ticks\":\"\"},\"colorscale\":[[0.0,\"#0d0887\"],[0.1111111111111111,\"#46039f\"],[0.2222222222222222,\"#7201a8\"],[0.3333333333333333,\"#9c179e\"],[0.4444444444444444,\"#bd3786\"],[0.5555555555555556,\"#d8576b\"],[0.6666666666666666,\"#ed7953\"],[0.7777777777777778,\"#fb9f3a\"],[0.8888888888888888,\"#fdca26\"],[1.0,\"#f0f921\"]]}],\"table\":[{\"cells\":{\"fill\":{\"color\":\"rgba(235, 240, 248, 1.0)\"},\"line\":{\"color\":\"rgba(255, 255, 255, 1.0)\"}},\"header\":{\"fill\":{\"color\":\"rgba(200, 212, 227, 1.0)\"},\"line\":{\"color\":\"rgba(255, 255, 255, 1.0)\"}}}]}}};\r\n",
       "        var config = {\"responsive\":true};\r\n",
       "        Plotly.newPlot('3842c550-c972-4461-b01d-07c0ea15ea71', data, layout, config);\r\n",
       "    });\r\n",
       "};\r\n",
       "if ((typeof(requirejs) !==  typeof(Function)) || (typeof(requirejs.config) !== typeof(Function))) {\r\n",
       "    var script = document.createElement(\"script\");\r\n",
       "    script.setAttribute(\"src\", \"https://cdnjs.cloudflare.com/ajax/libs/require.js/2.3.6/require.min.js\");\r\n",
       "    script.onload = function(){\r\n",
       "        renderPlotly_3842c550c9724461b01d07c0ea15ea71();\r\n",
       "    };\r\n",
       "    document.getElementsByTagName(\"head\")[0].appendChild(script);\r\n",
       "}\r\n",
       "else {\r\n",
       "    renderPlotly_3842c550c9724461b01d07c0ea15ea71();\r\n",
       "}\r\n",
       "</script></div>"
      ]
     },
     "metadata": {},
     "output_type": "display_data"
    }
   ],
   "source": [
    "open Plotly.NET\n",
    "let xData = [ 0. .. 10. ]\n",
    "let yData = [ 0. .. 10. ]\n",
    "let myFirstChart = Chart.Point(xData, yData)\n",
    "\n",
    "myFirstChart"
   ]
  },
  {
   "attachments": {},
   "cell_type": "markdown",
   "metadata": {
    "dotnet_interactive": {
     "language": "csharp"
    },
    "polyglot_notebook": {
     "kernelName": "csharp"
    }
   },
   "source": [
    "The code above is written in F# and uses the Plotly.NET library to create a scatter plot. The first line open Plotly.NET opens the Plotly.NET library for use in the code. The next two lines define two lists xData and yData, each containing values from 0 to 10 with an increment of 1. The fourth line creates a scatter plot using the Chart.Point function from the Plotly.NET library, with xData as the x-axis values and yData as the y-axis values. The resulting chart is assigned to the variable myFirstChart. The last line displays the chart. Now using the csvs generated from the bash scripts, we can generate bar graphs using F#.\n"
   ]
  },
  {
   "cell_type": "code",
   "execution_count": 115,
   "metadata": {
    "dotnet_interactive": {
     "language": "csharp"
    },
    "polyglot_notebook": {
     "kernelName": "csharp"
    },
    "vscode": {
     "languageId": "polyglot-notebook"
    }
   },
   "outputs": [],
   "source": [
    "using System.IO;\n",
    "using System.Linq;\n",
    "using System.Globalization;\n",
    "using CsvHelper;\n",
    "using System;\n",
    "\n",
    "// Read data from CSV file\n",
    "var records = new List<dynamic>();\n",
    "using (var reader = new StreamReader(\"data/changes_by_file.csv\"))\n",
    "using (var csv = new CsvReader(reader, CultureInfo.InvariantCulture))\n",
    "{\n",
    "    records = csv.GetRecords<dynamic>().ToList();\n",
    "}\n",
    "\n",
    "// Extract data for chart\n",
    "var counts = records.Select(r => r.Count);\n",
    "var file = records.Select(r => r.File);\n",
    "\n",
    "// export authors as list of string\n",
    "var countsList = counts.ToList();\n",
    "// get value from counts\n",
    "var fileList = file.ToList();"
   ]
  },
  {
   "cell_type": "code",
   "execution_count": 116,
   "metadata": {
    "dotnet_interactive": {
     "language": "fsharp"
    },
    "polyglot_notebook": {
     "kernelName": "fsharp"
    },
    "vscode": {
     "languageId": "polyglot-notebook"
    }
   },
   "outputs": [
    {
     "data": {
      "text/html": [
       "<div><div id=\"94ac42a1-d4ff-4ad5-84ca-9fa2130bb0c3\"><!-- Plotly chart will be drawn inside this DIV --></div><script type=\"text/javascript\">\r\n",
       "var renderPlotly_94ac42a1d4ff4ad584ca9fa2130bb0c3 = function() {\r\n",
       "    var fsharpPlotlyRequire = requirejs.config({context:'fsharp-plotly',paths:{plotly:'https://cdn.plot.ly/plotly-2.18.1.min'}}) || require;\r\n",
       "    fsharpPlotlyRequire(['plotly'], function(Plotly) {\r\n",
       "        var data = [{\"type\":\"bar\",\"x\":[\"README.md\",\"introtocsharp.ipynb\",\"scripts/changes_by_file.sh\",\"scripts/rank_simple.sh\",\"introtocsharp.html\"],\"y\":[7.0,12.0,3.0,1.0,4.0],\"orientation\":\"v\",\"marker\":{\"pattern\":{}}}];\r\n",
       "        var layout = {\"width\":600,\"height\":600,\"template\":{\"layout\":{\"title\":{\"x\":0.05},\"font\":{\"color\":\"rgba(42, 63, 95, 1.0)\"},\"paper_bgcolor\":\"rgba(255, 255, 255, 1.0)\",\"plot_bgcolor\":\"rgba(229, 236, 246, 1.0)\",\"autotypenumbers\":\"strict\",\"colorscale\":{\"diverging\":[[0.0,\"#8e0152\"],[0.1,\"#c51b7d\"],[0.2,\"#de77ae\"],[0.3,\"#f1b6da\"],[0.4,\"#fde0ef\"],[0.5,\"#f7f7f7\"],[0.6,\"#e6f5d0\"],[0.7,\"#b8e186\"],[0.8,\"#7fbc41\"],[0.9,\"#4d9221\"],[1.0,\"#276419\"]],\"sequential\":[[0.0,\"#0d0887\"],[0.1111111111111111,\"#46039f\"],[0.2222222222222222,\"#7201a8\"],[0.3333333333333333,\"#9c179e\"],[0.4444444444444444,\"#bd3786\"],[0.5555555555555556,\"#d8576b\"],[0.6666666666666666,\"#ed7953\"],[0.7777777777777778,\"#fb9f3a\"],[0.8888888888888888,\"#fdca26\"],[1.0,\"#f0f921\"]],\"sequentialminus\":[[0.0,\"#0d0887\"],[0.1111111111111111,\"#46039f\"],[0.2222222222222222,\"#7201a8\"],[0.3333333333333333,\"#9c179e\"],[0.4444444444444444,\"#bd3786\"],[0.5555555555555556,\"#d8576b\"],[0.6666666666666666,\"#ed7953\"],[0.7777777777777778,\"#fb9f3a\"],[0.8888888888888888,\"#fdca26\"],[1.0,\"#f0f921\"]]},\"hovermode\":\"closest\",\"hoverlabel\":{\"align\":\"left\"},\"coloraxis\":{\"colorbar\":{\"outlinewidth\":0.0,\"ticks\":\"\"}},\"geo\":{\"showland\":true,\"landcolor\":\"rgba(229, 236, 246, 1.0)\",\"showlakes\":true,\"lakecolor\":\"rgba(255, 255, 255, 1.0)\",\"subunitcolor\":\"rgba(255, 255, 255, 1.0)\",\"bgcolor\":\"rgba(255, 255, 255, 1.0)\"},\"mapbox\":{\"style\":\"light\"},\"polar\":{\"bgcolor\":\"rgba(229, 236, 246, 1.0)\",\"radialaxis\":{\"linecolor\":\"rgba(255, 255, 255, 1.0)\",\"gridcolor\":\"rgba(255, 255, 255, 1.0)\",\"ticks\":\"\"},\"angularaxis\":{\"linecolor\":\"rgba(255, 255, 255, 1.0)\",\"gridcolor\":\"rgba(255, 255, 255, 1.0)\",\"ticks\":\"\"}},\"scene\":{\"xaxis\":{\"ticks\":\"\",\"linecolor\":\"rgba(255, 255, 255, 1.0)\",\"gridcolor\":\"rgba(255, 255, 255, 1.0)\",\"gridwidth\":2.0,\"zerolinecolor\":\"rgba(255, 255, 255, 1.0)\",\"backgroundcolor\":\"rgba(229, 236, 246, 1.0)\",\"showbackground\":true},\"yaxis\":{\"ticks\":\"\",\"linecolor\":\"rgba(255, 255, 255, 1.0)\",\"gridcolor\":\"rgba(255, 255, 255, 1.0)\",\"gridwidth\":2.0,\"zerolinecolor\":\"rgba(255, 255, 255, 1.0)\",\"backgroundcolor\":\"rgba(229, 236, 246, 1.0)\",\"showbackground\":true},\"zaxis\":{\"ticks\":\"\",\"linecolor\":\"rgba(255, 255, 255, 1.0)\",\"gridcolor\":\"rgba(255, 255, 255, 1.0)\",\"gridwidth\":2.0,\"zerolinecolor\":\"rgba(255, 255, 255, 1.0)\",\"backgroundcolor\":\"rgba(229, 236, 246, 1.0)\",\"showbackground\":true}},\"ternary\":{\"aaxis\":{\"ticks\":\"\",\"linecolor\":\"rgba(255, 255, 255, 1.0)\",\"gridcolor\":\"rgba(255, 255, 255, 1.0)\"},\"baxis\":{\"ticks\":\"\",\"linecolor\":\"rgba(255, 255, 255, 1.0)\",\"gridcolor\":\"rgba(255, 255, 255, 1.0)\"},\"caxis\":{\"ticks\":\"\",\"linecolor\":\"rgba(255, 255, 255, 1.0)\",\"gridcolor\":\"rgba(255, 255, 255, 1.0)\"},\"bgcolor\":\"rgba(229, 236, 246, 1.0)\"},\"xaxis\":{\"title\":{\"standoff\":15},\"ticks\":\"\",\"automargin\":\"height+width+left+right+top+bottom\",\"linecolor\":\"rgba(255, 255, 255, 1.0)\",\"gridcolor\":\"rgba(255, 255, 255, 1.0)\",\"zerolinecolor\":\"rgba(255, 255, 255, 1.0)\",\"zerolinewidth\":2.0},\"yaxis\":{\"title\":{\"standoff\":15},\"ticks\":\"\",\"automargin\":\"height+width+left+right+top+bottom\",\"linecolor\":\"rgba(255, 255, 255, 1.0)\",\"gridcolor\":\"rgba(255, 255, 255, 1.0)\",\"zerolinecolor\":\"rgba(255, 255, 255, 1.0)\",\"zerolinewidth\":2.0},\"annotationdefaults\":{\"arrowcolor\":\"#2a3f5f\",\"arrowhead\":0,\"arrowwidth\":1},\"shapedefaults\":{\"line\":{\"color\":\"rgba(42, 63, 95, 1.0)\"}},\"colorway\":[\"rgba(99, 110, 250, 1.0)\",\"rgba(239, 85, 59, 1.0)\",\"rgba(0, 204, 150, 1.0)\",\"rgba(171, 99, 250, 1.0)\",\"rgba(255, 161, 90, 1.0)\",\"rgba(25, 211, 243, 1.0)\",\"rgba(255, 102, 146, 1.0)\",\"rgba(182, 232, 128, 1.0)\",\"rgba(255, 151, 255, 1.0)\",\"rgba(254, 203, 82, 1.0)\"]},\"data\":{\"bar\":[{\"marker\":{\"line\":{\"color\":\"rgba(229, 236, 246, 1.0)\",\"width\":0.5},\"pattern\":{\"fillmode\":\"overlay\",\"size\":10,\"solidity\":0.2}},\"error_x\":{\"color\":\"rgba(42, 63, 95, 1.0)\"},\"error_y\":{\"color\":\"rgba(42, 63, 95, 1.0)\"}}],\"barpolar\":[{\"marker\":{\"line\":{\"color\":\"rgba(229, 236, 246, 1.0)\",\"width\":0.5},\"pattern\":{\"fillmode\":\"overlay\",\"size\":10,\"solidity\":0.2}}}],\"carpet\":[{\"aaxis\":{\"linecolor\":\"rgba(255, 255, 255, 1.0)\",\"gridcolor\":\"rgba(255, 255, 255, 1.0)\",\"endlinecolor\":\"rgba(42, 63, 95, 1.0)\",\"minorgridcolor\":\"rgba(255, 255, 255, 1.0)\",\"startlinecolor\":\"rgba(42, 63, 95, 1.0)\"},\"baxis\":{\"linecolor\":\"rgba(255, 255, 255, 1.0)\",\"gridcolor\":\"rgba(255, 255, 255, 1.0)\",\"endlinecolor\":\"rgba(42, 63, 95, 1.0)\",\"minorgridcolor\":\"rgba(255, 255, 255, 1.0)\",\"startlinecolor\":\"rgba(42, 63, 95, 1.0)\"}}],\"choropleth\":[{\"colorbar\":{\"outlinewidth\":0.0,\"ticks\":\"\"},\"colorscale\":[[0.0,\"#0d0887\"],[0.1111111111111111,\"#46039f\"],[0.2222222222222222,\"#7201a8\"],[0.3333333333333333,\"#9c179e\"],[0.4444444444444444,\"#bd3786\"],[0.5555555555555556,\"#d8576b\"],[0.6666666666666666,\"#ed7953\"],[0.7777777777777778,\"#fb9f3a\"],[0.8888888888888888,\"#fdca26\"],[1.0,\"#f0f921\"]]}],\"contour\":[{\"colorbar\":{\"outlinewidth\":0.0,\"ticks\":\"\"},\"colorscale\":[[0.0,\"#0d0887\"],[0.1111111111111111,\"#46039f\"],[0.2222222222222222,\"#7201a8\"],[0.3333333333333333,\"#9c179e\"],[0.4444444444444444,\"#bd3786\"],[0.5555555555555556,\"#d8576b\"],[0.6666666666666666,\"#ed7953\"],[0.7777777777777778,\"#fb9f3a\"],[0.8888888888888888,\"#fdca26\"],[1.0,\"#f0f921\"]]}],\"contourcarpet\":[{\"colorbar\":{\"outlinewidth\":0.0,\"ticks\":\"\"}}],\"heatmap\":[{\"colorbar\":{\"outlinewidth\":0.0,\"ticks\":\"\"},\"colorscale\":[[0.0,\"#0d0887\"],[0.1111111111111111,\"#46039f\"],[0.2222222222222222,\"#7201a8\"],[0.3333333333333333,\"#9c179e\"],[0.4444444444444444,\"#bd3786\"],[0.5555555555555556,\"#d8576b\"],[0.6666666666666666,\"#ed7953\"],[0.7777777777777778,\"#fb9f3a\"],[0.8888888888888888,\"#fdca26\"],[1.0,\"#f0f921\"]]}],\"heatmapgl\":[{\"colorbar\":{\"outlinewidth\":0.0,\"ticks\":\"\"},\"colorscale\":[[0.0,\"#0d0887\"],[0.1111111111111111,\"#46039f\"],[0.2222222222222222,\"#7201a8\"],[0.3333333333333333,\"#9c179e\"],[0.4444444444444444,\"#bd3786\"],[0.5555555555555556,\"#d8576b\"],[0.6666666666666666,\"#ed7953\"],[0.7777777777777778,\"#fb9f3a\"],[0.8888888888888888,\"#fdca26\"],[1.0,\"#f0f921\"]]}],\"histogram\":[{\"marker\":{\"pattern\":{\"fillmode\":\"overlay\",\"size\":10,\"solidity\":0.2}}}],\"histogram2d\":[{\"colorbar\":{\"outlinewidth\":0.0,\"ticks\":\"\"},\"colorscale\":[[0.0,\"#0d0887\"],[0.1111111111111111,\"#46039f\"],[0.2222222222222222,\"#7201a8\"],[0.3333333333333333,\"#9c179e\"],[0.4444444444444444,\"#bd3786\"],[0.5555555555555556,\"#d8576b\"],[0.6666666666666666,\"#ed7953\"],[0.7777777777777778,\"#fb9f3a\"],[0.8888888888888888,\"#fdca26\"],[1.0,\"#f0f921\"]]}],\"histogram2dcontour\":[{\"colorbar\":{\"outlinewidth\":0.0,\"ticks\":\"\"},\"colorscale\":[[0.0,\"#0d0887\"],[0.1111111111111111,\"#46039f\"],[0.2222222222222222,\"#7201a8\"],[0.3333333333333333,\"#9c179e\"],[0.4444444444444444,\"#bd3786\"],[0.5555555555555556,\"#d8576b\"],[0.6666666666666666,\"#ed7953\"],[0.7777777777777778,\"#fb9f3a\"],[0.8888888888888888,\"#fdca26\"],[1.0,\"#f0f921\"]]}],\"mesh3d\":[{\"colorbar\":{\"outlinewidth\":0.0,\"ticks\":\"\"}}],\"parcoords\":[{\"line\":{\"colorbar\":{\"outlinewidth\":0.0,\"ticks\":\"\"}}}],\"pie\":[{\"automargin\":true}],\"scatter\":[{\"marker\":{\"colorbar\":{\"outlinewidth\":0.0,\"ticks\":\"\"}}}],\"scatter3d\":[{\"marker\":{\"colorbar\":{\"outlinewidth\":0.0,\"ticks\":\"\"}},\"line\":{\"colorbar\":{\"outlinewidth\":0.0,\"ticks\":\"\"}}}],\"scattercarpet\":[{\"marker\":{\"colorbar\":{\"outlinewidth\":0.0,\"ticks\":\"\"}}}],\"scattergeo\":[{\"marker\":{\"colorbar\":{\"outlinewidth\":0.0,\"ticks\":\"\"}}}],\"scattergl\":[{\"marker\":{\"colorbar\":{\"outlinewidth\":0.0,\"ticks\":\"\"}}}],\"scattermapbox\":[{\"marker\":{\"colorbar\":{\"outlinewidth\":0.0,\"ticks\":\"\"}}}],\"scatterpolar\":[{\"marker\":{\"colorbar\":{\"outlinewidth\":0.0,\"ticks\":\"\"}}}],\"scatterpolargl\":[{\"marker\":{\"colorbar\":{\"outlinewidth\":0.0,\"ticks\":\"\"}}}],\"scatterternary\":[{\"marker\":{\"colorbar\":{\"outlinewidth\":0.0,\"ticks\":\"\"}}}],\"surface\":[{\"colorbar\":{\"outlinewidth\":0.0,\"ticks\":\"\"},\"colorscale\":[[0.0,\"#0d0887\"],[0.1111111111111111,\"#46039f\"],[0.2222222222222222,\"#7201a8\"],[0.3333333333333333,\"#9c179e\"],[0.4444444444444444,\"#bd3786\"],[0.5555555555555556,\"#d8576b\"],[0.6666666666666666,\"#ed7953\"],[0.7777777777777778,\"#fb9f3a\"],[0.8888888888888888,\"#fdca26\"],[1.0,\"#f0f921\"]]}],\"table\":[{\"cells\":{\"fill\":{\"color\":\"rgba(235, 240, 248, 1.0)\"},\"line\":{\"color\":\"rgba(255, 255, 255, 1.0)\"}},\"header\":{\"fill\":{\"color\":\"rgba(200, 212, 227, 1.0)\"},\"line\":{\"color\":\"rgba(255, 255, 255, 1.0)\"}}}]}}};\r\n",
       "        var config = {\"responsive\":true};\r\n",
       "        Plotly.newPlot('94ac42a1-d4ff-4ad5-84ca-9fa2130bb0c3', data, layout, config);\r\n",
       "    });\r\n",
       "};\r\n",
       "if ((typeof(requirejs) !==  typeof(Function)) || (typeof(requirejs.config) !== typeof(Function))) {\r\n",
       "    var script = document.createElement(\"script\");\r\n",
       "    script.setAttribute(\"src\", \"https://cdnjs.cloudflare.com/ajax/libs/require.js/2.3.6/require.min.js\");\r\n",
       "    script.onload = function(){\r\n",
       "        renderPlotly_94ac42a1d4ff4ad584ca9fa2130bb0c3();\r\n",
       "    };\r\n",
       "    document.getElementsByTagName(\"head\")[0].appendChild(script);\r\n",
       "}\r\n",
       "else {\r\n",
       "    renderPlotly_94ac42a1d4ff4ad584ca9fa2130bb0c3();\r\n",
       "}\r\n",
       "</script></div>"
      ]
     },
     "metadata": {},
     "output_type": "display_data"
    }
   ],
   "source": [
    "#!share --from csharp countsList\n",
    "#!share --from csharp fileList\n",
    "open Plotly.NET\n",
    "let intList = countsList |> Seq.cast<string> |> List.ofSeq |> List.map System.Double.Parse\n",
    "intList |> List.map (fun x -> double x)\n",
    "let newKeys = fileList |> Seq.cast<string> |> List.ofSeq\n",
    "let column = Chart.Column(values = intList, Keys = newKeys)\n",
    "column"
   ]
  },
  {
   "cell_type": "code",
   "execution_count": 117,
   "metadata": {
    "dotnet_interactive": {
     "language": "csharp"
    },
    "polyglot_notebook": {
     "kernelName": "csharp"
    },
    "vscode": {
     "languageId": "polyglot-notebook"
    }
   },
   "outputs": [],
   "source": [
    "using System.IO;\n",
    "using System.Linq;\n",
    "using CsvHelper;\n",
    "using System.Globalization;\n",
    "using System;\n",
    "\n",
    "// Read data from CSV file\n",
    "var recordsSimple = new List<dynamic>();\n",
    "using (var reader = new StreamReader(\"data/rank_simple.csv\"))\n",
    "using (var csv = new CsvReader(reader, CultureInfo.InvariantCulture))\n",
    "{\n",
    "    recordsSimple = csv.GetRecords<dynamic>().ToList();\n",
    "}\n",
    "\n",
    "// Extract data for chart\n",
    "var countsAuth = recordsSimple.Select(r => r.Count);\n",
    "var authors = recordsSimple.Select(r => r.Author);\n",
    "\n",
    "// export authors as list of string\n",
    "var countsAuthList = countsAuth.ToList();\n",
    "// get value from counts\n",
    "var authorsList = authors.ToList();"
   ]
  },
  {
   "cell_type": "code",
   "execution_count": 118,
   "metadata": {
    "dotnet_interactive": {
     "language": "fsharp"
    },
    "polyglot_notebook": {
     "kernelName": "fsharp"
    },
    "vscode": {
     "languageId": "polyglot-notebook"
    }
   },
   "outputs": [
    {
     "data": {
      "text/html": [
       "<div><div id=\"ae05c551-5f2c-4da5-8aa1-0ce8cee98fea\"><!-- Plotly chart will be drawn inside this DIV --></div><script type=\"text/javascript\">\r\n",
       "var renderPlotly_ae05c5515f2c4da58aa10ce8cee98fea = function() {\r\n",
       "    var fsharpPlotlyRequire = requirejs.config({context:'fsharp-plotly',paths:{plotly:'https://cdn.plot.ly/plotly-2.18.1.min'}}) || require;\r\n",
       "    fsharpPlotlyRequire(['plotly'], function(Plotly) {\r\n",
       "        var data = [{\"type\":\"bar\",\"x\":[\"David Li\"],\"y\":[15.0],\"orientation\":\"v\",\"marker\":{\"pattern\":{}}}];\r\n",
       "        var layout = {\"width\":600,\"height\":600,\"template\":{\"layout\":{\"title\":{\"x\":0.05},\"font\":{\"color\":\"rgba(42, 63, 95, 1.0)\"},\"paper_bgcolor\":\"rgba(255, 255, 255, 1.0)\",\"plot_bgcolor\":\"rgba(229, 236, 246, 1.0)\",\"autotypenumbers\":\"strict\",\"colorscale\":{\"diverging\":[[0.0,\"#8e0152\"],[0.1,\"#c51b7d\"],[0.2,\"#de77ae\"],[0.3,\"#f1b6da\"],[0.4,\"#fde0ef\"],[0.5,\"#f7f7f7\"],[0.6,\"#e6f5d0\"],[0.7,\"#b8e186\"],[0.8,\"#7fbc41\"],[0.9,\"#4d9221\"],[1.0,\"#276419\"]],\"sequential\":[[0.0,\"#0d0887\"],[0.1111111111111111,\"#46039f\"],[0.2222222222222222,\"#7201a8\"],[0.3333333333333333,\"#9c179e\"],[0.4444444444444444,\"#bd3786\"],[0.5555555555555556,\"#d8576b\"],[0.6666666666666666,\"#ed7953\"],[0.7777777777777778,\"#fb9f3a\"],[0.8888888888888888,\"#fdca26\"],[1.0,\"#f0f921\"]],\"sequentialminus\":[[0.0,\"#0d0887\"],[0.1111111111111111,\"#46039f\"],[0.2222222222222222,\"#7201a8\"],[0.3333333333333333,\"#9c179e\"],[0.4444444444444444,\"#bd3786\"],[0.5555555555555556,\"#d8576b\"],[0.6666666666666666,\"#ed7953\"],[0.7777777777777778,\"#fb9f3a\"],[0.8888888888888888,\"#fdca26\"],[1.0,\"#f0f921\"]]},\"hovermode\":\"closest\",\"hoverlabel\":{\"align\":\"left\"},\"coloraxis\":{\"colorbar\":{\"outlinewidth\":0.0,\"ticks\":\"\"}},\"geo\":{\"showland\":true,\"landcolor\":\"rgba(229, 236, 246, 1.0)\",\"showlakes\":true,\"lakecolor\":\"rgba(255, 255, 255, 1.0)\",\"subunitcolor\":\"rgba(255, 255, 255, 1.0)\",\"bgcolor\":\"rgba(255, 255, 255, 1.0)\"},\"mapbox\":{\"style\":\"light\"},\"polar\":{\"bgcolor\":\"rgba(229, 236, 246, 1.0)\",\"radialaxis\":{\"linecolor\":\"rgba(255, 255, 255, 1.0)\",\"gridcolor\":\"rgba(255, 255, 255, 1.0)\",\"ticks\":\"\"},\"angularaxis\":{\"linecolor\":\"rgba(255, 255, 255, 1.0)\",\"gridcolor\":\"rgba(255, 255, 255, 1.0)\",\"ticks\":\"\"}},\"scene\":{\"xaxis\":{\"ticks\":\"\",\"linecolor\":\"rgba(255, 255, 255, 1.0)\",\"gridcolor\":\"rgba(255, 255, 255, 1.0)\",\"gridwidth\":2.0,\"zerolinecolor\":\"rgba(255, 255, 255, 1.0)\",\"backgroundcolor\":\"rgba(229, 236, 246, 1.0)\",\"showbackground\":true},\"yaxis\":{\"ticks\":\"\",\"linecolor\":\"rgba(255, 255, 255, 1.0)\",\"gridcolor\":\"rgba(255, 255, 255, 1.0)\",\"gridwidth\":2.0,\"zerolinecolor\":\"rgba(255, 255, 255, 1.0)\",\"backgroundcolor\":\"rgba(229, 236, 246, 1.0)\",\"showbackground\":true},\"zaxis\":{\"ticks\":\"\",\"linecolor\":\"rgba(255, 255, 255, 1.0)\",\"gridcolor\":\"rgba(255, 255, 255, 1.0)\",\"gridwidth\":2.0,\"zerolinecolor\":\"rgba(255, 255, 255, 1.0)\",\"backgroundcolor\":\"rgba(229, 236, 246, 1.0)\",\"showbackground\":true}},\"ternary\":{\"aaxis\":{\"ticks\":\"\",\"linecolor\":\"rgba(255, 255, 255, 1.0)\",\"gridcolor\":\"rgba(255, 255, 255, 1.0)\"},\"baxis\":{\"ticks\":\"\",\"linecolor\":\"rgba(255, 255, 255, 1.0)\",\"gridcolor\":\"rgba(255, 255, 255, 1.0)\"},\"caxis\":{\"ticks\":\"\",\"linecolor\":\"rgba(255, 255, 255, 1.0)\",\"gridcolor\":\"rgba(255, 255, 255, 1.0)\"},\"bgcolor\":\"rgba(229, 236, 246, 1.0)\"},\"xaxis\":{\"title\":{\"standoff\":15},\"ticks\":\"\",\"automargin\":\"height+width+left+right+top+bottom\",\"linecolor\":\"rgba(255, 255, 255, 1.0)\",\"gridcolor\":\"rgba(255, 255, 255, 1.0)\",\"zerolinecolor\":\"rgba(255, 255, 255, 1.0)\",\"zerolinewidth\":2.0},\"yaxis\":{\"title\":{\"standoff\":15},\"ticks\":\"\",\"automargin\":\"height+width+left+right+top+bottom\",\"linecolor\":\"rgba(255, 255, 255, 1.0)\",\"gridcolor\":\"rgba(255, 255, 255, 1.0)\",\"zerolinecolor\":\"rgba(255, 255, 255, 1.0)\",\"zerolinewidth\":2.0},\"annotationdefaults\":{\"arrowcolor\":\"#2a3f5f\",\"arrowhead\":0,\"arrowwidth\":1},\"shapedefaults\":{\"line\":{\"color\":\"rgba(42, 63, 95, 1.0)\"}},\"colorway\":[\"rgba(99, 110, 250, 1.0)\",\"rgba(239, 85, 59, 1.0)\",\"rgba(0, 204, 150, 1.0)\",\"rgba(171, 99, 250, 1.0)\",\"rgba(255, 161, 90, 1.0)\",\"rgba(25, 211, 243, 1.0)\",\"rgba(255, 102, 146, 1.0)\",\"rgba(182, 232, 128, 1.0)\",\"rgba(255, 151, 255, 1.0)\",\"rgba(254, 203, 82, 1.0)\"]},\"data\":{\"bar\":[{\"marker\":{\"line\":{\"color\":\"rgba(229, 236, 246, 1.0)\",\"width\":0.5},\"pattern\":{\"fillmode\":\"overlay\",\"size\":10,\"solidity\":0.2}},\"error_x\":{\"color\":\"rgba(42, 63, 95, 1.0)\"},\"error_y\":{\"color\":\"rgba(42, 63, 95, 1.0)\"}}],\"barpolar\":[{\"marker\":{\"line\":{\"color\":\"rgba(229, 236, 246, 1.0)\",\"width\":0.5},\"pattern\":{\"fillmode\":\"overlay\",\"size\":10,\"solidity\":0.2}}}],\"carpet\":[{\"aaxis\":{\"linecolor\":\"rgba(255, 255, 255, 1.0)\",\"gridcolor\":\"rgba(255, 255, 255, 1.0)\",\"endlinecolor\":\"rgba(42, 63, 95, 1.0)\",\"minorgridcolor\":\"rgba(255, 255, 255, 1.0)\",\"startlinecolor\":\"rgba(42, 63, 95, 1.0)\"},\"baxis\":{\"linecolor\":\"rgba(255, 255, 255, 1.0)\",\"gridcolor\":\"rgba(255, 255, 255, 1.0)\",\"endlinecolor\":\"rgba(42, 63, 95, 1.0)\",\"minorgridcolor\":\"rgba(255, 255, 255, 1.0)\",\"startlinecolor\":\"rgba(42, 63, 95, 1.0)\"}}],\"choropleth\":[{\"colorbar\":{\"outlinewidth\":0.0,\"ticks\":\"\"},\"colorscale\":[[0.0,\"#0d0887\"],[0.1111111111111111,\"#46039f\"],[0.2222222222222222,\"#7201a8\"],[0.3333333333333333,\"#9c179e\"],[0.4444444444444444,\"#bd3786\"],[0.5555555555555556,\"#d8576b\"],[0.6666666666666666,\"#ed7953\"],[0.7777777777777778,\"#fb9f3a\"],[0.8888888888888888,\"#fdca26\"],[1.0,\"#f0f921\"]]}],\"contour\":[{\"colorbar\":{\"outlinewidth\":0.0,\"ticks\":\"\"},\"colorscale\":[[0.0,\"#0d0887\"],[0.1111111111111111,\"#46039f\"],[0.2222222222222222,\"#7201a8\"],[0.3333333333333333,\"#9c179e\"],[0.4444444444444444,\"#bd3786\"],[0.5555555555555556,\"#d8576b\"],[0.6666666666666666,\"#ed7953\"],[0.7777777777777778,\"#fb9f3a\"],[0.8888888888888888,\"#fdca26\"],[1.0,\"#f0f921\"]]}],\"contourcarpet\":[{\"colorbar\":{\"outlinewidth\":0.0,\"ticks\":\"\"}}],\"heatmap\":[{\"colorbar\":{\"outlinewidth\":0.0,\"ticks\":\"\"},\"colorscale\":[[0.0,\"#0d0887\"],[0.1111111111111111,\"#46039f\"],[0.2222222222222222,\"#7201a8\"],[0.3333333333333333,\"#9c179e\"],[0.4444444444444444,\"#bd3786\"],[0.5555555555555556,\"#d8576b\"],[0.6666666666666666,\"#ed7953\"],[0.7777777777777778,\"#fb9f3a\"],[0.8888888888888888,\"#fdca26\"],[1.0,\"#f0f921\"]]}],\"heatmapgl\":[{\"colorbar\":{\"outlinewidth\":0.0,\"ticks\":\"\"},\"colorscale\":[[0.0,\"#0d0887\"],[0.1111111111111111,\"#46039f\"],[0.2222222222222222,\"#7201a8\"],[0.3333333333333333,\"#9c179e\"],[0.4444444444444444,\"#bd3786\"],[0.5555555555555556,\"#d8576b\"],[0.6666666666666666,\"#ed7953\"],[0.7777777777777778,\"#fb9f3a\"],[0.8888888888888888,\"#fdca26\"],[1.0,\"#f0f921\"]]}],\"histogram\":[{\"marker\":{\"pattern\":{\"fillmode\":\"overlay\",\"size\":10,\"solidity\":0.2}}}],\"histogram2d\":[{\"colorbar\":{\"outlinewidth\":0.0,\"ticks\":\"\"},\"colorscale\":[[0.0,\"#0d0887\"],[0.1111111111111111,\"#46039f\"],[0.2222222222222222,\"#7201a8\"],[0.3333333333333333,\"#9c179e\"],[0.4444444444444444,\"#bd3786\"],[0.5555555555555556,\"#d8576b\"],[0.6666666666666666,\"#ed7953\"],[0.7777777777777778,\"#fb9f3a\"],[0.8888888888888888,\"#fdca26\"],[1.0,\"#f0f921\"]]}],\"histogram2dcontour\":[{\"colorbar\":{\"outlinewidth\":0.0,\"ticks\":\"\"},\"colorscale\":[[0.0,\"#0d0887\"],[0.1111111111111111,\"#46039f\"],[0.2222222222222222,\"#7201a8\"],[0.3333333333333333,\"#9c179e\"],[0.4444444444444444,\"#bd3786\"],[0.5555555555555556,\"#d8576b\"],[0.6666666666666666,\"#ed7953\"],[0.7777777777777778,\"#fb9f3a\"],[0.8888888888888888,\"#fdca26\"],[1.0,\"#f0f921\"]]}],\"mesh3d\":[{\"colorbar\":{\"outlinewidth\":0.0,\"ticks\":\"\"}}],\"parcoords\":[{\"line\":{\"colorbar\":{\"outlinewidth\":0.0,\"ticks\":\"\"}}}],\"pie\":[{\"automargin\":true}],\"scatter\":[{\"marker\":{\"colorbar\":{\"outlinewidth\":0.0,\"ticks\":\"\"}}}],\"scatter3d\":[{\"marker\":{\"colorbar\":{\"outlinewidth\":0.0,\"ticks\":\"\"}},\"line\":{\"colorbar\":{\"outlinewidth\":0.0,\"ticks\":\"\"}}}],\"scattercarpet\":[{\"marker\":{\"colorbar\":{\"outlinewidth\":0.0,\"ticks\":\"\"}}}],\"scattergeo\":[{\"marker\":{\"colorbar\":{\"outlinewidth\":0.0,\"ticks\":\"\"}}}],\"scattergl\":[{\"marker\":{\"colorbar\":{\"outlinewidth\":0.0,\"ticks\":\"\"}}}],\"scattermapbox\":[{\"marker\":{\"colorbar\":{\"outlinewidth\":0.0,\"ticks\":\"\"}}}],\"scatterpolar\":[{\"marker\":{\"colorbar\":{\"outlinewidth\":0.0,\"ticks\":\"\"}}}],\"scatterpolargl\":[{\"marker\":{\"colorbar\":{\"outlinewidth\":0.0,\"ticks\":\"\"}}}],\"scatterternary\":[{\"marker\":{\"colorbar\":{\"outlinewidth\":0.0,\"ticks\":\"\"}}}],\"surface\":[{\"colorbar\":{\"outlinewidth\":0.0,\"ticks\":\"\"},\"colorscale\":[[0.0,\"#0d0887\"],[0.1111111111111111,\"#46039f\"],[0.2222222222222222,\"#7201a8\"],[0.3333333333333333,\"#9c179e\"],[0.4444444444444444,\"#bd3786\"],[0.5555555555555556,\"#d8576b\"],[0.6666666666666666,\"#ed7953\"],[0.7777777777777778,\"#fb9f3a\"],[0.8888888888888888,\"#fdca26\"],[1.0,\"#f0f921\"]]}],\"table\":[{\"cells\":{\"fill\":{\"color\":\"rgba(235, 240, 248, 1.0)\"},\"line\":{\"color\":\"rgba(255, 255, 255, 1.0)\"}},\"header\":{\"fill\":{\"color\":\"rgba(200, 212, 227, 1.0)\"},\"line\":{\"color\":\"rgba(255, 255, 255, 1.0)\"}}}]}}};\r\n",
       "        var config = {\"responsive\":true};\r\n",
       "        Plotly.newPlot('ae05c551-5f2c-4da5-8aa1-0ce8cee98fea', data, layout, config);\r\n",
       "    });\r\n",
       "};\r\n",
       "if ((typeof(requirejs) !==  typeof(Function)) || (typeof(requirejs.config) !== typeof(Function))) {\r\n",
       "    var script = document.createElement(\"script\");\r\n",
       "    script.setAttribute(\"src\", \"https://cdnjs.cloudflare.com/ajax/libs/require.js/2.3.6/require.min.js\");\r\n",
       "    script.onload = function(){\r\n",
       "        renderPlotly_ae05c5515f2c4da58aa10ce8cee98fea();\r\n",
       "    };\r\n",
       "    document.getElementsByTagName(\"head\")[0].appendChild(script);\r\n",
       "}\r\n",
       "else {\r\n",
       "    renderPlotly_ae05c5515f2c4da58aa10ce8cee98fea();\r\n",
       "}\r\n",
       "</script></div>"
      ]
     },
     "metadata": {},
     "output_type": "display_data"
    }
   ],
   "source": [
    "#!share --from csharp countsAuthList\n",
    "#!share --from csharp authorsList\n",
    "open Plotly.NET\n",
    "let intList = countsAuthList |> Seq.cast<string> |> List.ofSeq |> List.map System.Double.Parse\n",
    "intList |> List.map (fun x -> double x)\n",
    "let newKeys = authorsList |> Seq.cast<string> |> List.ofSeq\n",
    "let column = Chart.Column(values = intList, Keys = newKeys)\n",
    "column"
   ]
  },
  {
   "attachments": {},
   "cell_type": "markdown",
   "metadata": {
    "dotnet_interactive": {
     "language": "csharp"
    },
    "polyglot_notebook": {
     "kernelName": "csharp"
    }
   },
   "source": [
    "# Working with Files and Directories\n",
    "\n",
    "File and directory operations are an essential part of modern programming. These operations allow developers to manage data, exchange information between applications, and administer systems. In this section, we will discuss why file and directory operations are essential in programming and explore some real-world examples of their use.\n",
    "\n",
    "## The Role of File and Directory Operations in Data Management:\n",
    "\n",
    "Data management is a critical aspect of programming, and file and directory operations play a crucial role in this domain. Developers often need to store and retrieve data from files or directories. For instance, suppose you are building a text editor application that allows users to save their work as files. In that case, you need to implement file operations to write data to a file or read data from an existing file.\n",
    "\n",
    "File operations allow developers to manipulate data in various formats, including plain text, structured data (such as XML or JSON), or binary data. In addition, file operations enable developers to process large volumes of data efficiently. For instance, you can use file streaming to read or write large files in chunks, rather than loading the entire file into memory, which can cause performance issues.\n",
    "\n",
    "### How File and Directory Operations Enable Inter-Application Communication:\n",
    "\n",
    "In modern software development, applications rarely operate in isolation. Instead, applications often need to exchange data with other applications. File and directory operations provide a mechanism for inter-application communication.\n",
    "\n",
    "For example, imagine that you are building a web application that allows users to upload images. You can use file operations to save the uploaded images to a directory on the server. Then, you can use the same file operations to retrieve the images and display them to other users.\n",
    "\n",
    "In addition, file and directory operations can facilitate data exchange between applications written in different programming languages or running on different operating systems. For instance, you can use a common data format such as CSV or XML to share data between applications.\n",
    "\n",
    "### The Importance of File and Directory Operations for System Administration:\n",
    "\n",
    "System administration involves managing computer systems and networks, including installing and configuring software, monitoring system performance, and troubleshooting issues. File and directory operations are essential tools for system administrators.\n",
    "\n",
    "For example, suppose a system administrator needs to back up critical data on a server. In that case, they can use file operations to copy the data to a backup directory. Similarly, file and directory operations are used to install and configure software, manage user accounts, and monitor system performance.\n",
    "\n",
    "### Real-World Examples of File and Directory Operations in Programming:\n",
    "\n",
    "File and directory operations are ubiquitous in modern programming, and they are used in a wide range of applications. Here are some real-world examples of file and directory operations:\n",
    "\n",
    "Database management systems use file operations to read and write data to disk.\n",
    "\n",
    "Content management systems use file operations to manage media files such as images and videos.\n",
    "\n",
    "Web browsers use file operations to cache web pages and resources, improving performance.\n",
    "\n",
    "### Linux File Permissions\n",
    "\n",
    "In Linux, write permissions determine whether a user, group or others can modify, create or delete files or directories. The write permission is represented by a number in the file permission system and can be set or changed using the chmod command.\n",
    "\n",
    "Here's what each digit in a chmod code represents:\n",
    "\n",
    "* The first digit (leftmost) represents the permissions for the owner of the file/directory.\n",
    "* The second digit represents the permissions for the group owner of the file/directory.\n",
    "* The third digit represents the permissions for other users who are not the owner or group owner.\n",
    "\n",
    "Each digit in the chmod code can be one of the following values:\n",
    "\n",
    "* 0: no permissions\n",
    "* 1: execute permission only\n",
    "* 2: write permission only\n",
    "* 3: write and execute permissions\n",
    "* 4: read permission only\n",
    "* 5: read and execute permissions\n",
    "* 6: read and write permissions\n",
    "* 7: read, write, and execute permissions\n",
    "\n",
    "Here are some examples of how to use chmod to set write permissions:\n",
    "\n",
    "* chmod 700 file.txt - this command sets read, write, and execute permissions for the owner of the file, and no permissions for the group owner or others.\n",
    "* chmod 755 directory - this command sets read, write, and execute permissions for the owner of the directory, and read and execute permissions for the group owner and others. The group owner and others cannot write to the directory.\n",
    "* chmod 777 file.txt - this command sets read, write, and execute permissions for everyone, including the owner, group owner, and others.\n",
    "\n",
    "In the above examples, the chmod code is composed of three digits. Each digit represents the permissions for a different set of users: the first digit represents the owner's permissions, the second digit represents the group's permissions, and the third digit represents everyone else's permissions.\n",
    "\n",
    "Conclusion:\n",
    "\n",
    "File and directory operations are essential tools in modern programming. They enable developers to manage data, exchange information between applications, and administer systems. Understanding file and directory operations is crucial for anyone who wants to build robust and efficient software systems.\n",
    "\n",
    "## Common File and Directory Operations in C#\n",
    "C# is a popular programming language that provides comprehensive support for file and directory operations. This section discusses some of the most common file and directory operations in C#. These operations include creating and deleting files and directories, reading and writing text and binary files, moving and copying files and directories, renaming files and directories, and navigating directories and working with file paths.\n",
    "\n",
    "Creating and Deleting Files and Directories:\n",
    "\n",
    "Creating and deleting files and directories are basic file operations in C#. To create a new file, you can use the File.Create method, which creates a new file or overwrites an existing file. To delete a file, you can use the File.Delete method. Similarly, to create a new directory, you can use the Directory.CreateDirectory method, and to delete a directory, you can use the Directory.Delete method.\n",
    "\n",
    "Reading and Writing Text and Binary Files:\n",
    "\n",
    "Reading and writing text and binary files are essential file operations in C#. To read a text file, you can use the StreamReader class, which provides methods for reading text from a file. To write to a text file, you can use the StreamWriter class, which provides methods for writing text to a file.\n",
    "\n",
    "Similarly, to read and write binary files, you can use the BinaryReader and BinaryWriter classes, respectively. These classes provide methods for reading and writing binary data to a file. Binary files are useful for storing non-textual data, such as images or audio.\n",
    "\n",
    "Moving and Copying Files and Directories:\n",
    "\n",
    "Moving and copying files and directories are common file operations in C#. To move a file or directory, you can use the File.Move or Directory.Move method, respectively. To copy a file or directory, you can use the File.Copy or Directory.Copy method, respectively.\n",
    "\n",
    "Renaming Files and Directories:\n",
    "\n",
    "Renaming files and directories is another basic file operation in C#. To rename a file, you can use the File.Move method, specifying the new file name. To rename a directory, you can use the Directory.Move method, specifying the new directory name.\n",
    "\n",
    "Navigating Directories and Working with File Paths:\n",
    "\n",
    "Navigating directories and working with file paths are crucial file operations in C#. To navigate directories, you can use the DirectoryInfo class, which provides methods for enumerating directories and files in a given directory. You can also use the Path class, which provides methods for working with file paths, such as combining two file paths or extracting the file name from a path.\n",
    "\n",
    "\n",
    "### Examples\n",
    "To create a new file:"
   ]
  },
  {
   "cell_type": "code",
   "execution_count": 119,
   "metadata": {
    "dotnet_interactive": {
     "language": "csharp"
    },
    "polyglot_notebook": {
     "kernelName": "csharp"
    },
    "vscode": {
     "languageId": "polyglot-notebook"
    }
   },
   "outputs": [],
   "source": [
    "string fileName = @\"data/example.txt\";\n",
    "File.Create(fileName);"
   ]
  },
  {
   "attachments": {},
   "cell_type": "markdown",
   "metadata": {
    "dotnet_interactive": {
     "language": "csharp"
    },
    "polyglot_notebook": {
     "kernelName": "csharp"
    }
   },
   "source": [
    "To delete a file:"
   ]
  },
  {
   "cell_type": "code",
   "execution_count": 120,
   "metadata": {
    "dotnet_interactive": {
     "language": "csharp"
    },
    "polyglot_notebook": {
     "kernelName": "csharp"
    },
    "vscode": {
     "languageId": "polyglot-notebook"
    }
   },
   "outputs": [],
   "source": [
    "string fileName = @\"data/example.txt\";\n",
    "File.Delete(fileName);"
   ]
  },
  {
   "attachments": {},
   "cell_type": "markdown",
   "metadata": {
    "dotnet_interactive": {
     "language": "csharp"
    },
    "polyglot_notebook": {
     "kernelName": "csharp"
    }
   },
   "source": [
    "To create a new directory:"
   ]
  },
  {
   "cell_type": "code",
   "execution_count": 121,
   "metadata": {
    "dotnet_interactive": {
     "language": "csharp"
    },
    "polyglot_notebook": {
     "kernelName": "csharp"
    },
    "vscode": {
     "languageId": "polyglot-notebook"
    }
   },
   "outputs": [],
   "source": [
    "string directoryName = @\"test/example\";\n",
    "Directory.CreateDirectory(directoryName);\n"
   ]
  },
  {
   "attachments": {},
   "cell_type": "markdown",
   "metadata": {
    "dotnet_interactive": {
     "language": "csharp"
    },
    "polyglot_notebook": {
     "kernelName": "csharp"
    }
   },
   "source": [
    "To delete a directory:"
   ]
  },
  {
   "attachments": {},
   "cell_type": "markdown",
   "metadata": {
    "dotnet_interactive": {
     "language": "csharp"
    },
    "polyglot_notebook": {
     "kernelName": "csharp"
    }
   },
   "source": [
    "string directoryName = @\"C:\\Temp\\example\";\n",
    "Directory.Delete(directoryName);"
   ]
  },
  {
   "attachments": {},
   "cell_type": "markdown",
   "metadata": {
    "dotnet_interactive": {
     "language": "csharp"
    },
    "polyglot_notebook": {
     "kernelName": "csharp"
    }
   },
   "source": [
    "Reading and Writing Text and Binary Files:\n",
    "\n",
    "To read a text file:"
   ]
  },
  {
   "cell_type": "code",
   "execution_count": 122,
   "metadata": {
    "dotnet_interactive": {
     "language": "csharp"
    },
    "polyglot_notebook": {
     "kernelName": "csharp"
    },
    "vscode": {
     "languageId": "polyglot-notebook"
    }
   },
   "outputs": [
    {
     "name": "stdout",
     "output_type": "stream",
     "text": [
      "Sample Text, you are reading example_data.txt\n"
     ]
    }
   ],
   "source": [
    "string fileName = @\"data/example_data.txt\";\n",
    "using (StreamReader sr = new StreamReader(fileName))\n",
    "{\n",
    "    string line;\n",
    "    while ((line = sr.ReadLine()) != null)\n",
    "    {\n",
    "        Console.WriteLine(line);\n",
    "    }\n",
    "}\n"
   ]
  },
  {
   "attachments": {},
   "cell_type": "markdown",
   "metadata": {
    "dotnet_interactive": {
     "language": "csharp"
    },
    "polyglot_notebook": {
     "kernelName": "csharp"
    }
   },
   "source": [
    "To write to a text file:"
   ]
  },
  {
   "cell_type": "code",
   "execution_count": 123,
   "metadata": {
    "dotnet_interactive": {
     "language": "csharp"
    },
    "polyglot_notebook": {
     "kernelName": "csharp"
    },
    "vscode": {
     "languageId": "polyglot-notebook"
    }
   },
   "outputs": [],
   "source": [
    "string fileName = @\"C:\\Temp\\example.txt\";\n",
    "using (StreamWriter sw = new StreamWriter(fileName))\n",
    "{\n",
    "    sw.WriteLine(\"Hello, world!\");\n",
    "}\n"
   ]
  },
  {
   "attachments": {},
   "cell_type": "markdown",
   "metadata": {
    "dotnet_interactive": {
     "language": "csharp"
    },
    "polyglot_notebook": {
     "kernelName": "csharp"
    }
   },
   "source": [
    "### Moving and Copying Files and Directories:\n",
    "\n",
    "To move a file:"
   ]
  },
  {
   "cell_type": "code",
   "execution_count": 154,
   "metadata": {
    "dotnet_interactive": {
     "language": "csharp"
    },
    "polyglot_notebook": {
     "kernelName": "csharp"
    },
    "vscode": {
     "languageId": "polyglot-notebook"
    }
   },
   "outputs": [],
   "source": [
    "string sourceFileName = @\"data/example.txt\";\n",
    "string destFileName = @\"data/example_moved.txt\";\n",
    "File.Move(sourceFileName, destFileName);"
   ]
  },
  {
   "attachments": {},
   "cell_type": "markdown",
   "metadata": {
    "dotnet_interactive": {
     "language": "csharp"
    },
    "polyglot_notebook": {
     "kernelName": "csharp"
    }
   },
   "source": [
    "To copy a file:"
   ]
  },
  {
   "cell_type": "code",
   "execution_count": 125,
   "metadata": {
    "dotnet_interactive": {
     "language": "csharp"
    },
    "polyglot_notebook": {
     "kernelName": "csharp"
    },
    "vscode": {
     "languageId": "polyglot-notebook"
    }
   },
   "outputs": [],
   "source": [
    "string sourceFileName = @\"data/example_data.txt\";\n",
    "string destFileName = @\"data/example.txt\";\n",
    "File.Copy(sourceFileName, destFileName);"
   ]
  },
  {
   "attachments": {},
   "cell_type": "markdown",
   "metadata": {
    "dotnet_interactive": {
     "language": "csharp"
    },
    "polyglot_notebook": {
     "kernelName": "csharp"
    }
   },
   "source": [
    "To copy a directory:\n",
    "\n",
    "We can create a method for it called CopyDirectory:\n",
    "\n",
    "The CopyDirectory method takes two parameters: the source directory and the destination directory. It first creates the destination directory if it doesn't exist, then recursively copies the files and subdirectories from the source directory to the destination directory using a similar loop structure as the one used for copying files. The method is defined like this:"
   ]
  },
  {
   "cell_type": "code",
   "execution_count": 126,
   "metadata": {
    "dotnet_interactive": {
     "language": "csharp"
    },
    "polyglot_notebook": {
     "kernelName": "csharp"
    },
    "vscode": {
     "languageId": "polyglot-notebook"
    }
   },
   "outputs": [],
   "source": [
    "private static void CopyDirectory(string sourceDirName, string destDirName)\n",
    "{\n",
    "    DirectoryInfo dir = new DirectoryInfo(sourceDirName);\n",
    "    DirectoryInfo[] dirs = dir.GetDirectories();\n",
    "\n",
    "    // If the source directory doesn't exist, throw an exception\n",
    "    if (!dir.Exists)\n",
    "    {\n",
    "        throw new DirectoryNotFoundException(\n",
    "            \"Source directory does not exist or could not be found: \"\n",
    "            + sourceDirName);\n",
    "    }\n",
    "\n",
    "    // If the destination directory doesn't exist, create it\n",
    "    if (!Directory.Exists(destDirName))\n",
    "    {\n",
    "        Directory.CreateDirectory(destDirName);\n",
    "    }\n",
    "\n",
    "    // Copy the files in the directory\n",
    "    FileInfo[] files = dir.GetFiles();\n",
    "    foreach (FileInfo file in files)\n",
    "    {\n",
    "        string temppath = Path.Combine(destDirName, file.Name);\n",
    "        file.CopyTo(temppath, false);\n",
    "    }\n",
    "\n",
    "    // Recursively copy the subdirectories\n",
    "    foreach (DirectoryInfo subdir in dirs)\n",
    "    {\n",
    "        string temppath = Path.Combine(destDirName, subdir.Name);\n",
    "        CopyDirectory(subdir.FullName, temppath);\n",
    "    }\n",
    "}"
   ]
  },
  {
   "attachments": {},
   "cell_type": "markdown",
   "metadata": {
    "dotnet_interactive": {
     "language": "csharp"
    },
    "polyglot_notebook": {
     "kernelName": "csharp"
    }
   },
   "source": [
    "This method is called recursively to copy all the subdirectories and files in the source directory. Note that the method uses the Path.Combine method to create the destination path for each file or subdirectory being copied. This ensures that the path is correctly formatted for the current operating system."
   ]
  },
  {
   "cell_type": "code",
   "execution_count": 132,
   "metadata": {
    "dotnet_interactive": {
     "language": "csharp"
    },
    "polyglot_notebook": {
     "kernelName": "csharp"
    },
    "vscode": {
     "languageId": "polyglot-notebook"
    }
   },
   "outputs": [],
   "source": [
    "string sourceDirectoryName = @\"scripts\";\n",
    "string destDirectoryName = @\"scripts/new\";\n",
    "Directory.CreateDirectory(destDirectoryName);\n",
    "foreach (string file in Directory.GetFiles(sourceDirectoryName))\n",
    "{\n",
    "    File.Copy(file, Path.Combine(destDirectoryName, Path.GetFileName(file)));\n",
    "}\n",
    "foreach (string directory in Directory.GetDirectories(sourceDirectoryName))\n",
    "{\n",
    "    Directory.CreateDirectory(Path.Combine(destDirectoryName, Path.GetFileName(directory)));\n",
    "    CopyDirectory(directory, Path.Combine(destDirectoryName, Path.GetFileName(directory)));\n",
    "}\n"
   ]
  },
  {
   "cell_type": "code",
   "execution_count": 134,
   "metadata": {
    "dotnet_interactive": {
     "language": "pwsh"
    },
    "polyglot_notebook": {
     "kernelName": "pwsh"
    },
    "vscode": {
     "languageId": "polyglot-notebook"
    }
   },
   "outputs": [
    {
     "name": "stdout",
     "output_type": "stream",
     "text": [
      "changes_by_file.sh\n",
      "rank_simple.sh\n"
     ]
    }
   ],
   "source": [
    "ls scripts/new"
   ]
  },
  {
   "attachments": {},
   "cell_type": "markdown",
   "metadata": {
    "dotnet_interactive": {
     "language": "csharp"
    },
    "polyglot_notebook": {
     "kernelName": "csharp"
    }
   },
   "source": [
    "In this section, we will explore advanced topics in file and directory operations, including accessing and manipulating file attributes, working with streams and buffered I/O, and serializing and deserializing objects to files. These advanced topics are important for more complex programming tasks that require fine-tuned control over file and directory operations.\n",
    "\n",
    "Accessing and Manipulating File Attributes\n",
    "\n",
    "File attributes are metadata associated with files that provide information about the file, such as its size, creation date, and permissions. In C#, the File class provides methods for accessing and manipulating file attributes.\n",
    "\n",
    "To get a file's attributes, you can use the File.GetAttributes method, which returns a FileAttributes enumeration. For example, to get the attributes of a file named \"example.txt,\" you can use the following code:"
   ]
  },
  {
   "cell_type": "code",
   "execution_count": 143,
   "metadata": {
    "dotnet_interactive": {
     "language": "csharp"
    },
    "polyglot_notebook": {
     "kernelName": "csharp"
    },
    "vscode": {
     "languageId": "polyglot-notebook"
    }
   },
   "outputs": [],
   "source": [
    "string filePath = @\"data/example_read_only.txt\";\n",
    "FileAttributes attributes = File.GetAttributes(filePath);\n"
   ]
  },
  {
   "attachments": {},
   "cell_type": "markdown",
   "metadata": {
    "dotnet_interactive": {
     "language": "csharp"
    },
    "polyglot_notebook": {
     "kernelName": "csharp"
    }
   },
   "source": [
    "You can then check the value of the attributes variable to determine the file's attributes. For example, you can check whether the file is read-only using the FileAttributes.ReadOnly flag:"
   ]
  },
  {
   "cell_type": "code",
   "execution_count": 144,
   "metadata": {
    "dotnet_interactive": {
     "language": "csharp"
    },
    "polyglot_notebook": {
     "kernelName": "csharp"
    },
    "vscode": {
     "languageId": "polyglot-notebook"
    }
   },
   "outputs": [
    {
     "name": "stdout",
     "output_type": "stream",
     "text": [
      "The file is read-only.\n"
     ]
    }
   ],
   "source": [
    "if ((attributes & FileAttributes.ReadOnly) == FileAttributes.ReadOnly)\n",
    "{\n",
    "    Console.WriteLine(\"The file is read-only.\");\n",
    "}"
   ]
  },
  {
   "attachments": {},
   "cell_type": "markdown",
   "metadata": {
    "dotnet_interactive": {
     "language": "csharp"
    },
    "polyglot_notebook": {
     "kernelName": "csharp"
    }
   },
   "source": [
    "To set or unset a file's attributes, you can use the File.SetAttributes method. For example, to set a file named \"example.txt\" to read-only, you can use the following code:"
   ]
  },
  {
   "cell_type": "code",
   "execution_count": 145,
   "metadata": {
    "dotnet_interactive": {
     "language": "csharp"
    },
    "polyglot_notebook": {
     "kernelName": "csharp"
    },
    "vscode": {
     "languageId": "polyglot-notebook"
    }
   },
   "outputs": [],
   "source": [
    "string filePath = @\"data/example_read_only.txt\";\n",
    "File.SetAttributes(filePath, FileAttributes.ReadOnly);\n"
   ]
  },
  {
   "attachments": {},
   "cell_type": "markdown",
   "metadata": {
    "dotnet_interactive": {
     "language": "csharp"
    },
    "polyglot_notebook": {
     "kernelName": "csharp"
    }
   },
   "source": [
    "### Working with Streams and Buffered I/O\n",
    "\n",
    "Streams are objects that provide a way to read and write data to and from a file or other input/output (I/O) device. In C#, the FileStream class provides a way to work with streams for file I/O operations.\n",
    "\n",
    "To create a FileStream object, you need to specify the file name and the mode in which the file should be opened, such as read-only or write-only. For example, to create a FileStream object for a file named \"example.txt\" in write-only mode, you can use the following code:\n"
   ]
  },
  {
   "attachments": {},
   "cell_type": "markdown",
   "metadata": {
    "dotnet_interactive": {
     "language": "csharp"
    },
    "polyglot_notebook": {
     "kernelName": "csharp"
    }
   },
   "source": [
    "Once you have a FileStream object, you can use its methods to read and write data to and from the file. For example, to write a string to a file, you can use the StreamWriter class, which provides a buffered way to write data to a stream. The StreamWriter class takes a FileStream object as its parameter. For example, to write the string \"Hello, world!\" to a file named \"example.txt,\" you can use the following code:"
   ]
  },
  {
   "cell_type": "code",
   "execution_count": 153,
   "metadata": {
    "dotnet_interactive": {
     "language": "csharp"
    },
    "polyglot_notebook": {
     "kernelName": "csharp"
    },
    "vscode": {
     "languageId": "polyglot-notebook"
    }
   },
   "outputs": [],
   "source": [
    "string filePathWrite = @\"data/example_write.txt\";\n",
    "FileStream stream = new FileStream(filePathWrite, FileMode.Create);\n",
    "StreamWriter writer = new StreamWriter(stream);\n",
    "writer.Write(\"Hello, world!\");\n",
    "writer.Flush();\n"
   ]
  },
  {
   "attachments": {},
   "cell_type": "markdown",
   "metadata": {
    "dotnet_interactive": {
     "language": "csharp"
    },
    "polyglot_notebook": {
     "kernelName": "csharp"
    }
   },
   "source": [
    "The Flush method ensures that any buffered data is written to the file immediately.\n",
    "\n",
    "Serializing and Deserializing Objects to Files\n",
    "\n",
    "Serialization is the process of converting an object into a format that can be stored in a file or transmitted over a network, while deserialization is the process of converting the serialized object back into its original form. In C#, you can use the BinaryFormatter class to serialize and deserialize objects to and from files.\n",
    "\n",
    "To serialize an object to a file, you can create a FileStream object and pass it to a BinaryFormatter object's Serialize method, along with the object you want to serialize. For example, to serialize an instance of a Person class to a file"
   ]
  },
  {
   "attachments": {},
   "cell_type": "markdown",
   "metadata": {
    "dotnet_interactive": {
     "language": "csharp"
    },
    "polyglot_notebook": {
     "kernelName": "csharp"
    }
   },
   "source": [
    "# Http Requests in C#\n",
    "\n",
    "## What are HTTP Requests?\n",
    "\n",
    "HTTP (Hypertext Transfer Protocol) is a protocol used for sending and receiving data over the internet. It is the foundation of data communication for the World Wide Web. HTTP requests are a fundamental aspect of web development, and they are used to retrieve data from a web server.\n",
    "\n",
    "HTTP requests are sent by a client (typically a web browser) to a server in order to retrieve data. The client sends an HTTP request message to the server, which then responds with an HTTP response message that contains the requested data.\n",
    "\n",
    "\n",
    "There are several types of HTTP requests, including:\n",
    "\n",
    "1. GET: retrieves data from a server\n",
    "2. POST: sends data to a server to be processed\n",
    "3. PUT: updates existing data on a server\n",
    "4. DELETE: deletes data from a server\n",
    "\n",
    "HTTP requests consist of several parts, including:\n",
    "\n",
    "1. Request Line: includes the HTTP method (GET, POST, PUT, DELETE), the URL, and the HTTP version\n",
    "2. Request Headers: provide additional information about the request, such as the content type and the user agent\n",
    "3. Request Body: contains data that is sent with the request (for example, in a POST request)\n",
    "\n",
    "HTTP responses also consist of several parts, including:\n",
    "\n",
    "1. Status Line: includes the HTTP version, status code, and status message\n",
    "2. Response Headers: provide additional information about the response, such as the content type and the server type\n",
    "3. Response Body: contains the requested data\n",
    "\n",
    "List of all http codes [1]."
   ]
  },
  {
   "attachments": {},
   "cell_type": "markdown",
   "metadata": {
    "dotnet_interactive": {
     "language": "csharp"
    },
    "polyglot_notebook": {
     "kernelName": "csharp"
    }
   },
   "source": [
    "<table border=\"1\" style=\"width: 100%; border-collapse: collapse; float: left; height: 1080px;\"><tbody><tr style=\"height: 18px;\"><td style=\"width: 30.1064%; text-align: center; height: 18px;\"><strong>Status code</strong></td> <td style=\"width: 29.5086%; text-align: center; height: 18px;\"><strong>Meaning</strong></td></tr> <tr style=\"height: 18px;\"><td style=\"width: 30.1064%; height: 18px;\"><span style=\"text-decoration: underline;\"><a href=\"https://umbraco.com/knowledge-base/http-status-codes/#1xx\">1xx Informational</a></span></td> <td style=\"width: 29.5086%; height: 18px;\">&nbsp;</td></tr> <tr style=\"height: 18px;\"><td style=\"width: 30.1064%; height: 18px;\">100</td> <td style=\"width: 29.5086%; height: 18px;\">Continue</td></tr> <tr style=\"height: 18px;\"><td style=\"width: 30.1064%; height: 18px;\">101</td> <td style=\"width: 29.5086%; height: 18px;\">Switching protocols</td></tr> <tr style=\"height: 18px;\"><td style=\"width: 30.1064%; height: 18px;\">102</td> <td style=\"width: 29.5086%; height: 18px;\">Processing</td></tr> <tr style=\"height: 18px;\"><td style=\"width: 30.1064%; height: 18px;\">103</td> <td style=\"width: 29.5086%; height: 18px;\">Early Hints</td></tr> <tr style=\"height: 18px;\"><td style=\"width: 30.1064%; height: 18px;\">&nbsp;</td> <td style=\"width: 29.5086%; height: 18px;\">&nbsp;</td></tr> <tr style=\"height: 18px;\"><td style=\"width: 30.1064%; height: 18px;\"><span style=\"text-decoration: underline;\"><a href=\"https://umbraco.com/knowledge-base/http-status-codes/#2xx\">2xx Succesful</a></span></td> <td style=\"width: 29.5086%; height: 18px;\">&nbsp;</td></tr> <tr style=\"height: 18px;\"><td style=\"width: 30.1064%; height: 18px;\">200</td> <td style=\"width: 29.5086%; height: 18px;\">OK</td></tr> <tr style=\"height: 18px;\"><td style=\"width: 30.1064%; height: 18px;\">201</td> <td style=\"width: 29.5086%; height: 18px;\">Created</td></tr> <tr style=\"height: 18px;\"><td style=\"width: 30.1064%; height: 18px;\">202</td> <td style=\"width: 29.5086%; height: 18px;\">Accepted</td></tr> <tr style=\"height: 18px;\"><td style=\"width: 30.1064%; height: 18px;\">203&nbsp;</td> <td style=\"width: 29.5086%; height: 18px;\">Non-Authoritative Information</td></tr> <tr style=\"height: 18px;\"><td style=\"width: 30.1064%; height: 18px;\">204</td> <td style=\"width: 29.5086%; height: 18px;\">No Content</td></tr> <tr style=\"height: 18px;\"><td style=\"width: 30.1064%; height: 18px;\">205</td> <td style=\"width: 29.5086%; height: 18px;\">Reset Content</td></tr> <tr style=\"height: 18px;\"><td style=\"width: 30.1064%; height: 18px;\">206</td> <td style=\"width: 29.5086%; height: 18px;\">Partial Content</td></tr> <tr style=\"height: 18px;\"><td style=\"width: 30.1064%; height: 18px;\">207</td> <td style=\"width: 29.5086%; height: 18px;\">Multi-Status</td></tr> <tr style=\"height: 18px;\"><td style=\"width: 30.1064%; height: 18px;\">208</td> <td style=\"width: 29.5086%; height: 18px;\">Already Reported</td></tr> <tr style=\"height: 18px;\"><td style=\"width: 30.1064%; height: 18px;\">226</td> <td style=\"width: 29.5086%; height: 18px;\">IM Used</td></tr> <tr style=\"height: 18px;\"><td style=\"width: 30.1064%; height: 18px;\">&nbsp;</td> <td style=\"width: 29.5086%; height: 18px;\">&nbsp;</td></tr> <tr style=\"height: 18px;\"><td style=\"width: 30.1064%; height: 18px;\"><span style=\"text-decoration: underline;\"><a href=\"https://umbraco.com/knowledge-base/http-status-codes/#3xx\">3xx Redirection</a></span></td> <td style=\"width: 29.5086%; height: 18px;\">&nbsp;</td></tr> <tr style=\"height: 18px;\"><td style=\"width: 30.1064%; height: 18px;\">300</td> <td style=\"width: 29.5086%; height: 18px;\">Multiple Choices</td></tr> <tr style=\"height: 18px;\"><td style=\"width: 30.1064%; height: 18px;\">301</td> <td style=\"width: 29.5086%; height: 18px;\">Moved Permanently</td></tr> <tr style=\"height: 18px;\"><td style=\"width: 30.1064%; height: 18px;\">302</td> <td style=\"width: 29.5086%; height: 18px;\">Found (Previously \"Moved Temporarily\")</td></tr> <tr style=\"height: 18px;\"><td style=\"width: 30.1064%; height: 18px;\">303</td> <td style=\"width: 29.5086%; height: 18px;\">See Other</td></tr> <tr style=\"height: 18px;\"><td style=\"width: 30.1064%; height: 18px;\">304</td> <td style=\"width: 29.5086%; height: 18px;\">Not Modified</td></tr> <tr style=\"height: 18px;\"><td style=\"width: 30.1064%; height: 18px;\">305</td> <td style=\"width: 29.5086%; height: 18px;\">Use Proxy</td></tr> <tr style=\"height: 18px;\"><td style=\"width: 30.1064%; height: 18px;\">306</td> <td style=\"width: 29.5086%; height: 18px;\">Switch Proxy</td></tr> <tr style=\"height: 18px;\"><td style=\"width: 30.1064%; height: 18px;\">307</td> <td style=\"width: 29.5086%; height: 18px;\">Temporary Redirect</td></tr> <tr style=\"height: 18px;\"><td style=\"width: 30.1064%; height: 18px;\">308</td> <td style=\"width: 29.5086%; height: 18px;\">Permanent Redirect</td></tr> <tr style=\"height: 18px;\"><td style=\"width: 30.1064%; height: 18px;\">&nbsp;</td> <td style=\"width: 29.5086%; height: 18px;\">&nbsp;</td></tr> <tr style=\"height: 18px;\"><td style=\"width: 30.1064%; height: 18px;\"><span style=\"text-decoration: underline;\"><a href=\"https://umbraco.com/knowledge-base/http-status-codes/#4xx\">4xx Client Error</a></span></td> <td style=\"width: 29.5086%; height: 18px;\">&nbsp;</td></tr> <tr style=\"height: 18px;\"><td style=\"width: 30.1064%; height: 18px;\">400</td> <td style=\"width: 29.5086%; height: 18px;\">Bad Request</td></tr> <tr style=\"height: 18px;\"><td style=\"width: 30.1064%; height: 18px;\">401</td> <td style=\"width: 29.5086%; height: 18px;\">Unauthorized</td></tr> <tr style=\"height: 18px;\"><td style=\"width: 30.1064%; height: 18px;\">402</td> <td style=\"width: 29.5086%; height: 18px;\">Payment Required</td></tr> <tr style=\"height: 18px;\"><td style=\"width: 30.1064%; height: 18px;\">403</td> <td style=\"width: 29.5086%; height: 18px;\">Forbidden</td></tr> <tr style=\"height: 18px;\"><td style=\"width: 30.1064%; height: 18px;\">404</td> <td style=\"width: 29.5086%; height: 18px;\">Not Found</td></tr> <tr style=\"height: 18px;\"><td style=\"width: 30.1064%; height: 18px;\">405</td> <td style=\"width: 29.5086%; height: 18px;\">Method Not Allowed</td></tr> <tr style=\"height: 18px;\"><td style=\"width: 30.1064%; height: 18px;\">406</td> <td style=\"width: 29.5086%; height: 18px;\">Not Acceptable</td></tr> <tr style=\"height: 18px;\"><td style=\"width: 30.1064%; height: 18px;\">407</td> <td style=\"width: 29.5086%; height: 18px;\">Proxy Authentication Required</td></tr> <tr style=\"height: 18px;\"><td style=\"width: 30.1064%; height: 18px;\">408</td> <td style=\"width: 29.5086%; height: 18px;\">Request Timeout</td></tr> <tr style=\"height: 18px;\"><td style=\"width: 30.1064%; height: 18px;\">409</td> <td style=\"width: 29.5086%; height: 18px;\">Conflict</td></tr> <tr style=\"height: 18px;\"><td style=\"width: 30.1064%; height: 18px;\">410</td> <td style=\"width: 29.5086%; height: 18px;\">Gone</td></tr> <tr style=\"height: 18px;\"><td style=\"width: 30.1064%; height: 18px;\">411</td> <td style=\"width: 29.5086%; height: 18px;\">Length Required</td></tr> <tr style=\"height: 18px;\"><td style=\"width: 30.1064%; height: 18px;\">412</td> <td style=\"width: 29.5086%; height: 18px;\">Precondition Failed</td></tr> <tr style=\"height: 18px;\"><td style=\"width: 30.1064%; height: 18px;\">413</td> <td style=\"width: 29.5086%; height: 18px;\">Payload Too Large</td></tr> <tr style=\"height: 18px;\"><td style=\"width: 30.1064%; height: 18px;\">414</td> <td style=\"width: 29.5086%; height: 18px;\">URI Too Long</td></tr> <tr style=\"height: 18px;\"><td style=\"width: 30.1064%; height: 18px;\">415</td> <td style=\"width: 29.5086%; height: 18px;\">Unsupported Media Type</td></tr> <tr style=\"height: 18px;\"><td style=\"width: 30.1064%; height: 18px;\">416</td> <td style=\"width: 29.5086%; height: 18px;\">Range Not Satisfiable</td></tr> <tr style=\"height: 18px;\"><td style=\"width: 30.1064%; height: 18px;\">417</td> <td style=\"width: 29.5086%; height: 18px;\">Expectation Failed</td></tr> <tr style=\"height: 18px;\"><td style=\"width: 30.1064%; height: 18px;\">418</td> <td style=\"width: 29.5086%; height: 18px;\">I'm a Teapot</td></tr> <tr style=\"height: 18px;\"><td style=\"width: 30.1064%; height: 18px;\">421</td> <td style=\"width: 29.5086%; height: 18px;\">Misdirected Request</td></tr> <tr style=\"height: 18px;\"><td style=\"width: 30.1064%; height: 18px;\">422</td> <td style=\"width: 29.5086%; height: 18px;\">Unprocessable Entity</td></tr> <tr style=\"height: 18px;\"><td style=\"width: 30.1064%; height: 18px;\">423</td> <td style=\"width: 29.5086%; height: 18px;\">Locked</td></tr> <tr style=\"height: 18px;\"><td style=\"width: 30.1064%; height: 18px;\">424</td> <td style=\"width: 29.5086%; height: 18px;\">Failed Dependency</td></tr> <tr style=\"height: 18px;\"><td style=\"width: 30.1064%; height: 18px;\">425</td> <td style=\"width: 29.5086%; height: 18px;\">Too Early</td></tr> <tr style=\"height: 18px;\"><td style=\"width: 30.1064%; height: 18px;\">426</td> <td style=\"width: 29.5086%; height: 18px;\">Upgrade Required</td></tr> <tr style=\"height: 18px;\"><td style=\"width: 30.1064%; height: 18px;\">428</td> <td style=\"width: 29.5086%; height: 18px;\">Precondition Required</td></tr> <tr style=\"height: 18px;\"><td style=\"width: 30.1064%; height: 18px;\">429</td> <td style=\"width: 29.5086%; height: 18px;\">Too Many Requests</td></tr> <tr style=\"height: 18px;\"><td style=\"width: 30.1064%; height: 18px;\">431</td> <td style=\"width: 29.5086%; height: 18px;\">Request Header Fields Too Large</td></tr> <tr style=\"height: 18px;\"><td style=\"width: 30.1064%; height: 18px;\">451</td> <td style=\"width: 29.5086%; height: 18px;\">Unavailable For Legal Reasons</td></tr> <tr><td style=\"width: 30.1064%;\">&nbsp;</td> <td style=\"width: 29.5086%;\">&nbsp;</td></tr> <tr><td style=\"width: 30.1064%;\"><span style=\"text-decoration: underline;\"><a href=\"https://umbraco.com/knowledge-base/http-status-codes/#5xx\">5xx Server Error</a></span></td> <td style=\"width: 29.5086%;\">&nbsp;</td></tr> <tr><td style=\"width: 30.1064%;\">500</td> <td style=\"width: 29.5086%;\">Internal Server Error</td></tr> <tr><td style=\"width: 30.1064%;\">501</td> <td style=\"width: 29.5086%;\">Not Implemented</td></tr> <tr><td style=\"width: 30.1064%;\">502</td> <td style=\"width: 29.5086%;\">Bad Gateway</td></tr> <tr><td style=\"width: 30.1064%;\">503</td> <td style=\"width: 29.5086%;\">Service Unavailable</td></tr> <tr><td style=\"width: 30.1064%;\">504</td> <td style=\"width: 29.5086%;\">Gateway Timeout</td></tr> <tr><td style=\"width: 30.1064%;\">505</td> <td style=\"width: 29.5086%;\">HTTP Version Not Supported</td></tr> <tr><td style=\"width: 30.1064%;\">506</td> <td style=\"width: 29.5086%;\">Variant Also Negotiates</td></tr> <tr><td style=\"width: 30.1064%;\">507</td> <td style=\"width: 29.5086%;\">Insufficient Storage</td></tr> <tr><td style=\"width: 30.1064%;\">508</td> <td style=\"width: 29.5086%;\">Loop Detected</td></tr> <tr><td style=\"width: 30.1064%;\">510</td> <td style=\"width: 29.5086%;\">Not Extended</td></tr> <tr><td style=\"width: 30.1064%;\">511</td> <td style=\"width: 29.5086%;\">Network Authentication Required</td></tr></tbody></table>"
   ]
  },
  {
   "attachments": {},
   "cell_type": "markdown",
   "metadata": {
    "dotnet_interactive": {
     "language": "csharp"
    },
    "polyglot_notebook": {
     "kernelName": "csharp"
    }
   },
   "source": [
    "HTTP requests and responses are a fundamental part of web development, and understanding them is crucial for developing and debugging web applications. By understanding the different types of HTTP requests and the common HTTP status codes, developers can effectively retrieve and manipulate data from web servers."
   ]
  },
  {
   "attachments": {},
   "cell_type": "markdown",
   "metadata": {
    "dotnet_interactive": {
     "language": "csharp"
    },
    "polyglot_notebook": {
     "kernelName": "csharp"
    }
   },
   "source": [
    "## Getting Started with HTTP Requests in C#\n",
    "\n",
    "we will explore how to make HTTP requests in C# using the built-in HttpClient class. This class provides a high-level interface for sending HTTP requests and receiving responses from a server.\n",
    "\n",
    "First, let’s take a look at how to create an instance of the HttpClient class:\n"
   ]
  },
  {
   "cell_type": "code",
   "execution_count": 1,
   "metadata": {
    "dotnet_interactive": {
     "language": "csharp"
    },
    "polyglot_notebook": {
     "kernelName": "csharp"
    },
    "vscode": {
     "languageId": "polyglot-notebook"
    }
   },
   "outputs": [],
   "source": [
    "using System.Net.Http;\n",
    "\n",
    "var client = new HttpClient();"
   ]
  },
  {
   "attachments": {},
   "cell_type": "markdown",
   "metadata": {
    "dotnet_interactive": {
     "language": "csharp"
    },
    "polyglot_notebook": {
     "kernelName": "csharp"
    }
   },
   "source": [
    "Once we have an instance of the HttpClient class, we can use it to send HTTP requests. For example, here is how we can send a GET request to retrieve data from a server:"
   ]
  },
  {
   "cell_type": "code",
   "execution_count": 3,
   "metadata": {
    "dotnet_interactive": {
     "language": "csharp"
    },
    "polyglot_notebook": {
     "kernelName": "csharp"
    },
    "vscode": {
     "languageId": "polyglot-notebook"
    }
   },
   "outputs": [],
   "source": [
    "var response = await client.GetAsync(\"https://google.com\");"
   ]
  },
  {
   "attachments": {},
   "cell_type": "markdown",
   "metadata": {
    "dotnet_interactive": {
     "language": "csharp"
    },
    "polyglot_notebook": {
     "kernelName": "csharp"
    }
   },
   "source": [
    "The GetAsync method returns an instance of the HttpResponseMessage class that represents the response from the server. We can use this object to check if the request was successful and to retrieve the data returned by the server.\n",
    "\n",
    "For example, here is how we can check if the request was successful and retrieve the data as a string:"
   ]
  },
  {
   "cell_type": "code",
   "execution_count": 4,
   "metadata": {
    "dotnet_interactive": {
     "language": "csharp"
    },
    "polyglot_notebook": {
     "kernelName": "csharp"
    },
    "vscode": {
     "languageId": "polyglot-notebook"
    }
   },
   "outputs": [],
   "source": [
    "if (response.IsSuccessStatusCode)\n",
    "{\n",
    "    var data = await response.Content.ReadAsStringAsync();\n",
    "}"
   ]
  },
  {
   "attachments": {},
   "cell_type": "markdown",
   "metadata": {
    "dotnet_interactive": {
     "language": "csharp"
    },
    "polyglot_notebook": {
     "kernelName": "csharp"
    }
   },
   "source": [
    "In addition to GET requests, we can also use the HttpClient class to send other types of HTTP requests such as POST, PUT and DELETE. Here is an example that shows how to send a POST request with JSON data:\n",
    "\n",
    "```csharp\n",
    "using System.Net.Http;\n",
    "using System.Net.Http.Headers;\n",
    "using System.Text.Json;\n",
    "\n",
    "var client = new HttpClient();\n",
    "\n",
    "var content = new StringContent(JsonSerializer.Serialize(new { Name = \"John\", Age = 30 }));\n",
    "content.Headers.ContentType = new MediaTypeHeaderValue(\"application/json\");\n",
    "\n",
    "var response = await client.PostAsync(\"https://api.example.com/users\", content);\n",
    "```"
   ]
  },
  {
   "attachments": {},
   "cell_type": "markdown",
   "metadata": {
    "dotnet_interactive": {
     "language": "csharp"
    },
    "polyglot_notebook": {
     "kernelName": "csharp"
    }
   },
   "source": [
    "In this example, we create an instance of the StringContent class that represents the JSON data that we want to send in our POST request. We then set its content type header to \"application/json\" and pass it as an argument when calling the PostAsync method.\n",
    "\n",
    "The HttpClient class provides many other methods for sending HTTP requests and configuring various aspects of these requests such as headers and timeouts. You can learn more about these methods by consulting the official documentation.\n",
    "\n",
    "In conclusion, making HTTP requests in C# is easy thanks to its built-in support for this functionality via classes like HttpClient. With just a few lines of code you can start retrieving data from servers or sending your own data over HTTP."
   ]
  },
  {
   "attachments": {},
   "cell_type": "markdown",
   "metadata": {
    "dotnet_interactive": {
     "language": "csharp"
    },
    "polyglot_notebook": {
     "kernelName": "csharp"
    }
   },
   "source": [
    "### References\n",
    "- [1] \"HTTP Status Codes,\" Umbraco. [Online]. Available: https://umbraco.com/knowledge-base/http-status-codes/#1xx. [Accessed: insert date of access]"
   ]
  },
  {
   "attachments": {},
   "cell_type": "markdown",
   "metadata": {
    "dotnet_interactive": {
     "language": "csharp"
    },
    "polyglot_notebook": {
     "kernelName": "csharp"
    }
   },
   "source": [
    "## Creating Windows Forms Applications with C#\n",
    "\n",
    "Windows Forms is a user interface framework that allows developers to create desktop applications for the Windows operating system. With Windows Forms, developers can create rich, interactive applications with a variety of controls, such as buttons, text boxes, and list boxes. In this chapter, we will cover the basics of creating a Windows Forms application using C#.\n",
    "\n",
    "Creating a New Windows Forms Application\n",
    "\n",
    "To create a new Windows Forms application, open Visual Studio and select File -> New -> Project. In the New Project dialog box, select Windows Forms App (.NET Framework) under the Visual C# category. Give your project a name and click Create.\n",
    "\n",
    "Once you have created a new Windows Forms application, you will see a blank form in the designer window. You can use the toolbox on the left side of the screen to add controls to your form.\n",
    "\n",
    "Adding Controls to a Form\n",
    "\n",
    "To add a control to a form, simply drag and drop it from the toolbox onto the form. For example, to add a button to the form, drag the Button control from the toolbox and drop it onto the form. You can then use the Properties window to set the properties of the control, such as the text that appears on the button.\n",
    "\n",
    "Event Handling\n",
    "\n",
    "In a Windows Forms application, you can write code that is executed when an event occurs, such as when a button is clicked. To handle events, you can use the event handlers that are generated by Visual Studio.\n",
    "\n",
    "For example, to handle the Click event of a button, double-click the button in the designer window. This will generate a method that is executed when the button is clicked. You can then write the code that you want to execute in this method.\n",
    "\n",
    "Here is an example of a button click event handler:\n",
    "\n",
    "```csharp\n",
    "private void button1_Click(object sender, EventArgs e)\n",
    "{\n",
    "    MessageBox.Show(\"Hello, world!\");\n",
    "}\n",
    "```\n",
    "\n",
    "This event handler displays a message box with the text \"Hello, world!\" when the button is clicked.\n",
    "\n",
    "Layout\n",
    "\n",
    "In a Windows Forms application, you can use the designer to arrange the controls on the form. You can use the Layout toolbar to align and resize the controls. You can also use the Properties window to set the layout properties of the controls, such as the position and size.\n",
    "\n",
    "Data Binding\n",
    "\n",
    "Windows Forms applications can also be used to display data from a database or other data source. You can use data binding to bind controls on the form to data from a data source.\n",
    "\n",
    "To bind a control to data, you can use the Data Sources window. The Data Sources window allows you to connect to a data source and select the data that you want to display.\n",
    "\n",
    "A bare bones Windows Forms application\n",
    "```csharp\n",
    "using System;\n",
    "using System.Windows.Forms;\n",
    "\n",
    "namespace WindowsFormsApp1\n",
    "{\n",
    "    using System.Windows.Forms;\n",
    "\n",
    "namespace WindowsFormsApp1\n",
    "{\n",
    "    public partial class Form1 : Form\n",
    "        {\n",
    "            public Form1()\n",
    "            {\n",
    "                InitializeComponent();\n",
    "\n",
    "                // Create a new TextBox control\n",
    "                TextBox textBox = new TextBox();\n",
    "\n",
    "                // Set the location and size of the TextBox\n",
    "                textBox.Location = new System.Drawing.Point(10, 10);\n",
    "                textBox.Size = new System.Drawing.Size(200, 20);\n",
    "\n",
    "                // Add the TextBox to the form\n",
    "                this.Controls.Add(textBox);\n",
    "            }\n",
    "        }\n",
    "    }\n",
    "    static class Program\n",
    "    {\n",
    "        [STAThread]\n",
    "        static void Main()\n",
    "        {\n",
    "            Application.EnableVisualStyles();\n",
    "            Application.SetCompatibleTextRenderingDefault(false);\n",
    "            Application.Run(new Form1());\n",
    "        }\n",
    "    }\n",
    "}\n",
    "```\n",
    "\n",
    "Conclusion\n",
    "\n",
    "In this chapter, we have covered the basics of creating a Windows Forms application with C#. We have looked at how to create a new Windows Forms application, how to add controls to a form, how to handle events, how to arrange controls on a form, and how to bind controls to data.\n",
    "\n",
    "Windows Forms is a powerful framework that allows developers to create rich, interactive applications for the Windows operating system. With its intuitive designer and powerful data binding features, Windows Forms is an ideal platform for creating desktop applications."
   ]
  },
  {
   "attachments": {},
   "cell_type": "markdown",
   "metadata": {
    "dotnet_interactive": {
     "language": "csharp"
    },
    "polyglot_notebook": {
     "kernelName": "csharp"
    }
   },
   "source": [
    "# C# Projects\n",
    "\n",
    "## Parsing git commits\n",
    "\n",
    "This means that I need to be able to extract JIRA tickets from the commit messages. I also want to be able to extract the commit message and the commit hash.\n",
    "\n",
    "Using regex to parse the commit messages is a good way to do this. I will be using the following regex to parse the commit messages.\n",
    "\n",
    "```csharp\n",
    "foreach (Match match in Regex.Matches(c.Message, @\"([\\S]+)-\\d+\",\n",
    "                                    RegexOptions.None,\n",
    "                                    TimeSpan.FromSeconds(2)))\n",
    "{\n",
    "    entries.Add(match.Value);\n",
    "}\n",
    "```\n",
    "\n",
    "will grab all word before the ticket number. For example, if you have the following commit message:\n",
    "\n",
    "```bash\n",
    "git commit -m \"ABC-1234: This is a commit message\"\n",
    "```\n",
    "\n",
    "it will extract ABC-1234 from the commit message.\n",
    "\n",
    "For general parsing logic, I adapted the code from this article.\n",
    "\n",
    "\n",
    "Starting from dotnet 6.0, I can just put all the logic in a single file for a single file application. \n",
    "\n",
    "\n",
    "Combining all this logic together, we can parse command line arguments with since to grab all commits, and then parse the commit messages to grab the JIRA tickets.\n",
    "\n",
    "Using `git log`, a standard git commit looks like, headers will be defined with colons, commits sha sha1 hashes, and the commit message.\n",
    "\n",
    "```\n",
    "commit 226198d2f8e61206ad9eb47b32124f77801ca026\n",
    "Author: David Li <davidli012345@gmail.com>\n",
    "Date:   Tue Aug 23 22:26:45 2022 -0700\n",
    "\n",
    "    feat: adding media_nlp post closes #16\n",
    "```\n",
    "\n",
    "\n",
    "Since we are using dotnet 6.0, we can use the new top level statements to make the code more concise. In order to grab command line arguments we need to use the CommandLine library.\n",
    "\n",
    "```csharp\n",
    "var cmdArgs = Environment.GetCommandLineArgs();\n",
    "Parser.Default.ParseArguments<CommandLineOptions>(cmdArgs)\n",
    "    .WithParsed<CommandLineOptions>(o =>{});\n",
    "\n",
    "public class CommandLineOptions\n",
    "{\n",
    "    [Option('s', \"since\", Required = false, Default = \"yesterday\", HelpText = \"Since Time\")]\n",
    "    public string Since { get; set; }\n",
    "    [Option('a', \"author\", Required = false, Default = \"David Li\", HelpText = \"Author to search git logs for\")]\n",
    "    public string Author { get; set; }\n",
    "    [Option('d', \"dir\", Required = false, HelpText = \"local path to repository to parse\")]\n",
    "    public string Repo { get; set; }\n",
    "}\n",
    "```\n",
    "\n",
    "`o` will have the arguments of type CommandLineOptions. We can then use the since argument to grab all the commits. We will be passing since and author to parse for my commits from yesterday.\n",
    "\n",
    "After grabbing the command line arguments, we can use the following code run git from C#, in python its called `subprocess`. We then need to parse the response from git to grab the commit hash and the commit message.\n",
    "\n",
    "```csharp\n",
    "    public static string RunProcess(string command)\n",
    "    {\n",
    "        // Start the child process.\n",
    "        Process p = new Process();\n",
    "        // Redirect the output stream of the child process.\n",
    "        p.StartInfo.UseShellExecute = false;\n",
    "        p.StartInfo.RedirectStandardOutput = true;\n",
    "        p.StartInfo.FileName = \"git\";\n",
    "        p.StartInfo.Arguments = command;\n",
    "        p.Start();\n",
    "        // Read the output stream first and then wait.\n",
    "        string output = p.StandardOutput.ReadToEnd();\n",
    "        p.WaitForExit();\n",
    "        return output;\n",
    "\n",
    "    }\n",
    "\n",
    "\n",
    "    public static string AllLogs(string since, string author)\n",
    "    {\n",
    "        var args_string = string.Format(\"log --all --since=\\\"{0}\\\" --before=0am --author=\\\"{1}\\\"\", since, author);\n",
    "        var output = RunProcess(args_string);\n",
    "        return output;\n",
    "    }\n",
    "```\n",
    "\n",
    "Then in order to parse all the results, we can use the following code. To check if a line is a header we look for a line length greater than 0, a character for the for letter and if we have a colon character.\n",
    "\n",
    "```csharp\n",
    "    static bool StartsWithHeader(string line)\n",
    "    {\n",
    "        if (line.Length > 0 && char.IsLetter(line[0]))\n",
    "        {\n",
    "            var seq = line.SkipWhile(ch => Char.IsLetter(ch) && ch != ':');\n",
    "            return seq.FirstOrDefault() == ':';\n",
    "        }\n",
    "        return false;\n",
    "    }\n",
    "```\n",
    "\n",
    "In order to parse results, we iterate across all lines of code looking for \"commit messages\",\n",
    "\n",
    "\n",
    "```csharp\n",
    " public static List<GitCommit> ParseResults(string output)\n",
    "    {\n",
    "        GitCommit commit = null;\n",
    "        var commits = new List<GitCommit>();\n",
    "        bool processingMessage = false;\n",
    "        using (var strReader = new StringReader(output))\n",
    "        {\n",
    "            do\n",
    "            {\n",
    "                var line = strReader.ReadLine();\n",
    "                if (line == null) {\n",
    "                    continue;\n",
    "                } \n",
    "                if (line.StartsWith(\"commit \"))\n",
    "                {\n",
    "                    if (commit != null)\n",
    "                        commits.Add(commit);\n",
    "                    commit = new GitCommit();\n",
    "                    commit.Sha = line.Split(' ')[1];\n",
    "                }\n",
    "\n",
    "                if (StartsWithHeader(line))\n",
    "                {\n",
    "                    var header = line.Split(':')[0];\n",
    "                    var val = string.Join(\":\", line.Split(':').Skip(1)).Trim();\n",
    "\n",
    "                    // headers\n",
    "                    commit.Headers.Add(header, val);\n",
    "                }\n",
    "\n",
    "                if (string.IsNullOrEmpty(line) && commit.Message != null)\n",
    "                {\n",
    "                    // commit message divider\n",
    "                    processingMessage = !processingMessage;\n",
    "                }\n",
    "\n",
    "                if (line.Length > 0 && processingMessage)\n",
    "                {\n",
    "                    // commit message.\n",
    "                    commit.Message += line;\n",
    "                }\n",
    "            }\n",
    "            while (strReader.Peek() != -1);\n",
    "        }\n",
    "        if (commit != null)\n",
    "            commits.Add(commit);\n",
    "\n",
    "        return commits;\n",
    "    }\n",
    "```\n",
    "\n",
    "Combining all this logic, together we can parse all the commits from yesterday, and then parse the commit messages to grab the JIRA tickets.\n",
    "\n",
    "```csharp\n",
    "var cmdArgs = Environment.GetCommandLineArgs();\n",
    "Parser.Default.ParseArguments<CommandLineOptions>(cmdArgs)\n",
    "    .WithParsed<CommandLineOptions>(o =>\n",
    "    {\n",
    "        string output = Utils.AllLogs(o.Since, o.Author);\n",
    "        Console.WriteLine(output);\n",
    "\n",
    "        var commits = Utils.ParseResults(output);\n",
    "        Console.WriteLine(commits);\n",
    "        // pull entries with #{number} and JIRA-1 project regex\n",
    "        var entries = new List<String>();\n",
    "        // iterate across all commmits and print out the commit message\n",
    "        Console.WriteLine(\"Messages: \");\n",
    "        foreach (var c in commits)\n",
    "        {\n",
    "            Console.WriteLine(c.Message);\n",
    "            foreach (Match match in Regex.Matches(c.Message, @\"([\\S]+)-\\d+\",\n",
    "                                               RegexOptions.None,\n",
    "                                               TimeSpan.FromSeconds(2)))\n",
    "            {\n",
    "                // Console.WriteLine(\"Found '{0}' at position {1}\", match.Value, match.Index);\n",
    "                entries.Add(match.Value);\n",
    "            }\n",
    "        }\n",
    "        Console.WriteLine(\"----------------\");\n",
    "\n",
    "        Console.WriteLine(\"Issues found: \");\n",
    "        // print all entries\n",
    "        foreach (var e in entries)\n",
    "        {\n",
    "            Console.WriteLine(e);\n",
    "        }\n",
    "    });\n",
    "```\n",
    "\n",
    "### References\n",
    "\n",
    "* https://github.com/FriendlyUser/git_log_parser\n",
    "* https://gist.github.com/Erikdegroot89/a242f0a836de3ed669dac315e1a28c04"
   ]
  },
  {
   "attachments": {},
   "cell_type": "markdown",
   "metadata": {
    "dotnet_interactive": {
     "language": "csharp"
    },
    "polyglot_notebook": {
     "kernelName": "csharp"
    }
   },
   "source": [
    "## My anime list api wrapper\n",
    "\n",
    "Grabbing the openapi spec from the redoc script in js, we can easily save that to a json file.\n",
    "\n",
    "For redoc, the openapi spec is stored in the `__redoc_state` variable. We can grab that variable using regex and save it to a json file.\n",
    "\n",
    "Note that the openapi spec is stored in the `spec.openapi` variable and could possibly be invalid.\n",
    "\n",
    "Afer saving the openapi spec to a json file, we can use the openapi generator to generate a dotnet client."
   ]
  },
  {
   "cell_type": "code",
   "execution_count": 128,
   "metadata": {
    "dotnet_interactive": {
     "language": "csharp"
    },
    "polyglot_notebook": {
     "kernelName": "csharp"
    },
    "vscode": {
     "languageId": "polyglot-notebook"
    }
   },
   "outputs": [],
   "source": [
    "using System;\n",
    "using System.IO;\n",
    "using System.Net.Http;\n",
    "using System.Text.Json;\n",
    "using System.Threading.Tasks;\n",
    "\n",
    "private static async Task GrabSpecFromRedocAsync(string url = \"https://myanimelist.net/apiconfig/references/api/v2\")\n",
    "{\n",
    "    using var client = new HttpClient();\n",
    "    var spec = await client.GetStringAsync(url);\n",
    "    string rawSpec = null;\n",
    "\n",
    "    foreach (var line in spec.Split(new[] { Environment.NewLine }, StringSplitOptions.None))\n",
    "    {\n",
    "        if (!line.Contains(\"__redoc_state\")) continue;\n",
    "        rawSpec = line.Split(new[] { \"= \" }, StringSplitOptions.None)[1];\n",
    "        rawSpec = rawSpec[..^1];\n",
    "        break;\n",
    "    }\n",
    "\n",
    "    using var jsonDoc = JsonDocument.Parse(rawSpec);\n",
    "    var openapiSpec = jsonDoc.RootElement.GetProperty(\"spec\").GetProperty(\"data\");\n",
    "\n",
    "    await File.WriteAllTextAsync(\"data/spec.json\", openapiSpec.GetRawText());\n",
    "}\n",
    "\n",
    "await GrabSpecFromRedocAsync();"
   ]
  },
  {
   "cell_type": "code",
   "execution_count": 129,
   "metadata": {
    "dotnet_interactive": {
     "language": "pwsh"
    },
    "polyglot_notebook": {
     "kernelName": "pwsh"
    },
    "vscode": {
     "languageId": "polyglot-notebook"
    }
   },
   "outputs": [
    {
     "name": "stdout",
     "output_type": "stream",
     "text": [
      "{\"openapi\":\"3.0.0\",\"info\":{\"description\":\"MyAnimeList.net is the property of MyAnimeList Co.,Ltd. Al\n"
     ]
    }
   ],
   "source": [
    "head -c 100 data/spec.json"
   ]
  },
  {
   "attachments": {},
   "cell_type": "markdown",
   "metadata": {
    "dotnet_interactive": {
     "language": "csharp"
    },
    "polyglot_notebook": {
     "kernelName": "csharp"
    }
   },
   "source": [
    "```bash\n",
    "openapi-generator-cli generate -i myanime_spec.json -g csharp-netcore --additional-properties=targetFramework=net6.0 --additional-properties=nullableReferenceTypes=true\n",
    "```\n",
    "\n",
    "This will create folders under src/ called `Org.OpenAPITools` and `Org.OpenAPITools.Test`. We can reference the from `Org.OpenAPITools` to our project and use the generated client.\n",
    "\n",
    "```csharp\n",
    "dotnet new console -o src/Anime\n",
    "dotnet sln add src/Anime\n",
    "```\n",
    "\n",
    "This will create a new console project under src/Anime and add it to the solution."
   ]
  },
  {
   "attachments": {},
   "cell_type": "markdown",
   "metadata": {
    "dotnet_interactive": {
     "language": "csharp"
    },
    "polyglot_notebook": {
     "kernelName": "csharp"
    }
   },
   "source": [
    "\n",
    "```csharp\n",
    "// See https://aka.ms/new-console-template for more information\n",
    "using System;\n",
    "using System.Collections.Generic;\n",
    "using System.Diagnostics;\n",
    "using Org.OpenAPITools.Api;\n",
    "using Org.OpenAPITools.Client;\n",
    "using Org.OpenAPITools.Model;\n",
    "\n",
    "\n",
    "// use AnimeRankingGet for Top Upcoming Anime and Top Airing Anime\n",
    "string mal_api_key = Environment.GetEnvironmentVariable(\"MAL_CLIENT_ID\");\n",
    "Configuration config = new Configuration();\n",
    "config.BasePath = \"https://api.myanimelist.net/v2\";\n",
    "// Configure API key authorization: client_auth\n",
    "config.ApiKey.Add(\"X-MAL-CLIENT-ID\", mal_api_key);\n",
    "// Uncomment below to setup prefix (e.g. Bearer) for API key, if needed\n",
    "// config.ApiKeyPrefix.Add(\"X-MAL-CLIENT-ID\", \"Bearer\");\n",
    "// Configure OAuth2 access token for authorization: main_auth\n",
    "// config.AccessToken = \"YOUR_ACCESS_TOKEN\";\n",
    "\n",
    "var apiInstance = new AnimeApi(config);\n",
    "\n",
    "try\n",
    "{\n",
    "// Get anime details\n",
    "Console.WriteLine(\"----------- UPCOMING -----------\");\n",
    "var upcoming = apiInstance.AnimeRankingGet(\"upcoming\", 20);\n",
    "// iterate across data\n",
    "foreach (var item in upcoming.Data)\n",
    "{\n",
    "    Console.WriteLine(item.Node.Title);\n",
    "}\n",
    "Console.WriteLine(\"----------- END UPCOMING -----------\");\n",
    "\n",
    "Console.WriteLine(\"----------- airing -----------\");\n",
    "var airing = apiInstance.AnimeRankingGet(\"airing\", 20);\n",
    "// iterate across data\n",
    "foreach (var item in airing.Data)\n",
    "{\n",
    "    Console.WriteLine(item.Node.Title);\n",
    "}\n",
    "    Console.WriteLine(\"----------- END airing -----------\");\n",
    "\n",
    "}\n",
    "catch (ApiException e)\n",
    "{\n",
    "    Console.WriteLine(\"Exception when calling AnimeApi.AnimeAnimeIdGet: \" + e.Message );\n",
    "    Console.WriteLine(\"Status Code: \"+ e.ErrorCode);\n",
    "    Console.WriteLine(e.StackTrace);\n",
    "}"
   ]
  },
  {
   "attachments": {},
   "cell_type": "markdown",
   "metadata": {
    "dotnet_interactive": {
     "language": "csharp"
    },
    "polyglot_notebook": {
     "kernelName": "csharp"
    }
   },
   "source": [
    "This C# code uses the MyAnimeList API to retrieve and display information about upcoming and currently airing anime.\n",
    "\n",
    "First, the code retrieves an API key from an environment variable named MAL_CLIENT_ID and creates a new Configuration object. The base path for the API is set to \"https://api.myanimelist.net/v2\", and the API key is added to the configuration object.\n",
    "\n",
    "Next, a new instance of the AnimeApi class is created using the previously defined configuration object. The code then makes two calls to the AnimeRankingGet method of this instance: one with \"upcoming\" as its first argument to retrieve information about upcoming anime, and another with \"airing\" as its first argument to retrieve information about currently airing anime. In both cases, the second argument specifies that only 20 results should be returned.\n",
    "\n",
    "The results of these calls are stored in variables named upcoming and airing, respectively. The code then iterates over the data in these variables using a foreach loop and prints out the titles of each anime using their respective Node.Title properties.\n",
    "\n",
    "If an exception occurs while calling any of these methods (e.g., if there is a problem with authentication or if there is an issue with the API), it will be caught by a try-catch block that surrounds this entire section of code. In this case, information about the exception (such as its message, error code, and stack trace) will be printed out to help diagnose what went wrong."
   ]
  },
  {
   "attachments": {},
   "cell_type": "markdown",
   "metadata": {
    "dotnet_interactive": {
     "language": "csharp"
    },
    "polyglot_notebook": {
     "kernelName": "csharp"
    }
   },
   "source": [
    "## Google News Scrapping with dotnet\n",
    "\n",
    "Google News is a news aggregator and personalized news service developed by Google. It was launched in 2002 and has since become one of the largest news aggregators on the web. The service collects news articles from thousands of sources, including national and international news organizations, as well as local and regional publishers, and presents them in a format that makes it easy to quickly find and read the news that interests you. Google News uses algorithms to analyze and rank news articles, ensuring that the most relevant and up-to-date articles are displayed first. The service is free and can be accessed through a web browser or mobile app.\n",
    "\n",
    "\n",
    "You can use the Google News RSS (Really Simple Syndication) feed to find news articles based on a custom search query. The basic format for using the Google News RSS feed is as follows:\n",
    "\n",
    "<https://news.google.com/rss/search?q=SEARCH_QUERY>\n",
    "\n",
    "Replace \"SEARCH\\_QUERY\" with the keyword or phrase you want to search for, and include it in the URL. For example, if you want to find news articles about technology, you can use the following URL:\n",
    "\n",
    "<https://news.google.com/rss/search?q=technology>\n",
    "\n",
    "You can use this URL to subscribe to the RSS feed using a news reader or aggregator, or you can access the feed directly in your web browser to see a list of news articles related to your search query.\n",
    "\n",
    "Note that the Google News RSS feed is subject to change and may not be available in all countries. Also, be aware that the terms of service for Google News state that you may not use the service to scrape or display its content on another website or application without permission.\n",
    "\n",
    "\n",
    "For the full source code please view\n",
    "\n",
    "https://github.com/FriendlyUser/news-alert/blob/master/News.cs\n",
    "\n",
    "```csharp \n",
    " using System;\n",
    "//Request library\n",
    "using System.Net;\n",
    "using System.IO;\n",
    "using System.Web;\n",
    "using System.Xml;\n",
    "using System.Text.Json;\n",
    "using System.Text.Json.Serialization;\n",
    "using System.Collections.Generic;\n",
    "using System.Threading.Tasks;\n",
    "using Elasticsearch.Net;\n",
    "using System.Net.Http;\n",
    "namespace news_alert\n",
    "{\n",
    "    public class News\n",
    "    {\n",
    "        public static readonly HttpClient client = new HttpClient();\n",
    "    \n",
    "        static public void SendItemToDiscord(XmlNode item) {\n",
    "            // set discord webhook as private env\n",
    "            string webhook = Environment.GetEnvironmentVariable(\"DISCORD_WEBHOOK\");\n",
    "            string esInstance = Environment.GetEnvironmentVariable(\"ES_INSTANCE\");\n",
    "            if (webhook == null) {\n",
    "                Console.WriteLine(\"GET A DISCORD WEBHOOK\");\n",
    "                return;\n",
    "            }\n",
    "            var request = (HttpWebRequest)WebRequest.Create(webhook);\n",
    "            request.ContentType = \"application/json\";\n",
    "            request.Method = \"POST\";\n",
    "            DateTime pubDate = Convert.ToDateTime(item[\"pubDate\"].InnerText);\n",
    "            string postLink = item[\"link\"].InnerText;\n",
    "            string discordTemplate = \"{0} \\n {1} \\n {2} \";\n",
    "            string discordMessage = string.Format(discordTemplate, item[\"title\"].InnerText,\n",
    "                item[\"pubDate\"].InnerText, postLink);\n",
    "            // write message of data sent to discord\n",
    "            var w = new WebhookData() { content = discordMessage };\n",
    "            using (var streamWriter = new StreamWriter(request.GetRequestStream()))\n",
    "            {\n",
    "                streamWriter.Write(JsonSerializer.Serialize<WebhookData>(w));\n",
    "            }\n",
    "            var httpResponse = (HttpWebResponse)request.GetResponse();\n",
    "            using (var streamReader = new StreamReader(httpResponse.GetResponseStream()))\n",
    "            {\n",
    "                var result = streamReader.ReadToEnd();\n",
    "            }\n",
    "            // send data to es instance\n",
    "            var settings = new ConnectionConfiguration(new Uri(esInstance))\n",
    "                .RequestTimeout(TimeSpan.FromMinutes(2));\n",
    "            var lowlevelClient = new ElasticLowLevelClient(settings);\n",
    "            var post = new Post\n",
    "            {\n",
    "                guid = item[\"guid\"].InnerText\n",
    "            };\n",
    "            var asyncIndexResponse = lowlevelClient.Index<StringResponse>(\"post\", PostData.Serializable(post)); \n",
    "            string responseString = asyncIndexResponse.Body;\n",
    "            Console.WriteLine(responseString);\n",
    "        }\n",
    "\n",
    "        static async Task Main(string[] args)\n",
    "        {\n",
    "            await checkNews();\n",
    "            await Task.Run(() => checkPrices());\n",
    "        }\n",
    "        static async public Task checkPrices() {\n",
    "            string stockUrl = Environment.GetEnvironmentVariable(\"STOCK_URL\");\n",
    "            if (stockUrl == null) {\n",
    "                Console.WriteLine(\"GET A Stock URL WEBHOOK\");\n",
    "                return;\n",
    "            }\n",
    "            List<StockData> stocks = new List<StockData>();\n",
    "            stocks.Add(new StockData() {ticker=\"NEXCF\", targetPrice=1.60});\n",
    "            foreach (StockData stock in stocks)\n",
    "            {\n",
    "                Console.WriteLine(stock.ticker);\n",
    "                // query api\n",
    "            }\n",
    "            // either return a completed Task, or await for it (there is a difference!\n",
    "            await Task.CompletedTask;\n",
    "        }\n",
    "        static async public Task checkNews() {\n",
    "            var searchItems = new List<string> { \"hydrogen\",\n",
    "                \"analyticGPT\", \"natural gas\", \"recession\",\n",
    "                \"Tech layoffs\", \"Bard AI\"\n",
    "            };\n",
    "            foreach (string searchText in searchItems)\n",
    "            {\n",
    "                // line of items of cli list\n",
    "                string xml = await FetchData(searchText);\n",
    "                XmlDocument doc = new XmlDocument();\n",
    "                doc.LoadXml(xml);\n",
    "                // only print the first few elements\n",
    "                XmlNodeList items = doc.GetElementsByTagName(\"item\");\n",
    "                DateTime utcDate = DateTime.UtcNow;\n",
    "                for (int i=0; i < 5; i++)\n",
    "                {   string pubDateStr = \"\";\n",
    "                    try {\n",
    "                        pubDateStr = items[i][\"pubDate\"].InnerText;\n",
    "                    } catch (NullReferenceException e) {\n",
    "                        Console.WriteLine(\"\\nException Caught!\");\t\n",
    "                        Console.WriteLine(\"Message :{0} \",e.Message);\n",
    "                        continue;\n",
    "                    }\n",
    "                    DateTime pubDate = Convert.ToDateTime(pubDateStr);\n",
    "                    // Console.WriteLine(pubDate);\n",
    "                    if (utcDate.Subtract(pubDate).TotalHours < 24 * 2) {\n",
    "                        Console.WriteLine(\"Within 2 days\");\n",
    "                        // check if id is in db\n",
    "                        string esInstance = Environment.GetEnvironmentVariable(\"ES_INSTANCE\");\n",
    "                        var settings = new ConnectionConfiguration(new Uri(esInstance))\n",
    "                            .RequestTimeout(TimeSpan.FromMinutes(2));\n",
    "                        var lowlevelClient = new ElasticLowLevelClient(settings);\n",
    "                        var searchResponse = lowlevelClient.Search<StringResponse>(\"post\", PostData.Serializable(new\n",
    "                        {\n",
    "                            query = new\n",
    "                            {\n",
    "                                match = new\n",
    "                                {\n",
    "                                    guid = items[i][\"guid\"].InnerText// items[i][\"guid\"].InnerText\n",
    "                                }\n",
    "                            }\n",
    "                        }));\n",
    "                        var successful = searchResponse.Success;\n",
    "                        var responseJson = searchResponse.Body;\n",
    "                        SearchResult searchResult = JsonSerializer.Deserialize<SearchResult>(responseJson);\n",
    "                        if (searchResult.hits.total.value == 0) {\n",
    "                            SendItemToDiscord(items[i]);\n",
    "                        } else {\n",
    "                            Console.WriteLine(\"Match Already in DB, not going to print\");\n",
    "                        }\n",
    "                    }\n",
    "                }\n",
    "            }\n",
    "            await Task.CompletedTask;\n",
    "        }\n",
    "        static async public Task<string> FetchData(string searchText) {\n",
    "            var query = HttpUtility.ParseQueryString(string.Empty);\n",
    "            query[\"q\"] = searchText;\n",
    "            string queryString = query.ToString();\n",
    "\n",
    "            string htmlData = string.Empty;\n",
    "            string urlTemplate = @\"https://news.google.com/rss/search?{0}\";\n",
    "            string url = string.Format(urlTemplate, queryString);\n",
    "            try\t\n",
    "            {\n",
    "              string responseBody = await client.GetStringAsync(url);\n",
    "\n",
    "              Console.WriteLine(responseBody);\n",
    "              return await Task.FromResult(responseBody);\n",
    "            }\n",
    "            catch(HttpRequestException e)\n",
    "            {\n",
    "              Console.WriteLine(\"\\nException Caught!\");\t\n",
    "              Console.WriteLine(\"Message :{0} \",e.Message);\n",
    "            }\n",
    "            return await Task.FromResult(\"\");\n",
    "        }\n",
    "    }\n",
    "}\n",
    " \n",
    " ```\n",
    "\n",
    "This code is a .NET Core console application that performs two main functions: checking for news articles and checking for stock prices. The news checking function fetches the latest news articles from an API and sends a summary of the latest articles that contain keywords from a predefined list of search terms to a Discord channel. The function also sends the information to an Elasticsearch instance for tracking. The stock price checking function queries a stock API to get the latest stock prices of a predefined list of stocks and logs the results.\n",
    "\n",
    "Here's a high-level overview of the code:\n",
    "\n",
    "1. The \"News\" class contains the main logic for the application.\n",
    "2. The \"SendItemToDiscord\" method sends a summary of a news article to a Discord channel. The method uses the Discord webhook URL, which is stored as an environment variable, to post a message to a specific Discord channel. The method also uses the Elasticsearch instance URL, stored as another environment variable, to index the article for tracking purposes.\n",
    "3. The \"checkNews\" method checks for the latest news articles that contain the keywords from a predefined list of search terms. The method calls the \"FetchData\" method to retrieve the latest news articles in XML format and parses the XML to extract the article summaries. The method then sends the latest articles to the Discord channel using the \"SendItemToDiscord\" method.\n",
    "4. The \"checkPrices\" method checks for the latest stock prices of a predefined list of stocks. The method uses the stock API URL, stored as an environment variable, to retrieve the latest stock prices. The method logs the results of the stock prices.\n",
    "5. The \"Main\" method is the entry point of the application and calls the \"checkNews\" and \"checkPrices\" methods. The \"checkNews\" and \"checkPrices\" methods are executed as asynchronous tasks.\n",
    "\n",
    "Using RSS feeds as a news source for investing purposes can be a useful way to stay up to date on the latest financial news and market developments. This can be especially useful for investors who are interested in a particular sector or industry, as they can subscribe to RSS feeds from news sources that specialize in that area.\n",
    "\n",
    "By subscribing to these feeds, investors can receive notifications as soon as new articles or reports are published, which can provide them with valuable insights and information about the market and specific investments. Additionally, investors can use RSS feeds to track the latest news on companies they are interested in, which can help them stay informed about important developments and trends.\n",
    "\n",
    "However, it is important for investors to keep in mind that not all news sources are created equal. Some sources may have biases or agendas, and it is important to be critical and evaluate the information being presented. It is also important to seek out multiple sources of information, as relying solely on one source may lead to a skewed or incomplete view of the market and individual investments.\n",
    "\n",
    "\n",
    "Elasticsearch is a search engine based on the Lucene library. It provides a distributed, multitenant-capable full-text search engine with a RESTful web interface and schema-free JSON documents. It is used for various purposes, including:\n",
    "\n",
    "1. Full-Text Search: Elasticsearch is particularly useful for full-text search queries, with its ability to search through large volumes of data quickly and efficiently.\n",
    "2. Analytics and Business Intelligence: Elasticsearch can be used to gather insights from data and to perform advanced analytics tasks, such as aggregations and data analysis.\n",
    "3. Log Management and Analysis: Elasticsearch is widely used for log management and analysis, making it possible to quickly search through large amounts of log data to identify patterns and troubleshoot issues.\n",
    "4. Application Performance Monitoring: Elasticsearch can be used to monitor the performance of applications, as well as to store and analyze log data, providing real-time visibility into the health of the application and its components.\n",
    "5. Geospatial Data: Elasticsearch has built-in support for geospatial data, making it possible to search, filter and aggregate data based on location.\n",
    "6. E-commerce: Elasticsearch can be used to power search and recommendations in e-commerce applications, helping users find the products they are looking for quickly and easily.\n",
    "7. Security Information and Event Management (SIEM): Elasticsearch can be used as part of a SIEM solution to collect, store, and analyze security-related data from various sources, such as network devices and applications.\n",
    "\n",
    "These are just a few of the many use cases for Elasticsearch, and it is a highly versatile technology that can be used in a wide range of applications and industries.\n",
    "\n",
    "Yes, Bonsai.io is one of the providers that offer free hosting for Elasticsearch. With their free plan, you can host a single cluster with up to 3GB of storage and 20GB of bandwidth per month. However, it's worth noting that the free plan is intended for experimentation and learning, and may not be suitable for production-level workloads. Bonsai.io also offers paid plans with more advanced features, higher storage, and better performance.\n"
   ]
  },
  {
   "attachments": {},
   "cell_type": "markdown",
   "metadata": {
    "dotnet_interactive": {
     "language": "csharp"
    },
    "polyglot_notebook": {
     "kernelName": "csharp"
    }
   },
   "source": [
    "## Minimum Api to Grab Ip Addresses\n",
    "\n",
    "\n",
    "ASP.NET Core Minimal APIs offer a streamlined way to build efficient HTTP APIs with minimal code and configuration. With this approach, you can create fully functional REST endpoints without the need for traditional scaffolding or unnecessary controllers. Instead, you can declare your API routes and actions fluently, allowing you to quickly build APIs that meet your specific needs. By leveraging the power of ASP.NET Core, you can build APIs that are fast and scalable, and easily incorporate them into your application. Whether you are building a small API for a personal project or a larger API for a business, Minimal APIs provide a powerful and flexible solution for building and deploying your APIs with ease.\n",
    "\n",
    "\n",
    "```csharp\n",
    "using System;\n",
    "using System.IO;\n",
    "using System.Net;\n",
    "using Microsoft.AspNetCore.OpenApi;\n",
    "using System.Text.Json;\n",
    "using Microsoft.OpenApi.Models;\n",
    "\n",
    "var builder = WebApplication.CreateBuilder(args);\n",
    "\n",
    "builder.Services.AddEndpointsApiExplorer();\n",
    "builder.Services.AddSwaggerGen(options => {\n",
    "    options.SwaggerDoc(\"v1\", new OpenApiInfo\n",
    "    {\n",
    "        Version = \"v1\",\n",
    "        Title = \"Ip Api\",\n",
    "        Description = \"An ASP.NET Core Web API for managing calling ip addresses\",\n",
    "        // TermsOfService = new Uri(\"https://example.com/terms\"),\n",
    "        Contact = new OpenApiContact\n",
    "        {\n",
    "            Name = \"Friendlyuser\",\n",
    "            Url = new Uri(\"friendlyuser.github.io\")\n",
    "        },\n",
    "        License = new OpenApiLicense\n",
    "        {\n",
    "            Name = \"Example License\",\n",
    "            Url = new Uri(\"https://example.com/license\")\n",
    "        }\n",
    "    });\n",
    "});\n",
    "\n",
    "var app = builder.Build();\n",
    "```\n",
    "\n",
    "\n",
    "\n",
    "\n",
    "This code creates an ASP.NET Core web application using the WebApplication.CreateBuilder method, and configures the application to use OpenAPI (formerly known as Swagger) to document its API.\n",
    "\n",
    "The AddEndpointsApiExplorer method adds support for generating API documentation based on the endpoints defined in the application.\n",
    "\n",
    "The AddSwaggerGen method adds a Swagger generator to the service collection, and configures it to generate Swagger documentation for the API's \"v1\" version. The OpenApiInfo object passed to the SwaggerDoc method contains metadata about the API, such as its version, title, and contact information.\n",
    "\n",
    "Finally, the Build method is called to build the web application and return an IApplicationBuilder instance, which can be used to configure the request handling pipeline and start the application.  \n",
    "\n",
    "\n",
    "\n",
    "```csharp\n",
    "app.UseSwagger();\n",
    "app.UseSwaggerUI();\n",
    "\n",
    "app.MapGet(\"/\", () => \"Hello World!\").WithName(\"Hello World\")\n",
    ".WithOpenApi();;\n",
    "\n",
    "var ipItems = app.MapGroup(\"/ip\");\n",
    "\n",
    "ipItems.MapGet(\"/\", GetIpAddressAsync).WithName(\"GetIpAddress\")\n",
    ".WithOpenApi();\n",
    "\n",
    "// info with argument for ip address\n",
    "ipItems.MapGet(\"/{ip}\", async (string ip) =>\n",
    "{\n",
    "    return await GetIpInfoAsync(ip);\n",
    "}).WithName(\"GetIp\").WithOpenApi();\n",
    "\n",
    "// info \n",
    "ipItems.MapGet(\"/info\", async (HttpContext context) =>\n",
    "{\n",
    "    // get ip for requester\n",
    "    string? ip;\n",
    "    ip =   context?.Connection?.RemoteIpAddress.ToString();\n",
    "    if (string.IsNullOrEmpty(ip))\n",
    "    {\n",
    "        ip =  context.Request.Headers[\"X-Forwarded-For\"].ToString();\n",
    "    }\n",
    "    return await GetIpInfoAsync(ip);\n",
    "}).WithName(\"Get Server Ip Info\").WithOpenApi();\n",
    "\n",
    "app.Run();\n",
    "```\n",
    "This code is setting up an ASP.NET Core web application to use Swagger for API documentation and defining a few API endpoints.\n",
    "\n",
    "The UseSwagger and UseSwaggerUI methods enable Swagger and Swagger UI in the application. Swagger UI is a web-based tool that allows you to interactively explore and test your API.\n",
    "\n",
    "The MapGet method is used to define a GET endpoint for the API. For example, the first MapGet method defines an endpoint at the root path (\"/\") that returns the string \"Hello World!\". This endpoint is given the name \"Hello World\". The WithOpenApi method specifies that this endpoint should be included in the generated Swagger documentation.\n",
    "\n",
    "The MapGroup method is used to define a group of related endpoints. In this case, the group is defined for the path \"/ip\" and all endpoints in the group will have this path as a prefix. For example, the MapGet method that follows it defines an endpoint at the path \"/ip/{ip}\" that returns information about the specified IP address. This endpoint is given the name \"GetIp\".\n",
    "\n",
    "The remaining MapGet methods define similar endpoints for getting information about IP addresses. The third endpoint, at the path \"/ip/info\", gets the IP address of the requester and returns information about it. This endpoint is given the name \"Get Server Ip Info\".\n",
    "\n",
    "Finally, the Run method starts the application and begins listening for requests.\n",
    "\n",
    "```csharp\n",
    "static async System.Threading.Tasks.Task<string> GetIpAddressAsync()\n",
    "{\n",
    "    {\n",
    "        try\n",
    "        {\n",
    "            using HttpClient client = new HttpClient();\n",
    "            using HttpResponseMessage response = await client.GetAsync(\"https://jsonip.com\");\n",
    "            using Stream responseStream = await response.Content.ReadAsStreamAsync();\n",
    "            using StreamReader reader = new StreamReader(responseStream);\n",
    "\n",
    "            string json = await reader.ReadToEndAsync();\n",
    "            // exception here for minimum api\n",
    "            if (json == null || json == \"\")\n",
    "            {\n",
    "                throw new Exception(\"Invalid response\");\n",
    "            }\n",
    "            JsonIpResponse jsonResponse = JsonSerializer.Deserialize<JsonIpResponse>(json);\n",
    "            if (jsonResponse == null)\n",
    "            {\n",
    "                throw new Exception(\"Invalid response\");\n",
    "            }\n",
    "            return jsonResponse.ip;\n",
    "        }\n",
    "        catch (Exception e)\n",
    "        {\n",
    "            Console.WriteLine(e);\n",
    "            throw e;\n",
    "        }\n",
    "    }\n",
    "}\n",
    "\n",
    "static async System.Threading.Tasks.Task<IPResponse> GetIpInfoAsync(string ip)\n",
    "{\n",
    "    {\n",
    "        try\n",
    "        {\n",
    "            using HttpClient client = new HttpClient();\n",
    "            using HttpResponseMessage response = await client.GetAsync($\"https://iplist.cc/api/{ip}\");\n",
    "            using Stream responseStream = await response.Content.ReadAsStreamAsync();\n",
    "            using StreamReader reader = new StreamReader(responseStream);\n",
    "\n",
    "            string json = await reader.ReadToEndAsync();\n",
    "            // exception here for minimum api\n",
    "            if (json == null || json == \"\")\n",
    "            {\n",
    "                throw new Exception(\"Invalid response\");\n",
    "            }\n",
    "            IPResponse jsonResponse = JsonSerializer.Deserialize<IPResponse>(json);\n",
    "            if (jsonResponse == null)\n",
    "            {\n",
    "                throw new Exception(\"Invalid response\");\n",
    "            }\n",
    "            // send as json\n",
    "            return jsonResponse;\n",
    "        }\n",
    "        catch (Exception e)\n",
    "        {\n",
    "            Console.WriteLine(e);\n",
    "            throw e;\n",
    "        }\n",
    "    }\n",
    "}\n",
    "```\n",
    "These two methods, GetIpAddressAsync and GetIpInfoAsync, are used to retrieve information about IP addresses from external services.\n",
    "\n",
    "The GetIpAddressAsync method uses the HttpClient class to send a GET request to the \"https://jsonip.com\" URL and returns the IP address contained in the response. The response is read from the stream as a string and then deserialized using the JsonSerializer.Deserialize method into an object of type JsonIpResponse. If the response is invalid or if an exception occurs during the request, an exception is thrown.\n",
    "\n",
    "The GetIpInfoAsync method is similar, but it sends a GET request to the \"https://iplist.cc/api/{ip}\" URL, where {ip} is the IP address passed as an argument. The response is read from the stream as a string and then deserialized into an object of type IPResponse. If the response is invalid or if an exception occurs during the request, an exception is thrown.\n",
    "\n",
    "Both methods use the async and await keywords to perform the requests asynchronously, allowing the application to continue processing other tasks while the requests are being made.\n",
    "\n",
    "\n",
    "```csharp\n",
    "public class JsonIpResponse\n",
    "{\n",
    "    public string ip { get; set; }\n",
    "}\n",
    "public class IPResponse\n",
    "{\n",
    "    public string ip { get; set; }\n",
    "    public string registry { get; set; }\n",
    "    public string countrycode { get; set; }\n",
    "    public string countryname { get; set; }\n",
    "    public Asn asn { get; set; }\n",
    "    public bool spam { get; set; }\n",
    "    public bool tor { get; set; }\n",
    "    public string city { get; set; }\n",
    "    public string detail { get; set; }\n",
    "    public string[] website { get; set; }\n",
    "}\n",
    "\n",
    "public class Asn\n",
    "{\n",
    "    public string code { get; set; }\n",
    "    public string name { get; set; }\n",
    "    public string route { get; set; }\n",
    "    public string start { get; set; }\n",
    "    public string end { get; set; }\n",
    "    public string count { get; set; }\n",
    "}\n",
    "```\n",
    "\n",
    "These three classes define the structure of the data that is returned by the GetIpAddressAsync and GetIpInfoAsync methods.\n",
    "\n",
    "The JsonIpResponse class has a single property, ip, which represents the IP address.\n",
    "\n",
    "The IPResponse class has several properties that represent various pieces of information about an IP address, such as its registry, country code, country name, and ASN (Autonomous System Number) details. It also has a property of type Asn, which represents the ASN information.\n",
    "\n",
    "The Asn class has several properties that represent details about an ASN, such as its code, name, route, and start and end addresses."
   ]
  }
 ],
 "metadata": {
  "kernelspec": {
   "display_name": ".NET (C#)",
   "language": "C#",
   "name": ".net-csharp"
  },
  "polyglot_notebook": {
   "kernelInfo": {
    "defaultKernelName": "csharp",
    "items": [
     {
      "aliases": [
       "c#",
       "C#"
      ],
      "languageName": "C#",
      "name": "csharp"
     },
     {
      "aliases": [],
      "name": ".NET"
     },
     {
      "aliases": [
       "f#",
       "F#"
      ],
      "languageName": "F#",
      "name": "fsharp"
     },
     {
      "aliases": [],
      "languageName": "HTML",
      "name": "html"
     },
     {
      "aliases": [
       "js"
      ],
      "languageName": "JavaScript",
      "name": "javascript"
     },
     {
      "aliases": [],
      "languageName": "KQL",
      "name": "kql"
     },
     {
      "aliases": [],
      "languageName": "Mermaid",
      "name": "mermaid"
     },
     {
      "aliases": [
       "powershell"
      ],
      "languageName": "PowerShell",
      "name": "pwsh"
     },
     {
      "aliases": [],
      "languageName": "SQL",
      "name": "sql"
     },
     {
      "aliases": [],
      "name": "value"
     },
     {
      "aliases": [],
      "name": "webview"
     }
    ]
   }
  }
 },
 "nbformat": 4,
 "nbformat_minor": 2
}
