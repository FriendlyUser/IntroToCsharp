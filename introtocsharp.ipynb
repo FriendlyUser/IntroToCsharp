{
 "cells": [
  {
   "attachments": {},
   "cell_type": "markdown",
   "metadata": {
    "dotnet_interactive": {
     "language": "csharp"
    },
    "polyglot_notebook": {
     "kernelName": "csharp"
    }
   },
   "source": [
    "# Introduction to C#\n",
    "C# is a powerful and widely used programming language that was designed by Microsoft Corporation in the early 2000s. It is an object-oriented language that is easy to learn and offers a wide range of features for developing robust and scalable applications. C# is used for building Windows desktop applications, web applications, and mobile applications. The language is a key component of the .NET framework, a software platform that provides a unified environment for developing, deploying, and running applications. In this article, we will explore the history and development of C# and the .NET framework, the basic concepts and features of the C# language, the relationship between C# and the .NET framework, and an overview of the .NET ecosystem.\n",
    "\n",
    "## The History and Development of C# and the .NET Framework\n",
    "C# is a general-purpose, contemporary, and object-oriented programming language that was developed by Microsoft in 2000 as part of the .NET framework [1]. It was designed by Anders Hejlsberg and was later approved as an international standard by Ecma (ECMA-334) in 2002 and ISO/IEC (ISO/IEC 23270) in 2003.  Anders Hejlsberg, who was also the lead developer of Turbo Pascal and Borland Delphi. The first version of C# was released in 2000, along with the initial release of the .NET framework.\n",
    "\n",
    "The development of C# and the .NET framework began in the late 1990s. At that time, Microsoft was looking for a way to simplify the development of Windows applications and to make it easier for developers to create software that could run on multiple platforms. The result was the .NET framework, which provided a common runtime environment and a set of libraries for building applications.\n",
    "\n",
    "C# was designed to be simple and easy to use while still providing powerful features for building complex applications. Some of its key features include strong type checking, garbage collection, and support for object-oriented programming.\n",
    "\n",
    "One of the most important aspects of C# is its relationship with the .NET framework. C# code is compiled into an intermediate language called Common Intermediate Language (CIL), which can then be executed by the .NET runtime. This allows C# programs to run on any platform that supports the .NET framework.\n",
    "\n",
    "The .NET ecosystem has grown significantly since its inception and now includes several different implementations. The original implementation, known as the .NET Framework, is still widely used on Windows systems. However, there are also other implementations such as .NET Core and Mono that allow developers to build cross-platform applications.\n",
    "\n",
    "In summary, C# is a powerful programming language that was developed as part of Microsoft’s .NET initiative. It provides many useful features for building complex applications while remaining easy to use. Its close relationship with the .NET framework allows developers to build cross-platform software using a common set of tools.\n",
    "Since its initial release, C# has gone through several versions, each adding new features and improving performance [1]. It has its roots in the C family of languages and will be immediately familiar to C, C++, Java, and JavaScript programmers.\n",
    "\n",
    "The C# language was developed with the primary goal of creating a language that was simple, modern, and easy to use. It was also designed to be a statically-typed language that would offer better performance and type safety than dynamically-typed languages like JavaScript and Python. C# was also designed to be an object-oriented language, with support for classes, objects, inheritance, and interfaces.\n",
    "\n",
    "Over the years, C# has evolved and improved with each new version of the language. Microsoft has released multiple versions of C#, with the latest being C# 10.0, which was released in 2021. Each new version of C# has introduced new features and improvements, making the language more powerful and easier to use.\n",
    "\n",
    "## The Basic Concepts and Features of the C# Language\n",
    "C# is an object-oriented language that is based on the C programming language. It offers a wide range of features for developing robust and scalable applications. Some of the key concepts and features of the C# language are:\n",
    "\n",
    "1. Object-oriented programming: C# is an object-oriented language, which means that it is designed around the concept of objects. An object is an instance of a class, which is a blueprint for creating objects. C# supports classes, objects, inheritance, and interfaces.\n",
    "2. Type safety: C# is a statically-typed language, which means that the type of a variable is determined at compile time. This makes the language more efficient and offers better type safety than dynamically-typed languages.\n",
    "3. Garbage collection: C# uses automatic garbage collection to manage memory. This means that the language automatically deallocates memory that is no longer being used, making it easier for developers to write safe and efficient code.\n",
    "4. Exception handling: C# has robust support for exception handling, which allows developers to handle errors and exceptions gracefully.\n",
    "5. LINQ: C# offers Language-Integrated Query (LINQ), which is a powerful tool for querying data from different sources like databases, XML files, and collections.\n",
    "6. Delegates: C# supports delegates, which are a type-safe way of passing functions as arguments to other functions.\n",
    ".NET is an umbrella term that includes both .NET Framework and .NET Core. .NET Framework is a Windows-only framework while .NET Core is cross-platform and can run on Windows, Linux, and macOS.\n",
    "\n",
    "## The Relationship between C# and the .NET Framework\n",
    "C# is a key component of the .NET framework, which is a software platform that provides a unified environment for developing, deploying, and running applications. The .NET framework consists of a runtime environment, a class library, and a set of development tools. C# is one of the primary programming languages used to develop applications on the .NET framework functionality that makes it easier for developers to build applications. The runtime environment, also known as the Common Language Runtime (CLR), provides services such as memory management, security, and exception handling. The class library provides a set of reusable components that developers can use to build applications. The development tools, such as Visual Studio, provide an integrated development environment (IDE) that allows developers to write, debug, and deploy applications.\n",
    "\n",
    "C# is designed to be compatible with the .NET framework. The language is compiled into Intermediate Language (IL) code, which is a platform-agnostic code that can run on any platform that has the .NET runtime installed. This means that C# applications can run on Windows, macOS, Linux, and other operating systems that support the .NET framework.\n",
    "\n",
    "## An Overview of the .NET Ecosystem\n",
    "The .NET ecosystem includes different implementations of the .NET framework, including .NET Framework, .NET Core, and Mono.\n",
    "\n",
    "**.NET Framework**: The .NET Framework is the original implementation of the .NET framework, which was released in 2002. It is designed to run on Windows and includes a large class library and a set of development tools. The .NET Framework is widely used for developing Windows desktop applications, web applications, and server applications.\n",
    "\n",
    "**.NET Core**: .NET Core is a cross-platform implementation of the .NET framework that was released in 2016. It is designed to run on Windows, macOS, and Linux and includes a smaller, optimized class library. .NET Core is widely used for developing web applications, microservices, and containerized applications.\n",
    "\n",
    "**Mono**: Mono is an open-source implementation of the .NET framework that was released in 2004. It is designed to run on multiple platforms, including Windows, macOS, Linux, and mobile devices. Mono includes a class library that is compatible with the .NET Framework and supports a wide range of programming languages, including C#.\n",
    "\n",
    "In addition to these implementations, the .NET ecosystem includes a wide range of tools, frameworks, and libraries that make it easier for developers to build applications. Some of the popular tools and frameworks in the .NET ecosystem are:\n",
    "\n",
    "1. ASP.NET: A web framework for building web applications.\n",
    "2. Entity Framework: An Object-Relational Mapping (ORM) framework for working with databases.\n",
    "3. Xamarin: A framework for building cross-platform mobile applications.\n",
    "4. Blazor: A web framework for building web applications using C# and .NET.\n",
    "\n",
    "The following diagram illustrates how .net splits off."
   ]
  },
  {
   "cell_type": "code",
   "execution_count": 410,
   "metadata": {
    "dotnet_interactive": {
     "language": "mermaid"
    },
    "polyglot_notebook": {
     "kernelName": "mermaid"
    },
    "vscode": {
     "languageId": "polyglot-notebook"
    }
   },
   "outputs": [
    {
     "data": {
      "text/html": [
       "<div class=\"mermaidMarkdownContainer\" style=\"background-color:white\">\n",
       "<link rel=\"stylesheet\" href=\"https://cdnjs.cloudflare.com/ajax/libs/font-awesome/6.2.0/css/all.min.css\">\n",
       "<script type=\"text/javascript\">\n",
       "\r\n",
       "loadMermaid_592db2c6c6cf4068a1ed5f63b29d6a26 = () => {\n",
       " \r\n",
       "        (require.config({ 'paths': { 'context': '9.1.7', 'mermaidUri' : 'https://cdn.jsdelivr.net/npm/mermaid@9.1.7/dist/mermaid.min', 'urlArgs': 'cacheBuster=75bb3c5bda2544fe97cc0646ff28d542' }}) || require)(['mermaidUri'], (mermaid) => {\n",
       "\r\n",
       "            let renderTarget = document.getElementById('592db2c6c6cf4068a1ed5f63b29d6a26');\r\n",
       "            mermaid.mermaidAPI.render( \r\n",
       "                'mermaid_592db2c6c6cf4068a1ed5f63b29d6a26', \r\n",
       "                `graph LR\n",
       "A[.NET] --> B[.NET Framework]\n",
       "A --> C[.NET Core]\n",
       "B --> D[Windows]\n",
       "C --> D\n",
       "C --> E[Linux]\n",
       "C --> F[macOS]`, \r\n",
       "                g => {\r\n",
       "                    renderTarget.innerHTML = g \r\n",
       "                });\r\n",
       "        },\r\n",
       "        (error) => {\r\n",
       "            console.log(error);\r\n",
       "        });\r\n",
       "}\n",
       "// ensure `require` is available globally\r\n",
       "if ((typeof(require) !==  typeof(Function)) || (typeof(require.config) !== typeof(Function))) {\r\n",
       "    let require_script = document.createElement('script');\r\n",
       "    require_script.setAttribute('src', 'https://cdnjs.cloudflare.com/ajax/libs/require.js/2.3.6/require.min.js');\r\n",
       "    require_script.setAttribute('type', 'text/javascript');\r\n",
       "    \r\n",
       "    \r\n",
       "    require_script.onload = function() {\r\n",
       "        loadMermaid_592db2c6c6cf4068a1ed5f63b29d6a26();\r\n",
       "    };\r\n",
       "\r\n",
       "    document.getElementsByTagName('head')[0].appendChild(require_script);\r\n",
       "}\r\n",
       "else {\r\n",
       "    loadMermaid_592db2c6c6cf4068a1ed5f63b29d6a26();\r\n",
       "}\r\n",
       "\n",
       "</script>\n",
       "<div id=\"592db2c6c6cf4068a1ed5f63b29d6a26\"></div>\n",
       "</div>\n"
      ]
     },
     "metadata": {},
     "output_type": "display_data"
    }
   ],
   "source": [
    "graph LR\n",
    "A[.NET] --> B[.NET Framework]\n",
    "A --> C[.NET Core]\n",
    "B --> D[Windows]\n",
    "C --> D\n",
    "C --> E[Linux]\n",
    "C --> F[macOS]"
   ]
  },
  {
   "attachments": {},
   "cell_type": "markdown",
   "metadata": {
    "dotnet_interactive": {
     "language": "csharp"
    },
    "polyglot_notebook": {
     "kernelName": "csharp"
    }
   },
   "source": [
    "### Conclusion\n",
    "C# and the .NET framework are powerful tools for building robust and scalable applications. C# is an easy-to-learn language that is based on the C programming language and offers a wide range of features for developing applications. The .NET framework provides a unified environment for developing, deploying, and running applications and includes a large class library and a set of development tools. The .NET ecosystem includes different implementations of the .NET framework, as well as a wide range of tools, frameworks, and libraries that make it easier for developers to build applications."
   ]
  },
  {
   "attachments": {},
   "cell_type": "markdown",
   "metadata": {
    "dotnet_interactive": {
     "language": "csharp"
    },
    "polyglot_notebook": {
     "kernelName": "csharp"
    }
   },
   "source": [
    "### References\n",
    "\n",
    "- [1] \"C# Version History | C# Evolution and Features\" Dotnet Stuff. [Online]. Available: https://www.dotnetstuffs.com/csharp-version-history/. [Accessed: Mar. 09, 2023]\n"
   ]
  },
  {
   "attachments": {},
   "cell_type": "markdown",
   "metadata": {
    "dotnet_interactive": {
     "language": "csharp"
    },
    "polyglot_notebook": {
     "kernelName": "csharp"
    }
   },
   "source": [
    "# Fundamentals of C#\n",
    "\n",
    "One of the key features of C# is its strong type system. This means that every variable and expression has a specific type that is known at compile-time. This helps to prevent common programming errors and makes it easier to write robust and maintainable code.\n",
    "\n",
    "C# also supports many advanced features such as delegates, events, and LINQ (Language Integrated Query). These features make it easy to write powerful and expressive code that can handle complex tasks.\n",
    "\n",
    "In order to start writing C# programs, you will need to install the .NET Framework on your computer. This provides the runtime environment for executing C# programs. You will also need an Integrated Development Environment (IDE) such as Visual Studio or Visual Studio Code.\n",
    "\n",
    "You can create a .NET command-line application using the .NET CLI (Command Line Interface). To get started, you’ll need to have the .NET SDK installed on your computer.\n",
    "\n",
    "Once you have that installed, you can open a command prompt and create a new project by running `dotnet new console`. This will create a new console application project for you.\n",
    "\n",
    "You can then add your code to the Program.cs file and test your application by running dotnet run. Once you’re happy with your application, you can package it as a tool so that it can be distributed and used by others.\n",
    "\n",
    "Once you have these tools installed, you can start writing your first C# program. A simple \"Hello World\" program in C# might look like this:\n",
    "\n",
    "```csharp\n",
    "using System;\n",
    "\n",
    "namespace HelloWorld\n",
    "{\n",
    "    class Program\n",
    "    {\n",
    "        static void Main(string[] args)\n",
    "        {\n",
    "            Console.WriteLine(\"Hello World!\");\n",
    "        }\n",
    "    }\n",
    "}\n",
    "```\n",
    "\n",
    "Visual Studio Code (VS Code) is a lightweight but powerful source code editor that runs on your desktop and is available for Windows, macOS, and Linux. It comes with built-in support for JavaScript, TypeScript, and Node.js and has a rich ecosystem of extensions for other languages and runtimes such as C++, C#, Java, Python, PHP, Go, .NET.\n",
    "\n",
    "VS Code combines the simplicity of a code editor with what developers need for their core edit-build-debug cycle. It’s free to download and use.\n",
    "\n",
    "The Polyglot Notebooks extension for Visual Studio Code allows you to use multiple languages in the same notebook and share variables between them. This means that you don’t have to install different Jupyter kernels or use wrapper libraries to work with multiple languages in a single notebook. With this extension, you can get the best language server support for the language of your choice without having to switch between different tools [1].\n",
    "\n",
    "An example of a simple script in a polygot notebook is:"
   ]
  },
  {
   "cell_type": "code",
   "execution_count": 411,
   "metadata": {
    "dotnet_interactive": {
     "language": "csharp"
    },
    "polyglot_notebook": {
     "kernelName": "csharp"
    },
    "vscode": {
     "languageId": "polyglot-notebook"
    }
   },
   "outputs": [
    {
     "name": "stdout",
     "output_type": "stream",
     "text": [
      "Hello World!\n"
     ]
    }
   ],
   "source": [
    "using System;\n",
    "Console.WriteLine(\"Hello World!\");"
   ]
  },
  {
   "attachments": {},
   "cell_type": "markdown",
   "metadata": {
    "dotnet_interactive": {
     "language": "csharp"
    },
    "polyglot_notebook": {
     "kernelName": "csharp"
    }
   },
   "source": [
    "### Data Types\n",
    "\n",
    "In C#, data types are used to define the type of data that can be stored in a variable. C# has two main categories of data types: value types and reference types.\n",
    "\n",
    "1. Value types: Value types are types that hold the actual value of the data they represent. They are stored directly in memory and are typically used for small, simple data types such as integers, floating-point numbers, and characters. Some examples of value types in C# include:\n",
    "- int: holds integer values\n",
    "- double: holds floating-point numbers\n",
    "- char: holds single characters\n",
    "- bool: holds true/false values\n",
    "Here is an example of how to declare and use variables of value types in C#:"
   ]
  },
  {
   "cell_type": "code",
   "execution_count": 412,
   "metadata": {
    "dotnet_interactive": {
     "language": "csharp"
    },
    "polyglot_notebook": {
     "kernelName": "csharp"
    },
    "vscode": {
     "languageId": "polyglot-notebook"
    }
   },
   "outputs": [],
   "source": [
    "int num1 = 10;\n",
    "double num2 = 3.14;\n",
    "char letter = 'A';\n",
    "bool isTrue = true;"
   ]
  },
  {
   "attachments": {},
   "cell_type": "markdown",
   "metadata": {
    "dotnet_interactive": {
     "language": "csharp"
    },
    "polyglot_notebook": {
     "kernelName": "csharp"
    }
   },
   "source": [
    "Below is a mermaid diagram that shows the different types of value types in C#. The graph TD at the beginning specifies that it is a top-down graph. The square brackets`[]` indicate that the text inside is displayed in a rectangle. The parentheses `()` indicate that the text inside is displayed in a circle.\n",
    "\n",
    "The diagram shows that there are four main categories of value types: `Simple Types`, `Enum Types`, `Struct Types` and Nullable `Value Types`. Simple Types include int, float, bool and char."
   ]
  },
  {
   "cell_type": "code",
   "execution_count": 413,
   "metadata": {
    "dotnet_interactive": {
     "language": "mermaid"
    },
    "polyglot_notebook": {
     "kernelName": "mermaid"
    },
    "vscode": {
     "languageId": "polyglot-notebook"
    }
   },
   "outputs": [
    {
     "data": {
      "text/html": [
       "<div class=\"mermaidMarkdownContainer\" style=\"background-color:white\">\n",
       "<link rel=\"stylesheet\" href=\"https://cdnjs.cloudflare.com/ajax/libs/font-awesome/6.2.0/css/all.min.css\">\n",
       "<script type=\"text/javascript\">\n",
       "\r\n",
       "loadMermaid_9e5dbf8654b34ae2940bf9f6d653a414 = () => {\n",
       " \r\n",
       "        (require.config({ 'paths': { 'context': '9.1.7', 'mermaidUri' : 'https://cdn.jsdelivr.net/npm/mermaid@9.1.7/dist/mermaid.min', 'urlArgs': 'cacheBuster=75bb3c5bda2544fe97cc0646ff28d542' }}) || require)(['mermaidUri'], (mermaid) => {\n",
       "\r\n",
       "            let renderTarget = document.getElementById('9e5dbf8654b34ae2940bf9f6d653a414');\r\n",
       "            mermaid.mermaidAPI.render( \r\n",
       "                'mermaid_9e5dbf8654b34ae2940bf9f6d653a414', \r\n",
       "                `graph TD\n",
       "    A[Value Types] --> B(Simple Types)\n",
       "    A --> C(Enum Types)\n",
       "    A --> D(Struct Types)\n",
       "    A --> E(Nullable Value Types)\n",
       "    B --> F(int)\n",
       "    B --> G(float)\n",
       "    B --> H(bool)\n",
       "    B --> I(char)`, \r\n",
       "                g => {\r\n",
       "                    renderTarget.innerHTML = g \r\n",
       "                });\r\n",
       "        },\r\n",
       "        (error) => {\r\n",
       "            console.log(error);\r\n",
       "        });\r\n",
       "}\n",
       "// ensure `require` is available globally\r\n",
       "if ((typeof(require) !==  typeof(Function)) || (typeof(require.config) !== typeof(Function))) {\r\n",
       "    let require_script = document.createElement('script');\r\n",
       "    require_script.setAttribute('src', 'https://cdnjs.cloudflare.com/ajax/libs/require.js/2.3.6/require.min.js');\r\n",
       "    require_script.setAttribute('type', 'text/javascript');\r\n",
       "    \r\n",
       "    \r\n",
       "    require_script.onload = function() {\r\n",
       "        loadMermaid_9e5dbf8654b34ae2940bf9f6d653a414();\r\n",
       "    };\r\n",
       "\r\n",
       "    document.getElementsByTagName('head')[0].appendChild(require_script);\r\n",
       "}\r\n",
       "else {\r\n",
       "    loadMermaid_9e5dbf8654b34ae2940bf9f6d653a414();\r\n",
       "}\r\n",
       "\n",
       "</script>\n",
       "<div id=\"9e5dbf8654b34ae2940bf9f6d653a414\"></div>\n",
       "</div>\n"
      ]
     },
     "metadata": {},
     "output_type": "display_data"
    }
   ],
   "source": [
    "graph TD\n",
    "    A[Value Types] --> B(Simple Types)\n",
    "    A --> C(Enum Types)\n",
    "    A --> D(Struct Types)\n",
    "    A --> E(Nullable Value Types)\n",
    "    B --> F(int)\n",
    "    B --> G(float)\n",
    "    B --> H(bool)\n",
    "    B --> I(char)"
   ]
  },
  {
   "attachments": {},
   "cell_type": "markdown",
   "metadata": {
    "dotnet_interactive": {
     "language": "csharp"
    },
    "polyglot_notebook": {
     "kernelName": "csharp"
    }
   },
   "source": [
    "In C#, an enum (short for \"enumeration\") type is a special data type that allows you to define a set of named values. Enum types are useful for creating variables that can only take on certain values, which can help improve the readability and maintainability of your code.\n",
    "\n",
    "To define an enum type in C#, you use the enum keyword followed by the name of the enum and a list of comma-separated values in parentheses. Here's an example:"
   ]
  },
  {
   "cell_type": "code",
   "execution_count": 414,
   "metadata": {
    "dotnet_interactive": {
     "language": "csharp"
    },
    "polyglot_notebook": {
     "kernelName": "csharp"
    },
    "vscode": {
     "languageId": "polyglot-notebook"
    }
   },
   "outputs": [],
   "source": [
    "enum DaysOfWeek\n",
    "{\n",
    "    Sunday,\n",
    "    Monday,\n",
    "    Tuesday,\n",
    "    Wednesday,\n",
    "    Thursday,\n",
    "    Friday,\n",
    "    Saturday\n",
    "}\n"
   ]
  },
  {
   "attachments": {},
   "cell_type": "markdown",
   "metadata": {
    "dotnet_interactive": {
     "language": "csharp"
    },
    "polyglot_notebook": {
     "kernelName": "csharp"
    }
   },
   "source": [
    "In this example, we define an enum called DaysOfWeek that has seven named values representing the days of the week. Each named value is implicitly assigned an integer value starting at 0, so Sunday has a value of 0, Monday has a value of 1, and so on.\n",
    "\n",
    "You can create a variable of an enum type by specifying the name of the enum and the named value you want to assign to the variable, like this:"
   ]
  },
  {
   "cell_type": "code",
   "execution_count": 415,
   "metadata": {
    "dotnet_interactive": {
     "language": "csharp"
    },
    "polyglot_notebook": {
     "kernelName": "csharp"
    },
    "vscode": {
     "languageId": "polyglot-notebook"
    }
   },
   "outputs": [],
   "source": [
    "DaysOfWeek today = DaysOfWeek.Monday;\n"
   ]
  },
  {
   "attachments": {},
   "cell_type": "markdown",
   "metadata": {
    "dotnet_interactive": {
     "language": "csharp"
    },
    "polyglot_notebook": {
     "kernelName": "csharp"
    }
   },
   "source": [
    "You can also use the switch statement with enum values, like this:"
   ]
  },
  {
   "cell_type": "code",
   "execution_count": 416,
   "metadata": {
    "dotnet_interactive": {
     "language": "csharp"
    },
    "polyglot_notebook": {
     "kernelName": "csharp"
    },
    "vscode": {
     "languageId": "polyglot-notebook"
    }
   },
   "outputs": [
    {
     "name": "stdout",
     "output_type": "stream",
     "text": [
      "Today is Monday\n"
     ]
    }
   ],
   "source": [
    "switch (today)\n",
    "{\n",
    "    case DaysOfWeek.Sunday:\n",
    "        Console.WriteLine(\"Today is Sunday\");\n",
    "        break;\n",
    "    case DaysOfWeek.Monday:\n",
    "        Console.WriteLine(\"Today is Monday\");\n",
    "        break;\n",
    "    // ...\n",
    "}"
   ]
  },
  {
   "attachments": {},
   "cell_type": "markdown",
   "metadata": {
    "dotnet_interactive": {
     "language": "csharp"
    },
    "polyglot_notebook": {
     "kernelName": "csharp"
    }
   },
   "source": [
    "Using enum types can help make your code more readable and less error-prone by restricting the possible values of a variable to a well-defined set of options. It also makes it easier to modify the possible values in the future if needed, since you can simply add or remove named values from the enum definition."
   ]
  },
  {
   "attachments": {},
   "cell_type": "markdown",
   "metadata": {
    "dotnet_interactive": {
     "language": "csharp"
    },
    "polyglot_notebook": {
     "kernelName": "csharp"
    }
   },
   "source": [
    "In C#, a struct type is a value type that represents a structured collection of related data fields. It is similar to a class, but with a few key differences.\n",
    "\n",
    "A struct type is defined using the struct keyword and can contain fields, properties, methods, and events just like a class. However, unlike classes, struct types are value types and are allocated on the stack rather than on the heap.\n",
    "\n",
    "When you create a new object of a struct type, it is copied to a new location in memory. This is different from reference types like classes, where multiple variables can refer to the same object in memory. Copying a struct can be more efficient than copying a reference type because the entire struct is copied at once, whereas copying a reference type requires copying both the reference and the object it refers to.\n",
    "\n",
    "Structs are often used to represent simple data types such as coordinates, points, and rectangles. They can also be used to define custom value types for more complex scenarios. One important thing to note is that structs should generally be small and simple, as copying large structs can be expensive in terms of memory and performance."
   ]
  },
  {
   "cell_type": "code",
   "execution_count": 417,
   "metadata": {
    "dotnet_interactive": {
     "language": "csharp"
    },
    "polyglot_notebook": {
     "kernelName": "csharp"
    },
    "vscode": {
     "languageId": "polyglot-notebook"
    }
   },
   "outputs": [],
   "source": [
    "using System;\n",
    "\n",
    "struct Person\n",
    "{\n",
    "    public string Name;\n",
    "    public int Age;\n",
    "    public string Occupation;\n",
    "\n",
    "    public Person(string name, int age, string occupation)\n",
    "    {\n",
    "        Name = name;\n",
    "        Age = age;\n",
    "        Occupation = occupation;\n",
    "    }\n",
    "\n",
    "    public void PrintInfo()\n",
    "    {\n",
    "        Console.WriteLine($\"Name: {Name}, Age: {Age}, Occupation: {Occupation}\");\n",
    "    }\n",
    "}"
   ]
  },
  {
   "attachments": {},
   "cell_type": "markdown",
   "metadata": {
    "dotnet_interactive": {
     "language": "csharp"
    },
    "polyglot_notebook": {
     "kernelName": "csharp"
    }
   },
   "source": [
    "In this example, we define a struct type called Person which represents a person with a name, age, and occupation. The struct has three fields: Name, Age, and Occupation, all of which are public. We also define a constructor that takes in values for all three fields and initializes them, and a method called PrintInfo that prints out the values of the fields.\n",
    "\n",
    "In the Main method, we create a new Person object called john and initialize it with the values \"John Smith\", 30, and \"Software Developer\". We then call the PrintInfo method on the john object, which prints out the values of the fields.\n",
    "\n",
    "Note that struct types in C# are value types, which means that when you create a new object of a struct type, it gets copied to a new location in memory. This is different from reference types like classes, where multiple variables can refer to the same object in memory."
   ]
  },
  {
   "attachments": {},
   "cell_type": "markdown",
   "metadata": {
    "dotnet_interactive": {
     "language": "csharp"
    },
    "polyglot_notebook": {
     "kernelName": "csharp"
    }
   },
   "source": [
    "In C#, a nullable value type is a value type that can also have a value of null. Normally, value types like int, float, and bool cannot be assigned a null value because they are not reference types. However, by using a nullable value type, you can allow a value type to have the additional value of null.\n",
    "\n",
    "Nullable value types are defined by appending a ? to the type name. For example, int? is a nullable integer type, and float? is a nullable float type. When you create a variable of a nullable value type, it is initially set to null by default.\n",
    "\n",
    "Here's an example of how to use a nullable value type in C#:"
   ]
  },
  {
   "cell_type": "code",
   "execution_count": 418,
   "metadata": {
    "dotnet_interactive": {
     "language": "csharp"
    },
    "polyglot_notebook": {
     "kernelName": "csharp"
    },
    "vscode": {
     "languageId": "polyglot-notebook"
    }
   },
   "outputs": [
    {
     "name": "stdout",
     "output_type": "stream",
     "text": [
      "num1 is null\n",
      "num2 has a value of 42\n"
     ]
    }
   ],
   "source": [
    "int? num1 = null;\n",
    "int? num2 = 42;\n",
    "\n",
    "if (num1.HasValue)\n",
    "{\n",
    "    Console.WriteLine(\"num1 has a value of {0}\", num1.Value);\n",
    "}\n",
    "else\n",
    "{\n",
    "    Console.WriteLine(\"num1 is null\");\n",
    "}\n",
    "\n",
    "if (num2.HasValue)\n",
    "{\n",
    "    Console.WriteLine(\"num2 has a value of {0}\", num2.Value);\n",
    "}\n",
    "else\n",
    "{\n",
    "    Console.WriteLine(\"num2 is null\");\n",
    "}\n"
   ]
  },
  {
   "attachments": {},
   "cell_type": "markdown",
   "metadata": {
    "dotnet_interactive": {
     "language": "csharp"
    },
    "polyglot_notebook": {
     "kernelName": "csharp"
    }
   },
   "source": [
    "In this example, we create two variables of type int?. num1 is set to null, while num2 is set to 42. We then use the HasValue property to check if each variable has a value, and the Value property to access the value if it does. If a nullable value type variable is assigned null, attempting to access its value will throw a System.InvalidOperationException.\n",
    "\n",
    "Nullable value types are useful when you need to represent a value that might not be present, such as a user-entered value that has not yet been specified. They can also be used in database programming, where a column in a database table might allow null values."
   ]
  },
  {
   "attachments": {},
   "cell_type": "markdown",
   "metadata": {
    "dotnet_interactive": {
     "language": "csharp"
    },
    "polyglot_notebook": {
     "kernelName": "csharp"
    }
   },
   "source": [
    "2. Reference types: Reference types are types that hold a reference to an object in memory rather than the value of the object itself. They are typically used for more complex data types such as strings, arrays, and custom objects. Some examples of reference types in C# include:\n",
    "- string: holds a sequence of characters\n",
    "- array: holds a collection of values\n",
    "- object: holds an instance of a class\n",
    "\n",
    "Here is an example of how to declare and use variables of reference types in C#:"
   ]
  },
  {
   "cell_type": "code",
   "execution_count": 419,
   "metadata": {
    "dotnet_interactive": {
     "language": "csharp"
    },
    "polyglot_notebook": {
     "kernelName": "csharp"
    },
    "vscode": {
     "languageId": "polyglot-notebook"
    }
   },
   "outputs": [],
   "source": [
    "string name = \"John\";\n",
    "int[] numbers = new int[] { 1, 2, 3, 4 };\n",
    "object obj = new object();"
   ]
  },
  {
   "attachments": {},
   "cell_type": "markdown",
   "metadata": {
    "dotnet_interactive": {
     "language": "csharp"
    },
    "polyglot_notebook": {
     "kernelName": "csharp"
    }
   },
   "source": [
    "It is important to note that in C#, all classes and objects are reference types, while all value types are structs. Additionally, value types are typically stored on the stack, while reference types are stored on the heap."
   ]
  },
  {
   "attachments": {},
   "cell_type": "markdown",
   "metadata": {
    "dotnet_interactive": {
     "language": "csharp"
    },
    "polyglot_notebook": {
     "kernelName": "csharp"
    }
   },
   "source": [
    "3. Arithmetic operators: Arithmetic operators are used to perform mathematical calculations on numeric data types. Some examples of arithmetic operators in C# include:\n",
    "- (addition)\n",
    "- (subtraction)\n",
    "- (multiplication)\n",
    "- / (division)\n",
    "- \\% (modulus)\n",
    "\n",
    "Here is an example of how to use arithmetic operators in C#:"
   ]
  },
  {
   "cell_type": "code",
   "execution_count": 420,
   "metadata": {
    "dotnet_interactive": {
     "language": "csharp"
    },
    "polyglot_notebook": {
     "kernelName": "csharp"
    },
    "vscode": {
     "languageId": "polyglot-notebook"
    }
   },
   "outputs": [],
   "source": [
    "int x = 10;\n",
    "int y = 5;\n",
    "int z = x + y;    // z = 15\n",
    "int a = x * y;    // a = 50\n",
    "int b = x % y;    // b = 0\n"
   ]
  },
  {
   "attachments": {},
   "cell_type": "markdown",
   "metadata": {
    "dotnet_interactive": {
     "language": "csharp"
    },
    "polyglot_notebook": {
     "kernelName": "csharp"
    }
   },
   "source": [
    "a. Comparison operators: Comparison operators are used to compare two values and return a Boolean value (true or false). Some examples of comparison operators in C# include:\n",
    "\n",
    "- == (equal to)\n",
    "- != (not equal to)\n",
    "- < (less than)\n",
    "- (greater than)\n",
    "- <= (less than or equal to)\n",
    "- = (greater than or equal to)\n",
    "\n",
    "Here is an example of how to use comparison operators in C#:"
   ]
  },
  {
   "cell_type": "code",
   "execution_count": 421,
   "metadata": {
    "dotnet_interactive": {
     "language": "csharp"
    },
    "polyglot_notebook": {
     "kernelName": "csharp"
    },
    "vscode": {
     "languageId": "polyglot-notebook"
    }
   },
   "outputs": [],
   "source": [
    "int x = 10;\n",
    "int y = 5;\n",
    "bool isEqual = x == y;       // isEqual = false\n",
    "bool isGreater = x > y;      // isGreater = true\n",
    "bool isLessThanOrEqual = x <= y;  // isLessThanOrEqual = false\n"
   ]
  },
  {
   "attachments": {},
   "cell_type": "markdown",
   "metadata": {
    "dotnet_interactive": {
     "language": "csharp"
    },
    "polyglot_notebook": {
     "kernelName": "csharp"
    }
   },
   "source": [
    "b. Logical operators: Logical operators are used to combine multiple Boolean expressions and return a single Boolean value. Some examples of logical operators in C# include:\n",
    "\n",
    "- && (logical AND)\n",
    "- || (logical OR)\n",
    "- ! (logical NOT)\n",
    "\n",
    "Here is an example of how to use logical operators in C#:"
   ]
  },
  {
   "cell_type": "code",
   "execution_count": 422,
   "metadata": {
    "dotnet_interactive": {
     "language": "csharp"
    },
    "polyglot_notebook": {
     "kernelName": "csharp"
    },
    "vscode": {
     "languageId": "polyglot-notebook"
    }
   },
   "outputs": [],
   "source": [
    "bool a = true;\n",
    "bool b = false;\n",
    "bool c = true;\n",
    "\n",
    "bool result1 = a && b;     // result1 = false\n",
    "bool result2 = a || b;     // result2 = true\n",
    "bool result3 = !a;         // result3 = false\n",
    "bool result4 = (a && b) || c;   // result4 = true\n"
   ]
  },
  {
   "attachments": {},
   "cell_type": "markdown",
   "metadata": {
    "dotnet_interactive": {
     "language": "csharp"
    },
    "polyglot_notebook": {
     "kernelName": "csharp"
    }
   },
   "source": [
    "c. Assignment operators: Assignment operators are used to assign values to variables. Some examples of assignment operators in C# include:\n",
    "\n",
    "- = (simple assignment)\n",
    "- += (addition assignment)\n",
    "- -= (subtraction assignment)\n",
    "- *= (multiplication assignment)\n",
    "- /= (division assignment)\n",
    "- \\%= (modulus assignment)\n",
    "\n",
    "Here is an example of how to use assignment operators in C#:"
   ]
  },
  {
   "cell_type": "code",
   "execution_count": 423,
   "metadata": {
    "dotnet_interactive": {
     "language": "csharp"
    },
    "polyglot_notebook": {
     "kernelName": "csharp"
    },
    "vscode": {
     "languageId": "polyglot-notebook"
    }
   },
   "outputs": [],
   "source": [
    "int x = 10;\n",
    "x += 5;     // x = 15\n",
    "x *= 2;     // x = 30"
   ]
  },
  {
   "attachments": {},
   "cell_type": "markdown",
   "metadata": {
    "dotnet_interactive": {
     "language": "csharp"
    },
    "polyglot_notebook": {
     "kernelName": "csharp"
    }
   },
   "source": [
    "In conclusion, C# provides a wide range of data types that developers can use to define the type of data that can be stored in a variable. By understanding the differences between value types and reference types, developers can choose the appropriate data type for their application needs."
   ]
  },
  {
   "attachments": {},
   "cell_type": "markdown",
   "metadata": {
    "dotnet_interactive": {
     "language": "csharp"
    },
    "polyglot_notebook": {
     "kernelName": "csharp"
    }
   },
   "source": [
    "### Control Structures\n",
    "\n",
    "Control structures are used in programming to control the flow of a program based on certain conditions or criteria. C# provides various control structures to help developers implement complex logic and algorithms in their programs. Here are the different control structures available in C#:\n",
    "\n",
    "    1. Conditional statements (if/else): Conditional statements allow you to execute different blocks of code based on a certain condition. The if statement is used to execute a block of code if a condition is true, and the else statement is used to execute a block of code if the condition is false. Here is an example of how to use conditional statements in C#:"
   ]
  },
  {
   "cell_type": "code",
   "execution_count": 424,
   "metadata": {
    "dotnet_interactive": {
     "language": "csharp"
    },
    "polyglot_notebook": {
     "kernelName": "csharp"
    },
    "vscode": {
     "languageId": "polyglot-notebook"
    }
   },
   "outputs": [
    {
     "name": "stdout",
     "output_type": "stream",
     "text": [
      "You are an adult.\n"
     ]
    }
   ],
   "source": [
    "using System;\n",
    "int age = 18;\n",
    "if (age >= 18)\n",
    "{\n",
    "    Console.WriteLine(\"You are an adult.\");\n",
    "}\n",
    "else\n",
    "{\n",
    "    Console.WriteLine(\"You are a minor.\");\n",
    "}\n"
   ]
  },
  {
   "attachments": {},
   "cell_type": "markdown",
   "metadata": {
    "dotnet_interactive": {
     "language": "csharp"
    },
    "polyglot_notebook": {
     "kernelName": "csharp"
    }
   },
   "source": [
    "2. Loops (for/while/do-while): Loops allow you to execute a block of code repeatedly until a certain condition is met. The for loop is used when you know the number of times you want to execute the code, the while loop is used when you don't know the number of times you want to execute the code, and the do-while loop is similar to the while loop, but the code is executed at least once before the condition is checked. Here is an example of how to use loops in C#:"
   ]
  },
  {
   "cell_type": "code",
   "execution_count": 425,
   "metadata": {
    "dotnet_interactive": {
     "language": "csharp"
    },
    "polyglot_notebook": {
     "kernelName": "csharp"
    },
    "vscode": {
     "languageId": "polyglot-notebook"
    }
   },
   "outputs": [
    {
     "name": "stdout",
     "output_type": "stream",
     "text": [
      "The value of i is: 0\n",
      "The value of i is: 1\n",
      "The value of i is: 2\n",
      "The value of i is: 3\n",
      "The value of i is: 4\n",
      "The value of i is: 5\n",
      "The value of i is: 6\n",
      "The value of i is: 7\n",
      "The value of i is: 8\n",
      "The value of i is: 9\n"
     ]
    }
   ],
   "source": [
    "// for loop example\n",
    "for (int i = 0; i < 10; i++)\n",
    "{\n",
    "    Console.WriteLine(\"The value of i is: \" + i);\n",
    "}"
   ]
  },
  {
   "cell_type": "code",
   "execution_count": 426,
   "metadata": {
    "dotnet_interactive": {
     "language": "csharp"
    },
    "polyglot_notebook": {
     "kernelName": "csharp"
    },
    "vscode": {
     "languageId": "polyglot-notebook"
    }
   },
   "outputs": [
    {
     "name": "stdout",
     "output_type": "stream",
     "text": [
      "The value of j is: 0\n",
      "The value of j is: 1\n",
      "The value of j is: 2\n",
      "The value of j is: 3\n",
      "The value of j is: 4\n",
      "The value of j is: 5\n",
      "The value of j is: 6\n",
      "The value of j is: 7\n",
      "The value of j is: 8\n",
      "The value of j is: 9\n"
     ]
    }
   ],
   "source": [
    "// while loop example\n",
    "int j = 0;\n",
    "while (j < 10)\n",
    "{\n",
    "    Console.WriteLine(\"The value of j is: \" + j);\n",
    "    j++;\n",
    "}"
   ]
  },
  {
   "cell_type": "code",
   "execution_count": 427,
   "metadata": {
    "dotnet_interactive": {
     "language": "csharp"
    },
    "polyglot_notebook": {
     "kernelName": "csharp"
    },
    "vscode": {
     "languageId": "polyglot-notebook"
    }
   },
   "outputs": [
    {
     "name": "stdout",
     "output_type": "stream",
     "text": [
      "The value of k is: 0\n",
      "The value of k is: 1\n",
      "The value of k is: 2\n",
      "The value of k is: 3\n",
      "The value of k is: 4\n",
      "The value of k is: 5\n",
      "The value of k is: 6\n",
      "The value of k is: 7\n",
      "The value of k is: 8\n",
      "The value of k is: 9\n"
     ]
    }
   ],
   "source": [
    "// do-while loop example\n",
    "int k = 0;\n",
    "do\n",
    "{\n",
    "    Console.WriteLine(\"The value of k is: \" + k);\n",
    "    k++;\n",
    "} while (k < 10);"
   ]
  },
  {
   "attachments": {},
   "cell_type": "markdown",
   "metadata": {
    "dotnet_interactive": {
     "language": "csharp"
    },
    "polyglot_notebook": {
     "kernelName": "csharp"
    }
   },
   "source": [
    "3. Switch statements: Switch statements allow you to execute different blocks of code based on the value of a variable. Switch statements are often used as an alternative to nested if statements. Here is an example of how to use switch statements in C#:"
   ]
  },
  {
   "cell_type": "code",
   "execution_count": 428,
   "metadata": {
    "dotnet_interactive": {
     "language": "csharp"
    },
    "polyglot_notebook": {
     "kernelName": "csharp"
    },
    "vscode": {
     "languageId": "polyglot-notebook"
    }
   },
   "outputs": [
    {
     "name": "stdout",
     "output_type": "stream",
     "text": [
      "Tuesday\n"
     ]
    }
   ],
   "source": [
    "int dayOfWeek = 2;\n",
    "switch (dayOfWeek)\n",
    "{\n",
    "    case 1:\n",
    "        Console.WriteLine(\"Monday\");\n",
    "        break;\n",
    "    case 2:\n",
    "        Console.WriteLine(\"Tuesday\");\n",
    "        break;\n",
    "    case 3:\n",
    "        Console.WriteLine(\"Wednesday\");\n",
    "        break;\n",
    "    case 4:\n",
    "        Console.WriteLine(\"Thursday\");\n",
    "        break;\n",
    "    case 5:\n",
    "        Console.WriteLine(\"Friday\");\n",
    "        break;\n",
    "    default:\n",
    "        Console.WriteLine(\"Invalid day of week\");\n",
    "        break;\n",
    "}\n"
   ]
  },
  {
   "attachments": {},
   "cell_type": "markdown",
   "metadata": {
    "dotnet_interactive": {
     "language": "csharp"
    },
    "polyglot_notebook": {
     "kernelName": "csharp"
    }
   },
   "source": [
    "In conclusion, control structures are an essential part of programming, and C# provides a wide range of control structures to help developers implement complex logic and algorithms in their programs. By understanding the different control structures available in C#, developers can write more efficient and effective code."
   ]
  },
  {
   "attachments": {},
   "cell_type": "markdown",
   "metadata": {
    "dotnet_interactive": {
     "language": "csharp"
    },
    "polyglot_notebook": {
     "kernelName": "csharp"
    }
   },
   "source": [
    "### Arrays and Methods\n",
    "\n",
    "Arrays. In C#, an array is a collection of variables of the same data type that are stored in contiguous memory locations. An array allows you to store a collection of data in a single variable, which can be accessed using an index. Arrays can be useful when you want to store a collection of values of the same type and access them using an index. Here's an example of how to declare, initialize, and use arrays in C#:"
   ]
  },
  {
   "cell_type": "code",
   "execution_count": 429,
   "metadata": {
    "dotnet_interactive": {
     "language": "csharp"
    },
    "polyglot_notebook": {
     "kernelName": "csharp"
    },
    "vscode": {
     "languageId": "polyglot-notebook"
    }
   },
   "outputs": [
    {
     "name": "stdout",
     "output_type": "stream",
     "text": [
      "10\n",
      "20\n",
      "30\n",
      "40\n",
      "50\n"
     ]
    }
   ],
   "source": [
    "// Declare an array of integers\n",
    "int[] numbers;\n",
    "\n",
    "// Initialize the array with five elements\n",
    "numbers = new int[5];\n",
    "\n",
    "// Assign values to the array elements\n",
    "numbers[0] = 10;\n",
    "numbers[1] = 20;\n",
    "numbers[2] = 30;\n",
    "numbers[3] = 40;\n",
    "numbers[4] = 50;\n",
    "\n",
    "// Access the elements of the array using an index\n",
    "Console.WriteLine(numbers[0]); // Output: 10\n",
    "Console.WriteLine(numbers[1]); // Output: 20\n",
    "Console.WriteLine(numbers[2]); // Output: 30\n",
    "Console.WriteLine(numbers[3]); // Output: 40\n",
    "Console.WriteLine(numbers[4]); // Output: 50\n"
   ]
  },
  {
   "attachments": {},
   "cell_type": "markdown",
   "metadata": {
    "dotnet_interactive": {
     "language": "csharp"
    },
    "polyglot_notebook": {
     "kernelName": "csharp"
    }
   },
   "source": [
    "In this example, we first declare an array of integers named `numbers`. We then initialize the array with five elements using the `new` keyword and specifying the size of the array as 5. Finally, we assign values to the array elements by specifying the index of the element and the value to assign. We can then access the elements of the array using an index and print them to the console.\n",
    "\n",
    "You can also initialize an array using an array initializer, which allows you to specify the values of the array elements at the time of declaration. Here's an example:"
   ]
  },
  {
   "cell_type": "code",
   "execution_count": 430,
   "metadata": {
    "dotnet_interactive": {
     "language": "csharp"
    },
    "polyglot_notebook": {
     "kernelName": "csharp"
    },
    "vscode": {
     "languageId": "polyglot-notebook"
    }
   },
   "outputs": [
    {
     "name": "stdout",
     "output_type": "stream",
     "text": [
      "10\n",
      "20\n",
      "30\n",
      "40\n",
      "50\n"
     ]
    }
   ],
   "source": [
    "// Declare and initialize an array of integers using an array initializer\n",
    "int[] numbers = { 10, 20, 30, 40, 50 };\n",
    "\n",
    "// Access the elements of the array using an index\n",
    "Console.WriteLine(numbers[0]); // Output: 10\n",
    "Console.WriteLine(numbers[1]); // Output: 20\n",
    "Console.WriteLine(numbers[2]); // Output: 30\n",
    "Console.WriteLine(numbers[3]); // Output: 40\n",
    "Console.WriteLine(numbers[4]); // Output: 50"
   ]
  },
  {
   "attachments": {},
   "cell_type": "markdown",
   "metadata": {
    "dotnet_interactive": {
     "language": "csharp"
    },
    "polyglot_notebook": {
     "kernelName": "csharp"
    }
   },
   "source": [
    "In this example, we declare and initialize an array of integers using an array initializer. We specify the values of the array elements inside curly braces separated by commas. We can then access the elements of the array using an index and print them to the console.\n",
    "\n",
    "In conclusion, arrays in C# are useful for storing collections of data of the same type. You can declare, initialize, and access the elements of an array using an index. Arrays can be initialized using an array initializer, which allows you to specify the values of the array elements at the time of declaration."
   ]
  },
  {
   "attachments": {},
   "cell_type": "markdown",
   "metadata": {
    "dotnet_interactive": {
     "language": "csharp"
    },
    "polyglot_notebook": {
     "kernelName": "csharp"
    }
   },
   "source": [
    "### Methods\n",
    "\n",
    "In C#, a method is a block of code that performs a specific task and can be called by other code in the program. Methods are used to organize code into reusable blocks, which can be called multiple times with different arguments to perform the same task. Methods are also useful for modularizing code, making it easier to maintain and update.\n",
    "\n",
    "Here's an example of a method definition:"
   ]
  },
  {
   "cell_type": "code",
   "execution_count": 431,
   "metadata": {
    "dotnet_interactive": {
     "language": "csharp"
    },
    "polyglot_notebook": {
     "kernelName": "csharp"
    },
    "vscode": {
     "languageId": "polyglot-notebook"
    }
   },
   "outputs": [],
   "source": [
    "public int AddNumbers(int num1, int num2)\n",
    "{\n",
    "    int result = num1 + num2;\n",
    "    return result;\n",
    "}\n"
   ]
  },
  {
   "attachments": {},
   "cell_type": "markdown",
   "metadata": {
    "dotnet_interactive": {
     "language": "csharp"
    },
    "polyglot_notebook": {
     "kernelName": "csharp"
    }
   },
   "source": [
    "In this example, we define a method called AddNumbers that takes two integer parameters (num1 and num2) and returns an integer value. Inside the method, we add the two parameters together and store the result in a local variable called result. We then use the return keyword to return the value of result to the caller.\n",
    "\n",
    "Here's an example of how to call the AddNumbers method:"
   ]
  },
  {
   "cell_type": "code",
   "execution_count": 432,
   "metadata": {
    "dotnet_interactive": {
     "language": "csharp"
    },
    "polyglot_notebook": {
     "kernelName": "csharp"
    },
    "vscode": {
     "languageId": "polyglot-notebook"
    }
   },
   "outputs": [
    {
     "name": "stdout",
     "output_type": "stream",
     "text": [
      "15\n"
     ]
    }
   ],
   "source": [
    "int sum = AddNumbers(5, 10);\n",
    "Console.WriteLine(sum); // Output: 15\n"
   ]
  },
  {
   "attachments": {},
   "cell_type": "markdown",
   "metadata": {
    "dotnet_interactive": {
     "language": "csharp"
    },
    "polyglot_notebook": {
     "kernelName": "csharp"
    }
   },
   "source": [
    "In this example, we call the AddNumbers method and pass in two integer values (`5` and `10`) as arguments. The method then adds the two values together and returns the result (`15`). We store the result in a variable called sum and print it to the console using the Console.WriteLine method.\n",
    "\n",
    "You can also define methods without parameters, or with parameters of different data types. Here's an example of a method without parameters:"
   ]
  },
  {
   "cell_type": "code",
   "execution_count": 433,
   "metadata": {
    "dotnet_interactive": {
     "language": "csharp"
    },
    "polyglot_notebook": {
     "kernelName": "csharp"
    },
    "vscode": {
     "languageId": "polyglot-notebook"
    }
   },
   "outputs": [],
   "source": [
    "public void Greet()\n",
    "{\n",
    "    Console.WriteLine(\"Greetings, World!\");\n",
    "}\n"
   ]
  },
  {
   "attachments": {},
   "cell_type": "markdown",
   "metadata": {
    "dotnet_interactive": {
     "language": "csharp"
    },
    "polyglot_notebook": {
     "kernelName": "csharp"
    }
   },
   "source": [
    "In this example, we define a method called Greet that takes no parameters and returns no value (void). Inside the method, we use the Console.WriteLine method to print a greeting to the console.\n",
    "\n",
    "Here's an example of how to call the Greet method:"
   ]
  },
  {
   "cell_type": "code",
   "execution_count": 434,
   "metadata": {
    "dotnet_interactive": {
     "language": "csharp"
    },
    "polyglot_notebook": {
     "kernelName": "csharp"
    },
    "vscode": {
     "languageId": "polyglot-notebook"
    }
   },
   "outputs": [
    {
     "name": "stdout",
     "output_type": "stream",
     "text": [
      "Greetings, World!\n"
     ]
    }
   ],
   "source": [
    "Greet(); // Output: Greetings, World!"
   ]
  },
  {
   "attachments": {},
   "cell_type": "markdown",
   "metadata": {
    "dotnet_interactive": {
     "language": "csharp"
    },
    "polyglot_notebook": {
     "kernelName": "csharp"
    }
   },
   "source": [
    "In this example, we call the Greet method with no arguments. The method then prints a greeting to the console.\n",
    "\n",
    "In conclusion, methods in C# are used to organize code into reusable blocks, which can be called multiple times with different arguments to perform the same task. Methods can be defined with parameters of different data types, and can also return values of different data types. Methods are useful for modularizing code, making it easier to maintain and update.\n",
    "\n",
    "\n",
    "### Exceptions in C#\n",
    "\n",
    "In C#, exceptions are used to handle unexpected errors or exceptional conditions that occur during the execution of a program. To handle exceptions, you can use the try-catch-finally block or exception filters.\n",
    "\n",
    "The try-catch-finally block is used to catch and handle exceptions. Here's an example:"
   ]
  },
  {
   "cell_type": "code",
   "execution_count": 435,
   "metadata": {
    "dotnet_interactive": {
     "language": "csharp"
    },
    "polyglot_notebook": {
     "kernelName": "csharp"
    },
    "vscode": {
     "languageId": "polyglot-notebook"
    }
   },
   "outputs": [
    {
     "name": "stdout",
     "output_type": "stream",
     "text": [
      "Error: Index was outside the bounds of the array.\n",
      "The program has finished executing.\n"
     ]
    }
   ],
   "source": [
    "try\n",
    "{\n",
    "    int[] numbers = { 1, 2, 3 };\n",
    "    Console.WriteLine(numbers[3]); // Accessing an element outside the bounds of the array\n",
    "}\n",
    "catch (IndexOutOfRangeException ex)\n",
    "{\n",
    "    Console.WriteLine(\"Error: \" + ex.Message);\n",
    "}\n",
    "finally\n",
    "{\n",
    "    Console.WriteLine(\"The program has finished executing.\");\n",
    "}\n"
   ]
  },
  {
   "attachments": {},
   "cell_type": "markdown",
   "metadata": {
    "dotnet_interactive": {
     "language": "csharp"
    },
    "polyglot_notebook": {
     "kernelName": "csharp"
    }
   },
   "source": [
    "In this example, we declare a try block and put the code that may throw an exception inside it. We then declare a catch block and specify the type of exception we want to catch (`IndexOutOfRangeException`), followed by the code we want to execute if the exception occurs. Finally, we declare a finally block and put the code we want to execute after the try-catch block, regardless of whether an exception occurred.\n",
    "\n",
    "Exception filters are used to catch and handle specific exceptions based on a condition. Here's an example:"
   ]
  },
  {
   "cell_type": "code",
   "execution_count": 436,
   "metadata": {
    "dotnet_interactive": {
     "language": "csharp"
    },
    "polyglot_notebook": {
     "kernelName": "csharp"
    },
    "vscode": {
     "languageId": "polyglot-notebook"
    }
   },
   "outputs": [
    {
     "name": "stdout",
     "output_type": "stream",
     "text": [
      "Error: Index was outside the bounds of the array.\n",
      "The program has finished executing.\n"
     ]
    }
   ],
   "source": [
    "try\n",
    "{\n",
    "    int[] numbers = { 1, 2, 3 };\n",
    "    Console.WriteLine(numbers[3]); // Accessing an element outside the bounds of the array\n",
    "}\n",
    "catch (Exception ex) when (ex is IndexOutOfRangeException || ex is ArgumentNullException)\n",
    "{\n",
    "    Console.WriteLine(\"Error: \" + ex.Message);\n",
    "}\n",
    "finally\n",
    "{\n",
    "    Console.WriteLine(\"The program has finished executing.\");\n",
    "}\n"
   ]
  },
  {
   "attachments": {},
   "cell_type": "markdown",
   "metadata": {
    "dotnet_interactive": {
     "language": "csharp"
    },
    "polyglot_notebook": {
     "kernelName": "csharp"
    }
   },
   "source": [
    "In this example, we use an exception filter to catch and handle two types of exceptions (IndexOutOfRangeException and ArgumentNullException). The filter checks whether the caught exception is of one of these types using the is operator, and if it is, it executes the code inside the catch block.\n",
    "\n",
    "In conclusion, exception handling is an important aspect of C# programming, as it allows you to gracefully handle unexpected errors or exceptional conditions that may occur during program execution. You can handle exceptions using the try-catch-finally block or exception filters, depending on your needs. The try-catch-finally block allows you to catch and handle specific types of exceptions, while the exception filter allows you to catch and handle exceptions based on a condition."
   ]
  },
  {
   "cell_type": "code",
   "execution_count": 437,
   "metadata": {
    "dotnet_interactive": {
     "language": "csharp"
    },
    "polyglot_notebook": {
     "kernelName": "csharp"
    },
    "vscode": {
     "languageId": "polyglot-notebook"
    }
   },
   "outputs": [
    {
     "name": "stdout",
     "output_type": "stream",
     "text": [
      "Cannot divide by zero\n",
      "This block will always execute\n"
     ]
    }
   ],
   "source": [
    "try {\n",
    "    int x=5,y=0,z=x/y;\n",
    "} catch(DivideByZeroException ex) {\n",
    "    Console.WriteLine(\"Cannot divide by zero\");\n",
    "} finally{\n",
    "   Console.WriteLine(\"This block will always execute\");\n",
    "}"
   ]
  },
  {
   "attachments": {},
   "cell_type": "markdown",
   "metadata": {
    "dotnet_interactive": {
     "language": "csharp"
    },
    "polyglot_notebook": {
     "kernelName": "csharp"
    }
   },
   "source": [
    "In this code example, we are trying to divide the value of integer variable x by the value of integer variable y, which is 0. Since division by zero is not defined, this will result in a `DivideByZeroException`.\n",
    "\n",
    "To handle this exception, we have used a try block that contains the code that may throw an exception. We then have a catch block that catches the `DivideByZeroException`, followed by the code that we want to execute if the exception occurs. In this case, we are simply printing a message to the console to inform the user that division by zero is not possible.\n",
    "\n",
    "Finally, we have a finally block that contains the code that will always execute, regardless of whether an exception occurred. In this case, we are simply printing a message to the console to indicate that the finally block has executed.\n",
    "\n",
    "So, when we run this code, it will catch the `DivideByZeroException` and print the message \"Cannot divide by zero\" to the console. Then, the finally block will execute and print the message \"This block will always execute\"."
   ]
  },
  {
   "attachments": {},
   "cell_type": "markdown",
   "metadata": {
    "dotnet_interactive": {
     "language": "csharp"
    },
    "polyglot_notebook": {
     "kernelName": "csharp"
    }
   },
   "source": [
    "### Java vs C#\n",
    "Java and C# are two popular programming languages that share many similarities, but also have some notable differences. In this section, we'll compare and contrast these two languages in terms of syntax, platform support, performance, and other factors.\n",
    "\n",
    "#### Syntax\n",
    "Java and C# have similar syntax, as they both use curly braces to define blocks of code and semicolons to separate statements. However, there are some key differences in their syntax, such as:\n",
    "\n",
    "C# uses the var keyword to declare implicitly typed variables, whereas Java does not.\n",
    "C# uses properties to encapsulate the state of an object, while Java uses getter and setter methods.\n",
    "C# supports extension methods, which allow you to add new methods to existing classes, whereas Java does not.\n",
    "C# has a built-in using statement that simplifies the use of disposable resources, while Java requires explicit use of try-with-resources or manual cleanup.\n",
    "#### Platform Support\n",
    "Java is known for its platform independence, as it can run on a wide variety of operating systems and hardware architectures. C#, on the other hand, was initially developed by Microsoft for use on Windows platforms, but has since been open-sourced and is now supported on other platforms through .NET Core and Xamarin.\n",
    "\n",
    "#### Performance\n",
    "Both Java and C# are generally considered to be high-performance languages, with similar runtime speeds. However, C# has some advantages in terms of memory management, as it uses a garbage collector that is more efficient and can reduce memory fragmentation.\n",
    "\n",
    "#### Other Factors\n",
    "There are other factors to consider when comparing Java and C#, such as:\n",
    "\n",
    "Java has a larger ecosystem and community, with more libraries and tools available.\n",
    "C# has better support for modern language features, such as async/await and LINQ.\n",
    "Java has better support for functional programming, with features such as lambdas and streams.\n",
    "C# has better integration with Windows operating systems and tools, such as Visual Studio.\n",
    "Overall, both Java and C# are powerful and versatile programming languages that are well-suited for a wide range of applications. Choosing between them depends on factors such as platform support, development environment, and the specific needs of your project.\n",
    "\n",
    "\n",
    "### What is built with C#\n",
    "\n",
    "C# is a versatile language that can be used for a wide range of applications, from desktop software to web and mobile development. Here are some popular frameworks and platforms that are built with C#:\n",
    "\n",
    ".NET Framework: The .NET Framework is a software framework that provides a runtime environment for running C# code. It includes a large class library, which provides access to a wide range of functionality, such as file I/O, networking, and database access.\n",
    "\n",
    "ASP.NET: ASP.NET is a web development framework that is built on top of the .NET Framework. It allows developers to create dynamic web applications using C# code, and includes features such as web forms, MVC, and Web API.\n",
    "\n",
    "Xamarin: Xamarin is a mobile app development platform that allows developers to create native iOS and Android apps using C#. It includes a set of libraries and tools that enable code sharing between platforms, as well as integration with native APIs and UI elements.\n",
    "\n",
    "Unity: Unity is a game development engine that allows developers to create 2D and 3D games using C#. It includes a powerful scripting API that enables customization and automation of game mechanics and behavior.\n",
    "\n",
    "Entity Framework: Entity Framework is an object-relational mapping (ORM) framework that allows developers to work with databases using C# code. It provides a high-level abstraction of the database schema, allowing developers to focus on the business logic of their applications rather than the details of database interactions.\n",
    "\n",
    "Windows Presentation Foundation (WPF): WPF is a desktop application framework that allows developers to create rich, interactive user interfaces using C#. It includes support for graphics, animations, and multimedia, as well as data binding and styling.\n",
    "\n",
    "These are just a few examples of the many frameworks and platforms that are built with C#. With its versatility, performance, and large ecosystem of libraries and tools, C# is a popular choice for a wide range of software development projects.\n",
    "\n",
    "\n",
    "#### List of Game Frameworks in C#\n",
    "\n",
    "There are several game frameworks that are built with .NET and C#, which allow developers to create games for various platforms. Here are some popular game frameworks built with .NET: \n",
    "\n",
    "Unity: Unity is one of the most popular game engines used by developers to create games for PC, consoles, mobile devices, and other platforms. It has a large community and a rich ecosystem of tools and plugins that enable developers to create high-quality games with C# scripting.\n",
    "\n",
    "MonoGame: MonoGame is an open-source game framework that allows developers to create games for multiple platforms, including Windows, Linux, macOS, Android, iOS, and more. It is built on top of the XNA framework and provides a simple and flexible API for game development.\n",
    "\n",
    "Wave Engine: Wave Engine is a game engine and editor that allows developers to create 2D and 3D games for Windows, Android, iOS, and other platforms. It provides a visual editor and a C# scripting API that makes it easy to create complex game logic.\n",
    "\n",
    "ANX.Framework: ANX.Framework is an open-source game framework that provides a compatible implementation of the XNA framework for multiple platforms, including Windows, Linux, macOS, and Android. It allows developers to create games using C# and provides a comprehensive set of features for game development.\n",
    "\n",
    "FlatRedBall: FlatRedBall is a game engine and development platform that allows developers to create 2D and 3D games for Windows, Android, and iOS. It provides a visual editor and a C# scripting API that makes it easy to create games and supports a wide range of platforms.\n",
    "\n",
    "#### List of UI Frameworks in C#\n",
    "\n",
    "These are just a few examples of the game frameworks built with .NET and C#. With their powerful features, flexible APIs, and broad platform support, these frameworks provide a solid foundation for game development in C#.\n",
    "\n",
    "There are several UI frameworks built with .NET that allow developers to create user interfaces for desktop, web, and mobile applications. Here are some popular UI frameworks built with .NET:\n",
    "\n",
    "Windows Presentation Foundation (WPF): WPF is a desktop application framework that allows developers to create rich, interactive user interfaces using XAML and C#. It includes support for graphics, animations, and multimedia, as well as data binding and styling.\n",
    "\n",
    "Universal Windows Platform (UWP): UWP is a platform for creating Windows apps that run on multiple devices, including desktops, tablets, phones, and Xbox. It provides a set of UI controls and APIs that make it easy to create responsive and adaptive user interfaces using XAML and C#.\n",
    "\n",
    "Xamarin.Forms: Xamarin.Forms is a UI toolkit that allows developers to create native user interfaces for Android, iOS, and Windows using a single, shared codebase written in C#. It includes a set of UI controls and layouts that can be customized and styled to match the look and feel of each platform.\n",
    "\n",
    "ASP.NET: ASP.NET is a web development framework that is built on top of the .NET Framework. It allows developers to create dynamic web applications using C# code, and includes features such as web forms, MVC, and Web API.\n",
    "\n",
    "Blazor: Blazor is a web development framework that allows developers to create interactive web applications using C# and .NET. It includes a set of UI components that can be used to create responsive and dynamic user interfaces using HTML, CSS, and C#.\n",
    "\n",
    "MahApps.Metro: MahApps.Metro is a UI toolkit for WPF and UWP that provides a set of modern, flat UI controls and styles. It includes support for themes, icons, and animations, and can be used to create visually appealing desktop and mobile applications.\n",
    "\n",
    "These are just a few examples of the UI frameworks built with .NET. With their rich set of features and flexible APIs, these frameworks provide a solid foundation for building modern and responsive user interfaces in C#."
   ]
  },
  {
   "attachments": {},
   "cell_type": "markdown",
   "metadata": {
    "dotnet_interactive": {
     "language": "csharp"
    },
    "polyglot_notebook": {
     "kernelName": "csharp"
    }
   },
   "source": [
    "\n",
    "## Keywords in C#\n",
    "\n",
    "Reserved keywords in C# are words that have special meaning in the language and cannot be used as identifiers (such as variable names, class names, etc.). These keywords include control flow statements (such as if, else, for, while), access modifiers (such as public, private, protected), data types (such as int, float, bool), and others.\n",
    "\n",
    "Here is a list of all the reserved keywords in C# [2]:\n",
    "\n",
    "\n",
    "<table class=\"table\"><tbody><tr><th style=\"min-width:200px\">Type</th><th>Keywords</th></tr><tr><td>Modifier Keywords</td><td>abstract, async, const, event, extern, new, override, partial, readonly, sealed, static, unsafe, virtual, volatile</td></tr><tr><td>Access Modifier Keywords</td><td>public, private, protected, internal</td></tr><tr><td>Statement Keywords</td><td>if, else, switch, case, do, for, foreach, in, while, break, continue, default, goto, return, yield, throw, try, catch, finally, checked, unchecked, fixed, lock</td></tr><tr><td>Method Parameter Keyword</td><td>params, ref, out</td></tr><tr><td>Access Keywords</td><td>base, this</td></tr><tr><td>Namespace Keywords</td><td>using, . operator, :: operator, extern alias</td></tr><tr><td>Literal Keywords</td><td>null, false, true, value, void</td></tr><tr><td>Operator Keywords</td><td>as, await, is, new, sizeof, typeof, stackalloc, checked, unchecked</td></tr><tr><td>Contextual Keywords</td><td>add, var, dynamic, global, set, value</td></tr><tr><td>Type Keywords</td><td>bool, byte, char, class, decimal, double, enum, float, int, long, sbyte, short, string, struct, uint, ulong, ushort</td></tr><tr><td>Query Keywords</td><td>from, where, select, group, into, orderby, join, let, in, on, equals, by, ascending, descending</td></tr></tbody></table>\n",
    "\n",
    "\n",
    "In C#, a class is a blueprint or template for creating objects that share a common set of properties and methods. A class defines the structure and behavior of objects, but does not itself represent an actual object.\n",
    "\n",
    "Here's an example of a simple class in C#:\n",
    "\n",
    "```csharp\n",
    "public class Person\n",
    "{\n",
    "    public string Name { get; set; }\n",
    "    public int Age { get; set; }\n",
    "\n",
    "    public void SayHello()\n",
    "    {\n",
    "        Console.WriteLine(\"Hello, my name is \" + Name + \" and I am \" + Age + \" years old.\");\n",
    "    }\n",
    "}\n",
    "```\n",
    "\n",
    "In C#, a class is a blueprint or template for creating objects that share a common set of properties and methods. A class defines the structure and behavior of objects, but does not itself represent an actual object.\n",
    "\n",
    "Here's an example of a simple class in C#:"
   ]
  },
  {
   "cell_type": "code",
   "execution_count": 438,
   "metadata": {
    "dotnet_interactive": {
     "language": "csharp"
    },
    "polyglot_notebook": {
     "kernelName": "csharp"
    },
    "vscode": {
     "languageId": "polyglot-notebook"
    }
   },
   "outputs": [],
   "source": [
    "public class Person\n",
    "{\n",
    "    public string Name { get; set; }\n",
    "    public int Age { get; set; }\n",
    "\n",
    "    public void SayHello()\n",
    "    {\n",
    "        Console.WriteLine(\"Hello, my name is \" + Name + \" and I am \" + Age + \" years old.\");\n",
    "    }\n",
    "}"
   ]
  },
  {
   "attachments": {},
   "cell_type": "markdown",
   "metadata": {
    "dotnet_interactive": {
     "language": "csharp"
    },
    "polyglot_notebook": {
     "kernelName": "csharp"
    }
   },
   "source": [
    "\n",
    "In this example, we've defined a class called Person that has two properties (Name and Age) and one method (SayHello). The properties define the data that an object of this class can contain, while the method defines the behavior of the object.\n",
    "\n",
    "To create an object of the Person class, we use the new keyword:"
   ]
  },
  {
   "cell_type": "code",
   "execution_count": 439,
   "metadata": {
    "dotnet_interactive": {
     "language": "csharp"
    },
    "polyglot_notebook": {
     "kernelName": "csharp"
    },
    "vscode": {
     "languageId": "polyglot-notebook"
    }
   },
   "outputs": [],
   "source": [
    "Person person1 = new Person();"
   ]
  },
  {
   "cell_type": "code",
   "execution_count": 440,
   "metadata": {
    "dotnet_interactive": {
     "language": "csharp"
    },
    "polyglot_notebook": {
     "kernelName": "csharp"
    },
    "vscode": {
     "languageId": "polyglot-notebook"
    }
   },
   "outputs": [
    {
     "name": "stdout",
     "output_type": "stream",
     "text": [
      "Hello, my name is John and I am 30 years old.\n"
     ]
    }
   ],
   "source": [
    "person1.Name = \"John\";\n",
    "person1.Age = 30;\n",
    "person1.SayHello();"
   ]
  },
  {
   "attachments": {},
   "cell_type": "markdown",
   "metadata": {
    "dotnet_interactive": {
     "language": "csharp"
    },
    "polyglot_notebook": {
     "kernelName": "csharp"
    }
   },
   "source": [
    "Classes are a fundamental concept in object-oriented programming, and allow you to define custom types that can be used to model real-world entities and concepts in your code."
   ]
  },
  {
   "attachments": {},
   "cell_type": "markdown",
   "metadata": {
    "dotnet_interactive": {
     "language": "csharp"
    },
    "polyglot_notebook": {
     "kernelName": "csharp"
    }
   },
   "source": [
    "## Basic Calculator App\n",
    "This calculator class contains methods for addition, subtraction, multiplication, and division. The Add, Subtract, and Multiply methods simply perform the corresponding operations on the input numbers and return the result. The Divide method checks if the second input number is zero, and if so, throws an ArgumentException with an appropriate error message. Otherwise, it performs the division and returns the result."
   ]
  },
  {
   "cell_type": "code",
   "execution_count": 441,
   "metadata": {
    "dotnet_interactive": {
     "language": "csharp"
    },
    "polyglot_notebook": {
     "kernelName": "csharp"
    },
    "vscode": {
     "languageId": "polyglot-notebook"
    }
   },
   "outputs": [
    {
     "name": "stdout",
     "output_type": "stream",
     "text": [
      "The expected output should be 15\n",
      "15\n"
     ]
    }
   ],
   "source": [
    "using System;\n",
    "public class Calculator\n",
    "{\n",
    "    public double Add(double num1, double num2)\n",
    "    {\n",
    "        return num1 + num2;\n",
    "    }\n",
    "\n",
    "    public double Subtract(double num1, double num2)\n",
    "    {\n",
    "        return num1 - num2;\n",
    "    }\n",
    "\n",
    "    public double Multiply(double num1, double num2)\n",
    "    {\n",
    "        return num1 * num2;\n",
    "    }\n",
    "\n",
    "    public double Divide(double num1, double num2)\n",
    "    {\n",
    "        if (num2 == 0)\n",
    "        {\n",
    "            throw new ArgumentException(\"Cannot divide by zero\");\n",
    "        }\n",
    "\n",
    "        return num1 / num2;\n",
    "    }\n",
    "}\n",
    "var calc = new Calculator();\n",
    "var calcValue = calc.Add(5, 10);\n",
    "Console.WriteLine(\"The expected output should be 15\");\n",
    "Console.WriteLine(calcValue);\n"
   ]
  },
  {
   "attachments": {},
   "cell_type": "markdown",
   "metadata": {
    "dotnet_interactive": {
     "language": "csharp"
    },
    "polyglot_notebook": {
     "kernelName": "csharp"
    }
   },
   "source": [
    " You can use C#'s built-in Debug class to assert that a certain condition is true. Here's an example of how you could use the Debug.Assert method to verify that the result of calling the Add method of a Calculator instance is equal to the expected value:"
   ]
  },
  {
   "cell_type": "code",
   "execution_count": 442,
   "metadata": {
    "dotnet_interactive": {
     "language": "csharp"
    },
    "polyglot_notebook": {
     "kernelName": "csharp"
    },
    "vscode": {
     "languageId": "polyglot-notebook"
    }
   },
   "outputs": [],
   "source": [
    "using System.Diagnostics;\n",
    "var calc = new Calculator();\n",
    "var calcValue = calc.Add(5, 10);\n",
    "\n",
    "Debug.Assert(calcValue == 15);\n",
    " "
   ]
  },
  {
   "attachments": {},
   "cell_type": "markdown",
   "metadata": {
    "dotnet_interactive": {
     "language": "csharp"
    },
    "polyglot_notebook": {
     "kernelName": "csharp"
    }
   },
   "source": [
    "In this example, we've created an instance of the Calculator class and called its Add method with input values of 5 and 10. We then use the Debug.Assert method to verify that the result of the Add method is equal to 15, which is the expected result when adding 5 and 10.\n",
    "\n",
    "The Debug.Assert method will cause the application to halt if the assertion fails. This can be useful during development and testing to quickly identify when something unexpected has happened. Note that the Debug class is only available in debug builds of your application. In release builds, the assertions will be removed and will have no effect on the behavior of your application.\n",
    "\n",
    "A class diagram is a type of static structure diagram that describes the structure of a system by showing the system’s classes, their attributes and methods, and the relationships among objects. It is used in software engineering to represent the organization of classes and their attributes and methods within an object-oriented program. It provides a visual representation of how different classes interact with each other within a system.\n",
    "\n",
    "For the following calculator class we can create the following class diagram.   "
   ]
  },
  {
   "cell_type": "code",
   "execution_count": 443,
   "metadata": {
    "dotnet_interactive": {
     "language": "mermaid"
    },
    "polyglot_notebook": {
     "kernelName": "mermaid"
    },
    "vscode": {
     "languageId": "polyglot-notebook"
    }
   },
   "outputs": [
    {
     "data": {
      "text/html": [
       "<div class=\"mermaidMarkdownContainer\" style=\"background-color:white\">\n",
       "<link rel=\"stylesheet\" href=\"https://cdnjs.cloudflare.com/ajax/libs/font-awesome/6.2.0/css/all.min.css\">\n",
       "<script type=\"text/javascript\">\n",
       "\r\n",
       "loadMermaid_25b0f4a21f8c49bb879961a4d4f7dfa8 = () => {\n",
       " \r\n",
       "        (require.config({ 'paths': { 'context': '9.1.7', 'mermaidUri' : 'https://cdn.jsdelivr.net/npm/mermaid@9.1.7/dist/mermaid.min', 'urlArgs': 'cacheBuster=75bb3c5bda2544fe97cc0646ff28d542' }}) || require)(['mermaidUri'], (mermaid) => {\n",
       "\r\n",
       "            let renderTarget = document.getElementById('25b0f4a21f8c49bb879961a4d4f7dfa8');\r\n",
       "            mermaid.mermaidAPI.render( \r\n",
       "                'mermaid_25b0f4a21f8c49bb879961a4d4f7dfa8', \r\n",
       "                `classDiagram\n",
       "    class Calculator {\n",
       "        +double Add(double num1, double num2)\n",
       "        +double Subtract(double num1, double num2)\n",
       "        +double Multiply(double num1, double num2)\n",
       "        +double Divide(double num1, double num2)\n",
       "    }`, \r\n",
       "                g => {\r\n",
       "                    renderTarget.innerHTML = g \r\n",
       "                });\r\n",
       "        },\r\n",
       "        (error) => {\r\n",
       "            console.log(error);\r\n",
       "        });\r\n",
       "}\n",
       "// ensure `require` is available globally\r\n",
       "if ((typeof(require) !==  typeof(Function)) || (typeof(require.config) !== typeof(Function))) {\r\n",
       "    let require_script = document.createElement('script');\r\n",
       "    require_script.setAttribute('src', 'https://cdnjs.cloudflare.com/ajax/libs/require.js/2.3.6/require.min.js');\r\n",
       "    require_script.setAttribute('type', 'text/javascript');\r\n",
       "    \r\n",
       "    \r\n",
       "    require_script.onload = function() {\r\n",
       "        loadMermaid_25b0f4a21f8c49bb879961a4d4f7dfa8();\r\n",
       "    };\r\n",
       "\r\n",
       "    document.getElementsByTagName('head')[0].appendChild(require_script);\r\n",
       "}\r\n",
       "else {\r\n",
       "    loadMermaid_25b0f4a21f8c49bb879961a4d4f7dfa8();\r\n",
       "}\r\n",
       "\n",
       "</script>\n",
       "<div id=\"25b0f4a21f8c49bb879961a4d4f7dfa8\"></div>\n",
       "</div>\n"
      ]
     },
     "metadata": {},
     "output_type": "display_data"
    }
   ],
   "source": [
    "classDiagram\n",
    "    class Calculator {\n",
    "        +double Add(double num1, double num2)\n",
    "        +double Subtract(double num1, double num2)\n",
    "        +double Multiply(double num1, double num2)\n",
    "        +double Divide(double num1, double num2)\n",
    "    }"
   ]
  },
  {
   "attachments": {},
   "cell_type": "markdown",
   "metadata": {
    "dotnet_interactive": {
     "language": "csharp"
    },
    "polyglot_notebook": {
     "kernelName": "csharp"
    }
   },
   "source": [
    " These class diagrams can be used for general conceptual modeling of the structure of an application, for detailed modeling and translating models into programming code [3]."
   ]
  },
  {
   "attachments": {},
   "cell_type": "markdown",
   "metadata": {
    "dotnet_interactive": {
     "language": "csharp"
    },
    "polyglot_notebook": {
     "kernelName": "csharp"
    }
   },
   "source": [
    "### References\n",
    "- [1]  \"Polyglot Notebooks - Visual Studio Marketplace,\" Visual Studio Marketplace. [Online]. Available: https://marketplace.visualstudio.com/items?itemName=ms-dotnettools.dotnet-interactive-vscode\n",
    "- [2] \"C# Keywords,\" W3schools. [Online]. Available: https://www.w3schools.in/csharp/keywords. [Accessed: Mar. 09, 2023]\n",
    "- [3] \"Class diagram,\" Wikipedia. [Online]. Available: https://en.wikipedia.org/wiki/Class_diagram. [Accessed: 09-Mar-2023]."
   ]
  },
  {
   "attachments": {},
   "cell_type": "markdown",
   "metadata": {
    "dotnet_interactive": {
     "language": "csharp"
    },
    "polyglot_notebook": {
     "kernelName": "csharp"
    }
   },
   "source": [
    "# Object-Oriented Programming in C#"
   ]
  },
  {
   "cell_type": "markdown",
   "metadata": {
    "dotnet_interactive": {
     "language": "csharp"
    },
    "polyglot_notebook": {
     "kernelName": "csharp"
    }
   },
   "source": []
  }
 ],
 "metadata": {
  "kernelspec": {
   "display_name": ".NET (C#)",
   "language": "C#",
   "name": ".net-csharp"
  },
  "polyglot_notebook": {
   "kernelInfo": {
    "defaultKernelName": "csharp",
    "items": [
     {
      "aliases": [
       "c#",
       "C#"
      ],
      "languageName": "C#",
      "name": "csharp"
     },
     {
      "aliases": [
       "frontend"
      ],
      "languageName": null,
      "name": "vscode"
     },
     {
      "aliases": [],
      "name": ".NET"
     },
     {
      "aliases": [
       "f#",
       "F#"
      ],
      "languageName": "F#",
      "name": "fsharp"
     },
     {
      "aliases": [],
      "languageName": "HTML",
      "name": "html"
     },
     {
      "aliases": [
       "js"
      ],
      "languageName": "JavaScript",
      "name": "javascript"
     },
     {
      "aliases": [],
      "languageName": "KQL",
      "name": "kql"
     },
     {
      "aliases": [],
      "languageName": "Mermaid",
      "name": "mermaid"
     },
     {
      "aliases": [
       "powershell"
      ],
      "languageName": "PowerShell",
      "name": "pwsh"
     },
     {
      "aliases": [],
      "languageName": "SQL",
      "name": "sql"
     },
     {
      "aliases": [],
      "name": "value"
     },
     {
      "aliases": [],
      "name": "webview"
     }
    ]
   }
  }
 },
 "nbformat": 4,
 "nbformat_minor": 2
}
